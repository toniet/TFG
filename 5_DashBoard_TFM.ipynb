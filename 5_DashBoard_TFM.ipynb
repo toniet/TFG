{
 "cells": [
  {
   "cell_type": "markdown",
   "id": "c34aa5ab-0eca-46b2-843a-79de5cd1047b",
   "metadata": {},
   "source": [
    "## DashBoard TFM"
   ]
  },
  {
   "cell_type": "markdown",
   "id": "dd313273-fd88-4ef8-b1da-4c1a1380dabe",
   "metadata": {},
   "source": [
    "Notebook donde se diseña una app de Streamlit para predecir la cantidad de llamdas a recibir en base a una serie de info"
   ]
  },
  {
   "cell_type": "code",
   "execution_count": 1,
   "id": "2f0b1d91-41da-4470-85eb-8b8021006906",
   "metadata": {},
   "outputs": [],
   "source": [
    "import pandas as pd\n",
    "import numpy as np\n",
    "import streamlit as st\n",
    "import pyodbc\n",
    "import sys\n",
    "\n",
    "from sklearn.preprocessing import OneHotEncoder\n",
    "import datetime\n",
    "import calendar\n",
    "\n",
    "import pickle\n",
    "from sklearn.preprocessing import StandardScaler"
   ]
  },
  {
   "cell_type": "markdown",
   "id": "8d208470-2438-4fd6-a5a6-370b51246fd9",
   "metadata": {},
   "source": [
    "# Datos Llamadas"
   ]
  },
  {
   "cell_type": "code",
   "execution_count": 2,
   "id": "262e677a-7a96-4082-b478-cdbdf1d6eece",
   "metadata": {},
   "outputs": [],
   "source": [
    "def getCallData(password):\n",
    "    server = 'khcuy9chlt.database.windows.net' \n",
    "    bdd = 'ASERTEC' \n",
    "    user = 'tecnico@khcuy9chlt' \n",
    "    #password = 'xxxxxxxxxxxx'\n",
    "\n",
    "    query = 'SELECT [IDCAMPANYA] \\\n",
    "          ,[IDSUJETO] \\\n",
    "          ,[VALOR] \\\n",
    "          ,[DATACREACIO] \\\n",
    "        FROM [dbo].[T_CCT_ALISYS_DATOSCLIENTE] \\\n",
    "        WHERE DATACREACIO IS NOT NULL AND DATACREACIO > GETDATE()-15 AND CLAVE = \\'LLamadaTipoServicio\\''\n",
    "\n",
    "    conn = pyodbc.connect(driver='{ODBC Driver 17 for SQL Server}',server='tcp:khcuy9chlt.database.windows.net,1433',database=bdd, uid=user, pwd=password)\n",
    "\n",
    "    df = pd.read_sql_query(query, conn)\n",
    "    \n",
    "    df = df[['IDCAMPANYA','VALOR','DATACREACIO']]\n",
    "    \n",
    "    df['tCreacion'] = pd.to_datetime(df['DATACREACIO'])\n",
    "\n",
    "    df['Date'] = df['tCreacion'].dt.date\n",
    "    df['Date'] = df['Date'].astype('str')\n",
    "\n",
    "    df['dateCreacion'] = df['tCreacion'].dt.date\n",
    "    df['dateCreacion'] = df['dateCreacion'].astype('str')\n",
    "    \n",
    "    df = df[['Date','dateCreacion','IDCAMPANYA','VALOR']]\n",
    "    \n",
    "    df = df.groupby(['Date','IDCAMPANYA','VALOR']).count()\n",
    "    \n",
    "    df = df.reset_index()\n",
    "    \n",
    "    df = df[(df['VALOR'] == 'Estado de Pedido') | (df['VALOR'] == 'No tiene Numero')]\n",
    "    \n",
    "    df = df.groupby('Date').sum()[['dateCreacion']]\n",
    "    \n",
    "    return df\n",
    "    "
   ]
  },
  {
   "cell_type": "code",
   "execution_count": 3,
   "id": "8ac12f29-3e38-474b-968a-08eff5140841",
   "metadata": {},
   "outputs": [],
   "source": [
    "df_calls = getCallData()"
   ]
  },
  {
   "cell_type": "code",
   "execution_count": 4,
   "id": "6ebb0de5-fac0-4568-b33f-4a43ca807451",
   "metadata": {},
   "outputs": [
    {
     "data": {
      "text/html": [
       "<div>\n",
       "<style scoped>\n",
       "    .dataframe tbody tr th:only-of-type {\n",
       "        vertical-align: middle;\n",
       "    }\n",
       "\n",
       "    .dataframe tbody tr th {\n",
       "        vertical-align: top;\n",
       "    }\n",
       "\n",
       "    .dataframe thead th {\n",
       "        text-align: right;\n",
       "    }\n",
       "</style>\n",
       "<table border=\"1\" class=\"dataframe\">\n",
       "  <thead>\n",
       "    <tr style=\"text-align: right;\">\n",
       "      <th></th>\n",
       "      <th>dateCreacion</th>\n",
       "    </tr>\n",
       "    <tr>\n",
       "      <th>Date</th>\n",
       "      <th></th>\n",
       "    </tr>\n",
       "  </thead>\n",
       "  <tbody>\n",
       "    <tr>\n",
       "      <th>2021-06-14</th>\n",
       "      <td>91</td>\n",
       "    </tr>\n",
       "    <tr>\n",
       "      <th>2021-06-15</th>\n",
       "      <td>113</td>\n",
       "    </tr>\n",
       "    <tr>\n",
       "      <th>2021-06-16</th>\n",
       "      <td>113</td>\n",
       "    </tr>\n",
       "    <tr>\n",
       "      <th>2021-06-17</th>\n",
       "      <td>102</td>\n",
       "    </tr>\n",
       "    <tr>\n",
       "      <th>2021-06-18</th>\n",
       "      <td>132</td>\n",
       "    </tr>\n",
       "  </tbody>\n",
       "</table>\n",
       "</div>"
      ],
      "text/plain": [
       "            dateCreacion\n",
       "Date                    \n",
       "2021-06-14            91\n",
       "2021-06-15           113\n",
       "2021-06-16           113\n",
       "2021-06-17           102\n",
       "2021-06-18           132"
      ]
     },
     "execution_count": 4,
     "metadata": {},
     "output_type": "execute_result"
    }
   ],
   "source": [
    "df_calls.head()"
   ]
  },
  {
   "cell_type": "markdown",
   "id": "a2288e5c-4f59-49c1-9932-d01d2ba39632",
   "metadata": {},
   "source": [
    "# Datos Envíos"
   ]
  },
  {
   "cell_type": "code",
   "execution_count": 5,
   "id": "bc19a545-2e8a-40ab-9e3e-0ed19dc00b45",
   "metadata": {},
   "outputs": [],
   "source": [
    "# Devuelve un df unificado de todos los ficheros cargados\n",
    "def getDataEnvios(df):\n",
    "    df = df.iloc[:, [0,4,15]]\n",
    "    df['Fecha envío'] = pd.to_datetime(df['Fecha envío'])\n",
    "    dias = list(calendar.day_name)\n",
    "    df['dayofweek'] = [dias[numero] for numero in df['Fecha envío'].dt.dayofweek]\n",
    "    df['Fecha envío'] =  pd.to_datetime(df['Fecha envío']).astype('str')\n",
    "    df = df[['Fecha envío','Código servicio','dayofweek']]\n",
    "    df.reset_index(inplace=True)\n",
    "    df = df[['Fecha envío','Código servicio','dayofweek']]\n",
    "    df['total'] = 1\n",
    "    encoder = OneHotEncoder(handle_unknown='ignore')\n",
    "    enc = df[['dayofweek']]\n",
    "    encoder.fit(enc.values.reshape(-1,1))\n",
    "    encoded = encoder.transform(enc.values.reshape(-1,1))\n",
    "    encoded_df = pd.DataFrame(encoded.todense())\n",
    "    encoded_df.columns = encoder.categories_[0]\n",
    "    df = pd.concat([df,encoded_df], axis=1)\n",
    "    df.drop(columns=['Código servicio','dayofweek'], inplace=True)\n",
    "    df = df.groupby(['Fecha envío']).sum()\n",
    "    df.Monday = [ 1 if value > 0 else 0 for value in df.Monday]\n",
    "    df.Tuesday = [ 1 if value > 0 else 0 for value in df.Tuesday]\n",
    "    df.Wednesday = [ 1 if value > 0 else 0 for value in df.Wednesday]\n",
    "    df.Thursday = [ 1 if value > 0 else 0 for value in df.Thursday]\n",
    "    df.Friday = [ 1 if value > 0 else 0 for value in df.Friday]\n",
    "    df.Saturday = [ 1 if value > 0 else 0 for value in df.Saturday]\n",
    "    df.Sunday = [ 1 if value > 0 else 0 for value in df.Sunday]\n",
    "    df = df.drop(labels=['Saturday','Sunday'], axis=1)\n",
    "    \n",
    "    return df\n",
    "    "
   ]
  },
  {
   "cell_type": "code",
   "execution_count": 6,
   "id": "134dfef4-e0d1-4b2d-ba32-8352af69a97c",
   "metadata": {},
   "outputs": [
    {
     "name": "stderr",
     "output_type": "stream",
     "text": [
      "c:\\repos\\tfm\\lib\\site-packages\\openpyxl\\styles\\stylesheet.py:221: UserWarning: Workbook contains no default style, apply openpyxl's default\n",
      "  warn(\"Workbook contains no default style, apply openpyxl's default\")\n"
     ]
    }
   ],
   "source": [
    "df4800 = pd.read_excel('data/4800.xlsx')\n",
    "df4802 = pd.read_excel('data/4802.xlsx')\n",
    "df4803 = pd.read_excel('data/4803.xlsx')\n",
    "df4806 = pd.read_excel('data/4806.xlsx')\n",
    "df4810 = pd.read_excel('data/4810.xlsx')"
   ]
  },
  {
   "cell_type": "code",
   "execution_count": 7,
   "id": "bf395e91-3242-46f2-9fec-ceee060a0752",
   "metadata": {},
   "outputs": [],
   "source": [
    "df_shipping = pd.DataFrame()\n",
    "df_shipping = pd.concat([df_shipping, df4800])\n",
    "df_shipping = pd.concat([df_shipping, df4802])\n",
    "df_shipping = pd.concat([df_shipping, df4803])\n",
    "df_shipping = pd.concat([df_shipping, df4806])\n",
    "df_shipping = pd.concat([df_shipping, df4810])"
   ]
  },
  {
   "cell_type": "code",
   "execution_count": 8,
   "id": "4f1d6460-4df6-469a-a351-65c3e394c768",
   "metadata": {},
   "outputs": [
    {
     "name": "stderr",
     "output_type": "stream",
     "text": [
      "<ipython-input-5-3884b16a4d97>:4: SettingWithCopyWarning: \n",
      "A value is trying to be set on a copy of a slice from a DataFrame.\n",
      "Try using .loc[row_indexer,col_indexer] = value instead\n",
      "\n",
      "See the caveats in the documentation: https://pandas.pydata.org/pandas-docs/stable/user_guide/indexing.html#returning-a-view-versus-a-copy\n",
      "  df['Fecha envío'] = pd.to_datetime(df['Fecha envío'])\n",
      "<ipython-input-5-3884b16a4d97>:6: SettingWithCopyWarning: \n",
      "A value is trying to be set on a copy of a slice from a DataFrame.\n",
      "Try using .loc[row_indexer,col_indexer] = value instead\n",
      "\n",
      "See the caveats in the documentation: https://pandas.pydata.org/pandas-docs/stable/user_guide/indexing.html#returning-a-view-versus-a-copy\n",
      "  df['dayofweek'] = [dias[numero] for numero in df['Fecha envío'].dt.dayofweek]\n",
      "<ipython-input-5-3884b16a4d97>:7: SettingWithCopyWarning: \n",
      "A value is trying to be set on a copy of a slice from a DataFrame.\n",
      "Try using .loc[row_indexer,col_indexer] = value instead\n",
      "\n",
      "See the caveats in the documentation: https://pandas.pydata.org/pandas-docs/stable/user_guide/indexing.html#returning-a-view-versus-a-copy\n",
      "  df['Fecha envío'] =  pd.to_datetime(df['Fecha envío']).astype('str')\n"
     ]
    }
   ],
   "source": [
    "df_shippings = getDataEnvios(df_shipping)"
   ]
  },
  {
   "cell_type": "code",
   "execution_count": 9,
   "id": "fa9522d3-0df8-4f92-b8b5-32ab421b8864",
   "metadata": {},
   "outputs": [
    {
     "data": {
      "text/html": [
       "<div>\n",
       "<style scoped>\n",
       "    .dataframe tbody tr th:only-of-type {\n",
       "        vertical-align: middle;\n",
       "    }\n",
       "\n",
       "    .dataframe tbody tr th {\n",
       "        vertical-align: top;\n",
       "    }\n",
       "\n",
       "    .dataframe thead th {\n",
       "        text-align: right;\n",
       "    }\n",
       "</style>\n",
       "<table border=\"1\" class=\"dataframe\">\n",
       "  <thead>\n",
       "    <tr style=\"text-align: right;\">\n",
       "      <th></th>\n",
       "      <th>total</th>\n",
       "      <th>Friday</th>\n",
       "      <th>Monday</th>\n",
       "      <th>Thursday</th>\n",
       "      <th>Tuesday</th>\n",
       "      <th>Wednesday</th>\n",
       "    </tr>\n",
       "    <tr>\n",
       "      <th>Fecha envío</th>\n",
       "      <th></th>\n",
       "      <th></th>\n",
       "      <th></th>\n",
       "      <th></th>\n",
       "      <th></th>\n",
       "      <th></th>\n",
       "    </tr>\n",
       "  </thead>\n",
       "  <tbody>\n",
       "    <tr>\n",
       "      <th>2021-06-14</th>\n",
       "      <td>3086</td>\n",
       "      <td>0</td>\n",
       "      <td>1</td>\n",
       "      <td>0</td>\n",
       "      <td>0</td>\n",
       "      <td>0</td>\n",
       "    </tr>\n",
       "    <tr>\n",
       "      <th>2021-06-15</th>\n",
       "      <td>2461</td>\n",
       "      <td>0</td>\n",
       "      <td>0</td>\n",
       "      <td>0</td>\n",
       "      <td>1</td>\n",
       "      <td>0</td>\n",
       "    </tr>\n",
       "    <tr>\n",
       "      <th>2021-06-16</th>\n",
       "      <td>2451</td>\n",
       "      <td>0</td>\n",
       "      <td>0</td>\n",
       "      <td>0</td>\n",
       "      <td>0</td>\n",
       "      <td>1</td>\n",
       "    </tr>\n",
       "    <tr>\n",
       "      <th>2021-06-17</th>\n",
       "      <td>2315</td>\n",
       "      <td>0</td>\n",
       "      <td>0</td>\n",
       "      <td>1</td>\n",
       "      <td>0</td>\n",
       "      <td>0</td>\n",
       "    </tr>\n",
       "    <tr>\n",
       "      <th>2021-06-18</th>\n",
       "      <td>2043</td>\n",
       "      <td>1</td>\n",
       "      <td>0</td>\n",
       "      <td>0</td>\n",
       "      <td>0</td>\n",
       "      <td>0</td>\n",
       "    </tr>\n",
       "  </tbody>\n",
       "</table>\n",
       "</div>"
      ],
      "text/plain": [
       "             total  Friday  Monday  Thursday  Tuesday  Wednesday\n",
       "Fecha envío                                                     \n",
       "2021-06-14    3086       0       1         0        0          0\n",
       "2021-06-15    2461       0       0         0        1          0\n",
       "2021-06-16    2451       0       0         0        0          1\n",
       "2021-06-17    2315       0       0         1        0          0\n",
       "2021-06-18    2043       1       0         0        0          0"
      ]
     },
     "execution_count": 9,
     "metadata": {},
     "output_type": "execute_result"
    }
   ],
   "source": [
    "df_shippings.head()"
   ]
  },
  {
   "cell_type": "markdown",
   "id": "745a07c4-ddb6-4292-8902-72047ffb0c7f",
   "metadata": {},
   "source": [
    "# Union de los datos de llamadas "
   ]
  },
  {
   "cell_type": "code",
   "execution_count": 10,
   "id": "80a95c17-cc46-41d4-b9d6-50f40f2eb102",
   "metadata": {},
   "outputs": [],
   "source": [
    "def dataJoin(df_calls, df_shippins):\n",
    "    df = pd.concat([df_shippins, df_calls], axis=1).reset_index()\n",
    "    df['Fecha'] = df['index']\n",
    "    df.drop('index', axis='columns', inplace=True)\n",
    "    \n",
    "    ordenado = ['Fecha', 'total', 'Monday', 'Tuesday', 'Wednesday', 'Thursday', 'Friday', 'dateCreacion']\n",
    "    df = df[ordenado]\n",
    "    \n",
    "    df.dropna(inplace=True)\n",
    "    \n",
    "    return df"
   ]
  },
  {
   "cell_type": "code",
   "execution_count": 11,
   "id": "05b8fed0-0f82-47cd-be1e-74e0eeaf8d14",
   "metadata": {},
   "outputs": [],
   "source": [
    "df = dataJoin(df_calls, df_shippings)"
   ]
  },
  {
   "cell_type": "code",
   "execution_count": 12,
   "id": "305cf49d-d48f-4589-9c95-04349a7d6560",
   "metadata": {},
   "outputs": [
    {
     "data": {
      "text/html": [
       "<div>\n",
       "<style scoped>\n",
       "    .dataframe tbody tr th:only-of-type {\n",
       "        vertical-align: middle;\n",
       "    }\n",
       "\n",
       "    .dataframe tbody tr th {\n",
       "        vertical-align: top;\n",
       "    }\n",
       "\n",
       "    .dataframe thead th {\n",
       "        text-align: right;\n",
       "    }\n",
       "</style>\n",
       "<table border=\"1\" class=\"dataframe\">\n",
       "  <thead>\n",
       "    <tr style=\"text-align: right;\">\n",
       "      <th></th>\n",
       "      <th>Fecha</th>\n",
       "      <th>total</th>\n",
       "      <th>Monday</th>\n",
       "      <th>Tuesday</th>\n",
       "      <th>Wednesday</th>\n",
       "      <th>Thursday</th>\n",
       "      <th>Friday</th>\n",
       "      <th>dateCreacion</th>\n",
       "    </tr>\n",
       "  </thead>\n",
       "  <tbody>\n",
       "    <tr>\n",
       "      <th>0</th>\n",
       "      <td>2021-06-14</td>\n",
       "      <td>3086.0</td>\n",
       "      <td>1.0</td>\n",
       "      <td>0.0</td>\n",
       "      <td>0.0</td>\n",
       "      <td>0.0</td>\n",
       "      <td>0.0</td>\n",
       "      <td>91.0</td>\n",
       "    </tr>\n",
       "    <tr>\n",
       "      <th>1</th>\n",
       "      <td>2021-06-15</td>\n",
       "      <td>2461.0</td>\n",
       "      <td>0.0</td>\n",
       "      <td>1.0</td>\n",
       "      <td>0.0</td>\n",
       "      <td>0.0</td>\n",
       "      <td>0.0</td>\n",
       "      <td>113.0</td>\n",
       "    </tr>\n",
       "    <tr>\n",
       "      <th>2</th>\n",
       "      <td>2021-06-16</td>\n",
       "      <td>2451.0</td>\n",
       "      <td>0.0</td>\n",
       "      <td>0.0</td>\n",
       "      <td>1.0</td>\n",
       "      <td>0.0</td>\n",
       "      <td>0.0</td>\n",
       "      <td>113.0</td>\n",
       "    </tr>\n",
       "    <tr>\n",
       "      <th>3</th>\n",
       "      <td>2021-06-17</td>\n",
       "      <td>2315.0</td>\n",
       "      <td>0.0</td>\n",
       "      <td>0.0</td>\n",
       "      <td>0.0</td>\n",
       "      <td>1.0</td>\n",
       "      <td>0.0</td>\n",
       "      <td>102.0</td>\n",
       "    </tr>\n",
       "    <tr>\n",
       "      <th>4</th>\n",
       "      <td>2021-06-18</td>\n",
       "      <td>2043.0</td>\n",
       "      <td>0.0</td>\n",
       "      <td>0.0</td>\n",
       "      <td>0.0</td>\n",
       "      <td>0.0</td>\n",
       "      <td>1.0</td>\n",
       "      <td>132.0</td>\n",
       "    </tr>\n",
       "  </tbody>\n",
       "</table>\n",
       "</div>"
      ],
      "text/plain": [
       "        Fecha   total  Monday  Tuesday  Wednesday  Thursday  Friday  \\\n",
       "0  2021-06-14  3086.0     1.0      0.0        0.0       0.0     0.0   \n",
       "1  2021-06-15  2461.0     0.0      1.0        0.0       0.0     0.0   \n",
       "2  2021-06-16  2451.0     0.0      0.0        1.0       0.0     0.0   \n",
       "3  2021-06-17  2315.0     0.0      0.0        0.0       1.0     0.0   \n",
       "4  2021-06-18  2043.0     0.0      0.0        0.0       0.0     1.0   \n",
       "\n",
       "   dateCreacion  \n",
       "0          91.0  \n",
       "1         113.0  \n",
       "2         113.0  \n",
       "3         102.0  \n",
       "4         132.0  "
      ]
     },
     "execution_count": 12,
     "metadata": {},
     "output_type": "execute_result"
    }
   ],
   "source": [
    "df.head()"
   ]
  },
  {
   "cell_type": "markdown",
   "id": "dfea0ab4-330e-4fa3-92d1-df9068a14a9e",
   "metadata": {},
   "source": [
    "# Data Engineering sobre los datos de llamadas y envíos"
   ]
  },
  {
   "cell_type": "code",
   "execution_count": 13,
   "id": "165d0837-b4b1-41af-97c9-4930d77a29c2",
   "metadata": {},
   "outputs": [],
   "source": [
    "def dataEngineering(df):\n",
    "    # Lags de envios\n",
    "    df['envioslag1'] = df['total'].shift(periods=1)\n",
    "    df['envioslag6'] = df['total'].shift(periods=6)\n",
    "    df['envioslag7'] = df['total'].shift(periods=7)\n",
    "    df['envioslag8'] = df['total'].shift(periods=8)\n",
    "    \n",
    "    #Renombrar por claridad\n",
    "    df['envios'] = df['total']\n",
    "    df.drop('total', axis='columns', inplace=True)\n",
    "\n",
    "    # Datos estacionales\n",
    "    df['sinlag1'] = np.sin(2*np.pi*(1/1)*df.index)\n",
    "    df['coslag1'] = np.cos(2*np.pi*(1/1)*df.index)\n",
    "\n",
    "    df['sinlag2'] = np.sin(2*np.pi*(1/2)*df.index)\n",
    "    df['coslag2'] = np.cos(2*np.pi*(1/2)*df.index)\n",
    "\n",
    "    df['sinlag3'] = np.sin(2*np.pi*(1/3)*df.index)\n",
    "    df['coslag3'] = np.cos(2*np.pi*(1/3)*df.index)\n",
    "\n",
    "    df['sinlag4'] = np.sin(2*np.pi*(1/4)*df.index)\n",
    "    df['coslag4'] = np.cos(2*np.pi*(1/4)*df.index)\n",
    "\n",
    "    df['sinlag5'] = np.sin(2*np.pi*(1/5)*df.index)\n",
    "    df['coslag5'] = np.cos(2*np.pi*(1/5)*df.index)\n",
    "\n",
    "    df['sinlag6'] = np.sin(2*np.pi*(1/6)*df.index)\n",
    "    df['coslag6'] = np.cos(2*np.pi*(1/6)*df.index)\n",
    "\n",
    "    df['sinlag7'] = np.sin(2*np.pi*(1/7)*df.index)\n",
    "    df['coslag7'] = np.cos(2*np.pi*(1/7)*df.index)\n",
    "    \n",
    "    # Lags de llamadas\n",
    "    df['llamadaslag1'] = df['dateCreacion'].shift(periods=1)\n",
    "    df['llamadaslag2'] = df['dateCreacion'].shift(periods=2)\n",
    "    df['llamadaslag3'] = df['dateCreacion'].shift(periods=3)\n",
    "    df['llamadaslag4'] = df['dateCreacion'].shift(periods=4)\n",
    "    df['llamadaslag5'] = df['dateCreacion'].shift(periods=5)\n",
    "    df['llamadaslag6'] = df['dateCreacion'].shift(periods=6)\n",
    "    df['llamadaslag7'] = df['dateCreacion'].shift(periods=7)\n",
    "    \n",
    "    #Renombrar por claridad\n",
    "    df['llamadas'] = df['dateCreacion']\n",
    "    df.drop('dateCreacion', axis='columns', inplace=True)\n",
    "    \n",
    "    df.dropna(inplace=True)\n",
    "    \n",
    "    df  = df.tail(1).iloc[:,1:-1]\n",
    "    \n",
    "    df.reset_index(inplace=True)\n",
    "    df.drop('index', axis='columns', inplace=True)\n",
    "    \n",
    "    return df"
   ]
  },
  {
   "cell_type": "code",
   "execution_count": 14,
   "id": "2eec0ea4-75bc-4091-bd22-5416f6957476",
   "metadata": {},
   "outputs": [],
   "source": [
    "df = dataEngineering(df)"
   ]
  },
  {
   "cell_type": "code",
   "execution_count": 15,
   "id": "2f46978e-4350-44eb-b3a3-9baf7ccd8ea8",
   "metadata": {},
   "outputs": [
    {
     "data": {
      "text/html": [
       "<div>\n",
       "<style scoped>\n",
       "    .dataframe tbody tr th:only-of-type {\n",
       "        vertical-align: middle;\n",
       "    }\n",
       "\n",
       "    .dataframe tbody tr th {\n",
       "        vertical-align: top;\n",
       "    }\n",
       "\n",
       "    .dataframe thead th {\n",
       "        text-align: right;\n",
       "    }\n",
       "</style>\n",
       "<table border=\"1\" class=\"dataframe\">\n",
       "  <thead>\n",
       "    <tr style=\"text-align: right;\">\n",
       "      <th></th>\n",
       "      <th>Monday</th>\n",
       "      <th>Tuesday</th>\n",
       "      <th>Wednesday</th>\n",
       "      <th>Thursday</th>\n",
       "      <th>Friday</th>\n",
       "      <th>envioslag1</th>\n",
       "      <th>envioslag6</th>\n",
       "      <th>envioslag7</th>\n",
       "      <th>envioslag8</th>\n",
       "      <th>envios</th>\n",
       "      <th>...</th>\n",
       "      <th>coslag6</th>\n",
       "      <th>sinlag7</th>\n",
       "      <th>coslag7</th>\n",
       "      <th>llamadaslag1</th>\n",
       "      <th>llamadaslag2</th>\n",
       "      <th>llamadaslag3</th>\n",
       "      <th>llamadaslag4</th>\n",
       "      <th>llamadaslag5</th>\n",
       "      <th>llamadaslag6</th>\n",
       "      <th>llamadaslag7</th>\n",
       "    </tr>\n",
       "  </thead>\n",
       "  <tbody>\n",
       "    <tr>\n",
       "      <th>0</th>\n",
       "      <td>1.0</td>\n",
       "      <td>0.0</td>\n",
       "      <td>0.0</td>\n",
       "      <td>0.0</td>\n",
       "      <td>0.0</td>\n",
       "      <td>2435.0</td>\n",
       "      <td>2043.0</td>\n",
       "      <td>2315.0</td>\n",
       "      <td>2451.0</td>\n",
       "      <td>3832.0</td>\n",
       "      <td>...</td>\n",
       "      <td>-0.5</td>\n",
       "      <td>-4.898587e-16</td>\n",
       "      <td>1.0</td>\n",
       "      <td>92.0</td>\n",
       "      <td>90.0</td>\n",
       "      <td>132.0</td>\n",
       "      <td>113.0</td>\n",
       "      <td>99.0</td>\n",
       "      <td>132.0</td>\n",
       "      <td>102.0</td>\n",
       "    </tr>\n",
       "  </tbody>\n",
       "</table>\n",
       "<p>1 rows × 31 columns</p>\n",
       "</div>"
      ],
      "text/plain": [
       "   Monday  Tuesday  Wednesday  Thursday  Friday  envioslag1  envioslag6  \\\n",
       "0     1.0      0.0        0.0       0.0     0.0      2435.0      2043.0   \n",
       "\n",
       "   envioslag7  envioslag8  envios  ...  coslag6       sinlag7  coslag7  \\\n",
       "0      2315.0      2451.0  3832.0  ...     -0.5 -4.898587e-16      1.0   \n",
       "\n",
       "   llamadaslag1  llamadaslag2  llamadaslag3  llamadaslag4  llamadaslag5  \\\n",
       "0          92.0          90.0         132.0         113.0          99.0   \n",
       "\n",
       "   llamadaslag6  llamadaslag7  \n",
       "0         132.0         102.0  \n",
       "\n",
       "[1 rows x 31 columns]"
      ]
     },
     "execution_count": 15,
     "metadata": {},
     "output_type": "execute_result"
    }
   ],
   "source": [
    "df.head()"
   ]
  },
  {
   "cell_type": "markdown",
   "id": "df33cb84-764f-405e-9d18-3ec2286c0791",
   "metadata": {},
   "source": [
    "# Normalizacion de datos"
   ]
  },
  {
   "cell_type": "code",
   "execution_count": 16,
   "id": "236b7e40-ea85-4682-9f0a-5e7249143505",
   "metadata": {},
   "outputs": [],
   "source": [
    "def dataScaler(df):\n",
    "    # Cargar scaler desde Pickle\n",
    "    scaler_pkl_filename = 'data/scaler.pkl'\n",
    "    scaler_pkl = open(scaler_pkl_filename, 'rb')\n",
    "    scaler = pickle.load(scaler_pkl)\n",
    "    \n",
    "    df = scaler.transform(df)\n",
    "    \n",
    "    return df"
   ]
  },
  {
   "cell_type": "code",
   "execution_count": 17,
   "id": "109eb645-ce84-4dbc-9626-f5bcddfb38e5",
   "metadata": {},
   "outputs": [],
   "source": [
    "df = dataScaler(df)"
   ]
  },
  {
   "cell_type": "code",
   "execution_count": 18,
   "id": "a7c96257-bfa1-47ba-8862-6572cd3797ef",
   "metadata": {},
   "outputs": [
    {
     "data": {
      "text/plain": [
       "array([[ 1.90743227, -0.50644264, -0.48850421, -0.5207082 , -0.45946829,\n",
       "         0.03145141, -0.3430039 , -0.07928435,  0.0526206 ,  1.43744789,\n",
       "         0.63204558,  0.        ,  0.02236815,  0.96395204, -1.22545908,\n",
       "        -0.71319739,  0.039689  , -1.38895772, -1.36394213,  0.41787743,\n",
       "         1.27762868, -0.70347195,  0.00966503,  1.2376988 , -1.11438749,\n",
       "        -1.13480555, -0.72743756, -0.91404212, -1.05616091, -0.73886676,\n",
       "        -1.03140839]])"
      ]
     },
     "execution_count": 18,
     "metadata": {},
     "output_type": "execute_result"
    }
   ],
   "source": [
    "df"
   ]
  },
  {
   "cell_type": "markdown",
   "id": "3adf9779-3b42-4f94-b220-96eeb2f25d29",
   "metadata": {},
   "source": [
    "# Cargar modelo"
   ]
  },
  {
   "cell_type": "code",
   "execution_count": 19,
   "id": "c3012018-0f3e-4c56-b142-2ae846b64edf",
   "metadata": {},
   "outputs": [],
   "source": [
    "def dataPredict(data):\n",
    "    # Cargar modelo desde Pickle\n",
    "    regl_pkl_filename = 'data/regl.pkl'\n",
    "    regl_pkl_model = open(regl_pkl_filename, 'rb')\n",
    "    regl = pickle.load(regl_pkl_model)\n",
    "    \n",
    "    predict = regl.predict(data)\n",
    "    \n",
    "    return predict"
   ]
  },
  {
   "cell_type": "code",
   "execution_count": 20,
   "id": "d50c4060-f7be-40ae-a987-cbb69d6472db",
   "metadata": {},
   "outputs": [],
   "source": [
    "prediction = dataPredict(df)"
   ]
  },
  {
   "cell_type": "code",
   "execution_count": 21,
   "id": "f5be43f7-abac-46f2-a672-22b6fc50bf53",
   "metadata": {},
   "outputs": [
    {
     "data": {
      "text/plain": [
       "array([98.30151563])"
      ]
     },
     "execution_count": 21,
     "metadata": {},
     "output_type": "execute_result"
    }
   ],
   "source": [
    "prediction"
   ]
  },
  {
   "cell_type": "markdown",
   "id": "f8a57326-52d1-4cd1-90bf-fa106510b0d1",
   "metadata": {},
   "source": [
    "# Streamlit"
   ]
  },
  {
   "cell_type": "code",
   "execution_count": null,
   "id": "df35c001-63c4-4754-97db-5502413a3314",
   "metadata": {},
   "outputs": [],
   "source": [
    "%%writefile dashBoard.py\n",
    "\n",
    "import pandas as pd\n",
    "import streamlit as st\n",
    "\n",
    "\n",
    "def my_widget(key): \n",
    "    st.subheader('Carga de datos')\n",
    "    \n",
    "    #Carga datos Agencia 4800\n",
    "    data_file = st.file_uploader(\"Agencia 4800\",type=['xlsx'])\n",
    "    if data_file is not None:\n",
    "        file_details = {\"Filename\":data_file.name,\"FileType\":data_file.type,\"FileSize\":data_file.size}\n",
    "        st.write(file_details)\n",
    "        df = pd.read_excel(data_file)\n",
    "        st.dataframe(df)\n",
    "        \n",
    "    #Carga datos Agencia 4802\n",
    "    data_file = st.file_uploader(\"Agencia 4802\",type=['xlsx'])\n",
    "    if data_file is not None:\n",
    "        file_details = {\"Filename\":data_file.name,\"FileType\":data_file.type,\"FileSize\":data_file.size}\n",
    "        st.write(file_details)\n",
    "        df = pd.read_excel(data_file)\n",
    "        st.dataframe(df)\n",
    "    \n",
    "st.header('Predicción llamadas contact center')\n",
    "\n",
    "st.header('Importar ficheros de datos para predecir')\n",
    "       \n",
    "#container = st.beta_container()\n",
    "#columna1, columna2, columna3 = container.beta_columns(3)\n",
    "\n",
    "\n",
    "#st.set_page_config(layout=\"wide\")\n",
    "\n",
    "#st.image('imagen_ruta.jpg',  use_column_width=True)\n",
    "\n",
    "with st.sidebar:\n",
    "    clicked = my_widget(\"Actualizar\")\n",
    "    if clicked:\n",
    "        pass"
   ]
  },
  {
   "cell_type": "code",
   "execution_count": null,
   "id": "0705b307-48fc-42e6-983e-01fa833f2150",
   "metadata": {},
   "outputs": [],
   "source": []
  }
 ],
 "metadata": {
  "kernelspec": {
   "display_name": "Python 3",
   "language": "python",
   "name": "python3"
  },
  "language_info": {
   "codemirror_mode": {
    "name": "ipython",
    "version": 3
   },
   "file_extension": ".py",
   "mimetype": "text/x-python",
   "name": "python",
   "nbconvert_exporter": "python",
   "pygments_lexer": "ipython3",
   "version": "3.9.5"
  }
 },
 "nbformat": 4,
 "nbformat_minor": 5
}
