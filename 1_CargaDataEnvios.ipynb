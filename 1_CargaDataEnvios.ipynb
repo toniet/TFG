{
 "cells": [
  {
   "cell_type": "markdown",
   "id": "e409e856",
   "metadata": {},
   "source": [
    "# Modelo predictivo llamadas Contact Center\n",
    "## Notebook 1 - Importación datos de envíos"
   ]
  },
  {
   "cell_type": "markdown",
   "id": "52ae0296",
   "metadata": {},
   "source": [
    "## Importacion de librerias "
   ]
  },
  {
   "cell_type": "code",
   "execution_count": 1,
   "id": "715b5973",
   "metadata": {},
   "outputs": [],
   "source": [
    "import pandas as pd\n",
    "import numpy as np\n",
    "from sklearn.preprocessing import OneHotEncoder\n",
    "import datetime\n",
    "import calendar\n",
    "\n",
    "pd.options.display.max_columns = None"
   ]
  },
  {
   "cell_type": "markdown",
   "id": "199e65ae",
   "metadata": {},
   "source": [
    "### Importacion de los datos de envios por oficinas"
   ]
  },
  {
   "cell_type": "markdown",
   "id": "07ff3887-d48a-4f85-be94-2c7270a2d260",
   "metadata": {},
   "source": [
    "##### Cargamos los datos de los envios desde el fichero shippings.csv"
   ]
  },
  {
   "cell_type": "code",
   "execution_count": 2,
   "id": "53ffa5ab",
   "metadata": {},
   "outputs": [],
   "source": [
    "df = pd.read_csv('data/shippings.csv', low_memory=False)"
   ]
  },
  {
   "cell_type": "code",
   "execution_count": 3,
   "id": "6fc1ec75",
   "metadata": {},
   "outputs": [
    {
     "data": {
      "text/plain": [
       "array([4800, 4802, 4803, 4806, 4810], dtype=int64)"
      ]
     },
     "execution_count": 3,
     "metadata": {},
     "output_type": "execute_result"
    }
   ],
   "source": [
    "df['Franquicia destino'].unique()"
   ]
  },
  {
   "cell_type": "code",
   "execution_count": 4,
   "id": "78ede4ad",
   "metadata": {},
   "outputs": [
    {
     "data": {
      "text/plain": [
       "Index(['Unnamed: 0', 'Fecha envío', 'Número envío', 'Id. Fiscal',\n",
       "       'Nombre Comercial', 'Código servicio', 'Nombre Rem', 'Población Rem',\n",
       "       'CP Rem', 'Nombre vía Rem', 'Nombre', 'Población', 'Código postal',\n",
       "       'Nombre vía', 'Total bultos', 'Franquicia origen', 'Franquicia destino',\n",
       "       'Total', 'Estado', 'Tipo anomalía', 'Motivo', 'Importe Total'],\n",
       "      dtype='object')"
      ]
     },
     "execution_count": 4,
     "metadata": {},
     "output_type": "execute_result"
    }
   ],
   "source": [
    "df.columns"
   ]
  },
  {
   "cell_type": "code",
   "execution_count": 5,
   "id": "fa6dc737",
   "metadata": {
    "scrolled": true
   },
   "outputs": [
    {
     "data": {
      "text/html": [
       "<div>\n",
       "<style scoped>\n",
       "    .dataframe tbody tr th:only-of-type {\n",
       "        vertical-align: middle;\n",
       "    }\n",
       "\n",
       "    .dataframe tbody tr th {\n",
       "        vertical-align: top;\n",
       "    }\n",
       "\n",
       "    .dataframe thead th {\n",
       "        text-align: right;\n",
       "    }\n",
       "</style>\n",
       "<table border=\"1\" class=\"dataframe\">\n",
       "  <thead>\n",
       "    <tr style=\"text-align: right;\">\n",
       "      <th></th>\n",
       "      <th>Fecha envío</th>\n",
       "      <th>Código servicio</th>\n",
       "      <th>Franquicia destino</th>\n",
       "    </tr>\n",
       "  </thead>\n",
       "  <tbody>\n",
       "    <tr>\n",
       "      <th>0</th>\n",
       "      <td>01/01/2019</td>\n",
       "      <td>Económico</td>\n",
       "      <td>4800</td>\n",
       "    </tr>\n",
       "    <tr>\n",
       "      <th>1</th>\n",
       "      <td>01/01/2019</td>\n",
       "      <td>Marítimo baleares</td>\n",
       "      <td>4800</td>\n",
       "    </tr>\n",
       "    <tr>\n",
       "      <th>2</th>\n",
       "      <td>01/01/2019</td>\n",
       "      <td>E-commerce</td>\n",
       "      <td>4800</td>\n",
       "    </tr>\n",
       "    <tr>\n",
       "      <th>3</th>\n",
       "      <td>01/01/2019</td>\n",
       "      <td>E-commerce</td>\n",
       "      <td>4800</td>\n",
       "    </tr>\n",
       "    <tr>\n",
       "      <th>4</th>\n",
       "      <td>01/01/2019</td>\n",
       "      <td>E-commerce</td>\n",
       "      <td>4800</td>\n",
       "    </tr>\n",
       "  </tbody>\n",
       "</table>\n",
       "</div>"
      ],
      "text/plain": [
       "  Fecha envío    Código servicio  Franquicia destino\n",
       "0  01/01/2019          Económico                4800\n",
       "1  01/01/2019  Marítimo baleares                4800\n",
       "2  01/01/2019         E-commerce                4800\n",
       "3  01/01/2019         E-commerce                4800\n",
       "4  01/01/2019         E-commerce                4800"
      ]
     },
     "execution_count": 5,
     "metadata": {},
     "output_type": "execute_result"
    }
   ],
   "source": [
    "df = df.iloc[:, [1,5,16]]\n",
    "df.head()"
   ]
  },
  {
   "cell_type": "code",
   "execution_count": 6,
   "id": "1af73963",
   "metadata": {
    "scrolled": true
   },
   "outputs": [],
   "source": [
    "df['Fecha envío'] = pd.to_datetime(df['Fecha envío'])"
   ]
  },
  {
   "cell_type": "code",
   "execution_count": 7,
   "id": "2e8137d6",
   "metadata": {
    "scrolled": true
   },
   "outputs": [
    {
     "data": {
      "text/html": [
       "<div>\n",
       "<style scoped>\n",
       "    .dataframe tbody tr th:only-of-type {\n",
       "        vertical-align: middle;\n",
       "    }\n",
       "\n",
       "    .dataframe tbody tr th {\n",
       "        vertical-align: top;\n",
       "    }\n",
       "\n",
       "    .dataframe thead th {\n",
       "        text-align: right;\n",
       "    }\n",
       "</style>\n",
       "<table border=\"1\" class=\"dataframe\">\n",
       "  <thead>\n",
       "    <tr style=\"text-align: right;\">\n",
       "      <th></th>\n",
       "      <th>Fecha envío</th>\n",
       "      <th>Código servicio</th>\n",
       "      <th>Franquicia destino</th>\n",
       "    </tr>\n",
       "  </thead>\n",
       "  <tbody>\n",
       "  </tbody>\n",
       "</table>\n",
       "</div>"
      ],
      "text/plain": [
       "Empty DataFrame\n",
       "Columns: [Fecha envío, Código servicio, Franquicia destino]\n",
       "Index: []"
      ]
     },
     "execution_count": 7,
     "metadata": {},
     "output_type": "execute_result"
    }
   ],
   "source": [
    "df[df['Fecha envío'].isnull()]"
   ]
  },
  {
   "cell_type": "markdown",
   "id": "a2cef4f9-57b1-4572-aecf-04c9818b6cdc",
   "metadata": {},
   "source": [
    "##### Obtenemos el dia de la semana para poder obtener un parámetro más para nuestro modelo"
   ]
  },
  {
   "cell_type": "code",
   "execution_count": 8,
   "id": "6bd72453",
   "metadata": {},
   "outputs": [],
   "source": [
    "dias = list(calendar.day_name)"
   ]
  },
  {
   "cell_type": "code",
   "execution_count": 9,
   "id": "3d52db61",
   "metadata": {},
   "outputs": [
    {
     "data": {
      "text/html": [
       "<div>\n",
       "<style scoped>\n",
       "    .dataframe tbody tr th:only-of-type {\n",
       "        vertical-align: middle;\n",
       "    }\n",
       "\n",
       "    .dataframe tbody tr th {\n",
       "        vertical-align: top;\n",
       "    }\n",
       "\n",
       "    .dataframe thead th {\n",
       "        text-align: right;\n",
       "    }\n",
       "</style>\n",
       "<table border=\"1\" class=\"dataframe\">\n",
       "  <thead>\n",
       "    <tr style=\"text-align: right;\">\n",
       "      <th></th>\n",
       "      <th>Fecha envío</th>\n",
       "      <th>Código servicio</th>\n",
       "      <th>Franquicia destino</th>\n",
       "      <th>dayofweek</th>\n",
       "    </tr>\n",
       "  </thead>\n",
       "  <tbody>\n",
       "    <tr>\n",
       "      <th>0</th>\n",
       "      <td>2019-01-01</td>\n",
       "      <td>Económico</td>\n",
       "      <td>4800</td>\n",
       "      <td>Tuesday</td>\n",
       "    </tr>\n",
       "    <tr>\n",
       "      <th>1</th>\n",
       "      <td>2019-01-01</td>\n",
       "      <td>Marítimo baleares</td>\n",
       "      <td>4800</td>\n",
       "      <td>Tuesday</td>\n",
       "    </tr>\n",
       "    <tr>\n",
       "      <th>2</th>\n",
       "      <td>2019-01-01</td>\n",
       "      <td>E-commerce</td>\n",
       "      <td>4800</td>\n",
       "      <td>Tuesday</td>\n",
       "    </tr>\n",
       "    <tr>\n",
       "      <th>3</th>\n",
       "      <td>2019-01-01</td>\n",
       "      <td>E-commerce</td>\n",
       "      <td>4800</td>\n",
       "      <td>Tuesday</td>\n",
       "    </tr>\n",
       "    <tr>\n",
       "      <th>4</th>\n",
       "      <td>2019-01-01</td>\n",
       "      <td>E-commerce</td>\n",
       "      <td>4800</td>\n",
       "      <td>Tuesday</td>\n",
       "    </tr>\n",
       "  </tbody>\n",
       "</table>\n",
       "</div>"
      ],
      "text/plain": [
       "  Fecha envío    Código servicio  Franquicia destino dayofweek\n",
       "0  2019-01-01          Económico                4800   Tuesday\n",
       "1  2019-01-01  Marítimo baleares                4800   Tuesday\n",
       "2  2019-01-01         E-commerce                4800   Tuesday\n",
       "3  2019-01-01         E-commerce                4800   Tuesday\n",
       "4  2019-01-01         E-commerce                4800   Tuesday"
      ]
     },
     "execution_count": 9,
     "metadata": {},
     "output_type": "execute_result"
    }
   ],
   "source": [
    "df['dayofweek'] = [dias[numero] for numero in df['Fecha envío'].dt.dayofweek]\n",
    "df.head()"
   ]
  },
  {
   "cell_type": "code",
   "execution_count": 10,
   "id": "96db0c3a",
   "metadata": {},
   "outputs": [],
   "source": [
    "df['Fecha envío'] =  pd.to_datetime(df['Fecha envío']).astype('str')"
   ]
  },
  {
   "cell_type": "code",
   "execution_count": 11,
   "id": "6011ad3f",
   "metadata": {},
   "outputs": [],
   "source": [
    "df = df[['Fecha envío','Código servicio','dayofweek']]\n",
    "df.reset_index(inplace=True)\n",
    "df = df[['Fecha envío','Código servicio','dayofweek']]\n",
    "# Añadimos las columna 'total' inicializada a 1, para cuando agrupemos por fecha tener el total por día\n",
    "df['total'] = 1"
   ]
  },
  {
   "cell_type": "code",
   "execution_count": 12,
   "id": "e0f4bbc7",
   "metadata": {},
   "outputs": [
    {
     "data": {
      "text/html": [
       "<div>\n",
       "<style scoped>\n",
       "    .dataframe tbody tr th:only-of-type {\n",
       "        vertical-align: middle;\n",
       "    }\n",
       "\n",
       "    .dataframe tbody tr th {\n",
       "        vertical-align: top;\n",
       "    }\n",
       "\n",
       "    .dataframe thead th {\n",
       "        text-align: right;\n",
       "    }\n",
       "</style>\n",
       "<table border=\"1\" class=\"dataframe\">\n",
       "  <thead>\n",
       "    <tr style=\"text-align: right;\">\n",
       "      <th></th>\n",
       "      <th>Fecha envío</th>\n",
       "      <th>Código servicio</th>\n",
       "      <th>dayofweek</th>\n",
       "      <th>total</th>\n",
       "    </tr>\n",
       "  </thead>\n",
       "  <tbody>\n",
       "    <tr>\n",
       "      <th>0</th>\n",
       "      <td>2019-01-01</td>\n",
       "      <td>Económico</td>\n",
       "      <td>Tuesday</td>\n",
       "      <td>1</td>\n",
       "    </tr>\n",
       "    <tr>\n",
       "      <th>1</th>\n",
       "      <td>2019-01-01</td>\n",
       "      <td>Marítimo baleares</td>\n",
       "      <td>Tuesday</td>\n",
       "      <td>1</td>\n",
       "    </tr>\n",
       "    <tr>\n",
       "      <th>2</th>\n",
       "      <td>2019-01-01</td>\n",
       "      <td>E-commerce</td>\n",
       "      <td>Tuesday</td>\n",
       "      <td>1</td>\n",
       "    </tr>\n",
       "    <tr>\n",
       "      <th>3</th>\n",
       "      <td>2019-01-01</td>\n",
       "      <td>E-commerce</td>\n",
       "      <td>Tuesday</td>\n",
       "      <td>1</td>\n",
       "    </tr>\n",
       "    <tr>\n",
       "      <th>4</th>\n",
       "      <td>2019-01-01</td>\n",
       "      <td>E-commerce</td>\n",
       "      <td>Tuesday</td>\n",
       "      <td>1</td>\n",
       "    </tr>\n",
       "  </tbody>\n",
       "</table>\n",
       "</div>"
      ],
      "text/plain": [
       "  Fecha envío    Código servicio dayofweek  total\n",
       "0  2019-01-01          Económico   Tuesday      1\n",
       "1  2019-01-01  Marítimo baleares   Tuesday      1\n",
       "2  2019-01-01         E-commerce   Tuesday      1\n",
       "3  2019-01-01         E-commerce   Tuesday      1\n",
       "4  2019-01-01         E-commerce   Tuesday      1"
      ]
     },
     "execution_count": 12,
     "metadata": {},
     "output_type": "execute_result"
    }
   ],
   "source": [
    "df.head()"
   ]
  },
  {
   "cell_type": "markdown",
   "id": "9dd8103b-e8df-449c-9189-205eaddab22b",
   "metadata": {},
   "source": [
    "##### Convertimos la columna del dia de la semana 'dayofweek' en 5 columnas donde representamos el dia de la semana como un vector"
   ]
  },
  {
   "cell_type": "code",
   "execution_count": 13,
   "id": "6c81f6c2",
   "metadata": {},
   "outputs": [],
   "source": [
    "encoder = OneHotEncoder(handle_unknown='ignore')\n",
    "enc = df[['dayofweek']]\n",
    "encoder.fit(enc.values.reshape(-1,1))\n",
    "encoded = encoder.transform(enc.values.reshape(-1,1))\n",
    "encoded_df = pd.DataFrame(encoded.todense())\n",
    "encoded_df.columns = encoder.categories_[0]"
   ]
  },
  {
   "cell_type": "code",
   "execution_count": 14,
   "id": "9b2d5f3d",
   "metadata": {},
   "outputs": [],
   "source": [
    "df = pd.concat([df,encoded_df], axis=1)"
   ]
  },
  {
   "cell_type": "code",
   "execution_count": 15,
   "id": "37c67532",
   "metadata": {},
   "outputs": [],
   "source": [
    "df.drop(columns=['Código servicio','dayofweek'], inplace=True)"
   ]
  },
  {
   "cell_type": "markdown",
   "id": "3865b88d-d57f-4af6-b78c-04099127a261",
   "metadata": {},
   "source": [
    "##### Agrupamos por día/fecha para tener el total de envíos por fecha"
   ]
  },
  {
   "cell_type": "code",
   "execution_count": 16,
   "id": "836d7bca",
   "metadata": {},
   "outputs": [],
   "source": [
    "df = df.groupby(['Fecha envío']).sum()"
   ]
  },
  {
   "cell_type": "code",
   "execution_count": 17,
   "id": "8bb66b6a",
   "metadata": {},
   "outputs": [
    {
     "data": {
      "text/html": [
       "<div>\n",
       "<style scoped>\n",
       "    .dataframe tbody tr th:only-of-type {\n",
       "        vertical-align: middle;\n",
       "    }\n",
       "\n",
       "    .dataframe tbody tr th {\n",
       "        vertical-align: top;\n",
       "    }\n",
       "\n",
       "    .dataframe thead th {\n",
       "        text-align: right;\n",
       "    }\n",
       "</style>\n",
       "<table border=\"1\" class=\"dataframe\">\n",
       "  <thead>\n",
       "    <tr style=\"text-align: right;\">\n",
       "      <th></th>\n",
       "      <th>total</th>\n",
       "      <th>Friday</th>\n",
       "      <th>Monday</th>\n",
       "      <th>Saturday</th>\n",
       "      <th>Sunday</th>\n",
       "      <th>Thursday</th>\n",
       "      <th>Tuesday</th>\n",
       "      <th>Wednesday</th>\n",
       "    </tr>\n",
       "    <tr>\n",
       "      <th>Fecha envío</th>\n",
       "      <th></th>\n",
       "      <th></th>\n",
       "      <th></th>\n",
       "      <th></th>\n",
       "      <th></th>\n",
       "      <th></th>\n",
       "      <th></th>\n",
       "      <th></th>\n",
       "    </tr>\n",
       "  </thead>\n",
       "  <tbody>\n",
       "    <tr>\n",
       "      <th>2019-01-01</th>\n",
       "      <td>33</td>\n",
       "      <td>0</td>\n",
       "      <td>0</td>\n",
       "      <td>0</td>\n",
       "      <td>0</td>\n",
       "      <td>0</td>\n",
       "      <td>1</td>\n",
       "      <td>0</td>\n",
       "    </tr>\n",
       "    <tr>\n",
       "      <th>2019-01-02</th>\n",
       "      <td>1923</td>\n",
       "      <td>0</td>\n",
       "      <td>0</td>\n",
       "      <td>0</td>\n",
       "      <td>0</td>\n",
       "      <td>0</td>\n",
       "      <td>0</td>\n",
       "      <td>1</td>\n",
       "    </tr>\n",
       "    <tr>\n",
       "      <th>2019-01-03</th>\n",
       "      <td>1408</td>\n",
       "      <td>0</td>\n",
       "      <td>0</td>\n",
       "      <td>0</td>\n",
       "      <td>0</td>\n",
       "      <td>1</td>\n",
       "      <td>0</td>\n",
       "      <td>0</td>\n",
       "    </tr>\n",
       "    <tr>\n",
       "      <th>2019-01-04</th>\n",
       "      <td>3220</td>\n",
       "      <td>1</td>\n",
       "      <td>0</td>\n",
       "      <td>0</td>\n",
       "      <td>0</td>\n",
       "      <td>0</td>\n",
       "      <td>0</td>\n",
       "      <td>0</td>\n",
       "    </tr>\n",
       "    <tr>\n",
       "      <th>2019-01-05</th>\n",
       "      <td>23</td>\n",
       "      <td>0</td>\n",
       "      <td>0</td>\n",
       "      <td>1</td>\n",
       "      <td>0</td>\n",
       "      <td>0</td>\n",
       "      <td>0</td>\n",
       "      <td>0</td>\n",
       "    </tr>\n",
       "  </tbody>\n",
       "</table>\n",
       "</div>"
      ],
      "text/plain": [
       "             total  Friday  Monday  Saturday  Sunday  Thursday  Tuesday  \\\n",
       "Fecha envío                                                               \n",
       "2019-01-01      33       0       0         0       0         0        1   \n",
       "2019-01-02    1923       0       0         0       0         0        0   \n",
       "2019-01-03    1408       0       0         0       0         1        0   \n",
       "2019-01-04    3220       1       0         0       0         0        0   \n",
       "2019-01-05      23       0       0         1       0         0        0   \n",
       "\n",
       "             Wednesday  \n",
       "Fecha envío             \n",
       "2019-01-01           0  \n",
       "2019-01-02           1  \n",
       "2019-01-03           0  \n",
       "2019-01-04           0  \n",
       "2019-01-05           0  "
      ]
     },
     "execution_count": 17,
     "metadata": {},
     "output_type": "execute_result"
    }
   ],
   "source": [
    "# Volvemos a normalizar el vector dia de la semana ya que cuando hemos realizado la agrupacion se ha sumado el valor del campo\n",
    "df.Monday = [ 1 if value > 0 else 0 for value in df.Monday]\n",
    "df.Tuesday = [ 1 if value > 0 else 0 for value in df.Tuesday]\n",
    "df.Wednesday = [ 1 if value > 0 else 0 for value in df.Wednesday]\n",
    "df.Thursday = [ 1 if value > 0 else 0 for value in df.Thursday]\n",
    "df.Friday = [ 1 if value > 0 else 0 for value in df.Friday]\n",
    "df.Saturday = [ 1 if value > 0 else 0 for value in df.Saturday]\n",
    "df.Sunday = [ 1 if value > 0 else 0 for value in df.Sunday]\n",
    "df.head()\n"
   ]
  },
  {
   "cell_type": "code",
   "execution_count": 18,
   "id": "7172ed0d",
   "metadata": {
    "scrolled": true
   },
   "outputs": [
    {
     "data": {
      "text/plain": [
       "Index(['total', 'Friday', 'Monday', 'Saturday', 'Sunday', 'Thursday',\n",
       "       'Tuesday', 'Wednesday'],\n",
       "      dtype='object')"
      ]
     },
     "execution_count": 18,
     "metadata": {},
     "output_type": "execute_result"
    }
   ],
   "source": [
    "df.columns"
   ]
  },
  {
   "cell_type": "code",
   "execution_count": 19,
   "id": "1d83cf66",
   "metadata": {},
   "outputs": [
    {
     "data": {
      "text/plain": [
       "851.0"
      ]
     },
     "execution_count": 19,
     "metadata": {},
     "output_type": "execute_result"
    }
   ],
   "source": [
    "df.describe().iloc[0,0] ##Cantidad de registros"
   ]
  },
  {
   "cell_type": "code",
   "execution_count": 20,
   "id": "60410061",
   "metadata": {},
   "outputs": [],
   "source": [
    "df = df.drop(labels=['Saturday','Sunday'], axis=1)"
   ]
  },
  {
   "cell_type": "code",
   "execution_count": 21,
   "id": "395c2aa7",
   "metadata": {
    "scrolled": true
   },
   "outputs": [],
   "source": [
    "df.to_pickle('./data/df_Envios')"
   ]
  }
 ],
 "metadata": {
  "kernelspec": {
   "display_name": "Python 3",
   "language": "python",
   "name": "python3"
  },
  "language_info": {
   "codemirror_mode": {
    "name": "ipython",
    "version": 3
   },
   "file_extension": ".py",
   "mimetype": "text/x-python",
   "name": "python",
   "nbconvert_exporter": "python",
   "pygments_lexer": "ipython3",
   "version": "3.9.5"
  }
 },
 "nbformat": 4,
 "nbformat_minor": 5
}
