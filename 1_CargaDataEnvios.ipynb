{
 "cells": [
  {
   "cell_type": "markdown",
   "id": "graphic-banks",
   "metadata": {},
   "source": [
    "# TFM. Modelo predictivo llamadas Call Center\n",
    "## MVP"
   ]
  },
  {
   "cell_type": "markdown",
   "id": "collectible-royalty",
   "metadata": {},
   "source": [
    "## Importacion de librerias "
   ]
  },
  {
   "cell_type": "code",
   "execution_count": 1,
   "id": "statewide-psychiatry",
   "metadata": {},
   "outputs": [],
   "source": [
    "import pandas as pd\n",
    "import numpy as np\n",
    "from sklearn.preprocessing import OneHotEncoder\n",
    "import datetime\n",
    "import calendar\n",
    "\n",
    "pd.options.display.max_columns = None"
   ]
  },
  {
   "cell_type": "markdown",
   "id": "official-patient",
   "metadata": {},
   "source": [
    "### Importacion de los datos de envios por oficinas"
   ]
  },
  {
   "cell_type": "code",
   "execution_count": 2,
   "id": "curious-asthma",
   "metadata": {},
   "outputs": [],
   "source": [
    "df_shippings = pd.read_csv('data/shippings.csv', low_memory=False)"
   ]
  },
  {
   "cell_type": "code",
   "execution_count": 3,
   "id": "spatial-amino",
   "metadata": {},
   "outputs": [
    {
     "data": {
      "text/plain": [
       "array([4800, 4802, 4803, 4806, 4810])"
      ]
     },
     "execution_count": 3,
     "metadata": {},
     "output_type": "execute_result"
    }
   ],
   "source": [
    "df_shippings['Franquicia destino'].unique()"
   ]
  },
  {
   "cell_type": "markdown",
   "id": "atomic-cathedral",
   "metadata": {},
   "source": [
    "##### Filtramos oficinas"
   ]
  },
  {
   "cell_type": "code",
   "execution_count": 4,
   "id": "independent-civilization",
   "metadata": {},
   "outputs": [],
   "source": [
    "#df = df_shippings[ (df_shippings['Franquicia destino']==4800) ]"
   ]
  },
  {
   "cell_type": "code",
   "execution_count": 5,
   "id": "administrative-patent",
   "metadata": {
    "scrolled": false
   },
   "outputs": [
    {
     "data": {
      "text/plain": [
       "Index(['Unnamed: 0', 'Fecha envío', 'Número envío', 'Id. Fiscal',\n",
       "       'Nombre Comercial', 'Código servicio', 'Nombre Rem', 'Población Rem',\n",
       "       'CP Rem', 'Nombre vía Rem', 'Nombre', 'Población', 'Código postal',\n",
       "       'Nombre vía', 'Total bultos', 'Franquicia origen', 'Franquicia destino',\n",
       "       'Total', 'Estado', 'Tipo anomalía', 'Motivo', 'Importe Total'],\n",
       "      dtype='object')"
      ]
     },
     "execution_count": 5,
     "metadata": {},
     "output_type": "execute_result"
    }
   ],
   "source": [
    "df = df_shippings\n",
    "df.columns"
   ]
  },
  {
   "cell_type": "code",
   "execution_count": 6,
   "id": "amended-surface",
   "metadata": {
    "scrolled": true
   },
   "outputs": [
    {
     "data": {
      "text/html": [
       "<div>\n",
       "<style scoped>\n",
       "    .dataframe tbody tr th:only-of-type {\n",
       "        vertical-align: middle;\n",
       "    }\n",
       "\n",
       "    .dataframe tbody tr th {\n",
       "        vertical-align: top;\n",
       "    }\n",
       "\n",
       "    .dataframe thead th {\n",
       "        text-align: right;\n",
       "    }\n",
       "</style>\n",
       "<table border=\"1\" class=\"dataframe\">\n",
       "  <thead>\n",
       "    <tr style=\"text-align: right;\">\n",
       "      <th></th>\n",
       "      <th>Fecha envío</th>\n",
       "      <th>Código servicio</th>\n",
       "      <th>Código postal</th>\n",
       "      <th>Total bultos</th>\n",
       "      <th>Franquicia origen</th>\n",
       "      <th>Franquicia destino</th>\n",
       "    </tr>\n",
       "  </thead>\n",
       "  <tbody>\n",
       "    <tr>\n",
       "      <th>0</th>\n",
       "      <td>01/01/2020</td>\n",
       "      <td>Urgente 12</td>\n",
       "      <td>07011</td>\n",
       "      <td>1</td>\n",
       "      <td>636</td>\n",
       "      <td>4800</td>\n",
       "    </tr>\n",
       "    <tr>\n",
       "      <th>1</th>\n",
       "      <td>01/01/2020</td>\n",
       "      <td>Económico</td>\n",
       "      <td>07003</td>\n",
       "      <td>2</td>\n",
       "      <td>640</td>\n",
       "      <td>4800</td>\n",
       "    </tr>\n",
       "    <tr>\n",
       "      <th>2</th>\n",
       "      <td>01/01/2020</td>\n",
       "      <td>Económico</td>\n",
       "      <td>07001</td>\n",
       "      <td>1</td>\n",
       "      <td>642</td>\n",
       "      <td>4800</td>\n",
       "    </tr>\n",
       "    <tr>\n",
       "      <th>3</th>\n",
       "      <td>01/01/2020</td>\n",
       "      <td>Urgente 10</td>\n",
       "      <td>07012</td>\n",
       "      <td>1</td>\n",
       "      <td>679</td>\n",
       "      <td>4800</td>\n",
       "    </tr>\n",
       "    <tr>\n",
       "      <th>4</th>\n",
       "      <td>01/01/2020</td>\n",
       "      <td>E-commerce</td>\n",
       "      <td>07003</td>\n",
       "      <td>1</td>\n",
       "      <td>2638</td>\n",
       "      <td>4800</td>\n",
       "    </tr>\n",
       "  </tbody>\n",
       "</table>\n",
       "</div>"
      ],
      "text/plain": [
       "  Fecha envío Código servicio Código postal  Total bultos  Franquicia origen  \\\n",
       "0  01/01/2020      Urgente 12         07011             1                636   \n",
       "1  01/01/2020       Económico         07003             2                640   \n",
       "2  01/01/2020       Económico         07001             1                642   \n",
       "3  01/01/2020      Urgente 10         07012             1                679   \n",
       "4  01/01/2020      E-commerce         07003             1               2638   \n",
       "\n",
       "   Franquicia destino  \n",
       "0                4800  \n",
       "1                4800  \n",
       "2                4800  \n",
       "3                4800  \n",
       "4                4800  "
      ]
     },
     "execution_count": 6,
     "metadata": {},
     "output_type": "execute_result"
    }
   ],
   "source": [
    "df = df.iloc[:, [1,5,12,14,15,16]]\n",
    "df.head()"
   ]
  },
  {
   "cell_type": "code",
   "execution_count": 7,
   "id": "innovative-indonesian",
   "metadata": {
    "scrolled": true
   },
   "outputs": [
    {
     "name": "stderr",
     "output_type": "stream",
     "text": [
      "<ipython-input-7-90ac39e29746>:1: SettingWithCopyWarning: \n",
      "A value is trying to be set on a copy of a slice from a DataFrame.\n",
      "Try using .loc[row_indexer,col_indexer] = value instead\n",
      "\n",
      "See the caveats in the documentation: https://pandas.pydata.org/pandas-docs/stable/user_guide/indexing.html#returning-a-view-versus-a-copy\n",
      "  df['Fecha envío'] = pd.to_datetime(df['Fecha envío'])\n"
     ]
    }
   ],
   "source": [
    "df['Fecha envío'] = pd.to_datetime(df['Fecha envío'])"
   ]
  },
  {
   "cell_type": "markdown",
   "id": "engaged-blend",
   "metadata": {},
   "source": [
    "#### Filtramos fechas en el dataset"
   ]
  },
  {
   "cell_type": "code",
   "execution_count": 8,
   "id": "agricultural-yahoo",
   "metadata": {},
   "outputs": [],
   "source": [
    "#df = df[df['Fecha envío'] > '01-6-2020']\n",
    "#df.head()"
   ]
  },
  {
   "cell_type": "code",
   "execution_count": 9,
   "id": "ambient-helping",
   "metadata": {},
   "outputs": [],
   "source": [
    "def updateDate(s):\n",
    "    envio24h = ['Urgente 8:30', 'Urgente 10','Urgente 12','Urgente 14','Urgente 19', \\\n",
    "               'Urgente 8:30 expedición', 'Urgente 10 expedición','Urgente 12 expedición', \\\n",
    "               'Urgente 14 expedición','Urgente 19 expedición','Urgente hoy','Burofax', \\\n",
    "               'Documentos 14','Mascotas','Bag 14','Bag 19','Express documentos']\n",
    "    envio48h = ['Económico','E-commerce','Mrw economy (ecopaq)','Retorno canje']\n",
    "    maritimo = ['Marítimo baleares']\n",
    "    \n",
    "    nDate = np.nan\n",
    "    ## Arreglar los 24H\n",
    "    if s['Código servicio'] in envio24h:\n",
    "        nDate = s['Fecha envío'] + datetime.timedelta(days=0)\n",
    "    elif s['Código servicio'] in envio48h:\n",
    "        nDate = s['Fecha envío'] + datetime.timedelta(days=0)\n",
    "    else:\n",
    "        nDate = s['Fecha envío'] + datetime.timedelta(days=0)\n",
    "    \n",
    "    if nDate.isoweekday() == 7:\n",
    "        nDate = nDate + datetime.timedelta(days=-2)\n",
    "    elif nDate.isoweekday() == 6:\n",
    "        nDate = nDate + datetime.timedelta(days=-1)\n",
    "        \n",
    "    return nDate"
   ]
  },
  {
   "cell_type": "code",
   "execution_count": 10,
   "id": "sublime-youth",
   "metadata": {},
   "outputs": [
    {
     "name": "stderr",
     "output_type": "stream",
     "text": [
      "<ipython-input-10-99700ddc10e6>:1: SettingWithCopyWarning: \n",
      "A value is trying to be set on a copy of a slice from a DataFrame.\n",
      "Try using .loc[row_indexer,col_indexer] = value instead\n",
      "\n",
      "See the caveats in the documentation: https://pandas.pydata.org/pandas-docs/stable/user_guide/indexing.html#returning-a-view-versus-a-copy\n",
      "  df['xDate'] = df.apply(updateDate, axis=1)\n"
     ]
    }
   ],
   "source": [
    "df['xDate'] = df.apply(updateDate, axis=1)"
   ]
  },
  {
   "cell_type": "code",
   "execution_count": 11,
   "id": "caring-blocking",
   "metadata": {
    "scrolled": true
   },
   "outputs": [
    {
     "data": {
      "text/html": [
       "<div>\n",
       "<style scoped>\n",
       "    .dataframe tbody tr th:only-of-type {\n",
       "        vertical-align: middle;\n",
       "    }\n",
       "\n",
       "    .dataframe tbody tr th {\n",
       "        vertical-align: top;\n",
       "    }\n",
       "\n",
       "    .dataframe thead th {\n",
       "        text-align: right;\n",
       "    }\n",
       "</style>\n",
       "<table border=\"1\" class=\"dataframe\">\n",
       "  <thead>\n",
       "    <tr style=\"text-align: right;\">\n",
       "      <th></th>\n",
       "      <th>Fecha envío</th>\n",
       "      <th>Código servicio</th>\n",
       "      <th>Código postal</th>\n",
       "      <th>Total bultos</th>\n",
       "      <th>Franquicia origen</th>\n",
       "      <th>Franquicia destino</th>\n",
       "      <th>xDate</th>\n",
       "    </tr>\n",
       "  </thead>\n",
       "  <tbody>\n",
       "  </tbody>\n",
       "</table>\n",
       "</div>"
      ],
      "text/plain": [
       "Empty DataFrame\n",
       "Columns: [Fecha envío, Código servicio, Código postal, Total bultos, Franquicia origen, Franquicia destino, xDate]\n",
       "Index: []"
      ]
     },
     "execution_count": 11,
     "metadata": {},
     "output_type": "execute_result"
    }
   ],
   "source": [
    "df[df['xDate'].isnull()]"
   ]
  },
  {
   "cell_type": "code",
   "execution_count": 12,
   "id": "noticed-handling",
   "metadata": {},
   "outputs": [
    {
     "name": "stderr",
     "output_type": "stream",
     "text": [
      "<ipython-input-12-9e72888f5bd0>:1: SettingWithCopyWarning: \n",
      "A value is trying to be set on a copy of a slice from a DataFrame.\n",
      "Try using .loc[row_indexer,col_indexer] = value instead\n",
      "\n",
      "See the caveats in the documentation: https://pandas.pydata.org/pandas-docs/stable/user_guide/indexing.html#returning-a-view-versus-a-copy\n",
      "  df['Fecha envío'] =  pd.to_datetime(df['xDate'])\n"
     ]
    }
   ],
   "source": [
    "df['Fecha envío'] =  pd.to_datetime(df['xDate'])"
   ]
  },
  {
   "cell_type": "code",
   "execution_count": 13,
   "id": "billion-tracy",
   "metadata": {},
   "outputs": [],
   "source": [
    "dias = list(calendar.day_name)"
   ]
  },
  {
   "cell_type": "code",
   "execution_count": 14,
   "id": "warming-block",
   "metadata": {},
   "outputs": [
    {
     "name": "stderr",
     "output_type": "stream",
     "text": [
      "<ipython-input-14-0dfaeb8ecb17>:1: SettingWithCopyWarning: \n",
      "A value is trying to be set on a copy of a slice from a DataFrame.\n",
      "Try using .loc[row_indexer,col_indexer] = value instead\n",
      "\n",
      "See the caveats in the documentation: https://pandas.pydata.org/pandas-docs/stable/user_guide/indexing.html#returning-a-view-versus-a-copy\n",
      "  df['dayofweek'] = [dias[numero] for numero in df['Fecha envío'].dt.dayofweek]\n"
     ]
    },
    {
     "data": {
      "text/html": [
       "<div>\n",
       "<style scoped>\n",
       "    .dataframe tbody tr th:only-of-type {\n",
       "        vertical-align: middle;\n",
       "    }\n",
       "\n",
       "    .dataframe tbody tr th {\n",
       "        vertical-align: top;\n",
       "    }\n",
       "\n",
       "    .dataframe thead th {\n",
       "        text-align: right;\n",
       "    }\n",
       "</style>\n",
       "<table border=\"1\" class=\"dataframe\">\n",
       "  <thead>\n",
       "    <tr style=\"text-align: right;\">\n",
       "      <th></th>\n",
       "      <th>Fecha envío</th>\n",
       "      <th>Código servicio</th>\n",
       "      <th>Código postal</th>\n",
       "      <th>Total bultos</th>\n",
       "      <th>Franquicia origen</th>\n",
       "      <th>Franquicia destino</th>\n",
       "      <th>xDate</th>\n",
       "      <th>dayofweek</th>\n",
       "    </tr>\n",
       "  </thead>\n",
       "  <tbody>\n",
       "    <tr>\n",
       "      <th>0</th>\n",
       "      <td>2020-01-01</td>\n",
       "      <td>Urgente 12</td>\n",
       "      <td>07011</td>\n",
       "      <td>1</td>\n",
       "      <td>636</td>\n",
       "      <td>4800</td>\n",
       "      <td>2020-01-01</td>\n",
       "      <td>Wednesday</td>\n",
       "    </tr>\n",
       "    <tr>\n",
       "      <th>1</th>\n",
       "      <td>2020-01-01</td>\n",
       "      <td>Económico</td>\n",
       "      <td>07003</td>\n",
       "      <td>2</td>\n",
       "      <td>640</td>\n",
       "      <td>4800</td>\n",
       "      <td>2020-01-01</td>\n",
       "      <td>Wednesday</td>\n",
       "    </tr>\n",
       "    <tr>\n",
       "      <th>2</th>\n",
       "      <td>2020-01-01</td>\n",
       "      <td>Económico</td>\n",
       "      <td>07001</td>\n",
       "      <td>1</td>\n",
       "      <td>642</td>\n",
       "      <td>4800</td>\n",
       "      <td>2020-01-01</td>\n",
       "      <td>Wednesday</td>\n",
       "    </tr>\n",
       "    <tr>\n",
       "      <th>3</th>\n",
       "      <td>2020-01-01</td>\n",
       "      <td>Urgente 10</td>\n",
       "      <td>07012</td>\n",
       "      <td>1</td>\n",
       "      <td>679</td>\n",
       "      <td>4800</td>\n",
       "      <td>2020-01-01</td>\n",
       "      <td>Wednesday</td>\n",
       "    </tr>\n",
       "    <tr>\n",
       "      <th>4</th>\n",
       "      <td>2020-01-01</td>\n",
       "      <td>E-commerce</td>\n",
       "      <td>07003</td>\n",
       "      <td>1</td>\n",
       "      <td>2638</td>\n",
       "      <td>4800</td>\n",
       "      <td>2020-01-01</td>\n",
       "      <td>Wednesday</td>\n",
       "    </tr>\n",
       "  </tbody>\n",
       "</table>\n",
       "</div>"
      ],
      "text/plain": [
       "  Fecha envío Código servicio Código postal  Total bultos  Franquicia origen  \\\n",
       "0  2020-01-01      Urgente 12         07011             1                636   \n",
       "1  2020-01-01       Económico         07003             2                640   \n",
       "2  2020-01-01       Económico         07001             1                642   \n",
       "3  2020-01-01      Urgente 10         07012             1                679   \n",
       "4  2020-01-01      E-commerce         07003             1               2638   \n",
       "\n",
       "   Franquicia destino      xDate  dayofweek  \n",
       "0                4800 2020-01-01  Wednesday  \n",
       "1                4800 2020-01-01  Wednesday  \n",
       "2                4800 2020-01-01  Wednesday  \n",
       "3                4800 2020-01-01  Wednesday  \n",
       "4                4800 2020-01-01  Wednesday  "
      ]
     },
     "execution_count": 14,
     "metadata": {},
     "output_type": "execute_result"
    }
   ],
   "source": [
    "df['dayofweek'] = [dias[numero] for numero in df['Fecha envío'].dt.dayofweek]\n",
    "df.head()"
   ]
  },
  {
   "cell_type": "code",
   "execution_count": 15,
   "id": "surprising-positive",
   "metadata": {},
   "outputs": [
    {
     "name": "stderr",
     "output_type": "stream",
     "text": [
      "<ipython-input-15-bee2ca5c2dd9>:1: SettingWithCopyWarning: \n",
      "A value is trying to be set on a copy of a slice from a DataFrame.\n",
      "Try using .loc[row_indexer,col_indexer] = value instead\n",
      "\n",
      "See the caveats in the documentation: https://pandas.pydata.org/pandas-docs/stable/user_guide/indexing.html#returning-a-view-versus-a-copy\n",
      "  df['Fecha envío'] =  pd.to_datetime(df['Fecha envío']).astype('str')\n"
     ]
    }
   ],
   "source": [
    "df['Fecha envío'] =  pd.to_datetime(df['Fecha envío']).astype('str')"
   ]
  },
  {
   "cell_type": "code",
   "execution_count": 16,
   "id": "musical-composition",
   "metadata": {},
   "outputs": [
    {
     "data": {
      "text/plain": [
       "array(['Urgente 12', 'Económico', 'Urgente 10', 'E-commerce',\n",
       "       'Urgente 19', 'Mascotas', 'Marítimo baleares', 'Urgente 14',\n",
       "       'Urgente 19 expedición', 'Urgente 12 expedición', 'Urgente 8:30',\n",
       "       'Burofax', 'Retorno albarán', 'Bag 14', 'Urgente 10 expedición',\n",
       "       'Urgente hoy', 'Documentos 14', 'Bag 19',\n",
       "       'Urgente 8:30 expedición', 'Mrw economy (ecopaq)',\n",
       "       'Urgente 14 expedición', 'Express documentos', 'Retorno canje',\n",
       "       'Urgente funchal', 'Express paquetes', 'Devolución burofax',\n",
       "       'E-Commerce', 'Plan ayuda', 'Ecobox 25',\n",
       "       'OperativaServicioEnumECOBA', 'E-commerce canje',\n",
       "       'Retorno burofax'], dtype=object)"
      ]
     },
     "execution_count": 16,
     "metadata": {},
     "output_type": "execute_result"
    }
   ],
   "source": [
    "df['Código servicio'].unique()"
   ]
  },
  {
   "cell_type": "code",
   "execution_count": 17,
   "id": "tracked-ranking",
   "metadata": {},
   "outputs": [],
   "source": [
    "train = df[['Fecha envío','Código servicio','Franquicia origen','Código postal','dayofweek']]\n",
    "train.reset_index(inplace=True)\n",
    "train = train[['Fecha envío','Código servicio','Franquicia origen','Código postal','dayofweek']]\n",
    "train['total'] = 1"
   ]
  },
  {
   "cell_type": "code",
   "execution_count": 18,
   "id": "specified-calibration",
   "metadata": {},
   "outputs": [
    {
     "data": {
      "text/html": [
       "<div>\n",
       "<style scoped>\n",
       "    .dataframe tbody tr th:only-of-type {\n",
       "        vertical-align: middle;\n",
       "    }\n",
       "\n",
       "    .dataframe tbody tr th {\n",
       "        vertical-align: top;\n",
       "    }\n",
       "\n",
       "    .dataframe thead th {\n",
       "        text-align: right;\n",
       "    }\n",
       "</style>\n",
       "<table border=\"1\" class=\"dataframe\">\n",
       "  <thead>\n",
       "    <tr style=\"text-align: right;\">\n",
       "      <th></th>\n",
       "      <th>Fecha envío</th>\n",
       "      <th>Código servicio</th>\n",
       "      <th>Franquicia origen</th>\n",
       "      <th>Código postal</th>\n",
       "      <th>dayofweek</th>\n",
       "      <th>total</th>\n",
       "    </tr>\n",
       "  </thead>\n",
       "  <tbody>\n",
       "    <tr>\n",
       "      <th>0</th>\n",
       "      <td>2020-01-01</td>\n",
       "      <td>Urgente 12</td>\n",
       "      <td>636</td>\n",
       "      <td>07011</td>\n",
       "      <td>Wednesday</td>\n",
       "      <td>1</td>\n",
       "    </tr>\n",
       "    <tr>\n",
       "      <th>1</th>\n",
       "      <td>2020-01-01</td>\n",
       "      <td>Económico</td>\n",
       "      <td>640</td>\n",
       "      <td>07003</td>\n",
       "      <td>Wednesday</td>\n",
       "      <td>1</td>\n",
       "    </tr>\n",
       "    <tr>\n",
       "      <th>2</th>\n",
       "      <td>2020-01-01</td>\n",
       "      <td>Económico</td>\n",
       "      <td>642</td>\n",
       "      <td>07001</td>\n",
       "      <td>Wednesday</td>\n",
       "      <td>1</td>\n",
       "    </tr>\n",
       "    <tr>\n",
       "      <th>3</th>\n",
       "      <td>2020-01-01</td>\n",
       "      <td>Urgente 10</td>\n",
       "      <td>679</td>\n",
       "      <td>07012</td>\n",
       "      <td>Wednesday</td>\n",
       "      <td>1</td>\n",
       "    </tr>\n",
       "    <tr>\n",
       "      <th>4</th>\n",
       "      <td>2020-01-01</td>\n",
       "      <td>E-commerce</td>\n",
       "      <td>2638</td>\n",
       "      <td>07003</td>\n",
       "      <td>Wednesday</td>\n",
       "      <td>1</td>\n",
       "    </tr>\n",
       "  </tbody>\n",
       "</table>\n",
       "</div>"
      ],
      "text/plain": [
       "  Fecha envío Código servicio  Franquicia origen Código postal  dayofweek  \\\n",
       "0  2020-01-01      Urgente 12                636         07011  Wednesday   \n",
       "1  2020-01-01       Económico                640         07003  Wednesday   \n",
       "2  2020-01-01       Económico                642         07001  Wednesday   \n",
       "3  2020-01-01      Urgente 10                679         07012  Wednesday   \n",
       "4  2020-01-01      E-commerce               2638         07003  Wednesday   \n",
       "\n",
       "   total  \n",
       "0      1  \n",
       "1      1  \n",
       "2      1  \n",
       "3      1  \n",
       "4      1  "
      ]
     },
     "execution_count": 18,
     "metadata": {},
     "output_type": "execute_result"
    }
   ],
   "source": [
    "train.head()"
   ]
  },
  {
   "cell_type": "code",
   "execution_count": 19,
   "id": "brazilian-following",
   "metadata": {},
   "outputs": [],
   "source": [
    "train['Franquicia origen'] = train['Franquicia origen'].apply(str)\n",
    "train['Código postal'] = train['Código postal'].apply(str)"
   ]
  },
  {
   "cell_type": "code",
   "execution_count": 20,
   "id": "statewide-teddy",
   "metadata": {},
   "outputs": [],
   "source": [
    "encoder = OneHotEncoder(handle_unknown='ignore')\n",
    "enc = train[['Código servicio']]"
   ]
  },
  {
   "cell_type": "code",
   "execution_count": 21,
   "id": "particular-montreal",
   "metadata": {
    "scrolled": true
   },
   "outputs": [
    {
     "data": {
      "text/plain": [
       "[array(['Bag 14', 'Bag 19', 'Burofax', 'Devolución burofax',\n",
       "        'Documentos 14', 'E-Commerce', 'E-commerce', 'E-commerce canje',\n",
       "        'Ecobox 25', 'Económico', 'Express documentos', 'Express paquetes',\n",
       "        'Marítimo baleares', 'Mascotas', 'Mrw economy (ecopaq)',\n",
       "        'OperativaServicioEnumECOBA', 'Plan ayuda', 'Retorno albarán',\n",
       "        'Retorno burofax', 'Retorno canje', 'Urgente 10',\n",
       "        'Urgente 10 expedición', 'Urgente 12', 'Urgente 12 expedición',\n",
       "        'Urgente 14', 'Urgente 14 expedición', 'Urgente 19',\n",
       "        'Urgente 19 expedición', 'Urgente 8:30', 'Urgente 8:30 expedición',\n",
       "        'Urgente funchal', 'Urgente hoy'], dtype=object)]"
      ]
     },
     "execution_count": 21,
     "metadata": {},
     "output_type": "execute_result"
    }
   ],
   "source": [
    "encoder.fit(enc.values.reshape(-1,1))\n",
    "encoder.categories_"
   ]
  },
  {
   "cell_type": "code",
   "execution_count": 22,
   "id": "classified-print",
   "metadata": {},
   "outputs": [],
   "source": [
    "encoded = encoder.transform(enc.values.reshape(-1,1))\n",
    "encoded_df = pd.DataFrame(encoded.todense())\n",
    "encoded_df.columns = encoder.categories_[0]"
   ]
  },
  {
   "cell_type": "code",
   "execution_count": 23,
   "id": "charged-ivory",
   "metadata": {},
   "outputs": [],
   "source": [
    "train = pd.concat([train,encoded_df], axis=1)"
   ]
  },
  {
   "cell_type": "code",
   "execution_count": 24,
   "id": "passing-techno",
   "metadata": {},
   "outputs": [],
   "source": [
    "#encoder = OneHotEncoder(handle_unknown='ignore')\n",
    "enc = train[['dayofweek']]\n",
    "encoder.fit(enc.values.reshape(-1,1))\n",
    "encoded = encoder.transform(enc.values.reshape(-1,1))\n",
    "encoded_df = pd.DataFrame(encoded.todense())\n",
    "encoded_df.columns = encoder.categories_[0]"
   ]
  },
  {
   "cell_type": "code",
   "execution_count": 25,
   "id": "cultural-pressing",
   "metadata": {},
   "outputs": [],
   "source": [
    "train = pd.concat([train,encoded_df], axis=1)"
   ]
  },
  {
   "cell_type": "code",
   "execution_count": 26,
   "id": "optical-behavior",
   "metadata": {},
   "outputs": [],
   "source": [
    "#encoder = OneHotEncoder(handle_unknown='ignore')\n",
    "#enc = train[['Código postal']]\n",
    "#encoder.fit(enc.values.reshape(-1,1))\n",
    "#encoded = encoder.transform(enc.values.reshape(-1,1))\n",
    "#encoded_df = pd.DataFrame(encoded.todense())\n",
    "#encoded_df.columns = encoder.categories_[0]"
   ]
  },
  {
   "cell_type": "code",
   "execution_count": 27,
   "id": "lovely-impression",
   "metadata": {},
   "outputs": [],
   "source": [
    "#train = pd.concat([train,encoded_df], axis=1)"
   ]
  },
  {
   "cell_type": "code",
   "execution_count": 28,
   "id": "distributed-stopping",
   "metadata": {},
   "outputs": [],
   "source": [
    "train.drop(columns=['Código servicio','Franquicia origen','Código postal','dayofweek'], inplace=True)"
   ]
  },
  {
   "cell_type": "code",
   "execution_count": 29,
   "id": "republican-listening",
   "metadata": {},
   "outputs": [],
   "source": [
    "train = train.groupby(['Fecha envío']).sum()"
   ]
  },
  {
   "cell_type": "code",
   "execution_count": 30,
   "id": "changed-chair",
   "metadata": {
    "scrolled": true
   },
   "outputs": [
    {
     "data": {
      "text/html": [
       "<div>\n",
       "<style scoped>\n",
       "    .dataframe tbody tr th:only-of-type {\n",
       "        vertical-align: middle;\n",
       "    }\n",
       "\n",
       "    .dataframe tbody tr th {\n",
       "        vertical-align: top;\n",
       "    }\n",
       "\n",
       "    .dataframe thead th {\n",
       "        text-align: right;\n",
       "    }\n",
       "</style>\n",
       "<table border=\"1\" class=\"dataframe\">\n",
       "  <thead>\n",
       "    <tr style=\"text-align: right;\">\n",
       "      <th></th>\n",
       "      <th>total</th>\n",
       "      <th>Bag 14</th>\n",
       "      <th>Bag 19</th>\n",
       "      <th>Burofax</th>\n",
       "      <th>Devolución burofax</th>\n",
       "      <th>Documentos 14</th>\n",
       "      <th>E-Commerce</th>\n",
       "      <th>E-commerce</th>\n",
       "      <th>E-commerce canje</th>\n",
       "      <th>Ecobox 25</th>\n",
       "      <th>Económico</th>\n",
       "      <th>Express documentos</th>\n",
       "      <th>Express paquetes</th>\n",
       "      <th>Marítimo baleares</th>\n",
       "      <th>Mascotas</th>\n",
       "      <th>Mrw economy (ecopaq)</th>\n",
       "      <th>OperativaServicioEnumECOBA</th>\n",
       "      <th>Plan ayuda</th>\n",
       "      <th>Retorno albarán</th>\n",
       "      <th>Retorno burofax</th>\n",
       "      <th>Retorno canje</th>\n",
       "      <th>Urgente 10</th>\n",
       "      <th>Urgente 10 expedición</th>\n",
       "      <th>Urgente 12</th>\n",
       "      <th>Urgente 12 expedición</th>\n",
       "      <th>Urgente 14</th>\n",
       "      <th>Urgente 14 expedición</th>\n",
       "      <th>Urgente 19</th>\n",
       "      <th>Urgente 19 expedición</th>\n",
       "      <th>Urgente 8:30</th>\n",
       "      <th>Urgente 8:30 expedición</th>\n",
       "      <th>Urgente funchal</th>\n",
       "      <th>Urgente hoy</th>\n",
       "      <th>Friday</th>\n",
       "      <th>Monday</th>\n",
       "      <th>Thursday</th>\n",
       "      <th>Tuesday</th>\n",
       "      <th>Wednesday</th>\n",
       "    </tr>\n",
       "    <tr>\n",
       "      <th>Fecha envío</th>\n",
       "      <th></th>\n",
       "      <th></th>\n",
       "      <th></th>\n",
       "      <th></th>\n",
       "      <th></th>\n",
       "      <th></th>\n",
       "      <th></th>\n",
       "      <th></th>\n",
       "      <th></th>\n",
       "      <th></th>\n",
       "      <th></th>\n",
       "      <th></th>\n",
       "      <th></th>\n",
       "      <th></th>\n",
       "      <th></th>\n",
       "      <th></th>\n",
       "      <th></th>\n",
       "      <th></th>\n",
       "      <th></th>\n",
       "      <th></th>\n",
       "      <th></th>\n",
       "      <th></th>\n",
       "      <th></th>\n",
       "      <th></th>\n",
       "      <th></th>\n",
       "      <th></th>\n",
       "      <th></th>\n",
       "      <th></th>\n",
       "      <th></th>\n",
       "      <th></th>\n",
       "      <th></th>\n",
       "      <th></th>\n",
       "      <th></th>\n",
       "      <th></th>\n",
       "      <th></th>\n",
       "      <th></th>\n",
       "      <th></th>\n",
       "      <th></th>\n",
       "    </tr>\n",
       "  </thead>\n",
       "  <tbody>\n",
       "    <tr>\n",
       "      <th>2020-01-01</th>\n",
       "      <td>99</td>\n",
       "      <td>0.0</td>\n",
       "      <td>0.0</td>\n",
       "      <td>0.0</td>\n",
       "      <td>0.0</td>\n",
       "      <td>0.0</td>\n",
       "      <td>0.0</td>\n",
       "      <td>67.0</td>\n",
       "      <td>0.0</td>\n",
       "      <td>0.0</td>\n",
       "      <td>2.0</td>\n",
       "      <td>0.0</td>\n",
       "      <td>0.0</td>\n",
       "      <td>0.0</td>\n",
       "      <td>0.0</td>\n",
       "      <td>0.0</td>\n",
       "      <td>0.0</td>\n",
       "      <td>0.0</td>\n",
       "      <td>0.0</td>\n",
       "      <td>0.0</td>\n",
       "      <td>0.0</td>\n",
       "      <td>3.0</td>\n",
       "      <td>0.0</td>\n",
       "      <td>21.0</td>\n",
       "      <td>0.0</td>\n",
       "      <td>0.0</td>\n",
       "      <td>0.0</td>\n",
       "      <td>6.0</td>\n",
       "      <td>0.0</td>\n",
       "      <td>0.0</td>\n",
       "      <td>0.0</td>\n",
       "      <td>0.0</td>\n",
       "      <td>0.0</td>\n",
       "      <td>0.0</td>\n",
       "      <td>0.0</td>\n",
       "      <td>0.0</td>\n",
       "      <td>0.0</td>\n",
       "      <td>99.0</td>\n",
       "    </tr>\n",
       "    <tr>\n",
       "      <th>2020-01-02</th>\n",
       "      <td>704</td>\n",
       "      <td>0.0</td>\n",
       "      <td>0.0</td>\n",
       "      <td>0.0</td>\n",
       "      <td>0.0</td>\n",
       "      <td>0.0</td>\n",
       "      <td>0.0</td>\n",
       "      <td>92.0</td>\n",
       "      <td>0.0</td>\n",
       "      <td>0.0</td>\n",
       "      <td>32.0</td>\n",
       "      <td>0.0</td>\n",
       "      <td>0.0</td>\n",
       "      <td>152.0</td>\n",
       "      <td>0.0</td>\n",
       "      <td>0.0</td>\n",
       "      <td>0.0</td>\n",
       "      <td>0.0</td>\n",
       "      <td>1.0</td>\n",
       "      <td>0.0</td>\n",
       "      <td>0.0</td>\n",
       "      <td>3.0</td>\n",
       "      <td>0.0</td>\n",
       "      <td>6.0</td>\n",
       "      <td>1.0</td>\n",
       "      <td>0.0</td>\n",
       "      <td>0.0</td>\n",
       "      <td>417.0</td>\n",
       "      <td>0.0</td>\n",
       "      <td>0.0</td>\n",
       "      <td>0.0</td>\n",
       "      <td>0.0</td>\n",
       "      <td>0.0</td>\n",
       "      <td>0.0</td>\n",
       "      <td>0.0</td>\n",
       "      <td>704.0</td>\n",
       "      <td>0.0</td>\n",
       "      <td>0.0</td>\n",
       "    </tr>\n",
       "    <tr>\n",
       "      <th>2020-01-03</th>\n",
       "      <td>1807</td>\n",
       "      <td>0.0</td>\n",
       "      <td>1.0</td>\n",
       "      <td>1.0</td>\n",
       "      <td>0.0</td>\n",
       "      <td>0.0</td>\n",
       "      <td>0.0</td>\n",
       "      <td>421.0</td>\n",
       "      <td>0.0</td>\n",
       "      <td>0.0</td>\n",
       "      <td>147.0</td>\n",
       "      <td>0.0</td>\n",
       "      <td>0.0</td>\n",
       "      <td>878.0</td>\n",
       "      <td>6.0</td>\n",
       "      <td>0.0</td>\n",
       "      <td>0.0</td>\n",
       "      <td>0.0</td>\n",
       "      <td>1.0</td>\n",
       "      <td>0.0</td>\n",
       "      <td>0.0</td>\n",
       "      <td>68.0</td>\n",
       "      <td>1.0</td>\n",
       "      <td>162.0</td>\n",
       "      <td>15.0</td>\n",
       "      <td>0.0</td>\n",
       "      <td>0.0</td>\n",
       "      <td>84.0</td>\n",
       "      <td>22.0</td>\n",
       "      <td>0.0</td>\n",
       "      <td>0.0</td>\n",
       "      <td>0.0</td>\n",
       "      <td>0.0</td>\n",
       "      <td>1807.0</td>\n",
       "      <td>0.0</td>\n",
       "      <td>0.0</td>\n",
       "      <td>0.0</td>\n",
       "      <td>0.0</td>\n",
       "    </tr>\n",
       "    <tr>\n",
       "      <th>2020-01-06</th>\n",
       "      <td>4518</td>\n",
       "      <td>0.0</td>\n",
       "      <td>0.0</td>\n",
       "      <td>6.0</td>\n",
       "      <td>0.0</td>\n",
       "      <td>0.0</td>\n",
       "      <td>0.0</td>\n",
       "      <td>1381.0</td>\n",
       "      <td>0.0</td>\n",
       "      <td>0.0</td>\n",
       "      <td>382.0</td>\n",
       "      <td>0.0</td>\n",
       "      <td>0.0</td>\n",
       "      <td>2267.0</td>\n",
       "      <td>23.0</td>\n",
       "      <td>0.0</td>\n",
       "      <td>0.0</td>\n",
       "      <td>0.0</td>\n",
       "      <td>6.0</td>\n",
       "      <td>0.0</td>\n",
       "      <td>0.0</td>\n",
       "      <td>127.0</td>\n",
       "      <td>6.0</td>\n",
       "      <td>172.0</td>\n",
       "      <td>12.0</td>\n",
       "      <td>1.0</td>\n",
       "      <td>0.0</td>\n",
       "      <td>100.0</td>\n",
       "      <td>33.0</td>\n",
       "      <td>1.0</td>\n",
       "      <td>1.0</td>\n",
       "      <td>0.0</td>\n",
       "      <td>0.0</td>\n",
       "      <td>0.0</td>\n",
       "      <td>4518.0</td>\n",
       "      <td>0.0</td>\n",
       "      <td>0.0</td>\n",
       "      <td>0.0</td>\n",
       "    </tr>\n",
       "    <tr>\n",
       "      <th>2020-01-07</th>\n",
       "      <td>3254</td>\n",
       "      <td>0.0</td>\n",
       "      <td>0.0</td>\n",
       "      <td>8.0</td>\n",
       "      <td>0.0</td>\n",
       "      <td>0.0</td>\n",
       "      <td>0.0</td>\n",
       "      <td>782.0</td>\n",
       "      <td>0.0</td>\n",
       "      <td>0.0</td>\n",
       "      <td>364.0</td>\n",
       "      <td>0.0</td>\n",
       "      <td>1.0</td>\n",
       "      <td>1549.0</td>\n",
       "      <td>14.0</td>\n",
       "      <td>0.0</td>\n",
       "      <td>0.0</td>\n",
       "      <td>0.0</td>\n",
       "      <td>4.0</td>\n",
       "      <td>0.0</td>\n",
       "      <td>0.0</td>\n",
       "      <td>129.0</td>\n",
       "      <td>6.0</td>\n",
       "      <td>176.0</td>\n",
       "      <td>14.0</td>\n",
       "      <td>0.0</td>\n",
       "      <td>0.0</td>\n",
       "      <td>144.0</td>\n",
       "      <td>60.0</td>\n",
       "      <td>2.0</td>\n",
       "      <td>1.0</td>\n",
       "      <td>0.0</td>\n",
       "      <td>0.0</td>\n",
       "      <td>0.0</td>\n",
       "      <td>0.0</td>\n",
       "      <td>0.0</td>\n",
       "      <td>3254.0</td>\n",
       "      <td>0.0</td>\n",
       "    </tr>\n",
       "  </tbody>\n",
       "</table>\n",
       "</div>"
      ],
      "text/plain": [
       "             total  Bag 14  Bag 19  Burofax  Devolución burofax  \\\n",
       "Fecha envío                                                       \n",
       "2020-01-01      99     0.0     0.0      0.0                 0.0   \n",
       "2020-01-02     704     0.0     0.0      0.0                 0.0   \n",
       "2020-01-03    1807     0.0     1.0      1.0                 0.0   \n",
       "2020-01-06    4518     0.0     0.0      6.0                 0.0   \n",
       "2020-01-07    3254     0.0     0.0      8.0                 0.0   \n",
       "\n",
       "             Documentos 14  E-Commerce  E-commerce  E-commerce canje  \\\n",
       "Fecha envío                                                            \n",
       "2020-01-01             0.0         0.0        67.0               0.0   \n",
       "2020-01-02             0.0         0.0        92.0               0.0   \n",
       "2020-01-03             0.0         0.0       421.0               0.0   \n",
       "2020-01-06             0.0         0.0      1381.0               0.0   \n",
       "2020-01-07             0.0         0.0       782.0               0.0   \n",
       "\n",
       "             Ecobox 25  Económico  Express documentos  Express paquetes  \\\n",
       "Fecha envío                                                               \n",
       "2020-01-01         0.0        2.0                 0.0               0.0   \n",
       "2020-01-02         0.0       32.0                 0.0               0.0   \n",
       "2020-01-03         0.0      147.0                 0.0               0.0   \n",
       "2020-01-06         0.0      382.0                 0.0               0.0   \n",
       "2020-01-07         0.0      364.0                 0.0               1.0   \n",
       "\n",
       "             Marítimo baleares  Mascotas  Mrw economy (ecopaq)  \\\n",
       "Fecha envío                                                      \n",
       "2020-01-01                 0.0       0.0                   0.0   \n",
       "2020-01-02               152.0       0.0                   0.0   \n",
       "2020-01-03               878.0       6.0                   0.0   \n",
       "2020-01-06              2267.0      23.0                   0.0   \n",
       "2020-01-07              1549.0      14.0                   0.0   \n",
       "\n",
       "             OperativaServicioEnumECOBA  Plan ayuda  Retorno albarán  \\\n",
       "Fecha envío                                                            \n",
       "2020-01-01                          0.0         0.0              0.0   \n",
       "2020-01-02                          0.0         0.0              1.0   \n",
       "2020-01-03                          0.0         0.0              1.0   \n",
       "2020-01-06                          0.0         0.0              6.0   \n",
       "2020-01-07                          0.0         0.0              4.0   \n",
       "\n",
       "             Retorno burofax  Retorno canje  Urgente 10  \\\n",
       "Fecha envío                                               \n",
       "2020-01-01               0.0            0.0         3.0   \n",
       "2020-01-02               0.0            0.0         3.0   \n",
       "2020-01-03               0.0            0.0        68.0   \n",
       "2020-01-06               0.0            0.0       127.0   \n",
       "2020-01-07               0.0            0.0       129.0   \n",
       "\n",
       "             Urgente 10 expedición  Urgente 12  Urgente 12 expedición  \\\n",
       "Fecha envío                                                             \n",
       "2020-01-01                     0.0        21.0                    0.0   \n",
       "2020-01-02                     0.0         6.0                    1.0   \n",
       "2020-01-03                     1.0       162.0                   15.0   \n",
       "2020-01-06                     6.0       172.0                   12.0   \n",
       "2020-01-07                     6.0       176.0                   14.0   \n",
       "\n",
       "             Urgente 14  Urgente 14 expedición  Urgente 19  \\\n",
       "Fecha envío                                                  \n",
       "2020-01-01          0.0                    0.0         6.0   \n",
       "2020-01-02          0.0                    0.0       417.0   \n",
       "2020-01-03          0.0                    0.0        84.0   \n",
       "2020-01-06          1.0                    0.0       100.0   \n",
       "2020-01-07          0.0                    0.0       144.0   \n",
       "\n",
       "             Urgente 19 expedición  Urgente 8:30  Urgente 8:30 expedición  \\\n",
       "Fecha envío                                                                 \n",
       "2020-01-01                     0.0           0.0                      0.0   \n",
       "2020-01-02                     0.0           0.0                      0.0   \n",
       "2020-01-03                    22.0           0.0                      0.0   \n",
       "2020-01-06                    33.0           1.0                      1.0   \n",
       "2020-01-07                    60.0           2.0                      1.0   \n",
       "\n",
       "             Urgente funchal  Urgente hoy  Friday  Monday  Thursday  Tuesday  \\\n",
       "Fecha envío                                                                    \n",
       "2020-01-01               0.0          0.0     0.0     0.0       0.0      0.0   \n",
       "2020-01-02               0.0          0.0     0.0     0.0     704.0      0.0   \n",
       "2020-01-03               0.0          0.0  1807.0     0.0       0.0      0.0   \n",
       "2020-01-06               0.0          0.0     0.0  4518.0       0.0      0.0   \n",
       "2020-01-07               0.0          0.0     0.0     0.0       0.0   3254.0   \n",
       "\n",
       "             Wednesday  \n",
       "Fecha envío             \n",
       "2020-01-01        99.0  \n",
       "2020-01-02         0.0  \n",
       "2020-01-03         0.0  \n",
       "2020-01-06         0.0  \n",
       "2020-01-07         0.0  "
      ]
     },
     "execution_count": 30,
     "metadata": {},
     "output_type": "execute_result"
    }
   ],
   "source": [
    "train.head()"
   ]
  },
  {
   "cell_type": "code",
   "execution_count": 31,
   "id": "distinct-header",
   "metadata": {
    "scrolled": true
   },
   "outputs": [
    {
     "data": {
      "text/plain": [
       "Index(['total', 'Bag 14', 'Bag 19', 'Burofax', 'Devolución burofax',\n",
       "       'Documentos 14', 'E-Commerce', 'E-commerce', 'E-commerce canje',\n",
       "       'Ecobox 25', 'Económico', 'Express documentos', 'Express paquetes',\n",
       "       'Marítimo baleares', 'Mascotas', 'Mrw economy (ecopaq)',\n",
       "       'OperativaServicioEnumECOBA', 'Plan ayuda', 'Retorno albarán',\n",
       "       'Retorno burofax', 'Retorno canje', 'Urgente 10',\n",
       "       'Urgente 10 expedición', 'Urgente 12', 'Urgente 12 expedición',\n",
       "       'Urgente 14', 'Urgente 14 expedición', 'Urgente 19',\n",
       "       'Urgente 19 expedición', 'Urgente 8:30', 'Urgente 8:30 expedición',\n",
       "       'Urgente funchal', 'Urgente hoy', 'Friday', 'Monday', 'Thursday',\n",
       "       'Tuesday', 'Wednesday'],\n",
       "      dtype='object')"
      ]
     },
     "execution_count": 31,
     "metadata": {},
     "output_type": "execute_result"
    }
   ],
   "source": [
    "train.columns"
   ]
  },
  {
   "cell_type": "code",
   "execution_count": null,
   "id": "surface-madonna",
   "metadata": {},
   "outputs": [],
   "source": [
    "train.describe()"
   ]
  },
  {
   "cell_type": "code",
   "execution_count": null,
   "id": "dress-father",
   "metadata": {},
   "outputs": [],
   "source": [
    "columnas = ['E-commerce','Económico','Marítimo baleares',\\\n",
    "            'Urgente 10','Urgente 12','Urgente 19','Urgente 19 expedición',\\\n",
    "            'Monday','Tuesday','Wednesday','Thursday','Friday']"
   ]
  },
  {
   "cell_type": "code",
   "execution_count": null,
   "id": "rising-karen",
   "metadata": {},
   "outputs": [],
   "source": [
    "train = train[columnas]\n",
    "train.head()"
   ]
  },
  {
   "cell_type": "code",
   "execution_count": null,
   "id": "happy-overview",
   "metadata": {
    "scrolled": true
   },
   "outputs": [],
   "source": [
    "'''\n",
    "train.Monday = [ 1 if monday > 0 else 0 for monday in train.Monday]\n",
    "train.Tuesday = [ 1 if monday > 0 else 0 for monday in train.Tuesday]\n",
    "train.Wednesday = [ 1 if monday > 0 else 0 for monday in train.Wednesday]\n",
    "train.Thursday = [ 1 if monday > 0 else 0 for monday in train.Thursday]\n",
    "train.Friday = [ 1 if monday > 0 else 0 for monday in train.Friday]\n",
    "train.head()\n",
    "'''"
   ]
  },
  {
   "cell_type": "code",
   "execution_count": null,
   "id": "religious-detection",
   "metadata": {
    "scrolled": true
   },
   "outputs": [],
   "source": [
    "train.to_pickle('./data/df_Envios')"
   ]
  }
 ],
 "metadata": {
  "kernelspec": {
   "display_name": "Python 3",
   "language": "python",
   "name": "python3"
  },
  "language_info": {
   "codemirror_mode": {
    "name": "ipython",
    "version": 3
   },
   "file_extension": ".py",
   "mimetype": "text/x-python",
   "name": "python",
   "nbconvert_exporter": "python",
   "pygments_lexer": "ipython3",
   "version": "3.8.5"
  }
 },
 "nbformat": 4,
 "nbformat_minor": 5
}
