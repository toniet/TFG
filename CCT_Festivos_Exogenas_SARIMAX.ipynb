{
 "cells": [
  {
   "cell_type": "code",
   "execution_count": 1,
   "metadata": {
    "colab": {},
    "colab_type": "code",
    "id": "sJUCGgJAeXmn"
   },
   "outputs": [],
   "source": [
    "import pandas as pd\n",
    "import numpy as np\n",
    "import datetime"
   ]
  },
  {
   "cell_type": "markdown",
   "metadata": {
    "colab_type": "text",
    "id": "kzMWL_bGvvuY"
   },
   "source": [
    "# Read Data"
   ]
  },
  {
   "cell_type": "code",
   "execution_count": 2,
   "metadata": {},
   "outputs": [],
   "source": [
    "#df=pd.read_csv('data/calls.csv',index_col='DATE',parse_dates=True)\n",
    "#df=df.dropna()"
   ]
  },
  {
   "cell_type": "code",
   "execution_count": 3,
   "metadata": {},
   "outputs": [
    {
     "data": {
      "text/html": [
       "<div>\n",
       "<style scoped>\n",
       "    .dataframe tbody tr th:only-of-type {\n",
       "        vertical-align: middle;\n",
       "    }\n",
       "\n",
       "    .dataframe tbody tr th {\n",
       "        vertical-align: top;\n",
       "    }\n",
       "\n",
       "    .dataframe thead th {\n",
       "        text-align: right;\n",
       "    }\n",
       "</style>\n",
       "<table border=\"1\" class=\"dataframe\">\n",
       "  <thead>\n",
       "    <tr style=\"text-align: right;\">\n",
       "      <th></th>\n",
       "      <th>total</th>\n",
       "      <th>Bag 14</th>\n",
       "      <th>Bag 19</th>\n",
       "      <th>Burofax</th>\n",
       "      <th>Devolución burofax</th>\n",
       "      <th>Documentos 14</th>\n",
       "      <th>E-Commerce</th>\n",
       "      <th>E-commerce</th>\n",
       "      <th>E-commerce canje</th>\n",
       "      <th>Ecobox 25</th>\n",
       "      <th>...</th>\n",
       "      <th>Urgente 8:30</th>\n",
       "      <th>Urgente 8:30 expedición</th>\n",
       "      <th>Urgente funchal</th>\n",
       "      <th>Urgente hoy</th>\n",
       "      <th>NaN</th>\n",
       "      <th>Friday</th>\n",
       "      <th>Monday</th>\n",
       "      <th>Thursday</th>\n",
       "      <th>Tuesday</th>\n",
       "      <th>Wednesday</th>\n",
       "    </tr>\n",
       "    <tr>\n",
       "      <th>Fecha envío</th>\n",
       "      <th></th>\n",
       "      <th></th>\n",
       "      <th></th>\n",
       "      <th></th>\n",
       "      <th></th>\n",
       "      <th></th>\n",
       "      <th></th>\n",
       "      <th></th>\n",
       "      <th></th>\n",
       "      <th></th>\n",
       "      <th></th>\n",
       "      <th></th>\n",
       "      <th></th>\n",
       "      <th></th>\n",
       "      <th></th>\n",
       "      <th></th>\n",
       "      <th></th>\n",
       "      <th></th>\n",
       "      <th></th>\n",
       "      <th></th>\n",
       "      <th></th>\n",
       "    </tr>\n",
       "  </thead>\n",
       "  <tbody>\n",
       "    <tr>\n",
       "      <th>2019-01-01</th>\n",
       "      <td>33</td>\n",
       "      <td>0.0</td>\n",
       "      <td>0.0</td>\n",
       "      <td>0.0</td>\n",
       "      <td>0.0</td>\n",
       "      <td>0.0</td>\n",
       "      <td>0.0</td>\n",
       "      <td>16.0</td>\n",
       "      <td>0.0</td>\n",
       "      <td>0.0</td>\n",
       "      <td>...</td>\n",
       "      <td>0.0</td>\n",
       "      <td>0.0</td>\n",
       "      <td>0.0</td>\n",
       "      <td>0.0</td>\n",
       "      <td>0.0</td>\n",
       "      <td>0</td>\n",
       "      <td>0</td>\n",
       "      <td>0</td>\n",
       "      <td>1</td>\n",
       "      <td>0</td>\n",
       "    </tr>\n",
       "  </tbody>\n",
       "</table>\n",
       "<p>1 rows × 40 columns</p>\n",
       "</div>"
      ],
      "text/plain": [
       "             total  Bag 14  Bag 19  Burofax  Devolución burofax  \\\n",
       "Fecha envío                                                       \n",
       "2019-01-01      33     0.0     0.0      0.0                 0.0   \n",
       "\n",
       "             Documentos 14  E-Commerce  E-commerce  E-commerce canje  \\\n",
       "Fecha envío                                                            \n",
       "2019-01-01             0.0         0.0        16.0               0.0   \n",
       "\n",
       "             Ecobox 25  ...  Urgente 8:30  Urgente 8:30 expedición  \\\n",
       "Fecha envío             ...                                          \n",
       "2019-01-01         0.0  ...           0.0                      0.0   \n",
       "\n",
       "             Urgente funchal  Urgente hoy  NaN  Friday  Monday  Thursday  \\\n",
       "Fecha envío                                                                \n",
       "2019-01-01               0.0          0.0  0.0       0       0         0   \n",
       "\n",
       "             Tuesday  Wednesday  \n",
       "Fecha envío                      \n",
       "2019-01-01         1          0  \n",
       "\n",
       "[1 rows x 40 columns]"
      ]
     },
     "execution_count": 3,
     "metadata": {},
     "output_type": "execute_result"
    }
   ],
   "source": [
    "df_envios = pd.read_pickle('data/df_Envios')\n",
    "df_envios.head(1)"
   ]
  },
  {
   "cell_type": "code",
   "execution_count": 4,
   "metadata": {},
   "outputs": [
    {
     "data": {
      "text/html": [
       "<div>\n",
       "<style scoped>\n",
       "    .dataframe tbody tr th:only-of-type {\n",
       "        vertical-align: middle;\n",
       "    }\n",
       "\n",
       "    .dataframe tbody tr th {\n",
       "        vertical-align: top;\n",
       "    }\n",
       "\n",
       "    .dataframe thead th {\n",
       "        text-align: right;\n",
       "    }\n",
       "</style>\n",
       "<table border=\"1\" class=\"dataframe\">\n",
       "  <thead>\n",
       "    <tr style=\"text-align: right;\">\n",
       "      <th></th>\n",
       "      <th>total</th>\n",
       "      <th>Bag 14</th>\n",
       "      <th>Bag 19</th>\n",
       "      <th>Burofax</th>\n",
       "      <th>Devolución burofax</th>\n",
       "      <th>Documentos 14</th>\n",
       "      <th>E-Commerce</th>\n",
       "      <th>E-commerce</th>\n",
       "      <th>E-commerce canje</th>\n",
       "      <th>Ecobox 25</th>\n",
       "      <th>...</th>\n",
       "      <th>Urgente 8:30</th>\n",
       "      <th>Urgente 8:30 expedición</th>\n",
       "      <th>Urgente funchal</th>\n",
       "      <th>Urgente hoy</th>\n",
       "      <th>NaN</th>\n",
       "      <th>Friday</th>\n",
       "      <th>Monday</th>\n",
       "      <th>Thursday</th>\n",
       "      <th>Tuesday</th>\n",
       "      <th>Wednesday</th>\n",
       "    </tr>\n",
       "    <tr>\n",
       "      <th>Fecha envío</th>\n",
       "      <th></th>\n",
       "      <th></th>\n",
       "      <th></th>\n",
       "      <th></th>\n",
       "      <th></th>\n",
       "      <th></th>\n",
       "      <th></th>\n",
       "      <th></th>\n",
       "      <th></th>\n",
       "      <th></th>\n",
       "      <th></th>\n",
       "      <th></th>\n",
       "      <th></th>\n",
       "      <th></th>\n",
       "      <th></th>\n",
       "      <th></th>\n",
       "      <th></th>\n",
       "      <th></th>\n",
       "      <th></th>\n",
       "      <th></th>\n",
       "      <th></th>\n",
       "    </tr>\n",
       "  </thead>\n",
       "  <tbody>\n",
       "    <tr>\n",
       "      <th>2021-12-04</th>\n",
       "      <td>2991</td>\n",
       "      <td>0.0</td>\n",
       "      <td>0.0</td>\n",
       "      <td>6.0</td>\n",
       "      <td>0.0</td>\n",
       "      <td>0.0</td>\n",
       "      <td>0.0</td>\n",
       "      <td>790.0</td>\n",
       "      <td>0.0</td>\n",
       "      <td>0.0</td>\n",
       "      <td>...</td>\n",
       "      <td>1.0</td>\n",
       "      <td>1.0</td>\n",
       "      <td>0.0</td>\n",
       "      <td>0.0</td>\n",
       "      <td>0.0</td>\n",
       "      <td>0</td>\n",
       "      <td>0</td>\n",
       "      <td>0</td>\n",
       "      <td>0</td>\n",
       "      <td>0</td>\n",
       "    </tr>\n",
       "  </tbody>\n",
       "</table>\n",
       "<p>1 rows × 40 columns</p>\n",
       "</div>"
      ],
      "text/plain": [
       "             total  Bag 14  Bag 19  Burofax  Devolución burofax  \\\n",
       "Fecha envío                                                       \n",
       "2021-12-04    2991     0.0     0.0      6.0                 0.0   \n",
       "\n",
       "             Documentos 14  E-Commerce  E-commerce  E-commerce canje  \\\n",
       "Fecha envío                                                            \n",
       "2021-12-04             0.0         0.0       790.0               0.0   \n",
       "\n",
       "             Ecobox 25  ...  Urgente 8:30  Urgente 8:30 expedición  \\\n",
       "Fecha envío             ...                                          \n",
       "2021-12-04         0.0  ...           1.0                      1.0   \n",
       "\n",
       "             Urgente funchal  Urgente hoy  NaN  Friday  Monday  Thursday  \\\n",
       "Fecha envío                                                                \n",
       "2021-12-04               0.0          0.0  0.0       0       0         0   \n",
       "\n",
       "             Tuesday  Wednesday  \n",
       "Fecha envío                      \n",
       "2021-12-04         0          0  \n",
       "\n",
       "[1 rows x 40 columns]"
      ]
     },
     "execution_count": 4,
     "metadata": {},
     "output_type": "execute_result"
    }
   ],
   "source": [
    "df_envios.tail(1)"
   ]
  },
  {
   "cell_type": "code",
   "execution_count": 5,
   "metadata": {},
   "outputs": [
    {
     "data": {
      "text/html": [
       "<div>\n",
       "<style scoped>\n",
       "    .dataframe tbody tr th:only-of-type {\n",
       "        vertical-align: middle;\n",
       "    }\n",
       "\n",
       "    .dataframe tbody tr th {\n",
       "        vertical-align: top;\n",
       "    }\n",
       "\n",
       "    .dataframe thead th {\n",
       "        text-align: right;\n",
       "    }\n",
       "</style>\n",
       "<table border=\"1\" class=\"dataframe\">\n",
       "  <thead>\n",
       "    <tr style=\"text-align: right;\">\n",
       "      <th></th>\n",
       "      <th>total</th>\n",
       "    </tr>\n",
       "    <tr>\n",
       "      <th>Fecha envío</th>\n",
       "      <th></th>\n",
       "    </tr>\n",
       "  </thead>\n",
       "  <tbody>\n",
       "    <tr>\n",
       "      <th>2019-01-01</th>\n",
       "      <td>33</td>\n",
       "    </tr>\n",
       "    <tr>\n",
       "      <th>2019-01-02</th>\n",
       "      <td>1923</td>\n",
       "    </tr>\n",
       "    <tr>\n",
       "      <th>2019-01-03</th>\n",
       "      <td>1408</td>\n",
       "    </tr>\n",
       "    <tr>\n",
       "      <th>2019-01-04</th>\n",
       "      <td>3220</td>\n",
       "    </tr>\n",
       "    <tr>\n",
       "      <th>2019-01-05</th>\n",
       "      <td>23</td>\n",
       "    </tr>\n",
       "  </tbody>\n",
       "</table>\n",
       "</div>"
      ],
      "text/plain": [
       "             total\n",
       "Fecha envío       \n",
       "2019-01-01      33\n",
       "2019-01-02    1923\n",
       "2019-01-03    1408\n",
       "2019-01-04    3220\n",
       "2019-01-05      23"
      ]
     },
     "execution_count": 5,
     "metadata": {},
     "output_type": "execute_result"
    }
   ],
   "source": [
    "df_envios = df_envios[['total']]\n",
    "df_envios.head()"
   ]
  },
  {
   "cell_type": "code",
   "execution_count": 6,
   "metadata": {},
   "outputs": [
    {
     "data": {
      "text/html": [
       "<div>\n",
       "<style scoped>\n",
       "    .dataframe tbody tr th:only-of-type {\n",
       "        vertical-align: middle;\n",
       "    }\n",
       "\n",
       "    .dataframe tbody tr th {\n",
       "        vertical-align: top;\n",
       "    }\n",
       "\n",
       "    .dataframe thead th {\n",
       "        text-align: right;\n",
       "    }\n",
       "</style>\n",
       "<table border=\"1\" class=\"dataframe\">\n",
       "  <thead>\n",
       "    <tr style=\"text-align: right;\">\n",
       "      <th></th>\n",
       "      <th>total</th>\n",
       "      <th>t1</th>\n",
       "      <th>t2</th>\n",
       "      <th>t3</th>\n",
       "      <th>t4</th>\n",
       "      <th>t5</th>\n",
       "    </tr>\n",
       "    <tr>\n",
       "      <th>Fecha envío</th>\n",
       "      <th></th>\n",
       "      <th></th>\n",
       "      <th></th>\n",
       "      <th></th>\n",
       "      <th></th>\n",
       "      <th></th>\n",
       "    </tr>\n",
       "  </thead>\n",
       "  <tbody>\n",
       "    <tr>\n",
       "      <th>2019-01-01</th>\n",
       "      <td>33</td>\n",
       "      <td>NaN</td>\n",
       "      <td>NaN</td>\n",
       "      <td>NaN</td>\n",
       "      <td>NaN</td>\n",
       "      <td>NaN</td>\n",
       "    </tr>\n",
       "    <tr>\n",
       "      <th>2019-01-02</th>\n",
       "      <td>1923</td>\n",
       "      <td>33.0</td>\n",
       "      <td>NaN</td>\n",
       "      <td>NaN</td>\n",
       "      <td>NaN</td>\n",
       "      <td>NaN</td>\n",
       "    </tr>\n",
       "    <tr>\n",
       "      <th>2019-01-03</th>\n",
       "      <td>1408</td>\n",
       "      <td>1923.0</td>\n",
       "      <td>33.0</td>\n",
       "      <td>NaN</td>\n",
       "      <td>NaN</td>\n",
       "      <td>NaN</td>\n",
       "    </tr>\n",
       "    <tr>\n",
       "      <th>2019-01-04</th>\n",
       "      <td>3220</td>\n",
       "      <td>1408.0</td>\n",
       "      <td>1923.0</td>\n",
       "      <td>33.0</td>\n",
       "      <td>NaN</td>\n",
       "      <td>NaN</td>\n",
       "    </tr>\n",
       "    <tr>\n",
       "      <th>2019-01-05</th>\n",
       "      <td>23</td>\n",
       "      <td>3220.0</td>\n",
       "      <td>1408.0</td>\n",
       "      <td>1923.0</td>\n",
       "      <td>33.0</td>\n",
       "      <td>NaN</td>\n",
       "    </tr>\n",
       "  </tbody>\n",
       "</table>\n",
       "</div>"
      ],
      "text/plain": [
       "             total      t1      t2      t3    t4  t5\n",
       "Fecha envío                                         \n",
       "2019-01-01      33     NaN     NaN     NaN   NaN NaN\n",
       "2019-01-02    1923    33.0     NaN     NaN   NaN NaN\n",
       "2019-01-03    1408  1923.0    33.0     NaN   NaN NaN\n",
       "2019-01-04    3220  1408.0  1923.0    33.0   NaN NaN\n",
       "2019-01-05      23  3220.0  1408.0  1923.0  33.0 NaN"
      ]
     },
     "execution_count": 6,
     "metadata": {},
     "output_type": "execute_result"
    }
   ],
   "source": [
    "df_envios['t1'] = df_envios.shift(periods=1)\n",
    "df_envios['t2'] = df_envios['total'].shift(periods=2)\n",
    "df_envios['t3'] = df_envios['total'].shift(periods=3)\n",
    "df_envios['t4'] = df_envios['total'].shift(periods=4)\n",
    "df_envios['t5'] = df_envios['total'].shift(periods=5)\n",
    "df_envios.head()"
   ]
  },
  {
   "cell_type": "code",
   "execution_count": 7,
   "metadata": {},
   "outputs": [
    {
     "data": {
      "text/html": [
       "<div>\n",
       "<style scoped>\n",
       "    .dataframe tbody tr th:only-of-type {\n",
       "        vertical-align: middle;\n",
       "    }\n",
       "\n",
       "    .dataframe tbody tr th {\n",
       "        vertical-align: top;\n",
       "    }\n",
       "\n",
       "    .dataframe thead th {\n",
       "        text-align: right;\n",
       "    }\n",
       "</style>\n",
       "<table border=\"1\" class=\"dataframe\">\n",
       "  <thead>\n",
       "    <tr style=\"text-align: right;\">\n",
       "      <th></th>\n",
       "      <th>total</th>\n",
       "      <th>t1</th>\n",
       "      <th>t2</th>\n",
       "      <th>t3</th>\n",
       "      <th>t4</th>\n",
       "      <th>t5</th>\n",
       "    </tr>\n",
       "    <tr>\n",
       "      <th>Fecha envío</th>\n",
       "      <th></th>\n",
       "      <th></th>\n",
       "      <th></th>\n",
       "      <th></th>\n",
       "      <th></th>\n",
       "      <th></th>\n",
       "    </tr>\n",
       "  </thead>\n",
       "  <tbody>\n",
       "    <tr>\n",
       "      <th>2019-01-01</th>\n",
       "      <td>33</td>\n",
       "      <td>NaN</td>\n",
       "      <td>NaN</td>\n",
       "      <td>NaN</td>\n",
       "      <td>NaN</td>\n",
       "      <td>NaN</td>\n",
       "    </tr>\n",
       "    <tr>\n",
       "      <th>2019-01-02</th>\n",
       "      <td>1923</td>\n",
       "      <td>33.0</td>\n",
       "      <td>NaN</td>\n",
       "      <td>NaN</td>\n",
       "      <td>NaN</td>\n",
       "      <td>NaN</td>\n",
       "    </tr>\n",
       "    <tr>\n",
       "      <th>2019-01-03</th>\n",
       "      <td>1408</td>\n",
       "      <td>1923.0</td>\n",
       "      <td>33.0</td>\n",
       "      <td>NaN</td>\n",
       "      <td>NaN</td>\n",
       "      <td>NaN</td>\n",
       "    </tr>\n",
       "    <tr>\n",
       "      <th>2019-01-04</th>\n",
       "      <td>3220</td>\n",
       "      <td>1408.0</td>\n",
       "      <td>1923.0</td>\n",
       "      <td>33.0</td>\n",
       "      <td>NaN</td>\n",
       "      <td>NaN</td>\n",
       "    </tr>\n",
       "    <tr>\n",
       "      <th>2019-01-05</th>\n",
       "      <td>23</td>\n",
       "      <td>3220.0</td>\n",
       "      <td>1408.0</td>\n",
       "      <td>1923.0</td>\n",
       "      <td>33.0</td>\n",
       "      <td>NaN</td>\n",
       "    </tr>\n",
       "  </tbody>\n",
       "</table>\n",
       "</div>"
      ],
      "text/plain": [
       "             total      t1      t2      t3    t4  t5\n",
       "Fecha envío                                         \n",
       "2019-01-01      33     NaN     NaN     NaN   NaN NaN\n",
       "2019-01-02    1923    33.0     NaN     NaN   NaN NaN\n",
       "2019-01-03    1408  1923.0    33.0     NaN   NaN NaN\n",
       "2019-01-04    3220  1408.0  1923.0    33.0   NaN NaN\n",
       "2019-01-05      23  3220.0  1408.0  1923.0  33.0 NaN"
      ]
     },
     "execution_count": 7,
     "metadata": {},
     "output_type": "execute_result"
    }
   ],
   "source": [
    "#df_envios.dropna(inplace=True)\n",
    "df_envios.head()"
   ]
  },
  {
   "cell_type": "code",
   "execution_count": 8,
   "metadata": {},
   "outputs": [
    {
     "data": {
      "text/html": [
       "<div>\n",
       "<style scoped>\n",
       "    .dataframe tbody tr th:only-of-type {\n",
       "        vertical-align: middle;\n",
       "    }\n",
       "\n",
       "    .dataframe tbody tr th {\n",
       "        vertical-align: top;\n",
       "    }\n",
       "\n",
       "    .dataframe thead th {\n",
       "        text-align: right;\n",
       "    }\n",
       "</style>\n",
       "<table border=\"1\" class=\"dataframe\">\n",
       "  <thead>\n",
       "    <tr style=\"text-align: right;\">\n",
       "      <th></th>\n",
       "      <th>t5</th>\n",
       "      <th>t4</th>\n",
       "      <th>t3</th>\n",
       "      <th>t2</th>\n",
       "      <th>t1</th>\n",
       "      <th>t</th>\n",
       "    </tr>\n",
       "    <tr>\n",
       "      <th>Date</th>\n",
       "      <th></th>\n",
       "      <th></th>\n",
       "      <th></th>\n",
       "      <th></th>\n",
       "      <th></th>\n",
       "      <th></th>\n",
       "    </tr>\n",
       "  </thead>\n",
       "  <tbody>\n",
       "    <tr>\n",
       "      <th>2019-01-01</th>\n",
       "      <td>NaN</td>\n",
       "      <td>NaN</td>\n",
       "      <td>NaN</td>\n",
       "      <td>NaN</td>\n",
       "      <td>NaN</td>\n",
       "      <td>33</td>\n",
       "    </tr>\n",
       "    <tr>\n",
       "      <th>2019-01-02</th>\n",
       "      <td>NaN</td>\n",
       "      <td>NaN</td>\n",
       "      <td>NaN</td>\n",
       "      <td>NaN</td>\n",
       "      <td>33.0</td>\n",
       "      <td>1923</td>\n",
       "    </tr>\n",
       "    <tr>\n",
       "      <th>2019-01-03</th>\n",
       "      <td>NaN</td>\n",
       "      <td>NaN</td>\n",
       "      <td>NaN</td>\n",
       "      <td>33.0</td>\n",
       "      <td>1923.0</td>\n",
       "      <td>1408</td>\n",
       "    </tr>\n",
       "    <tr>\n",
       "      <th>2019-01-04</th>\n",
       "      <td>NaN</td>\n",
       "      <td>NaN</td>\n",
       "      <td>33.0</td>\n",
       "      <td>1923.0</td>\n",
       "      <td>1408.0</td>\n",
       "      <td>3220</td>\n",
       "    </tr>\n",
       "    <tr>\n",
       "      <th>2019-01-05</th>\n",
       "      <td>NaN</td>\n",
       "      <td>33.0</td>\n",
       "      <td>1923.0</td>\n",
       "      <td>1408.0</td>\n",
       "      <td>3220.0</td>\n",
       "      <td>23</td>\n",
       "    </tr>\n",
       "  </tbody>\n",
       "</table>\n",
       "</div>"
      ],
      "text/plain": [
       "            t5    t4      t3      t2      t1     t\n",
       "Date                                              \n",
       "2019-01-01 NaN   NaN     NaN     NaN     NaN    33\n",
       "2019-01-02 NaN   NaN     NaN     NaN    33.0  1923\n",
       "2019-01-03 NaN   NaN     NaN    33.0  1923.0  1408\n",
       "2019-01-04 NaN   NaN    33.0  1923.0  1408.0  3220\n",
       "2019-01-05 NaN  33.0  1923.0  1408.0  3220.0    23"
      ]
     },
     "execution_count": 8,
     "metadata": {},
     "output_type": "execute_result"
    }
   ],
   "source": [
    "list = ['t5','t4','t3','t2','t1','total']\n",
    "df_envios = df_envios[list]\n",
    "df_envios['t'] = df_envios['total']\n",
    "df_envios.drop('total', axis='columns', inplace=True)\n",
    "df_envios.index = df_envios.index.rename('Date')\n",
    "df_envios.head()"
   ]
  },
  {
   "cell_type": "code",
   "execution_count": 9,
   "metadata": {
    "colab": {
     "base_uri": "https://localhost:8080/",
     "height": 243
    },
    "colab_type": "code",
    "id": "rKYgCgvcebUM",
    "outputId": "8d11db02-ce47-432f-a9f6-dd8b06c79dd3"
   },
   "outputs": [
    {
     "name": "stdout",
     "output_type": "stream",
     "text": [
      "Shape of data (575, 1)\n"
     ]
    },
    {
     "data": {
      "text/html": [
       "<div>\n",
       "<style scoped>\n",
       "    .dataframe tbody tr th:only-of-type {\n",
       "        vertical-align: middle;\n",
       "    }\n",
       "\n",
       "    .dataframe tbody tr th {\n",
       "        vertical-align: top;\n",
       "    }\n",
       "\n",
       "    .dataframe thead th {\n",
       "        text-align: right;\n",
       "    }\n",
       "</style>\n",
       "<table border=\"1\" class=\"dataframe\">\n",
       "  <thead>\n",
       "    <tr style=\"text-align: right;\">\n",
       "      <th></th>\n",
       "      <th>dateCreacion</th>\n",
       "    </tr>\n",
       "    <tr>\n",
       "      <th>Date</th>\n",
       "      <th></th>\n",
       "    </tr>\n",
       "  </thead>\n",
       "  <tbody>\n",
       "    <tr>\n",
       "      <th>2019-01-02</th>\n",
       "      <td>281</td>\n",
       "    </tr>\n",
       "    <tr>\n",
       "      <th>2019-01-03</th>\n",
       "      <td>283</td>\n",
       "    </tr>\n",
       "    <tr>\n",
       "      <th>2019-01-04</th>\n",
       "      <td>351</td>\n",
       "    </tr>\n",
       "    <tr>\n",
       "      <th>2019-01-07</th>\n",
       "      <td>173</td>\n",
       "    </tr>\n",
       "    <tr>\n",
       "      <th>2019-01-08</th>\n",
       "      <td>174</td>\n",
       "    </tr>\n",
       "  </tbody>\n",
       "</table>\n",
       "</div>"
      ],
      "text/plain": [
       "            dateCreacion\n",
       "Date                    \n",
       "2019-01-02           281\n",
       "2019-01-03           283\n",
       "2019-01-04           351\n",
       "2019-01-07           173\n",
       "2019-01-08           174"
      ]
     },
     "execution_count": 9,
     "metadata": {},
     "output_type": "execute_result"
    }
   ],
   "source": [
    "df_calls = pd.read_pickle('data/df_Call')\n",
    "print('Shape of data',df_calls.shape)\n",
    "df_calls.head()"
   ]
  },
  {
   "cell_type": "code",
   "execution_count": 10,
   "metadata": {},
   "outputs": [
    {
     "data": {
      "text/html": [
       "<div>\n",
       "<style scoped>\n",
       "    .dataframe tbody tr th:only-of-type {\n",
       "        vertical-align: middle;\n",
       "    }\n",
       "\n",
       "    .dataframe tbody tr th {\n",
       "        vertical-align: top;\n",
       "    }\n",
       "\n",
       "    .dataframe thead th {\n",
       "        text-align: right;\n",
       "    }\n",
       "</style>\n",
       "<table border=\"1\" class=\"dataframe\">\n",
       "  <thead>\n",
       "    <tr style=\"text-align: right;\">\n",
       "      <th></th>\n",
       "      <th>dateCreacion</th>\n",
       "    </tr>\n",
       "    <tr>\n",
       "      <th>Date</th>\n",
       "      <th></th>\n",
       "    </tr>\n",
       "  </thead>\n",
       "  <tbody>\n",
       "    <tr>\n",
       "      <th>2021-04-15</th>\n",
       "      <td>116</td>\n",
       "    </tr>\n",
       "    <tr>\n",
       "      <th>2021-04-16</th>\n",
       "      <td>114</td>\n",
       "    </tr>\n",
       "    <tr>\n",
       "      <th>2021-04-19</th>\n",
       "      <td>114</td>\n",
       "    </tr>\n",
       "    <tr>\n",
       "      <th>2021-04-20</th>\n",
       "      <td>108</td>\n",
       "    </tr>\n",
       "    <tr>\n",
       "      <th>2021-04-21</th>\n",
       "      <td>53</td>\n",
       "    </tr>\n",
       "  </tbody>\n",
       "</table>\n",
       "</div>"
      ],
      "text/plain": [
       "            dateCreacion\n",
       "Date                    \n",
       "2021-04-15           116\n",
       "2021-04-16           114\n",
       "2021-04-19           114\n",
       "2021-04-20           108\n",
       "2021-04-21            53"
      ]
     },
     "execution_count": 10,
     "metadata": {},
     "output_type": "execute_result"
    }
   ],
   "source": [
    "df_calls.tail()"
   ]
  },
  {
   "cell_type": "code",
   "execution_count": 11,
   "metadata": {},
   "outputs": [
    {
     "data": {
      "text/html": [
       "<div>\n",
       "<style scoped>\n",
       "    .dataframe tbody tr th:only-of-type {\n",
       "        vertical-align: middle;\n",
       "    }\n",
       "\n",
       "    .dataframe tbody tr th {\n",
       "        vertical-align: top;\n",
       "    }\n",
       "\n",
       "    .dataframe thead th {\n",
       "        text-align: right;\n",
       "    }\n",
       "</style>\n",
       "<table border=\"1\" class=\"dataframe\">\n",
       "  <thead>\n",
       "    <tr style=\"text-align: right;\">\n",
       "      <th></th>\n",
       "      <th>Date</th>\n",
       "      <th>dateCreacion</th>\n",
       "    </tr>\n",
       "  </thead>\n",
       "  <tbody>\n",
       "    <tr>\n",
       "      <th>0</th>\n",
       "      <td>2019-01-02</td>\n",
       "      <td>281</td>\n",
       "    </tr>\n",
       "    <tr>\n",
       "      <th>1</th>\n",
       "      <td>2019-01-03</td>\n",
       "      <td>283</td>\n",
       "    </tr>\n",
       "    <tr>\n",
       "      <th>2</th>\n",
       "      <td>2019-01-04</td>\n",
       "      <td>351</td>\n",
       "    </tr>\n",
       "    <tr>\n",
       "      <th>3</th>\n",
       "      <td>2019-01-07</td>\n",
       "      <td>173</td>\n",
       "    </tr>\n",
       "    <tr>\n",
       "      <th>4</th>\n",
       "      <td>2019-01-08</td>\n",
       "      <td>174</td>\n",
       "    </tr>\n",
       "  </tbody>\n",
       "</table>\n",
       "</div>"
      ],
      "text/plain": [
       "         Date  dateCreacion\n",
       "0  2019-01-02           281\n",
       "1  2019-01-03           283\n",
       "2  2019-01-04           351\n",
       "3  2019-01-07           173\n",
       "4  2019-01-08           174"
      ]
     },
     "execution_count": 11,
     "metadata": {},
     "output_type": "execute_result"
    }
   ],
   "source": [
    "df_calls.reset_index(inplace=True)\n",
    "df_calls.head()"
   ]
  },
  {
   "cell_type": "code",
   "execution_count": 12,
   "metadata": {},
   "outputs": [],
   "source": [
    "df_calls = df_calls.set_index('Date').join(df_envios, how='left')"
   ]
  },
  {
   "cell_type": "code",
   "execution_count": 13,
   "metadata": {},
   "outputs": [
    {
     "data": {
      "text/html": [
       "<div>\n",
       "<style scoped>\n",
       "    .dataframe tbody tr th:only-of-type {\n",
       "        vertical-align: middle;\n",
       "    }\n",
       "\n",
       "    .dataframe tbody tr th {\n",
       "        vertical-align: top;\n",
       "    }\n",
       "\n",
       "    .dataframe thead th {\n",
       "        text-align: right;\n",
       "    }\n",
       "</style>\n",
       "<table border=\"1\" class=\"dataframe\">\n",
       "  <thead>\n",
       "    <tr style=\"text-align: right;\">\n",
       "      <th></th>\n",
       "      <th>Date</th>\n",
       "      <th>dateCreacion</th>\n",
       "      <th>t5</th>\n",
       "      <th>t4</th>\n",
       "      <th>t3</th>\n",
       "      <th>t2</th>\n",
       "      <th>t1</th>\n",
       "      <th>t</th>\n",
       "    </tr>\n",
       "  </thead>\n",
       "  <tbody>\n",
       "    <tr>\n",
       "      <th>0</th>\n",
       "      <td>2019-01-02</td>\n",
       "      <td>281</td>\n",
       "      <td>NaN</td>\n",
       "      <td>NaN</td>\n",
       "      <td>NaN</td>\n",
       "      <td>NaN</td>\n",
       "      <td>33.0</td>\n",
       "      <td>1923.0</td>\n",
       "    </tr>\n",
       "    <tr>\n",
       "      <th>1</th>\n",
       "      <td>2019-01-03</td>\n",
       "      <td>283</td>\n",
       "      <td>NaN</td>\n",
       "      <td>NaN</td>\n",
       "      <td>NaN</td>\n",
       "      <td>33.0</td>\n",
       "      <td>1923.0</td>\n",
       "      <td>1408.0</td>\n",
       "    </tr>\n",
       "    <tr>\n",
       "      <th>2</th>\n",
       "      <td>2019-01-04</td>\n",
       "      <td>351</td>\n",
       "      <td>NaN</td>\n",
       "      <td>NaN</td>\n",
       "      <td>33.0</td>\n",
       "      <td>1923.0</td>\n",
       "      <td>1408.0</td>\n",
       "      <td>3220.0</td>\n",
       "    </tr>\n",
       "    <tr>\n",
       "      <th>3</th>\n",
       "      <td>2019-01-07</td>\n",
       "      <td>173</td>\n",
       "      <td>1923.0</td>\n",
       "      <td>1408.0</td>\n",
       "      <td>3220.0</td>\n",
       "      <td>23.0</td>\n",
       "      <td>248.0</td>\n",
       "      <td>4595.0</td>\n",
       "    </tr>\n",
       "    <tr>\n",
       "      <th>4</th>\n",
       "      <td>2019-01-08</td>\n",
       "      <td>174</td>\n",
       "      <td>1408.0</td>\n",
       "      <td>3220.0</td>\n",
       "      <td>23.0</td>\n",
       "      <td>248.0</td>\n",
       "      <td>4595.0</td>\n",
       "      <td>2924.0</td>\n",
       "    </tr>\n",
       "  </tbody>\n",
       "</table>\n",
       "</div>"
      ],
      "text/plain": [
       "         Date  dateCreacion      t5      t4      t3      t2      t1       t\n",
       "0  2019-01-02           281     NaN     NaN     NaN     NaN    33.0  1923.0\n",
       "1  2019-01-03           283     NaN     NaN     NaN    33.0  1923.0  1408.0\n",
       "2  2019-01-04           351     NaN     NaN    33.0  1923.0  1408.0  3220.0\n",
       "3  2019-01-07           173  1923.0  1408.0  3220.0    23.0   248.0  4595.0\n",
       "4  2019-01-08           174  1408.0  3220.0    23.0   248.0  4595.0  2924.0"
      ]
     },
     "execution_count": 13,
     "metadata": {},
     "output_type": "execute_result"
    }
   ],
   "source": [
    "df_calls.reset_index(inplace=True)\n",
    "df_calls.head()"
   ]
  },
  {
   "cell_type": "code",
   "execution_count": 14,
   "metadata": {},
   "outputs": [],
   "source": [
    "begin_date = '2019-01-02'\n",
    "end_date = '2021-04-20'\n",
    "\n",
    "#df = pd.DataFrame({'date':pd.date_range(begin_date, periods=840)})\n",
    "df = pd.DataFrame({'date':pd.date_range(begin_date,end_date)})"
   ]
  },
  {
   "cell_type": "code",
   "execution_count": 15,
   "metadata": {},
   "outputs": [],
   "source": [
    "df['Date'] = [str(x.date()) for x in df['date']]"
   ]
  },
  {
   "cell_type": "code",
   "execution_count": 16,
   "metadata": {},
   "outputs": [],
   "source": [
    "df = df.set_index('Date').join(df_calls.set_index('Date'))#[['dateCreacion']]\n",
    "#df = df_calls"
   ]
  },
  {
   "cell_type": "code",
   "execution_count": 17,
   "metadata": {},
   "outputs": [],
   "source": [
    "#df.fillna(0, inplace=True)"
   ]
  },
  {
   "cell_type": "code",
   "execution_count": 18,
   "metadata": {},
   "outputs": [],
   "source": [
    "df.reset_index(inplace=True)"
   ]
  },
  {
   "cell_type": "code",
   "execution_count": 19,
   "metadata": {},
   "outputs": [
    {
     "data": {
      "text/html": [
       "<div>\n",
       "<style scoped>\n",
       "    .dataframe tbody tr th:only-of-type {\n",
       "        vertical-align: middle;\n",
       "    }\n",
       "\n",
       "    .dataframe tbody tr th {\n",
       "        vertical-align: top;\n",
       "    }\n",
       "\n",
       "    .dataframe thead th {\n",
       "        text-align: right;\n",
       "    }\n",
       "</style>\n",
       "<table border=\"1\" class=\"dataframe\">\n",
       "  <thead>\n",
       "    <tr style=\"text-align: right;\">\n",
       "      <th></th>\n",
       "      <th>Date</th>\n",
       "      <th>dateCreacion</th>\n",
       "      <th>t5</th>\n",
       "      <th>t4</th>\n",
       "      <th>t3</th>\n",
       "      <th>t2</th>\n",
       "      <th>t1</th>\n",
       "      <th>t</th>\n",
       "    </tr>\n",
       "  </thead>\n",
       "  <tbody>\n",
       "    <tr>\n",
       "      <th>0</th>\n",
       "      <td>2019-01-02</td>\n",
       "      <td>281.0</td>\n",
       "      <td>NaN</td>\n",
       "      <td>NaN</td>\n",
       "      <td>NaN</td>\n",
       "      <td>NaN</td>\n",
       "      <td>33.0</td>\n",
       "      <td>1923.0</td>\n",
       "    </tr>\n",
       "    <tr>\n",
       "      <th>1</th>\n",
       "      <td>2019-01-03</td>\n",
       "      <td>283.0</td>\n",
       "      <td>NaN</td>\n",
       "      <td>NaN</td>\n",
       "      <td>NaN</td>\n",
       "      <td>33.0</td>\n",
       "      <td>1923.0</td>\n",
       "      <td>1408.0</td>\n",
       "    </tr>\n",
       "    <tr>\n",
       "      <th>2</th>\n",
       "      <td>2019-01-04</td>\n",
       "      <td>351.0</td>\n",
       "      <td>NaN</td>\n",
       "      <td>NaN</td>\n",
       "      <td>33.0</td>\n",
       "      <td>1923.0</td>\n",
       "      <td>1408.0</td>\n",
       "      <td>3220.0</td>\n",
       "    </tr>\n",
       "    <tr>\n",
       "      <th>3</th>\n",
       "      <td>2019-01-05</td>\n",
       "      <td>NaN</td>\n",
       "      <td>NaN</td>\n",
       "      <td>NaN</td>\n",
       "      <td>NaN</td>\n",
       "      <td>NaN</td>\n",
       "      <td>NaN</td>\n",
       "      <td>NaN</td>\n",
       "    </tr>\n",
       "    <tr>\n",
       "      <th>4</th>\n",
       "      <td>2019-01-06</td>\n",
       "      <td>NaN</td>\n",
       "      <td>NaN</td>\n",
       "      <td>NaN</td>\n",
       "      <td>NaN</td>\n",
       "      <td>NaN</td>\n",
       "      <td>NaN</td>\n",
       "      <td>NaN</td>\n",
       "    </tr>\n",
       "    <tr>\n",
       "      <th>5</th>\n",
       "      <td>2019-01-07</td>\n",
       "      <td>173.0</td>\n",
       "      <td>1923.0</td>\n",
       "      <td>1408.0</td>\n",
       "      <td>3220.0</td>\n",
       "      <td>23.0</td>\n",
       "      <td>248.0</td>\n",
       "      <td>4595.0</td>\n",
       "    </tr>\n",
       "    <tr>\n",
       "      <th>6</th>\n",
       "      <td>2019-01-08</td>\n",
       "      <td>174.0</td>\n",
       "      <td>1408.0</td>\n",
       "      <td>3220.0</td>\n",
       "      <td>23.0</td>\n",
       "      <td>248.0</td>\n",
       "      <td>4595.0</td>\n",
       "      <td>2924.0</td>\n",
       "    </tr>\n",
       "    <tr>\n",
       "      <th>7</th>\n",
       "      <td>2019-01-09</td>\n",
       "      <td>227.0</td>\n",
       "      <td>3220.0</td>\n",
       "      <td>23.0</td>\n",
       "      <td>248.0</td>\n",
       "      <td>4595.0</td>\n",
       "      <td>2924.0</td>\n",
       "      <td>289.0</td>\n",
       "    </tr>\n",
       "    <tr>\n",
       "      <th>8</th>\n",
       "      <td>2019-01-10</td>\n",
       "      <td>236.0</td>\n",
       "      <td>23.0</td>\n",
       "      <td>248.0</td>\n",
       "      <td>4595.0</td>\n",
       "      <td>2924.0</td>\n",
       "      <td>289.0</td>\n",
       "      <td>2461.0</td>\n",
       "    </tr>\n",
       "    <tr>\n",
       "      <th>9</th>\n",
       "      <td>2019-01-11</td>\n",
       "      <td>270.0</td>\n",
       "      <td>248.0</td>\n",
       "      <td>4595.0</td>\n",
       "      <td>2924.0</td>\n",
       "      <td>289.0</td>\n",
       "      <td>2461.0</td>\n",
       "      <td>23.0</td>\n",
       "    </tr>\n",
       "  </tbody>\n",
       "</table>\n",
       "</div>"
      ],
      "text/plain": [
       "         Date  dateCreacion      t5      t4      t3      t2      t1       t\n",
       "0  2019-01-02         281.0     NaN     NaN     NaN     NaN    33.0  1923.0\n",
       "1  2019-01-03         283.0     NaN     NaN     NaN    33.0  1923.0  1408.0\n",
       "2  2019-01-04         351.0     NaN     NaN    33.0  1923.0  1408.0  3220.0\n",
       "3  2019-01-05           NaN     NaN     NaN     NaN     NaN     NaN     NaN\n",
       "4  2019-01-06           NaN     NaN     NaN     NaN     NaN     NaN     NaN\n",
       "5  2019-01-07         173.0  1923.0  1408.0  3220.0    23.0   248.0  4595.0\n",
       "6  2019-01-08         174.0  1408.0  3220.0    23.0   248.0  4595.0  2924.0\n",
       "7  2019-01-09         227.0  3220.0    23.0   248.0  4595.0  2924.0   289.0\n",
       "8  2019-01-10         236.0    23.0   248.0  4595.0  2924.0   289.0  2461.0\n",
       "9  2019-01-11         270.0   248.0  4595.0  2924.0   289.0  2461.0    23.0"
      ]
     },
     "execution_count": 19,
     "metadata": {},
     "output_type": "execute_result"
    }
   ],
   "source": [
    "df = df.drop('date', axis='columns')\n",
    "##########df = df.iloc[5:]\n",
    "df.head(10)"
   ]
  },
  {
   "cell_type": "code",
   "execution_count": 20,
   "metadata": {},
   "outputs": [],
   "source": [
    "df.fillna(0, inplace=True)"
   ]
  },
  {
   "cell_type": "code",
   "execution_count": 21,
   "metadata": {},
   "outputs": [
    {
     "data": {
      "text/html": [
       "<div>\n",
       "<style scoped>\n",
       "    .dataframe tbody tr th:only-of-type {\n",
       "        vertical-align: middle;\n",
       "    }\n",
       "\n",
       "    .dataframe tbody tr th {\n",
       "        vertical-align: top;\n",
       "    }\n",
       "\n",
       "    .dataframe thead th {\n",
       "        text-align: right;\n",
       "    }\n",
       "</style>\n",
       "<table border=\"1\" class=\"dataframe\">\n",
       "  <thead>\n",
       "    <tr style=\"text-align: right;\">\n",
       "      <th></th>\n",
       "      <th>Date</th>\n",
       "      <th>t5</th>\n",
       "      <th>t4</th>\n",
       "      <th>t3</th>\n",
       "      <th>t2</th>\n",
       "      <th>t1</th>\n",
       "      <th>t</th>\n",
       "      <th>dateCreacion</th>\n",
       "    </tr>\n",
       "  </thead>\n",
       "  <tbody>\n",
       "    <tr>\n",
       "      <th>0</th>\n",
       "      <td>2019-01-02</td>\n",
       "      <td>0.0</td>\n",
       "      <td>0.0</td>\n",
       "      <td>0.0</td>\n",
       "      <td>0.0</td>\n",
       "      <td>33.0</td>\n",
       "      <td>1923.0</td>\n",
       "      <td>281.0</td>\n",
       "    </tr>\n",
       "    <tr>\n",
       "      <th>1</th>\n",
       "      <td>2019-01-03</td>\n",
       "      <td>0.0</td>\n",
       "      <td>0.0</td>\n",
       "      <td>0.0</td>\n",
       "      <td>33.0</td>\n",
       "      <td>1923.0</td>\n",
       "      <td>1408.0</td>\n",
       "      <td>283.0</td>\n",
       "    </tr>\n",
       "    <tr>\n",
       "      <th>2</th>\n",
       "      <td>2019-01-04</td>\n",
       "      <td>0.0</td>\n",
       "      <td>0.0</td>\n",
       "      <td>33.0</td>\n",
       "      <td>1923.0</td>\n",
       "      <td>1408.0</td>\n",
       "      <td>3220.0</td>\n",
       "      <td>351.0</td>\n",
       "    </tr>\n",
       "    <tr>\n",
       "      <th>3</th>\n",
       "      <td>2019-01-05</td>\n",
       "      <td>0.0</td>\n",
       "      <td>0.0</td>\n",
       "      <td>0.0</td>\n",
       "      <td>0.0</td>\n",
       "      <td>0.0</td>\n",
       "      <td>0.0</td>\n",
       "      <td>0.0</td>\n",
       "    </tr>\n",
       "    <tr>\n",
       "      <th>4</th>\n",
       "      <td>2019-01-06</td>\n",
       "      <td>0.0</td>\n",
       "      <td>0.0</td>\n",
       "      <td>0.0</td>\n",
       "      <td>0.0</td>\n",
       "      <td>0.0</td>\n",
       "      <td>0.0</td>\n",
       "      <td>0.0</td>\n",
       "    </tr>\n",
       "    <tr>\n",
       "      <th>5</th>\n",
       "      <td>2019-01-07</td>\n",
       "      <td>1923.0</td>\n",
       "      <td>1408.0</td>\n",
       "      <td>3220.0</td>\n",
       "      <td>23.0</td>\n",
       "      <td>248.0</td>\n",
       "      <td>4595.0</td>\n",
       "      <td>173.0</td>\n",
       "    </tr>\n",
       "    <tr>\n",
       "      <th>6</th>\n",
       "      <td>2019-01-08</td>\n",
       "      <td>1408.0</td>\n",
       "      <td>3220.0</td>\n",
       "      <td>23.0</td>\n",
       "      <td>248.0</td>\n",
       "      <td>4595.0</td>\n",
       "      <td>2924.0</td>\n",
       "      <td>174.0</td>\n",
       "    </tr>\n",
       "    <tr>\n",
       "      <th>7</th>\n",
       "      <td>2019-01-09</td>\n",
       "      <td>3220.0</td>\n",
       "      <td>23.0</td>\n",
       "      <td>248.0</td>\n",
       "      <td>4595.0</td>\n",
       "      <td>2924.0</td>\n",
       "      <td>289.0</td>\n",
       "      <td>227.0</td>\n",
       "    </tr>\n",
       "    <tr>\n",
       "      <th>8</th>\n",
       "      <td>2019-01-10</td>\n",
       "      <td>23.0</td>\n",
       "      <td>248.0</td>\n",
       "      <td>4595.0</td>\n",
       "      <td>2924.0</td>\n",
       "      <td>289.0</td>\n",
       "      <td>2461.0</td>\n",
       "      <td>236.0</td>\n",
       "    </tr>\n",
       "    <tr>\n",
       "      <th>9</th>\n",
       "      <td>2019-01-11</td>\n",
       "      <td>248.0</td>\n",
       "      <td>4595.0</td>\n",
       "      <td>2924.0</td>\n",
       "      <td>289.0</td>\n",
       "      <td>2461.0</td>\n",
       "      <td>23.0</td>\n",
       "      <td>270.0</td>\n",
       "    </tr>\n",
       "  </tbody>\n",
       "</table>\n",
       "</div>"
      ],
      "text/plain": [
       "         Date      t5      t4      t3      t2      t1       t  dateCreacion\n",
       "0  2019-01-02     0.0     0.0     0.0     0.0    33.0  1923.0         281.0\n",
       "1  2019-01-03     0.0     0.0     0.0    33.0  1923.0  1408.0         283.0\n",
       "2  2019-01-04     0.0     0.0    33.0  1923.0  1408.0  3220.0         351.0\n",
       "3  2019-01-05     0.0     0.0     0.0     0.0     0.0     0.0           0.0\n",
       "4  2019-01-06     0.0     0.0     0.0     0.0     0.0     0.0           0.0\n",
       "5  2019-01-07  1923.0  1408.0  3220.0    23.0   248.0  4595.0         173.0\n",
       "6  2019-01-08  1408.0  3220.0    23.0   248.0  4595.0  2924.0         174.0\n",
       "7  2019-01-09  3220.0    23.0   248.0  4595.0  2924.0   289.0         227.0\n",
       "8  2019-01-10    23.0   248.0  4595.0  2924.0   289.0  2461.0         236.0\n",
       "9  2019-01-11   248.0  4595.0  2924.0   289.0  2461.0    23.0         270.0"
      ]
     },
     "execution_count": 21,
     "metadata": {},
     "output_type": "execute_result"
    }
   ],
   "source": [
    "list = ['Date','t5','t4','t3','t2','t1','t','dateCreacion']\n",
    "df = df[list]\n",
    "df.head(10)"
   ]
  },
  {
   "cell_type": "markdown",
   "metadata": {
    "colab_type": "text",
    "id": "kVswd7W7vyi4"
   },
   "source": [
    "# Plot Your Data"
   ]
  },
  {
   "cell_type": "code",
   "execution_count": 22,
   "metadata": {
    "colab": {
     "base_uri": "https://localhost:8080/",
     "height": 334
    },
    "colab_type": "code",
    "id": "KppUuT8-ejqD",
    "outputId": "aabcf955-c76b-436f-8f4d-b1f1f35a975c",
    "tags": []
   },
   "outputs": [
    {
     "data": {
      "text/plain": [
       "<AxesSubplot:>"
      ]
     },
     "execution_count": 22,
     "metadata": {},
     "output_type": "execute_result"
    },
    {
     "data": {
      "image/png": "[encoded data removed]",
      "text/plain": [
       "<Figure size 864x360 with 1 Axes>"
      ]
     },
     "metadata": {
      "needs_background": "light"
     },
     "output_type": "display_data"
    }
   ],
   "source": [
    "df['dateCreacion'].plot(figsize=(12,5))"
   ]
  },
  {
   "cell_type": "markdown",
   "metadata": {
    "colab_type": "text",
    "id": "2YK8qw2Gv1bT"
   },
   "source": [
    "# Check For Stationarity"
   ]
  },
  {
   "cell_type": "code",
   "execution_count": 23,
   "metadata": {
    "colab": {},
    "colab_type": "code",
    "id": "8TqnvNbBexKT"
   },
   "outputs": [],
   "source": [
    "from statsmodels.tsa.stattools import adfuller\n",
    "\n",
    "def adf_test(dataset):\n",
    "  dftest = adfuller(dataset, autolag = 'AIC')\n",
    "  print(\"1. ADF : \",dftest[0])\n",
    "  print(\"2. P-Value : \", dftest[1])\n",
    "  print(\"3. Num Of Lags : \", dftest[2])\n",
    "  print(\"4. Num Of Observations Used For ADF Regression and Critical Values Calculation :\", dftest[3])\n",
    "  print(\"5. Critical Values :\")\n",
    "  for key, val in dftest[4].items():\n",
    "      print(\"\\t\",key, \": \", val)"
   ]
  },
  {
   "cell_type": "code",
   "execution_count": 24,
   "metadata": {
    "colab": {
     "base_uri": "https://localhost:8080/",
     "height": 150
    },
    "colab_type": "code",
    "id": "muTlXcZYe3Jk",
    "outputId": "80456da0-cc9f-46a0-dbbc-875d9f8b5c51"
   },
   "outputs": [
    {
     "name": "stdout",
     "output_type": "stream",
     "text": [
      "1. ADF :  -2.897851892995071\n",
      "2. P-Value :  0.04559836392875885\n",
      "3. Num Of Lags :  20\n",
      "4. Num Of Observations Used For ADF Regression and Critical Values Calculation : 819\n",
      "5. Critical Values :\n",
      "\t 1% :  -3.4383596631852327\n",
      "\t 5% :  -2.865075444948184\n",
      "\t 10% :  -2.568652576059133\n"
     ]
    }
   ],
   "source": [
    "adf_test(df['dateCreacion'])"
   ]
  },
  {
   "cell_type": "markdown",
   "metadata": {
    "colab_type": "text",
    "id": "XE7o8ZDEv6TV"
   },
   "source": [
    "# Figure Out Order for ARIMA Model"
   ]
  },
  {
   "cell_type": "code",
   "execution_count": 27,
   "metadata": {
    "colab": {},
    "colab_type": "code",
    "id": "0Y1yq4A5e6j8"
   },
   "outputs": [],
   "source": [
    "from pmdarima import auto_arima\n",
    "# Ignore harmless warnings\n",
    "import warnings\n",
    "warnings.filterwarnings(\"ignore\")"
   ]
  },
  {
   "cell_type": "code",
   "execution_count": 28,
   "metadata": {
    "colab": {
     "base_uri": "https://localhost:8080/",
     "height": 497
    },
    "colab_type": "code",
    "id": "6ikhqu-mfHCA",
    "outputId": "12c50b57-0a9c-4c14-c4a3-3061d4ebd954"
   },
   "outputs": [
    {
     "name": "stdout",
     "output_type": "stream",
     "text": [
      "Performing stepwise search to minimize aic\n",
      " ARIMA(2,1,2)(0,0,0)[0] intercept   : AIC=10125.692, Time=0.92 sec\n",
      " ARIMA(0,1,0)(0,0,0)[0] intercept   : AIC=10616.241, Time=0.08 sec\n",
      " ARIMA(1,1,0)(0,0,0)[0] intercept   : AIC=10609.682, Time=0.04 sec\n",
      " ARIMA(0,1,1)(0,0,0)[0] intercept   : AIC=10407.916, Time=0.18 sec\n",
      " ARIMA(0,1,0)(0,0,0)[0]             : AIC=10614.244, Time=0.01 sec\n",
      " ARIMA(1,1,2)(0,0,0)[0] intercept   : AIC=10231.938, Time=0.38 sec\n",
      " ARIMA(2,1,1)(0,0,0)[0] intercept   : AIC=10202.408, Time=0.44 sec\n",
      " ARIMA(3,1,2)(0,0,0)[0] intercept   : AIC=10199.248, Time=0.90 sec\n",
      " ARIMA(2,1,3)(0,0,0)[0] intercept   : AIC=10149.512, Time=1.23 sec\n",
      " ARIMA(1,1,1)(0,0,0)[0] intercept   : AIC=10317.526, Time=0.57 sec\n",
      " ARIMA(1,1,3)(0,0,0)[0] intercept   : AIC=10182.808, Time=0.71 sec\n",
      " ARIMA(3,1,1)(0,0,0)[0] intercept   : AIC=10202.946, Time=0.64 sec\n",
      " ARIMA(3,1,3)(0,0,0)[0] intercept   : AIC=10096.676, Time=1.36 sec\n",
      " ARIMA(4,1,3)(0,0,0)[0] intercept   : AIC=inf, Time=1.59 sec\n",
      " ARIMA(3,1,4)(0,0,0)[0] intercept   : AIC=10077.873, Time=1.65 sec\n",
      " ARIMA(2,1,4)(0,0,0)[0] intercept   : AIC=10170.923, Time=1.51 sec\n",
      " ARIMA(4,1,4)(0,0,0)[0] intercept   : AIC=9851.686, Time=1.80 sec\n",
      " ARIMA(5,1,4)(0,0,0)[0] intercept   : AIC=9692.927, Time=1.80 sec\n",
      " ARIMA(5,1,3)(0,0,0)[0] intercept   : AIC=9709.163, Time=1.73 sec\n",
      " ARIMA(5,1,5)(0,0,0)[0] intercept   : AIC=9637.182, Time=2.27 sec\n",
      " ARIMA(4,1,5)(0,0,0)[0] intercept   : AIC=9753.533, Time=2.24 sec\n",
      " ARIMA(5,1,5)(0,0,0)[0]             : AIC=9633.637, Time=1.53 sec\n",
      " ARIMA(4,1,5)(0,0,0)[0]             : AIC=9753.491, Time=1.33 sec\n",
      " ARIMA(5,1,4)(0,0,0)[0]             : AIC=9690.685, Time=1.08 sec\n",
      " ARIMA(4,1,4)(0,0,0)[0]             : AIC=9843.046, Time=0.98 sec\n",
      "\n",
      "Best model:  ARIMA(5,1,5)(0,0,0)[0]          \n",
      "Total fit time: 26.984 seconds\n"
     ]
    },
    {
     "data": {
      "text/html": [
       "<table class=\"simpletable\">\n",
       "<caption>SARIMAX Results</caption>\n",
       "<tr>\n",
       "  <th>Dep. Variable:</th>           <td>y</td>        <th>  No. Observations:  </th>    <td>840</td>   \n",
       "</tr>\n",
       "<tr>\n",
       "  <th>Model:</th>           <td>SARIMAX(5, 1, 5)</td> <th>  Log Likelihood     </th> <td>-4805.818</td>\n",
       "</tr>\n",
       "<tr>\n",
       "  <th>Date:</th>            <td>Mon, 07 Jun 2021</td> <th>  AIC                </th> <td>9633.637</td> \n",
       "</tr>\n",
       "<tr>\n",
       "  <th>Time:</th>                <td>17:33:43</td>     <th>  BIC                </th> <td>9685.691</td> \n",
       "</tr>\n",
       "<tr>\n",
       "  <th>Sample:</th>                  <td>0</td>        <th>  HQIC               </th> <td>9653.588</td> \n",
       "</tr>\n",
       "<tr>\n",
       "  <th></th>                      <td> - 840</td>      <th>                     </th>     <td> </td>    \n",
       "</tr>\n",
       "<tr>\n",
       "  <th>Covariance Type:</th>        <td>opg</td>       <th>                     </th>     <td> </td>    \n",
       "</tr>\n",
       "</table>\n",
       "<table class=\"simpletable\">\n",
       "<tr>\n",
       "     <td></td>       <th>coef</th>     <th>std err</th>      <th>z</th>      <th>P>|z|</th>  <th>[0.025</th>    <th>0.975]</th>  \n",
       "</tr>\n",
       "<tr>\n",
       "  <th>ar.L1</th>  <td>    0.7894</td> <td>    0.068</td> <td>   11.585</td> <td> 0.000</td> <td>    0.656</td> <td>    0.923</td>\n",
       "</tr>\n",
       "<tr>\n",
       "  <th>ar.L2</th>  <td>   -1.4338</td> <td>    0.053</td> <td>  -27.198</td> <td> 0.000</td> <td>   -1.537</td> <td>   -1.330</td>\n",
       "</tr>\n",
       "<tr>\n",
       "  <th>ar.L3</th>  <td>    0.7905</td> <td>    0.096</td> <td>    8.251</td> <td> 0.000</td> <td>    0.603</td> <td>    0.978</td>\n",
       "</tr>\n",
       "<tr>\n",
       "  <th>ar.L4</th>  <td>   -0.9841</td> <td>    0.054</td> <td>  -18.322</td> <td> 0.000</td> <td>   -1.089</td> <td>   -0.879</td>\n",
       "</tr>\n",
       "<tr>\n",
       "  <th>ar.L5</th>  <td>   -0.0044</td> <td>    0.064</td> <td>   -0.069</td> <td> 0.945</td> <td>   -0.130</td> <td>    0.121</td>\n",
       "</tr>\n",
       "<tr>\n",
       "  <th>ma.L1</th>  <td>   -1.5081</td> <td>    0.059</td> <td>  -25.548</td> <td> 0.000</td> <td>   -1.624</td> <td>   -1.392</td>\n",
       "</tr>\n",
       "<tr>\n",
       "  <th>ma.L2</th>  <td>    1.8423</td> <td>    0.068</td> <td>   27.125</td> <td> 0.000</td> <td>    1.709</td> <td>    1.975</td>\n",
       "</tr>\n",
       "<tr>\n",
       "  <th>ma.L3</th>  <td>   -1.7353</td> <td>    0.074</td> <td>  -23.418</td> <td> 0.000</td> <td>   -1.881</td> <td>   -1.590</td>\n",
       "</tr>\n",
       "<tr>\n",
       "  <th>ma.L4</th>  <td>    1.3893</td> <td>    0.063</td> <td>   21.932</td> <td> 0.000</td> <td>    1.265</td> <td>    1.514</td>\n",
       "</tr>\n",
       "<tr>\n",
       "  <th>ma.L5</th>  <td>   -0.6293</td> <td>    0.047</td> <td>  -13.482</td> <td> 0.000</td> <td>   -0.721</td> <td>   -0.538</td>\n",
       "</tr>\n",
       "<tr>\n",
       "  <th>sigma2</th> <td> 7871.9880</td> <td>  363.529</td> <td>   21.654</td> <td> 0.000</td> <td> 7159.484</td> <td> 8584.492</td>\n",
       "</tr>\n",
       "</table>\n",
       "<table class=\"simpletable\">\n",
       "<tr>\n",
       "  <th>Ljung-Box (L1) (Q):</th>     <td>0.03</td> <th>  Jarque-Bera (JB):  </th> <td>1344.34</td>\n",
       "</tr>\n",
       "<tr>\n",
       "  <th>Prob(Q):</th>                <td>0.87</td> <th>  Prob(JB):          </th>  <td>0.00</td>  \n",
       "</tr>\n",
       "<tr>\n",
       "  <th>Heteroskedasticity (H):</th> <td>0.40</td> <th>  Skew:              </th>  <td>-0.71</td> \n",
       "</tr>\n",
       "<tr>\n",
       "  <th>Prob(H) (two-sided):</th>    <td>0.00</td> <th>  Kurtosis:          </th>  <td>9.04</td>  \n",
       "</tr>\n",
       "</table><br/><br/>Warnings:<br/>[1] Covariance matrix calculated using the outer product of gradients (complex-step)."
      ],
      "text/plain": [
       "<class 'statsmodels.iolib.summary.Summary'>\n",
       "\"\"\"\n",
       "                               SARIMAX Results                                \n",
       "==============================================================================\n",
       "Dep. Variable:                      y   No. Observations:                  840\n",
       "Model:               SARIMAX(5, 1, 5)   Log Likelihood               -4805.818\n",
       "Date:                Mon, 07 Jun 2021   AIC                           9633.637\n",
       "Time:                        17:33:43   BIC                           9685.691\n",
       "Sample:                             0   HQIC                          9653.588\n",
       "                                - 840                                         \n",
       "Covariance Type:                  opg                                         \n",
       "==============================================================================\n",
       "                 coef    std err          z      P>|z|      [0.025      0.975]\n",
       "------------------------------------------------------------------------------\n",
       "ar.L1          0.7894      0.068     11.585      0.000       0.656       0.923\n",
       "ar.L2         -1.4338      0.053    -27.198      0.000      -1.537      -1.330\n",
       "ar.L3          0.7905      0.096      8.251      0.000       0.603       0.978\n",
       "ar.L4         -0.9841      0.054    -18.322      0.000      -1.089      -0.879\n",
       "ar.L5         -0.0044      0.064     -0.069      0.945      -0.130       0.121\n",
       "ma.L1         -1.5081      0.059    -25.548      0.000      -1.624      -1.392\n",
       "ma.L2          1.8423      0.068     27.125      0.000       1.709       1.975\n",
       "ma.L3         -1.7353      0.074    -23.418      0.000      -1.881      -1.590\n",
       "ma.L4          1.3893      0.063     21.932      0.000       1.265       1.514\n",
       "ma.L5         -0.6293      0.047    -13.482      0.000      -0.721      -0.538\n",
       "sigma2      7871.9880    363.529     21.654      0.000    7159.484    8584.492\n",
       "===================================================================================\n",
       "Ljung-Box (L1) (Q):                   0.03   Jarque-Bera (JB):              1344.34\n",
       "Prob(Q):                              0.87   Prob(JB):                         0.00\n",
       "Heteroskedasticity (H):               0.40   Skew:                            -0.71\n",
       "Prob(H) (two-sided):                  0.00   Kurtosis:                         9.04\n",
       "===================================================================================\n",
       "\n",
       "Warnings:\n",
       "[1] Covariance matrix calculated using the outer product of gradients (complex-step).\n",
       "\"\"\""
      ]
     },
     "execution_count": 28,
     "metadata": {},
     "output_type": "execute_result"
    }
   ],
   "source": [
    "stepwise_fit = auto_arima(df['dateCreacion'], trace=True,\n",
    "                          suppress_warnings=True)\n",
    "stepwise_fit.summary()"
   ]
  },
  {
   "cell_type": "code",
   "execution_count": 29,
   "metadata": {
    "colab": {},
    "colab_type": "code",
    "id": "i2OiS6-gfKHs"
   },
   "outputs": [],
   "source": [
    "from statsmodels.tsa.statespace.sarimax import SARIMAX"
   ]
  },
  {
   "cell_type": "markdown",
   "metadata": {
    "colab_type": "text",
    "id": "y-JQDC6yv9_y"
   },
   "source": [
    "# Split Data into Training and Testing"
   ]
  },
  {
   "cell_type": "code",
   "execution_count": 30,
   "metadata": {},
   "outputs": [
    {
     "name": "stdout",
     "output_type": "stream",
     "text": [
      "(840, 8)\n"
     ]
    }
   ],
   "source": [
    "print(df.shape)"
   ]
  },
  {
   "cell_type": "code",
   "execution_count": 31,
   "metadata": {},
   "outputs": [
    {
     "name": "stdout",
     "output_type": "stream",
     "text": [
      "840\n"
     ]
    }
   ],
   "source": [
    "i, m = df.shape\n",
    "\n",
    "to_train = int(i*0.8)\n",
    "to_test = i - to_train\n",
    "\n",
    "print(to_train+to_test)"
   ]
  },
  {
   "cell_type": "code",
   "execution_count": 32,
   "metadata": {
    "colab": {
     "base_uri": "https://localhost:8080/",
     "height": 234
    },
    "colab_type": "code",
    "id": "h-SgGft2fYMF",
    "outputId": "44f0e4aa-b673-4f81-e3cb-a9ee81948ee4"
   },
   "outputs": [
    {
     "name": "stdout",
     "output_type": "stream",
     "text": [
      "(672, 8) (168, 8)\n",
      "Date            2020-11-04\n",
      "t5                  1806.0\n",
      "t4                   239.0\n",
      "t3                   614.0\n",
      "t2                  2321.0\n",
      "t1                  2312.0\n",
      "t                    802.0\n",
      "dateCreacion         122.0\n",
      "Name: 672, dtype: object\n",
      "Date            2021-04-20\n",
      "t5                  2111.0\n",
      "t4                  1868.0\n",
      "t3                   226.0\n",
      "t2                    82.0\n",
      "t1                  2835.0\n",
      "t                   2147.0\n",
      "dateCreacion         108.0\n",
      "Name: 839, dtype: object\n"
     ]
    },
    {
     "data": {
      "text/plain": [
       "(None, None)"
      ]
     },
     "execution_count": 32,
     "metadata": {},
     "output_type": "execute_result"
    }
   ],
   "source": [
    "train = df.iloc[:to_train]\n",
    "test = df.iloc[-to_test:]\n",
    "print(train.shape,test.shape)\n",
    "print(test.iloc[0]), print(test.iloc[-1])"
   ]
  },
  {
   "cell_type": "markdown",
   "metadata": {
    "colab_type": "text",
    "id": "emUTK7M6wCmx"
   },
   "source": [
    "## Train the Model"
   ]
  },
  {
   "cell_type": "code",
   "execution_count": 33,
   "metadata": {},
   "outputs": [],
   "source": [
    "from statsmodels.tsa.statespace.sarimax import SARIMAX"
   ]
  },
  {
   "cell_type": "code",
   "execution_count": 34,
   "metadata": {
    "colab": {
     "base_uri": "https://localhost:8080/",
     "height": 470
    },
    "colab_type": "code",
    "id": "LKr5XHt0fbWT",
    "outputId": "78d6a43a-ed4b-48b3-9bea-20fb185ed8e4"
   },
   "outputs": [
    {
     "data": {
      "text/html": [
       "<table class=\"simpletable\">\n",
       "<caption>SARIMAX Results</caption>\n",
       "<tr>\n",
       "  <th>Dep. Variable:</th>     <td>dateCreacion</td>   <th>  No. Observations:  </th>    <td>672</td>   \n",
       "</tr>\n",
       "<tr>\n",
       "  <th>Model:</th>           <td>SARIMAX(5, 1, 5)</td> <th>  Log Likelihood     </th> <td>-3700.462</td>\n",
       "</tr>\n",
       "<tr>\n",
       "  <th>Date:</th>            <td>Mon, 07 Jun 2021</td> <th>  AIC                </th> <td>7434.923</td> \n",
       "</tr>\n",
       "<tr>\n",
       "  <th>Time:</th>                <td>17:33:46</td>     <th>  BIC                </th> <td>7511.573</td> \n",
       "</tr>\n",
       "<tr>\n",
       "  <th>Sample:</th>                  <td>0</td>        <th>  HQIC               </th> <td>7464.611</td> \n",
       "</tr>\n",
       "<tr>\n",
       "  <th></th>                      <td> - 672</td>      <th>                     </th>     <td> </td>    \n",
       "</tr>\n",
       "<tr>\n",
       "  <th>Covariance Type:</th>        <td>opg</td>       <th>                     </th>     <td> </td>    \n",
       "</tr>\n",
       "</table>\n",
       "<table class=\"simpletable\">\n",
       "<tr>\n",
       "     <td></td>       <th>coef</th>     <th>std err</th>      <th>z</th>      <th>P>|z|</th>  <th>[0.025</th>    <th>0.975]</th>  \n",
       "</tr>\n",
       "<tr>\n",
       "  <th>t5</th>     <td>    0.0143</td> <td>    0.002</td> <td>    6.325</td> <td> 0.000</td> <td>    0.010</td> <td>    0.019</td>\n",
       "</tr>\n",
       "<tr>\n",
       "  <th>t4</th>     <td>    0.0163</td> <td>    0.002</td> <td>    8.097</td> <td> 0.000</td> <td>    0.012</td> <td>    0.020</td>\n",
       "</tr>\n",
       "<tr>\n",
       "  <th>t3</th>     <td>    0.0183</td> <td>    0.002</td> <td>    8.667</td> <td> 0.000</td> <td>    0.014</td> <td>    0.022</td>\n",
       "</tr>\n",
       "<tr>\n",
       "  <th>t2</th>     <td>    0.0193</td> <td>    0.002</td> <td>   10.619</td> <td> 0.000</td> <td>    0.016</td> <td>    0.023</td>\n",
       "</tr>\n",
       "<tr>\n",
       "  <th>t1</th>     <td>    0.0155</td> <td>    0.002</td> <td>    8.686</td> <td> 0.000</td> <td>    0.012</td> <td>    0.019</td>\n",
       "</tr>\n",
       "<tr>\n",
       "  <th>t</th>      <td>    0.0167</td> <td>    0.002</td> <td>    7.701</td> <td> 0.000</td> <td>    0.012</td> <td>    0.021</td>\n",
       "</tr>\n",
       "<tr>\n",
       "  <th>ar.L1</th>  <td>    0.0445</td> <td>    0.150</td> <td>    0.296</td> <td> 0.767</td> <td>   -0.250</td> <td>    0.339</td>\n",
       "</tr>\n",
       "<tr>\n",
       "  <th>ar.L2</th>  <td>   -0.7104</td> <td>    0.135</td> <td>   -5.259</td> <td> 0.000</td> <td>   -0.975</td> <td>   -0.446</td>\n",
       "</tr>\n",
       "<tr>\n",
       "  <th>ar.L3</th>  <td>   -0.2039</td> <td>    0.183</td> <td>   -1.112</td> <td> 0.266</td> <td>   -0.563</td> <td>    0.155</td>\n",
       "</tr>\n",
       "<tr>\n",
       "  <th>ar.L4</th>  <td>   -0.1404</td> <td>    0.134</td> <td>   -1.052</td> <td> 0.293</td> <td>   -0.402</td> <td>    0.121</td>\n",
       "</tr>\n",
       "<tr>\n",
       "  <th>ar.L5</th>  <td>   -0.4763</td> <td>    0.100</td> <td>   -4.778</td> <td> 0.000</td> <td>   -0.672</td> <td>   -0.281</td>\n",
       "</tr>\n",
       "<tr>\n",
       "  <th>ma.L1</th>  <td>   -0.4394</td> <td>    0.154</td> <td>   -2.851</td> <td> 0.004</td> <td>   -0.741</td> <td>   -0.137</td>\n",
       "</tr>\n",
       "<tr>\n",
       "  <th>ma.L2</th>  <td>    0.3967</td> <td>    0.193</td> <td>    2.059</td> <td> 0.039</td> <td>    0.019</td> <td>    0.774</td>\n",
       "</tr>\n",
       "<tr>\n",
       "  <th>ma.L3</th>  <td>   -0.0932</td> <td>    0.189</td> <td>   -0.492</td> <td> 0.623</td> <td>   -0.464</td> <td>    0.278</td>\n",
       "</tr>\n",
       "<tr>\n",
       "  <th>ma.L4</th>  <td>   -0.0979</td> <td>    0.167</td> <td>   -0.585</td> <td> 0.559</td> <td>   -0.426</td> <td>    0.230</td>\n",
       "</tr>\n",
       "<tr>\n",
       "  <th>ma.L5</th>  <td>    0.1921</td> <td>    0.113</td> <td>    1.704</td> <td> 0.088</td> <td>   -0.029</td> <td>    0.413</td>\n",
       "</tr>\n",
       "<tr>\n",
       "  <th>sigma2</th> <td> 3740.2373</td> <td>  162.391</td> <td>   23.032</td> <td> 0.000</td> <td> 3421.956</td> <td> 4058.518</td>\n",
       "</tr>\n",
       "</table>\n",
       "<table class=\"simpletable\">\n",
       "<tr>\n",
       "  <th>Ljung-Box (L1) (Q):</th>     <td>0.93</td> <th>  Jarque-Bera (JB):  </th> <td>177.24</td>\n",
       "</tr>\n",
       "<tr>\n",
       "  <th>Prob(Q):</th>                <td>0.33</td> <th>  Prob(JB):          </th>  <td>0.00</td> \n",
       "</tr>\n",
       "<tr>\n",
       "  <th>Heteroskedasticity (H):</th> <td>0.98</td> <th>  Skew:              </th>  <td>-0.04</td>\n",
       "</tr>\n",
       "<tr>\n",
       "  <th>Prob(H) (two-sided):</th>    <td>0.85</td> <th>  Kurtosis:          </th>  <td>5.52</td> \n",
       "</tr>\n",
       "</table><br/><br/>Warnings:<br/>[1] Covariance matrix calculated using the outer product of gradients (complex-step)."
      ],
      "text/plain": [
       "<class 'statsmodels.iolib.summary.Summary'>\n",
       "\"\"\"\n",
       "                               SARIMAX Results                                \n",
       "==============================================================================\n",
       "Dep. Variable:           dateCreacion   No. Observations:                  672\n",
       "Model:               SARIMAX(5, 1, 5)   Log Likelihood               -3700.462\n",
       "Date:                Mon, 07 Jun 2021   AIC                           7434.923\n",
       "Time:                        17:33:46   BIC                           7511.573\n",
       "Sample:                             0   HQIC                          7464.611\n",
       "                                - 672                                         \n",
       "Covariance Type:                  opg                                         \n",
       "==============================================================================\n",
       "                 coef    std err          z      P>|z|      [0.025      0.975]\n",
       "------------------------------------------------------------------------------\n",
       "t5             0.0143      0.002      6.325      0.000       0.010       0.019\n",
       "t4             0.0163      0.002      8.097      0.000       0.012       0.020\n",
       "t3             0.0183      0.002      8.667      0.000       0.014       0.022\n",
       "t2             0.0193      0.002     10.619      0.000       0.016       0.023\n",
       "t1             0.0155      0.002      8.686      0.000       0.012       0.019\n",
       "t              0.0167      0.002      7.701      0.000       0.012       0.021\n",
       "ar.L1          0.0445      0.150      0.296      0.767      -0.250       0.339\n",
       "ar.L2         -0.7104      0.135     -5.259      0.000      -0.975      -0.446\n",
       "ar.L3         -0.2039      0.183     -1.112      0.266      -0.563       0.155\n",
       "ar.L4         -0.1404      0.134     -1.052      0.293      -0.402       0.121\n",
       "ar.L5         -0.4763      0.100     -4.778      0.000      -0.672      -0.281\n",
       "ma.L1         -0.4394      0.154     -2.851      0.004      -0.741      -0.137\n",
       "ma.L2          0.3967      0.193      2.059      0.039       0.019       0.774\n",
       "ma.L3         -0.0932      0.189     -0.492      0.623      -0.464       0.278\n",
       "ma.L4         -0.0979      0.167     -0.585      0.559      -0.426       0.230\n",
       "ma.L5          0.1921      0.113      1.704      0.088      -0.029       0.413\n",
       "sigma2      3740.2373    162.391     23.032      0.000    3421.956    4058.518\n",
       "===================================================================================\n",
       "Ljung-Box (L1) (Q):                   0.93   Jarque-Bera (JB):               177.24\n",
       "Prob(Q):                              0.33   Prob(JB):                         0.00\n",
       "Heteroskedasticity (H):               0.98   Skew:                            -0.04\n",
       "Prob(H) (two-sided):                  0.85   Kurtosis:                         5.52\n",
       "===================================================================================\n",
       "\n",
       "Warnings:\n",
       "[1] Covariance matrix calculated using the outer product of gradients (complex-step).\n",
       "\"\"\""
      ]
     },
     "execution_count": 34,
     "metadata": {},
     "output_type": "execute_result"
    }
   ],
   "source": [
    "model=SARIMAX(train['dateCreacion'],order=(5,1,5), exog=train[['t5','t4','t3','t2','t1','t']])\n",
    "model=model.fit()\n",
    "model.summary()"
   ]
  },
  {
   "cell_type": "markdown",
   "metadata": {
    "colab_type": "text",
    "id": "QnJXQ4iBwFec"
   },
   "source": [
    "# Make Predictions on Test Set"
   ]
  },
  {
   "cell_type": "code",
   "execution_count": 36,
   "metadata": {
    "colab": {
     "base_uri": "https://localhost:8080/",
     "height": 331
    },
    "colab_type": "code",
    "id": "2ZtJTygKfg5i",
    "outputId": "46053cf4-b267-4cb8-c89d-fbb7f1fc079c"
   },
   "outputs": [
    {
     "data": {
      "text/plain": [
       "<AxesSubplot:>"
      ]
     },
     "execution_count": 36,
     "metadata": {},
     "output_type": "execute_result"
    },
    {
     "data": {
      "image/png": "[encoded data removed]",
      "text/plain": [
       "<Figure size 432x288 with 1 Axes>"
      ]
     },
     "metadata": {
      "needs_background": "light"
     },
     "output_type": "display_data"
    }
   ],
   "source": [
    "start = len(train)\n",
    "end = len(train)+len(test)-1\n",
    "\n",
    "pred = model.predict(start=start,end=end, exog=test[['t5','t4','t3','t2','t1','t']], typ='levels').rename('SARIMAX Predictions')\n",
    "pred.plot(legend=True)\n",
    "test['dateCreacion'].plot(legend=True)"
   ]
  },
  {
   "cell_type": "code",
   "execution_count": 37,
   "metadata": {},
   "outputs": [
    {
     "data": {
      "text/html": [
       "<div>\n",
       "<style scoped>\n",
       "    .dataframe tbody tr th:only-of-type {\n",
       "        vertical-align: middle;\n",
       "    }\n",
       "\n",
       "    .dataframe tbody tr th {\n",
       "        vertical-align: top;\n",
       "    }\n",
       "\n",
       "    .dataframe thead th {\n",
       "        text-align: right;\n",
       "    }\n",
       "</style>\n",
       "<table border=\"1\" class=\"dataframe\">\n",
       "  <thead>\n",
       "    <tr style=\"text-align: right;\">\n",
       "      <th></th>\n",
       "      <th>Date</th>\n",
       "      <th>t5</th>\n",
       "      <th>t4</th>\n",
       "      <th>t3</th>\n",
       "      <th>t2</th>\n",
       "      <th>t1</th>\n",
       "      <th>t</th>\n",
       "      <th>dateCreacion</th>\n",
       "      <th>predicciones</th>\n",
       "    </tr>\n",
       "  </thead>\n",
       "  <tbody>\n",
       "    <tr>\n",
       "      <th>672</th>\n",
       "      <td>2020-11-04</td>\n",
       "      <td>1806.0</td>\n",
       "      <td>239.0</td>\n",
       "      <td>614.0</td>\n",
       "      <td>2321.0</td>\n",
       "      <td>2312.0</td>\n",
       "      <td>802.0</td>\n",
       "      <td>122.0</td>\n",
       "      <td>108.443167</td>\n",
       "    </tr>\n",
       "    <tr>\n",
       "      <th>673</th>\n",
       "      <td>2020-11-05</td>\n",
       "      <td>239.0</td>\n",
       "      <td>614.0</td>\n",
       "      <td>2321.0</td>\n",
       "      <td>2312.0</td>\n",
       "      <td>802.0</td>\n",
       "      <td>5505.0</td>\n",
       "      <td>151.0</td>\n",
       "      <td>168.671976</td>\n",
       "    </tr>\n",
       "    <tr>\n",
       "      <th>674</th>\n",
       "      <td>2020-11-06</td>\n",
       "      <td>614.0</td>\n",
       "      <td>2321.0</td>\n",
       "      <td>2312.0</td>\n",
       "      <td>802.0</td>\n",
       "      <td>5505.0</td>\n",
       "      <td>2217.0</td>\n",
       "      <td>166.0</td>\n",
       "      <td>194.790838</td>\n",
       "    </tr>\n",
       "    <tr>\n",
       "      <th>675</th>\n",
       "      <td>2020-11-07</td>\n",
       "      <td>0.0</td>\n",
       "      <td>0.0</td>\n",
       "      <td>0.0</td>\n",
       "      <td>0.0</td>\n",
       "      <td>0.0</td>\n",
       "      <td>0.0</td>\n",
       "      <td>0.0</td>\n",
       "      <td>-12.376602</td>\n",
       "    </tr>\n",
       "    <tr>\n",
       "      <th>676</th>\n",
       "      <td>2020-11-08</td>\n",
       "      <td>0.0</td>\n",
       "      <td>0.0</td>\n",
       "      <td>0.0</td>\n",
       "      <td>0.0</td>\n",
       "      <td>0.0</td>\n",
       "      <td>0.0</td>\n",
       "      <td>0.0</td>\n",
       "      <td>-10.438983</td>\n",
       "    </tr>\n",
       "  </tbody>\n",
       "</table>\n",
       "</div>"
      ],
      "text/plain": [
       "           Date      t5      t4      t3      t2      t1       t  dateCreacion  \\\n",
       "672  2020-11-04  1806.0   239.0   614.0  2321.0  2312.0   802.0         122.0   \n",
       "673  2020-11-05   239.0   614.0  2321.0  2312.0   802.0  5505.0         151.0   \n",
       "674  2020-11-06   614.0  2321.0  2312.0   802.0  5505.0  2217.0         166.0   \n",
       "675  2020-11-07     0.0     0.0     0.0     0.0     0.0     0.0           0.0   \n",
       "676  2020-11-08     0.0     0.0     0.0     0.0     0.0     0.0           0.0   \n",
       "\n",
       "     predicciones  \n",
       "672    108.443167  \n",
       "673    168.671976  \n",
       "674    194.790838  \n",
       "675    -12.376602  \n",
       "676    -10.438983  "
      ]
     },
     "execution_count": 37,
     "metadata": {},
     "output_type": "execute_result"
    }
   ],
   "source": [
    "error = test\n",
    "error['predicciones'] = pred\n",
    "error.head()"
   ]
  },
  {
   "cell_type": "code",
   "execution_count": 48,
   "metadata": {},
   "outputs": [
    {
     "data": {
      "text/html": [
       "<div>\n",
       "<style scoped>\n",
       "    .dataframe tbody tr th:only-of-type {\n",
       "        vertical-align: middle;\n",
       "    }\n",
       "\n",
       "    .dataframe tbody tr th {\n",
       "        vertical-align: top;\n",
       "    }\n",
       "\n",
       "    .dataframe thead th {\n",
       "        text-align: right;\n",
       "    }\n",
       "</style>\n",
       "<table border=\"1\" class=\"dataframe\">\n",
       "  <thead>\n",
       "    <tr style=\"text-align: right;\">\n",
       "      <th></th>\n",
       "      <th>Date</th>\n",
       "      <th>t5</th>\n",
       "      <th>t4</th>\n",
       "      <th>t3</th>\n",
       "      <th>t2</th>\n",
       "      <th>t1</th>\n",
       "      <th>t</th>\n",
       "      <th>dateCreacion</th>\n",
       "      <th>predicciones</th>\n",
       "      <th>diff</th>\n",
       "    </tr>\n",
       "  </thead>\n",
       "  <tbody>\n",
       "    <tr>\n",
       "      <th>672</th>\n",
       "      <td>2020-11-04</td>\n",
       "      <td>1806.0</td>\n",
       "      <td>239.0</td>\n",
       "      <td>614.0</td>\n",
       "      <td>2321.0</td>\n",
       "      <td>2312.0</td>\n",
       "      <td>802.0</td>\n",
       "      <td>122.0</td>\n",
       "      <td>108.443167</td>\n",
       "      <td>13.556833</td>\n",
       "    </tr>\n",
       "    <tr>\n",
       "      <th>673</th>\n",
       "      <td>2020-11-05</td>\n",
       "      <td>239.0</td>\n",
       "      <td>614.0</td>\n",
       "      <td>2321.0</td>\n",
       "      <td>2312.0</td>\n",
       "      <td>802.0</td>\n",
       "      <td>5505.0</td>\n",
       "      <td>151.0</td>\n",
       "      <td>168.671976</td>\n",
       "      <td>-17.671976</td>\n",
       "    </tr>\n",
       "    <tr>\n",
       "      <th>674</th>\n",
       "      <td>2020-11-06</td>\n",
       "      <td>614.0</td>\n",
       "      <td>2321.0</td>\n",
       "      <td>2312.0</td>\n",
       "      <td>802.0</td>\n",
       "      <td>5505.0</td>\n",
       "      <td>2217.0</td>\n",
       "      <td>166.0</td>\n",
       "      <td>194.790838</td>\n",
       "      <td>-28.790838</td>\n",
       "    </tr>\n",
       "    <tr>\n",
       "      <th>675</th>\n",
       "      <td>2020-11-07</td>\n",
       "      <td>0.0</td>\n",
       "      <td>0.0</td>\n",
       "      <td>0.0</td>\n",
       "      <td>0.0</td>\n",
       "      <td>0.0</td>\n",
       "      <td>0.0</td>\n",
       "      <td>0.0</td>\n",
       "      <td>-12.376602</td>\n",
       "      <td>12.376602</td>\n",
       "    </tr>\n",
       "    <tr>\n",
       "      <th>676</th>\n",
       "      <td>2020-11-08</td>\n",
       "      <td>0.0</td>\n",
       "      <td>0.0</td>\n",
       "      <td>0.0</td>\n",
       "      <td>0.0</td>\n",
       "      <td>0.0</td>\n",
       "      <td>0.0</td>\n",
       "      <td>0.0</td>\n",
       "      <td>-10.438983</td>\n",
       "      <td>10.438983</td>\n",
       "    </tr>\n",
       "  </tbody>\n",
       "</table>\n",
       "</div>"
      ],
      "text/plain": [
       "           Date      t5      t4      t3      t2      t1       t  dateCreacion  \\\n",
       "672  2020-11-04  1806.0   239.0   614.0  2321.0  2312.0   802.0         122.0   \n",
       "673  2020-11-05   239.0   614.0  2321.0  2312.0   802.0  5505.0         151.0   \n",
       "674  2020-11-06   614.0  2321.0  2312.0   802.0  5505.0  2217.0         166.0   \n",
       "675  2020-11-07     0.0     0.0     0.0     0.0     0.0     0.0           0.0   \n",
       "676  2020-11-08     0.0     0.0     0.0     0.0     0.0     0.0           0.0   \n",
       "\n",
       "     predicciones       diff  \n",
       "672    108.443167  13.556833  \n",
       "673    168.671976 -17.671976  \n",
       "674    194.790838 -28.790838  \n",
       "675    -12.376602  12.376602  \n",
       "676    -10.438983  10.438983  "
      ]
     },
     "execution_count": 48,
     "metadata": {},
     "output_type": "execute_result"
    }
   ],
   "source": [
    "error['diff'] = error.dateCreacion - error.predicciones\n",
    "error.head()"
   ]
  },
  {
   "cell_type": "code",
   "execution_count": 49,
   "metadata": {},
   "outputs": [
    {
     "data": {
      "text/plain": [
       "count    168.000000\n",
       "mean      25.433254\n",
       "std       66.571727\n",
       "min     -129.692410\n",
       "25%      -19.273535\n",
       "50%       23.140225\n",
       "75%       36.114876\n",
       "max      207.329564\n",
       "Name: diff, dtype: float64"
      ]
     },
     "execution_count": 49,
     "metadata": {},
     "output_type": "execute_result"
    }
   ],
   "source": [
    "error['diff'].describe()"
   ]
  },
  {
   "cell_type": "code",
   "execution_count": 50,
   "metadata": {},
   "outputs": [
    {
     "data": {
      "text/plain": [
       "<AxesSubplot:>"
      ]
     },
     "execution_count": 50,
     "metadata": {},
     "output_type": "execute_result"
    },
    {
     "data": {
      "image/png": "[encoded data removed]",
      "text/plain": [
       "<Figure size 432x288 with 1 Axes>"
      ]
     },
     "metadata": {
      "needs_background": "light"
     },
     "output_type": "display_data"
    }
   ],
   "source": [
    "error['diff'].hist(bins=100)"
   ]
  },
  {
   "cell_type": "code",
   "execution_count": 44,
   "metadata": {
    "colab": {
     "base_uri": "https://localhost:8080/",
     "height": 331
    },
    "colab_type": "code",
    "id": "grTT31Tdfqfb",
    "outputId": "8caf1342-cc91-496f-c4ca-9159007add83"
   },
   "outputs": [],
   "source": [
    "#pred.plot(legend='ARIMA Predictions')\n",
    "#test['dateCreacion'].plot(legend=True)"
   ]
  },
  {
   "cell_type": "code",
   "execution_count": 45,
   "metadata": {
    "colab": {
     "base_uri": "https://localhost:8080/",
     "height": 33
    },
    "colab_type": "code",
    "id": "3R2eTZHDfz5H",
    "outputId": "8dcb8e41-f96d-4adf-9784-21342aacb1a4"
   },
   "outputs": [
    {
     "data": {
      "text/plain": [
       "105.70833333333333"
      ]
     },
     "execution_count": 45,
     "metadata": {},
     "output_type": "execute_result"
    }
   ],
   "source": [
    "test['dateCreacion'].mean()"
   ]
  },
  {
   "cell_type": "code",
   "execution_count": 46,
   "metadata": {
    "colab": {
     "base_uri": "https://localhost:8080/",
     "height": 33
    },
    "colab_type": "code",
    "id": "zQ7SB2lQux5x",
    "outputId": "740e2eeb-e2b0-42ac-ec76-58da663146e9"
   },
   "outputs": [
    {
     "name": "stdout",
     "output_type": "stream",
     "text": [
      "71.07928990592062\n"
     ]
    }
   ],
   "source": [
    "from sklearn.metrics import mean_squared_error\n",
    "from math import sqrt\n",
    "rmse=sqrt(mean_squared_error(pred,test['dateCreacion']))\n",
    "print(rmse)\n"
   ]
  },
  {
   "cell_type": "code",
   "execution_count": 47,
   "metadata": {
    "colab": {
     "base_uri": "https://localhost:8080/",
     "height": 226
    },
    "colab_type": "code",
    "id": "DgJUq_lGvV10",
    "outputId": "c4087b3d-d92b-44ce-b116-fa1c7ffd3b47"
   },
   "outputs": [],
   "source": [
    "model2=SARIMAX(df['dateCreacion'],order=(5,1,5))\n",
    "model2=model2.fit()"
   ]
  },
  {
   "cell_type": "markdown",
   "metadata": {
    "colab_type": "text",
    "id": "hQ4chXSmvSZw"
   },
   "source": [
    "# For Future Dates"
   ]
  },
  {
   "cell_type": "code",
   "execution_count": null,
   "metadata": {
    "colab": {
     "base_uri": "https://localhost:8080/",
     "height": 552
    },
    "colab_type": "code",
    "id": "ZsjzMPfKqVag",
    "outputId": "8de3772d-8613-4db7-91d4-673d3a1909e9"
   },
   "outputs": [],
   "source": [
    "pred=model2.predict(start=len(df),end=len(df)+50,typ='levels').rename('SARIMAX Predictions')\n",
    "#print(comp_pred)\n",
    "#pred.index=index_future_dates\n",
    "print(pred)"
   ]
  },
  {
   "cell_type": "code",
   "execution_count": null,
   "metadata": {
    "colab": {
     "base_uri": "https://localhost:8080/",
     "height": 372
    },
    "colab_type": "code",
    "id": "hPgempSauwqo",
    "outputId": "3dc42a39-ff4d-4c6e-ac68-0cef1ffe7d01"
   },
   "outputs": [],
   "source": [
    "df['dateCreacion'].plot()\n",
    "pred.plot(figsize=(12,5),legend=True)"
   ]
  }
 ],
 "metadata": {
  "colab": {
   "authorship_tag": "ABX9TyNyCEF0bu5JjuFIh9AZRrLX",
   "collapsed_sections": [],
   "include_colab_link": true,
   "name": "Temperature_Forecast_ARIMA.ipynb",
   "provenance": [],
   "toc_visible": true
  },
  "kernelspec": {
   "display_name": "Python 3",
   "language": "python",
   "name": "python3"
  },
  "language_info": {
   "codemirror_mode": {
    "name": "ipython",
    "version": 3
   },
   "file_extension": ".py",
   "mimetype": "text/x-python",
   "name": "python",
   "nbconvert_exporter": "python",
   "pygments_lexer": "ipython3",
   "version": "3.9.5"
  }
 },
 "nbformat": 4,
 "nbformat_minor": 4
}
