{
 "cells": [
  {
   "cell_type": "markdown",
   "id": "graphic-banks",
   "metadata": {},
   "source": [
    "# TFM. Modelo\n",
    "## MVP"
   ]
  },
  {
   "cell_type": "markdown",
   "id": "collectible-royalty",
   "metadata": {},
   "source": [
    "## Importacion de librerias "
   ]
  },
  {
   "cell_type": "code",
   "execution_count": 1,
   "id": "statewide-psychiatry",
   "metadata": {},
   "outputs": [],
   "source": [
    "import pandas as pd\n",
    "import numpy as np\n",
    "import matplotlib.pyplot as plt\n",
    "\n",
    "pd.options.display.max_columns = None"
   ]
  },
  {
   "cell_type": "markdown",
   "id": "yellow-material",
   "metadata": {},
   "source": [
    "## Modelo"
   ]
  },
  {
   "cell_type": "code",
   "execution_count": 2,
   "id": "allied-ceremony",
   "metadata": {},
   "outputs": [],
   "source": [
    "df_data = pd.read_pickle('./data/df_data')"
   ]
  },
  {
   "cell_type": "code",
   "execution_count": 3,
   "id": "dried-concentrate",
   "metadata": {},
   "outputs": [],
   "source": [
    "from sklearn.linear_model import LinearRegression\n",
    "from sklearn.model_selection import train_test_split\n",
    "from sklearn.metrics import mean_absolute_error"
   ]
  },
  {
   "cell_type": "code",
   "execution_count": 4,
   "id": "about-commonwealth",
   "metadata": {},
   "outputs": [],
   "source": [
    "reg = LinearRegression()"
   ]
  },
  {
   "cell_type": "code",
   "execution_count": 5,
   "id": "incorporated-jamaica",
   "metadata": {},
   "outputs": [],
   "source": [
    "#X = df_explore.loc[:,['Monday', 'Tuesday', 'Wednesday', 'Thursday', 'Friday']]\n",
    "X = df_data.iloc[:,1:-1]\n",
    "y = df_data['dateCreacion']\n",
    "\n",
    "X_train, X_test, y_train, y_test = train_test_split(X, y, test_size=0.20)"
   ]
  },
  {
   "cell_type": "code",
   "execution_count": 6,
   "id": "junior-newport",
   "metadata": {},
   "outputs": [
    {
     "data": {
      "text/plain": [
       "LinearRegression()"
      ]
     },
     "execution_count": 6,
     "metadata": {},
     "output_type": "execute_result"
    }
   ],
   "source": [
    "reg.fit(X_train,y_train)"
   ]
  },
  {
   "cell_type": "code",
   "execution_count": 7,
   "id": "hearing-participation",
   "metadata": {},
   "outputs": [],
   "source": [
    "y_pred = reg.predict(X_test)"
   ]
  },
  {
   "cell_type": "code",
   "execution_count": 8,
   "id": "enabling-executive",
   "metadata": {
    "scrolled": true
   },
   "outputs": [
    {
     "data": {
      "text/plain": [
       "107.74382419890304"
      ]
     },
     "execution_count": 8,
     "metadata": {},
     "output_type": "execute_result"
    }
   ],
   "source": [
    "mean_absolute_error(y_test, y_pred)"
   ]
  },
  {
   "cell_type": "code",
   "execution_count": 9,
   "id": "educational-palestinian",
   "metadata": {},
   "outputs": [],
   "source": [
    "analisisX = df_data.iloc[:,-1].reset_index()\n",
    "analisisX = analisisX['dateCreacion']\n",
    "\n",
    "analisisPre = reg.predict(X)\n",
    "analisisPre = pd.DataFrame(analisisPre)\n",
    "#analisisX, analisisPre"
   ]
  },
  {
   "cell_type": "code",
   "execution_count": 10,
   "id": "instrumental-clock",
   "metadata": {
    "scrolled": true
   },
   "outputs": [
    {
     "data": {
      "text/plain": [
       "[<matplotlib.lines.Line2D at 0x7fdfa67ee820>]"
      ]
     },
     "execution_count": 10,
     "metadata": {},
     "output_type": "execute_result"
    },
    {
     "data": {
      "image/png": "[encoded data removed]",
      "text/plain": [
       "<Figure size 432x288 with 1 Axes>"
      ]
     },
     "metadata": {
      "needs_background": "light"
     },
     "output_type": "display_data"
    }
   ],
   "source": [
    "plt.plot(analisisX, c='green')\n",
    "plt.plot(analisisPre, c='red')"
   ]
  },
  {
   "cell_type": "code",
   "execution_count": 11,
   "id": "animal-shakespeare",
   "metadata": {},
   "outputs": [],
   "source": [
    "from sklearn.neighbors import KNeighborsRegressor\n",
    "from sklearn.model_selection import GridSearchCV\n",
    "from sklearn.model_selection import cross_val_score"
   ]
  },
  {
   "cell_type": "code",
   "execution_count": 12,
   "id": "large-lodging",
   "metadata": {},
   "outputs": [],
   "source": [
    "reg_gs = GridSearchCV(KNeighborsRegressor(),\n",
    "                        param_grid={\"n_neighbors\":np.arange(3,50)})"
   ]
  },
  {
   "cell_type": "code",
   "execution_count": 13,
   "id": "sorted-christianity",
   "metadata": {},
   "outputs": [
    {
     "data": {
      "text/plain": [
       "GridSearchCV(estimator=KNeighborsRegressor(),\n",
       "             param_grid={'n_neighbors': array([ 3,  4,  5,  6,  7,  8,  9, 10, 11, 12, 13, 14, 15, 16, 17, 18, 19,\n",
       "       20, 21, 22, 23, 24, 25, 26, 27, 28, 29, 30, 31, 32, 33, 34, 35, 36,\n",
       "       37, 38, 39, 40, 41, 42, 43, 44, 45, 46, 47, 48, 49])})"
      ]
     },
     "execution_count": 13,
     "metadata": {},
     "output_type": "execute_result"
    }
   ],
   "source": [
    "reg_gs.fit(X,y)"
   ]
  },
  {
   "cell_type": "code",
   "execution_count": 14,
   "id": "blank-edward",
   "metadata": {},
   "outputs": [
    {
     "data": {
      "text/plain": [
       "({'n_neighbors': 49}, -0.7961856089092383)"
      ]
     },
     "execution_count": 14,
     "metadata": {},
     "output_type": "execute_result"
    }
   ],
   "source": [
    "reg_gs.best_params_, reg_gs.best_score_"
   ]
  },
  {
   "cell_type": "code",
   "execution_count": 15,
   "id": "future-limit",
   "metadata": {},
   "outputs": [],
   "source": [
    "regk = KNeighborsRegressor(n_neighbors=3)"
   ]
  },
  {
   "cell_type": "code",
   "execution_count": 16,
   "id": "applicable-basics",
   "metadata": {},
   "outputs": [
    {
     "data": {
      "text/plain": [
       "KNeighborsRegressor(n_neighbors=3)"
      ]
     },
     "execution_count": 16,
     "metadata": {},
     "output_type": "execute_result"
    }
   ],
   "source": [
    "regk.fit(X_train,y_train)"
   ]
  },
  {
   "cell_type": "code",
   "execution_count": 17,
   "id": "nominated-milton",
   "metadata": {},
   "outputs": [],
   "source": [
    "y_predk = regk.predict(X_test)"
   ]
  },
  {
   "cell_type": "code",
   "execution_count": 18,
   "id": "finite-lucas",
   "metadata": {},
   "outputs": [
    {
     "data": {
      "text/plain": [
       "102.87943262411349"
      ]
     },
     "execution_count": 18,
     "metadata": {},
     "output_type": "execute_result"
    }
   ],
   "source": [
    "#MAE\n",
    "mean_absolute_error(y_test, y_predk)"
   ]
  },
  {
   "cell_type": "code",
   "execution_count": 19,
   "id": "employed-democracy",
   "metadata": {},
   "outputs": [
    {
     "data": {
      "text/plain": [
       "-127.04363243909958"
      ]
     },
     "execution_count": 19,
     "metadata": {},
     "output_type": "execute_result"
    }
   ],
   "source": [
    "cross_val_score(regk,X,y,scoring='neg_mean_absolute_error').mean()"
   ]
  },
  {
   "cell_type": "code",
   "execution_count": 20,
   "id": "british-violence",
   "metadata": {},
   "outputs": [
    {
     "data": {
      "text/plain": [
       "[<matplotlib.lines.Line2D at 0x7fdfa67eeac0>]"
      ]
     },
     "execution_count": 20,
     "metadata": {},
     "output_type": "execute_result"
    },
    {
     "data": {
      "image/png": "[encoded data removed]",
      "text/plain": [
       "<Figure size 432x288 with 1 Axes>"
      ]
     },
     "metadata": {
      "needs_background": "light"
     },
     "output_type": "display_data"
    }
   ],
   "source": [
    "analisisPre = regk.predict(X)\n",
    "analisisPre = pd.DataFrame(analisisPre)\n",
    "analisisPre\n",
    "\n",
    "plt.plot(analisisX, c='green')\n",
    "plt.plot(analisisPre, c='red')"
   ]
  }
 ],
 "metadata": {
  "kernelspec": {
   "display_name": "Python 3",
   "language": "python",
   "name": "python3"
  },
  "language_info": {
   "codemirror_mode": {
    "name": "ipython",
    "version": 3
   },
   "file_extension": ".py",
   "mimetype": "text/x-python",
   "name": "python",
   "nbconvert_exporter": "python",
   "pygments_lexer": "ipython3",
   "version": "3.8.5"
  }
 },
 "nbformat": 4,
 "nbformat_minor": 5
}
