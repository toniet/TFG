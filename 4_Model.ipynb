{
 "cells": [
  {
   "cell_type": "markdown",
   "id": "95116fb2",
   "metadata": {},
   "source": [
    "# TFM. Modelo\n",
    "## MVP"
   ]
  },
  {
   "cell_type": "markdown",
   "id": "ca1bc0ea",
   "metadata": {},
   "source": [
    "## Importacion de librerias "
   ]
  },
  {
   "cell_type": "code",
   "execution_count": 1,
   "id": "ea76beaf",
   "metadata": {},
   "outputs": [],
   "source": [
    "import pandas as pd\n",
    "import numpy as np\n",
    "import matplotlib.pyplot as plt\n",
    "\n",
    "pd.options.display.max_columns = None"
   ]
  },
  {
   "cell_type": "markdown",
   "id": "02c0ae64",
   "metadata": {},
   "source": [
    "## Modelo"
   ]
  },
  {
   "cell_type": "code",
   "execution_count": 2,
   "id": "a4cc6842",
   "metadata": {},
   "outputs": [],
   "source": [
    "df_data = pd.read_pickle('./data/df_data')"
   ]
  },
  {
   "cell_type": "code",
   "execution_count": 3,
   "id": "fe9643c0",
   "metadata": {},
   "outputs": [
    {
     "data": {
      "text/html": [
       "<div>\n",
       "<style scoped>\n",
       "    .dataframe tbody tr th:only-of-type {\n",
       "        vertical-align: middle;\n",
       "    }\n",
       "\n",
       "    .dataframe tbody tr th {\n",
       "        vertical-align: top;\n",
       "    }\n",
       "\n",
       "    .dataframe thead th {\n",
       "        text-align: right;\n",
       "    }\n",
       "</style>\n",
       "<table border=\"1\" class=\"dataframe\">\n",
       "  <thead>\n",
       "    <tr style=\"text-align: right;\">\n",
       "      <th></th>\n",
       "      <th>index</th>\n",
       "      <th>total</th>\n",
       "      <th>Bag 14</th>\n",
       "      <th>Bag 19</th>\n",
       "      <th>Burofax</th>\n",
       "      <th>Devolución burofax</th>\n",
       "      <th>Documentos 14</th>\n",
       "      <th>E-Commerce</th>\n",
       "      <th>E-commerce canje</th>\n",
       "      <th>Ecobox 25</th>\n",
       "      <th>Express documentos</th>\n",
       "      <th>Express paquetes</th>\n",
       "      <th>Mrw economy (ecopaq)</th>\n",
       "      <th>OperativaServicioEnumECOBA</th>\n",
       "      <th>OperativaServicioEnumU19E;U19;E</th>\n",
       "      <th>Plan ayuda</th>\n",
       "      <th>Retorno albarán</th>\n",
       "      <th>Retorno burofax</th>\n",
       "      <th>Retorno canje</th>\n",
       "      <th>Urgente 14</th>\n",
       "      <th>Urgente 14 expedición</th>\n",
       "      <th>Urgente funchal</th>\n",
       "      <th>Urgente hoy</th>\n",
       "      <th>NaN</th>\n",
       "      <th>Friday</th>\n",
       "      <th>Monday</th>\n",
       "      <th>Thursday</th>\n",
       "      <th>Tuesday</th>\n",
       "      <th>Wednesday</th>\n",
       "      <th>dateCreacion</th>\n",
       "    </tr>\n",
       "  </thead>\n",
       "  <tbody>\n",
       "    <tr>\n",
       "      <th>1</th>\n",
       "      <td>2019-01-02</td>\n",
       "      <td>7.561642</td>\n",
       "      <td>0.0</td>\n",
       "      <td>1.609438</td>\n",
       "      <td>2.639057</td>\n",
       "      <td>0.0</td>\n",
       "      <td>1.609438</td>\n",
       "      <td>0.0</td>\n",
       "      <td>0.0</td>\n",
       "      <td>0.0</td>\n",
       "      <td>0.0</td>\n",
       "      <td>0.0</td>\n",
       "      <td>0.0</td>\n",
       "      <td>0.0</td>\n",
       "      <td>0.0</td>\n",
       "      <td>0.0</td>\n",
       "      <td>1.098612</td>\n",
       "      <td>0.0</td>\n",
       "      <td>0.0</td>\n",
       "      <td>2.564949</td>\n",
       "      <td>0.0</td>\n",
       "      <td>0.0</td>\n",
       "      <td>0.0</td>\n",
       "      <td>1.945910</td>\n",
       "      <td>0.0</td>\n",
       "      <td>0.0</td>\n",
       "      <td>0.0</td>\n",
       "      <td>0.0</td>\n",
       "      <td>1.0</td>\n",
       "      <td>281.0</td>\n",
       "    </tr>\n",
       "    <tr>\n",
       "      <th>2</th>\n",
       "      <td>2019-01-03</td>\n",
       "      <td>7.249926</td>\n",
       "      <td>0.0</td>\n",
       "      <td>0.000000</td>\n",
       "      <td>2.484907</td>\n",
       "      <td>0.0</td>\n",
       "      <td>1.098612</td>\n",
       "      <td>0.0</td>\n",
       "      <td>0.0</td>\n",
       "      <td>0.0</td>\n",
       "      <td>0.0</td>\n",
       "      <td>0.0</td>\n",
       "      <td>0.0</td>\n",
       "      <td>0.0</td>\n",
       "      <td>0.0</td>\n",
       "      <td>0.0</td>\n",
       "      <td>0.693147</td>\n",
       "      <td>0.0</td>\n",
       "      <td>0.0</td>\n",
       "      <td>1.609438</td>\n",
       "      <td>0.0</td>\n",
       "      <td>0.0</td>\n",
       "      <td>0.0</td>\n",
       "      <td>3.135494</td>\n",
       "      <td>0.0</td>\n",
       "      <td>0.0</td>\n",
       "      <td>1.0</td>\n",
       "      <td>0.0</td>\n",
       "      <td>0.0</td>\n",
       "      <td>283.0</td>\n",
       "    </tr>\n",
       "    <tr>\n",
       "      <th>3</th>\n",
       "      <td>2019-01-04</td>\n",
       "      <td>8.077137</td>\n",
       "      <td>0.0</td>\n",
       "      <td>0.000000</td>\n",
       "      <td>2.302585</td>\n",
       "      <td>0.0</td>\n",
       "      <td>1.098612</td>\n",
       "      <td>0.0</td>\n",
       "      <td>0.0</td>\n",
       "      <td>0.0</td>\n",
       "      <td>0.0</td>\n",
       "      <td>0.0</td>\n",
       "      <td>0.0</td>\n",
       "      <td>0.0</td>\n",
       "      <td>0.0</td>\n",
       "      <td>0.0</td>\n",
       "      <td>0.000000</td>\n",
       "      <td>0.0</td>\n",
       "      <td>0.0</td>\n",
       "      <td>1.098612</td>\n",
       "      <td>0.0</td>\n",
       "      <td>0.0</td>\n",
       "      <td>0.0</td>\n",
       "      <td>0.000000</td>\n",
       "      <td>1.0</td>\n",
       "      <td>0.0</td>\n",
       "      <td>0.0</td>\n",
       "      <td>0.0</td>\n",
       "      <td>0.0</td>\n",
       "      <td>351.0</td>\n",
       "    </tr>\n",
       "    <tr>\n",
       "      <th>6</th>\n",
       "      <td>2019-01-07</td>\n",
       "      <td>8.432724</td>\n",
       "      <td>0.0</td>\n",
       "      <td>0.000000</td>\n",
       "      <td>1.945910</td>\n",
       "      <td>0.0</td>\n",
       "      <td>0.693147</td>\n",
       "      <td>0.0</td>\n",
       "      <td>0.0</td>\n",
       "      <td>0.0</td>\n",
       "      <td>0.0</td>\n",
       "      <td>0.0</td>\n",
       "      <td>0.0</td>\n",
       "      <td>0.0</td>\n",
       "      <td>0.0</td>\n",
       "      <td>0.0</td>\n",
       "      <td>1.098612</td>\n",
       "      <td>0.0</td>\n",
       "      <td>0.0</td>\n",
       "      <td>1.791759</td>\n",
       "      <td>0.0</td>\n",
       "      <td>0.0</td>\n",
       "      <td>0.0</td>\n",
       "      <td>0.000000</td>\n",
       "      <td>0.0</td>\n",
       "      <td>1.0</td>\n",
       "      <td>0.0</td>\n",
       "      <td>0.0</td>\n",
       "      <td>0.0</td>\n",
       "      <td>173.0</td>\n",
       "    </tr>\n",
       "    <tr>\n",
       "      <th>7</th>\n",
       "      <td>2019-01-08</td>\n",
       "      <td>7.980708</td>\n",
       "      <td>0.0</td>\n",
       "      <td>0.693147</td>\n",
       "      <td>1.609438</td>\n",
       "      <td>0.0</td>\n",
       "      <td>1.098612</td>\n",
       "      <td>0.0</td>\n",
       "      <td>0.0</td>\n",
       "      <td>0.0</td>\n",
       "      <td>0.0</td>\n",
       "      <td>0.0</td>\n",
       "      <td>0.0</td>\n",
       "      <td>0.0</td>\n",
       "      <td>0.0</td>\n",
       "      <td>0.0</td>\n",
       "      <td>3.401197</td>\n",
       "      <td>0.0</td>\n",
       "      <td>0.0</td>\n",
       "      <td>2.079442</td>\n",
       "      <td>0.0</td>\n",
       "      <td>0.0</td>\n",
       "      <td>0.0</td>\n",
       "      <td>0.000000</td>\n",
       "      <td>0.0</td>\n",
       "      <td>0.0</td>\n",
       "      <td>0.0</td>\n",
       "      <td>1.0</td>\n",
       "      <td>0.0</td>\n",
       "      <td>174.0</td>\n",
       "    </tr>\n",
       "  </tbody>\n",
       "</table>\n",
       "</div>"
      ],
      "text/plain": [
       "        index     total  Bag 14    Bag 19   Burofax  Devolución burofax  \\\n",
       "1  2019-01-02  7.561642     0.0  1.609438  2.639057                 0.0   \n",
       "2  2019-01-03  7.249926     0.0  0.000000  2.484907                 0.0   \n",
       "3  2019-01-04  8.077137     0.0  0.000000  2.302585                 0.0   \n",
       "6  2019-01-07  8.432724     0.0  0.000000  1.945910                 0.0   \n",
       "7  2019-01-08  7.980708     0.0  0.693147  1.609438                 0.0   \n",
       "\n",
       "   Documentos 14  E-Commerce  E-commerce canje  Ecobox 25  Express documentos  \\\n",
       "1       1.609438         0.0               0.0        0.0                 0.0   \n",
       "2       1.098612         0.0               0.0        0.0                 0.0   \n",
       "3       1.098612         0.0               0.0        0.0                 0.0   \n",
       "6       0.693147         0.0               0.0        0.0                 0.0   \n",
       "7       1.098612         0.0               0.0        0.0                 0.0   \n",
       "\n",
       "   Express paquetes  Mrw economy (ecopaq)  OperativaServicioEnumECOBA  \\\n",
       "1               0.0                   0.0                         0.0   \n",
       "2               0.0                   0.0                         0.0   \n",
       "3               0.0                   0.0                         0.0   \n",
       "6               0.0                   0.0                         0.0   \n",
       "7               0.0                   0.0                         0.0   \n",
       "\n",
       "   OperativaServicioEnumU19E;U19;E  Plan ayuda  Retorno albarán  \\\n",
       "1                              0.0         0.0         1.098612   \n",
       "2                              0.0         0.0         0.693147   \n",
       "3                              0.0         0.0         0.000000   \n",
       "6                              0.0         0.0         1.098612   \n",
       "7                              0.0         0.0         3.401197   \n",
       "\n",
       "   Retorno burofax  Retorno canje  Urgente 14  Urgente 14 expedición  \\\n",
       "1              0.0            0.0    2.564949                    0.0   \n",
       "2              0.0            0.0    1.609438                    0.0   \n",
       "3              0.0            0.0    1.098612                    0.0   \n",
       "6              0.0            0.0    1.791759                    0.0   \n",
       "7              0.0            0.0    2.079442                    0.0   \n",
       "\n",
       "   Urgente funchal  Urgente hoy       NaN  Friday  Monday  Thursday  Tuesday  \\\n",
       "1              0.0          0.0  1.945910     0.0     0.0       0.0      0.0   \n",
       "2              0.0          0.0  3.135494     0.0     0.0       1.0      0.0   \n",
       "3              0.0          0.0  0.000000     1.0     0.0       0.0      0.0   \n",
       "6              0.0          0.0  0.000000     0.0     1.0       0.0      0.0   \n",
       "7              0.0          0.0  0.000000     0.0     0.0       0.0      1.0   \n",
       "\n",
       "   Wednesday  dateCreacion  \n",
       "1        1.0         281.0  \n",
       "2        0.0         283.0  \n",
       "3        0.0         351.0  \n",
       "6        0.0         173.0  \n",
       "7        0.0         174.0  "
      ]
     },
     "execution_count": 3,
     "metadata": {},
     "output_type": "execute_result"
    }
   ],
   "source": [
    "df_data.head()"
   ]
  },
  {
   "cell_type": "code",
   "execution_count": 4,
   "id": "141c5bac",
   "metadata": {},
   "outputs": [],
   "source": [
    "from sklearn.linear_model import LinearRegression\n",
    "from sklearn.model_selection import train_test_split\n",
    "from sklearn.metrics import mean_absolute_error"
   ]
  },
  {
   "cell_type": "code",
   "execution_count": 5,
   "id": "621bc285",
   "metadata": {},
   "outputs": [],
   "source": [
    "reg = LinearRegression()"
   ]
  },
  {
   "cell_type": "code",
   "execution_count": 6,
   "id": "7c164c87",
   "metadata": {},
   "outputs": [],
   "source": [
    "#X = df_explore.loc[:,['Monday', 'Tuesday', 'Wednesday', 'Thursday', 'Friday']]\n",
    "X = df_data.iloc[:,1:-1]\n",
    "y = df_data['dateCreacion']\n",
    "\n",
    "X_train, X_test, y_train, y_test = train_test_split(X, y, test_size=0.20)"
   ]
  },
  {
   "cell_type": "code",
   "execution_count": 7,
   "id": "e63fce2e",
   "metadata": {},
   "outputs": [
    {
     "data": {
      "text/plain": [
       "Index([                          'total',                          'Bag 14',\n",
       "                                'Bag 19',                         'Burofax',\n",
       "                    'Devolución burofax',                   'Documentos 14',\n",
       "                            'E-Commerce',                'E-commerce canje',\n",
       "                             'Ecobox 25',              'Express documentos',\n",
       "                      'Express paquetes',            'Mrw economy (ecopaq)',\n",
       "            'OperativaServicioEnumECOBA', 'OperativaServicioEnumU19E;U19;E',\n",
       "                            'Plan ayuda',                 'Retorno albarán',\n",
       "                       'Retorno burofax',                   'Retorno canje',\n",
       "                            'Urgente 14',           'Urgente 14 expedición',\n",
       "                       'Urgente funchal',                     'Urgente hoy',\n",
       "                                     nan,                          'Friday',\n",
       "                                'Monday',                        'Thursday',\n",
       "                               'Tuesday',                       'Wednesday'],\n",
       "      dtype='object')"
      ]
     },
     "execution_count": 7,
     "metadata": {},
     "output_type": "execute_result"
    }
   ],
   "source": [
    "X.columns"
   ]
  },
  {
   "cell_type": "code",
   "execution_count": 8,
   "id": "79908178",
   "metadata": {},
   "outputs": [
    {
     "data": {
      "text/plain": [
       "LinearRegression()"
      ]
     },
     "execution_count": 8,
     "metadata": {},
     "output_type": "execute_result"
    }
   ],
   "source": [
    "reg.fit(X_train,y_train)"
   ]
  },
  {
   "cell_type": "code",
   "execution_count": 9,
   "id": "8ae929a8",
   "metadata": {},
   "outputs": [],
   "source": [
    "y_pred = reg.predict(X_test)"
   ]
  },
  {
   "cell_type": "code",
   "execution_count": 10,
   "id": "7b2ab7c5",
   "metadata": {
    "scrolled": true
   },
   "outputs": [
    {
     "data": {
      "text/plain": [
       "71.9166396462351"
      ]
     },
     "execution_count": 10,
     "metadata": {},
     "output_type": "execute_result"
    }
   ],
   "source": [
    "mean_absolute_error(y_test, y_pred)"
   ]
  },
  {
   "cell_type": "code",
   "execution_count": 11,
   "id": "c72a7623",
   "metadata": {},
   "outputs": [],
   "source": [
    "analisisX = df_data.iloc[:,-1].reset_index()\n",
    "analisisX = analisisX['dateCreacion']\n",
    "\n",
    "analisisPre = reg.predict(X)\n",
    "analisisPre = pd.DataFrame(analisisPre)\n",
    "#analisisX, analisisPre"
   ]
  },
  {
   "cell_type": "code",
   "execution_count": 12,
   "id": "689ef70d",
   "metadata": {
    "scrolled": true
   },
   "outputs": [
    {
     "data": {
      "text/plain": [
       "[<matplotlib.lines.Line2D at 0x1cacd24d550>]"
      ]
     },
     "execution_count": 12,
     "metadata": {},
     "output_type": "execute_result"
    },
    {
     "data": {
      "image/png": "[encoded data removed]",
      "text/plain": [
       "<Figure size 432x288 with 1 Axes>"
      ]
     },
     "metadata": {
      "needs_background": "light"
     },
     "output_type": "display_data"
    }
   ],
   "source": [
    "plt.plot(analisisX, c='green')\n",
    "plt.plot(analisisPre, c='red')"
   ]
  },
  {
   "cell_type": "code",
   "execution_count": 13,
   "id": "1863d717",
   "metadata": {},
   "outputs": [],
   "source": [
    "from sklearn.neighbors import KNeighborsRegressor\n",
    "from sklearn.model_selection import GridSearchCV\n",
    "from sklearn.model_selection import cross_val_score"
   ]
  },
  {
   "cell_type": "code",
   "execution_count": 14,
   "id": "891df9bd",
   "metadata": {},
   "outputs": [],
   "source": [
    "reg_gs = GridSearchCV(KNeighborsRegressor(),\n",
    "                        param_grid={\"n_neighbors\":np.arange(3,50)})"
   ]
  },
  {
   "cell_type": "code",
   "execution_count": 15,
   "id": "b107eb3c",
   "metadata": {},
   "outputs": [
    {
     "data": {
      "text/plain": [
       "GridSearchCV(estimator=KNeighborsRegressor(),\n",
       "             param_grid={'n_neighbors': array([ 3,  4,  5,  6,  7,  8,  9, 10, 11, 12, 13, 14, 15, 16, 17, 18, 19,\n",
       "       20, 21, 22, 23, 24, 25, 26, 27, 28, 29, 30, 31, 32, 33, 34, 35, 36,\n",
       "       37, 38, 39, 40, 41, 42, 43, 44, 45, 46, 47, 48, 49])})"
      ]
     },
     "execution_count": 15,
     "metadata": {},
     "output_type": "execute_result"
    }
   ],
   "source": [
    "reg_gs.fit(X,y)"
   ]
  },
  {
   "cell_type": "code",
   "execution_count": 16,
   "id": "87336782",
   "metadata": {},
   "outputs": [
    {
     "data": {
      "text/plain": [
       "({'n_neighbors': 49}, -0.5109797486957781)"
      ]
     },
     "execution_count": 16,
     "metadata": {},
     "output_type": "execute_result"
    }
   ],
   "source": [
    "reg_gs.best_params_, reg_gs.best_score_"
   ]
  },
  {
   "cell_type": "code",
   "execution_count": 17,
   "id": "68efa217",
   "metadata": {},
   "outputs": [],
   "source": [
    "regk = KNeighborsRegressor(n_neighbors=3)"
   ]
  },
  {
   "cell_type": "code",
   "execution_count": 18,
   "id": "da20d1de",
   "metadata": {},
   "outputs": [
    {
     "data": {
      "text/plain": [
       "KNeighborsRegressor(n_neighbors=3)"
      ]
     },
     "execution_count": 18,
     "metadata": {},
     "output_type": "execute_result"
    }
   ],
   "source": [
    "regk.fit(X_train,y_train)"
   ]
  },
  {
   "cell_type": "code",
   "execution_count": 19,
   "id": "2299b0ad",
   "metadata": {},
   "outputs": [],
   "source": [
    "y_predk = regk.predict(X_test)"
   ]
  },
  {
   "cell_type": "code",
   "execution_count": 20,
   "id": "46f2b6c1",
   "metadata": {},
   "outputs": [
    {
     "data": {
      "text/plain": [
       "72.2012012012012"
      ]
     },
     "execution_count": 20,
     "metadata": {},
     "output_type": "execute_result"
    }
   ],
   "source": [
    "#MAE\n",
    "mean_absolute_error(y_test, y_predk)"
   ]
  },
  {
   "cell_type": "code",
   "execution_count": 21,
   "id": "79c6388b",
   "metadata": {},
   "outputs": [
    {
     "data": {
      "text/plain": [
       "-89.4274529074529"
      ]
     },
     "execution_count": 21,
     "metadata": {},
     "output_type": "execute_result"
    }
   ],
   "source": [
    "cross_val_score(regk,X,y,scoring='neg_mean_absolute_error').mean()"
   ]
  },
  {
   "cell_type": "code",
   "execution_count": 22,
   "id": "1a2311ad",
   "metadata": {},
   "outputs": [
    {
     "data": {
      "text/plain": [
       "[<matplotlib.lines.Line2D at 0x1cacd473a90>]"
      ]
     },
     "execution_count": 22,
     "metadata": {},
     "output_type": "execute_result"
    },
    {
     "data": {
      "image/png": "[encoded data removed]",
      "text/plain": [
       "<Figure size 432x288 with 1 Axes>"
      ]
     },
     "metadata": {
      "needs_background": "light"
     },
     "output_type": "display_data"
    }
   ],
   "source": [
    "analisisPre = regk.predict(X)\n",
    "analisisPre = pd.DataFrame(analisisPre)\n",
    "analisisPre\n",
    "\n",
    "plt.plot(analisisX, c='green')\n",
    "plt.plot(analisisPre, c='red')"
   ]
  }
 ],
 "metadata": {
  "kernelspec": {
   "display_name": "Python 3",
   "language": "python",
   "name": "python3"
  },
  "language_info": {
   "codemirror_mode": {
    "name": "ipython",
    "version": 3
   },
   "file_extension": ".py",
   "mimetype": "text/x-python",
   "name": "python",
   "nbconvert_exporter": "python",
   "pygments_lexer": "ipython3",
   "version": "3.9.5"
  }
 },
 "nbformat": 4,
 "nbformat_minor": 5
}
