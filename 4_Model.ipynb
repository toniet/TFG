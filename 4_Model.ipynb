{
 "cells": [
  {
   "cell_type": "markdown",
   "id": "95116fb2",
   "metadata": {},
   "source": [
    "# TFM. Modelo predictivo llamadas Call Center\n",
    "## Notebook 4 - Modelos de regresión"
   ]
  },
  {
   "cell_type": "markdown",
   "id": "ca1bc0ea",
   "metadata": {},
   "source": [
    "## Importacion de librerias "
   ]
  },
  {
   "cell_type": "code",
   "execution_count": 1,
   "id": "ea76beaf",
   "metadata": {},
   "outputs": [],
   "source": [
    "import pandas as pd\n",
    "import numpy as np\n",
    "import matplotlib.pyplot as plt\n",
    "\n",
    "pd.options.display.max_columns = None"
   ]
  },
  {
   "cell_type": "markdown",
   "id": "02c0ae64",
   "metadata": {},
   "source": [
    "## Carga de datos"
   ]
  },
  {
   "cell_type": "code",
   "execution_count": 2,
   "id": "a4cc6842",
   "metadata": {},
   "outputs": [],
   "source": [
    "df_data = pd.read_pickle('./data/df_data')"
   ]
  },
  {
   "cell_type": "code",
   "execution_count": 3,
   "id": "fe9643c0",
   "metadata": {},
   "outputs": [
    {
     "data": {
      "text/html": [
       "<div>\n",
       "<style scoped>\n",
       "    .dataframe tbody tr th:only-of-type {\n",
       "        vertical-align: middle;\n",
       "    }\n",
       "\n",
       "    .dataframe tbody tr th {\n",
       "        vertical-align: top;\n",
       "    }\n",
       "\n",
       "    .dataframe thead th {\n",
       "        text-align: right;\n",
       "    }\n",
       "</style>\n",
       "<table border=\"1\" class=\"dataframe\">\n",
       "  <thead>\n",
       "    <tr style=\"text-align: right;\">\n",
       "      <th></th>\n",
       "      <th>Fecha</th>\n",
       "      <th>Monday</th>\n",
       "      <th>Tuesday</th>\n",
       "      <th>Wednesday</th>\n",
       "      <th>Thursday</th>\n",
       "      <th>Friday</th>\n",
       "      <th>envioslag1</th>\n",
       "      <th>envioslag6</th>\n",
       "      <th>envioslag7</th>\n",
       "      <th>envioslag8</th>\n",
       "      <th>envios</th>\n",
       "      <th>sinlag1</th>\n",
       "      <th>coslag1</th>\n",
       "      <th>sinlag2</th>\n",
       "      <th>coslag2</th>\n",
       "      <th>sinlag3</th>\n",
       "      <th>coslag3</th>\n",
       "      <th>sinlag4</th>\n",
       "      <th>coslag4</th>\n",
       "      <th>sinlag5</th>\n",
       "      <th>coslag5</th>\n",
       "      <th>sinlag6</th>\n",
       "      <th>coslag6</th>\n",
       "      <th>sinlag7</th>\n",
       "      <th>coslag7</th>\n",
       "      <th>llamadaslag1</th>\n",
       "      <th>llamadaslag2</th>\n",
       "      <th>llamadaslag3</th>\n",
       "      <th>llamadaslag4</th>\n",
       "      <th>llamadaslag5</th>\n",
       "      <th>llamadaslag6</th>\n",
       "      <th>llamadaslag7</th>\n",
       "      <th>llamadas</th>\n",
       "    </tr>\n",
       "  </thead>\n",
       "  <tbody>\n",
       "    <tr>\n",
       "      <th>0</th>\n",
       "      <td>2019-01-14</td>\n",
       "      <td>1.0</td>\n",
       "      <td>0.0</td>\n",
       "      <td>0.0</td>\n",
       "      <td>0.0</td>\n",
       "      <td>0.0</td>\n",
       "      <td>23.0</td>\n",
       "      <td>3220.0</td>\n",
       "      <td>1408.0</td>\n",
       "      <td>1923.0</td>\n",
       "      <td>3237.0</td>\n",
       "      <td>3.921346e-15</td>\n",
       "      <td>1.0</td>\n",
       "      <td>-1.960673e-15</td>\n",
       "      <td>-1.0</td>\n",
       "      <td>8.660254e-01</td>\n",
       "      <td>-0.5</td>\n",
       "      <td>1.000000e+00</td>\n",
       "      <td>-9.803364e-16</td>\n",
       "      <td>-5.877853e-01</td>\n",
       "      <td>-0.809017</td>\n",
       "      <td>8.660254e-01</td>\n",
       "      <td>0.5</td>\n",
       "      <td>-7.818315e-01</td>\n",
       "      <td>0.623490</td>\n",
       "      <td>270.0</td>\n",
       "      <td>236.0</td>\n",
       "      <td>227.0</td>\n",
       "      <td>174.0</td>\n",
       "      <td>173.0</td>\n",
       "      <td>351.0</td>\n",
       "      <td>283.0</td>\n",
       "      <td>260.0</td>\n",
       "    </tr>\n",
       "    <tr>\n",
       "      <th>1</th>\n",
       "      <td>2019-01-15</td>\n",
       "      <td>0.0</td>\n",
       "      <td>1.0</td>\n",
       "      <td>0.0</td>\n",
       "      <td>0.0</td>\n",
       "      <td>0.0</td>\n",
       "      <td>3237.0</td>\n",
       "      <td>4595.0</td>\n",
       "      <td>3220.0</td>\n",
       "      <td>1408.0</td>\n",
       "      <td>2911.0</td>\n",
       "      <td>-3.429011e-15</td>\n",
       "      <td>1.0</td>\n",
       "      <td>-1.714506e-15</td>\n",
       "      <td>1.0</td>\n",
       "      <td>-8.660254e-01</td>\n",
       "      <td>-0.5</td>\n",
       "      <td>8.572528e-16</td>\n",
       "      <td>-1.000000e+00</td>\n",
       "      <td>-9.510565e-01</td>\n",
       "      <td>0.309017</td>\n",
       "      <td>8.660254e-01</td>\n",
       "      <td>-0.5</td>\n",
       "      <td>-4.898587e-16</td>\n",
       "      <td>1.000000</td>\n",
       "      <td>260.0</td>\n",
       "      <td>270.0</td>\n",
       "      <td>236.0</td>\n",
       "      <td>227.0</td>\n",
       "      <td>174.0</td>\n",
       "      <td>173.0</td>\n",
       "      <td>351.0</td>\n",
       "      <td>259.0</td>\n",
       "    </tr>\n",
       "    <tr>\n",
       "      <th>2</th>\n",
       "      <td>2019-01-16</td>\n",
       "      <td>0.0</td>\n",
       "      <td>0.0</td>\n",
       "      <td>1.0</td>\n",
       "      <td>0.0</td>\n",
       "      <td>0.0</td>\n",
       "      <td>2911.0</td>\n",
       "      <td>2924.0</td>\n",
       "      <td>4595.0</td>\n",
       "      <td>3220.0</td>\n",
       "      <td>2639.0</td>\n",
       "      <td>-1.077937e-14</td>\n",
       "      <td>1.0</td>\n",
       "      <td>5.389684e-15</td>\n",
       "      <td>-1.0</td>\n",
       "      <td>-4.777360e-15</td>\n",
       "      <td>1.0</td>\n",
       "      <td>-1.000000e+00</td>\n",
       "      <td>-2.694842e-15</td>\n",
       "      <td>-7.347881e-16</td>\n",
       "      <td>1.000000</td>\n",
       "      <td>2.388680e-15</td>\n",
       "      <td>-1.0</td>\n",
       "      <td>7.818315e-01</td>\n",
       "      <td>0.623490</td>\n",
       "      <td>259.0</td>\n",
       "      <td>260.0</td>\n",
       "      <td>270.0</td>\n",
       "      <td>236.0</td>\n",
       "      <td>227.0</td>\n",
       "      <td>174.0</td>\n",
       "      <td>173.0</td>\n",
       "      <td>227.0</td>\n",
       "    </tr>\n",
       "    <tr>\n",
       "      <th>3</th>\n",
       "      <td>2019-01-17</td>\n",
       "      <td>0.0</td>\n",
       "      <td>0.0</td>\n",
       "      <td>0.0</td>\n",
       "      <td>1.0</td>\n",
       "      <td>0.0</td>\n",
       "      <td>2639.0</td>\n",
       "      <td>289.0</td>\n",
       "      <td>2924.0</td>\n",
       "      <td>4595.0</td>\n",
       "      <td>2056.0</td>\n",
       "      <td>-3.918870e-15</td>\n",
       "      <td>1.0</td>\n",
       "      <td>-1.959435e-15</td>\n",
       "      <td>1.0</td>\n",
       "      <td>8.660254e-01</td>\n",
       "      <td>-0.5</td>\n",
       "      <td>-9.797174e-16</td>\n",
       "      <td>1.000000e+00</td>\n",
       "      <td>9.510565e-01</td>\n",
       "      <td>0.309017</td>\n",
       "      <td>-8.660254e-01</td>\n",
       "      <td>-0.5</td>\n",
       "      <td>9.749279e-01</td>\n",
       "      <td>-0.222521</td>\n",
       "      <td>227.0</td>\n",
       "      <td>259.0</td>\n",
       "      <td>260.0</td>\n",
       "      <td>270.0</td>\n",
       "      <td>236.0</td>\n",
       "      <td>227.0</td>\n",
       "      <td>174.0</td>\n",
       "      <td>142.0</td>\n",
       "    </tr>\n",
       "    <tr>\n",
       "      <th>4</th>\n",
       "      <td>2019-01-18</td>\n",
       "      <td>0.0</td>\n",
       "      <td>0.0</td>\n",
       "      <td>0.0</td>\n",
       "      <td>0.0</td>\n",
       "      <td>1.0</td>\n",
       "      <td>2056.0</td>\n",
       "      <td>2461.0</td>\n",
       "      <td>289.0</td>\n",
       "      <td>2924.0</td>\n",
       "      <td>2005.0</td>\n",
       "      <td>2.941628e-15</td>\n",
       "      <td>1.0</td>\n",
       "      <td>-1.470814e-15</td>\n",
       "      <td>-1.0</td>\n",
       "      <td>-8.660254e-01</td>\n",
       "      <td>-0.5</td>\n",
       "      <td>1.000000e+00</td>\n",
       "      <td>-7.354071e-16</td>\n",
       "      <td>5.877853e-01</td>\n",
       "      <td>-0.809017</td>\n",
       "      <td>-8.660254e-01</td>\n",
       "      <td>0.5</td>\n",
       "      <td>4.338837e-01</td>\n",
       "      <td>-0.900969</td>\n",
       "      <td>142.0</td>\n",
       "      <td>227.0</td>\n",
       "      <td>259.0</td>\n",
       "      <td>260.0</td>\n",
       "      <td>270.0</td>\n",
       "      <td>236.0</td>\n",
       "      <td>227.0</td>\n",
       "      <td>277.0</td>\n",
       "    </tr>\n",
       "  </tbody>\n",
       "</table>\n",
       "</div>"
      ],
      "text/plain": [
       "        Fecha  Monday  Tuesday  Wednesday  Thursday  Friday  envioslag1  \\\n",
       "0  2019-01-14     1.0      0.0        0.0       0.0     0.0        23.0   \n",
       "1  2019-01-15     0.0      1.0        0.0       0.0     0.0      3237.0   \n",
       "2  2019-01-16     0.0      0.0        1.0       0.0     0.0      2911.0   \n",
       "3  2019-01-17     0.0      0.0        0.0       1.0     0.0      2639.0   \n",
       "4  2019-01-18     0.0      0.0        0.0       0.0     1.0      2056.0   \n",
       "\n",
       "   envioslag6  envioslag7  envioslag8  envios       sinlag1  coslag1  \\\n",
       "0      3220.0      1408.0      1923.0  3237.0  3.921346e-15      1.0   \n",
       "1      4595.0      3220.0      1408.0  2911.0 -3.429011e-15      1.0   \n",
       "2      2924.0      4595.0      3220.0  2639.0 -1.077937e-14      1.0   \n",
       "3       289.0      2924.0      4595.0  2056.0 -3.918870e-15      1.0   \n",
       "4      2461.0       289.0      2924.0  2005.0  2.941628e-15      1.0   \n",
       "\n",
       "        sinlag2  coslag2       sinlag3  coslag3       sinlag4       coslag4  \\\n",
       "0 -1.960673e-15     -1.0  8.660254e-01     -0.5  1.000000e+00 -9.803364e-16   \n",
       "1 -1.714506e-15      1.0 -8.660254e-01     -0.5  8.572528e-16 -1.000000e+00   \n",
       "2  5.389684e-15     -1.0 -4.777360e-15      1.0 -1.000000e+00 -2.694842e-15   \n",
       "3 -1.959435e-15      1.0  8.660254e-01     -0.5 -9.797174e-16  1.000000e+00   \n",
       "4 -1.470814e-15     -1.0 -8.660254e-01     -0.5  1.000000e+00 -7.354071e-16   \n",
       "\n",
       "        sinlag5   coslag5       sinlag6  coslag6       sinlag7   coslag7  \\\n",
       "0 -5.877853e-01 -0.809017  8.660254e-01      0.5 -7.818315e-01  0.623490   \n",
       "1 -9.510565e-01  0.309017  8.660254e-01     -0.5 -4.898587e-16  1.000000   \n",
       "2 -7.347881e-16  1.000000  2.388680e-15     -1.0  7.818315e-01  0.623490   \n",
       "3  9.510565e-01  0.309017 -8.660254e-01     -0.5  9.749279e-01 -0.222521   \n",
       "4  5.877853e-01 -0.809017 -8.660254e-01      0.5  4.338837e-01 -0.900969   \n",
       "\n",
       "   llamadaslag1  llamadaslag2  llamadaslag3  llamadaslag4  llamadaslag5  \\\n",
       "0         270.0         236.0         227.0         174.0         173.0   \n",
       "1         260.0         270.0         236.0         227.0         174.0   \n",
       "2         259.0         260.0         270.0         236.0         227.0   \n",
       "3         227.0         259.0         260.0         270.0         236.0   \n",
       "4         142.0         227.0         259.0         260.0         270.0   \n",
       "\n",
       "   llamadaslag6  llamadaslag7  llamadas  \n",
       "0         351.0         283.0     260.0  \n",
       "1         173.0         351.0     259.0  \n",
       "2         174.0         173.0     227.0  \n",
       "3         227.0         174.0     142.0  \n",
       "4         236.0         227.0     277.0  "
      ]
     },
     "execution_count": 3,
     "metadata": {},
     "output_type": "execute_result"
    }
   ],
   "source": [
    "df_data.head()"
   ]
  },
  {
   "cell_type": "markdown",
   "id": "4360d7c2-72c0-4978-a193-47b1cc974442",
   "metadata": {},
   "source": [
    "# Tratamiento de la serie temporal con ML"
   ]
  },
  {
   "cell_type": "code",
   "execution_count": 4,
   "id": "012c42ec-05b3-4a3e-adbb-2e48b4bd7a1c",
   "metadata": {},
   "outputs": [],
   "source": [
    "from sklearn.model_selection import train_test_split\n",
    "from sklearn.metrics import mean_squared_error\n",
    "from sklearn.model_selection import cross_val_score"
   ]
  },
  {
   "cell_type": "code",
   "execution_count": 5,
   "id": "7c164c87",
   "metadata": {},
   "outputs": [],
   "source": [
    "X = df_data.iloc[:,1:-1]\n",
    "y = df_data['llamadas']\n",
    "\n",
    "X_train, X_test, y_train, y_test = train_test_split(X, y, test_size=0.20)"
   ]
  },
  {
   "cell_type": "code",
   "execution_count": 6,
   "id": "c1fc36c5-d1ea-4291-a95c-0bfd92b2e5f0",
   "metadata": {},
   "outputs": [],
   "source": [
    "result = pd.DataFrame()\n",
    "result['y_test'] = y_test"
   ]
  },
  {
   "cell_type": "code",
   "execution_count": 7,
   "id": "a5227e89-dc65-4c44-9686-4871565b3768",
   "metadata": {},
   "outputs": [
    {
     "data": {
      "text/plain": [
       "Index(['Monday', 'Tuesday', 'Wednesday', 'Thursday', 'Friday', 'envioslag1',\n",
       "       'envioslag6', 'envioslag7', 'envioslag8', 'envios', 'sinlag1',\n",
       "       'coslag1', 'sinlag2', 'coslag2', 'sinlag3', 'coslag3', 'sinlag4',\n",
       "       'coslag4', 'sinlag5', 'coslag5', 'sinlag6', 'coslag6', 'sinlag7',\n",
       "       'coslag7', 'llamadaslag1', 'llamadaslag2', 'llamadaslag3',\n",
       "       'llamadaslag4', 'llamadaslag5', 'llamadaslag6', 'llamadaslag7'],\n",
       "      dtype='object')"
      ]
     },
     "execution_count": 7,
     "metadata": {},
     "output_type": "execute_result"
    }
   ],
   "source": [
    "X_train.columns"
   ]
  },
  {
   "cell_type": "code",
   "execution_count": 8,
   "id": "f02f5ae5-9428-469b-a49f-eb1505c3c89d",
   "metadata": {},
   "outputs": [
    {
     "data": {
      "text/plain": [
       "Index(['Monday', 'Tuesday', 'Wednesday', 'Thursday', 'Friday', 'envioslag1',\n",
       "       'envioslag6', 'envioslag7', 'envioslag8', 'envios', 'sinlag1',\n",
       "       'coslag1', 'sinlag2', 'coslag2', 'sinlag3', 'coslag3', 'sinlag4',\n",
       "       'coslag4', 'sinlag5', 'coslag5', 'sinlag6', 'coslag6', 'sinlag7',\n",
       "       'coslag7', 'llamadaslag1', 'llamadaslag2', 'llamadaslag3',\n",
       "       'llamadaslag4', 'llamadaslag5', 'llamadaslag6', 'llamadaslag7'],\n",
       "      dtype='object')"
      ]
     },
     "execution_count": 8,
     "metadata": {},
     "output_type": "execute_result"
    }
   ],
   "source": [
    "X_test.columns"
   ]
  },
  {
   "cell_type": "markdown",
   "id": "533284c9-1bbb-4b98-86bc-a91ff855c4fc",
   "metadata": {},
   "source": [
    "### Normalizamos los datos"
   ]
  },
  {
   "cell_type": "code",
   "execution_count": 9,
   "id": "fc1b0991-34ee-40f5-9420-2a34b6e06085",
   "metadata": {},
   "outputs": [],
   "source": [
    "from sklearn.preprocessing import StandardScaler"
   ]
  },
  {
   "cell_type": "code",
   "execution_count": 10,
   "id": "c7fdf3cb-2ef4-4ce7-9a63-9f150353e11e",
   "metadata": {
    "tags": []
   },
   "outputs": [],
   "source": [
    "scaler = StandardScaler()\n",
    "\n",
    "## y_train = np.log1p(y_train)\n",
    "## y_test = np.log1p(y_test)\n",
    "\n",
    "X_train = scaler.fit_transform(X_train)\n",
    "X_test = scaler.transform(X_test)\n",
    "X = scaler.transform(X)"
   ]
  },
  {
   "cell_type": "markdown",
   "id": "fced95ea-ec9e-496c-98aa-8399991678ca",
   "metadata": {},
   "source": [
    "## Regresión Lineal"
   ]
  },
  {
   "cell_type": "code",
   "execution_count": 11,
   "id": "141c5bac",
   "metadata": {},
   "outputs": [],
   "source": [
    "from sklearn.linear_model import LinearRegression"
   ]
  },
  {
   "cell_type": "code",
   "execution_count": 12,
   "id": "621bc285",
   "metadata": {},
   "outputs": [],
   "source": [
    "# Regresor\n",
    "regl = LinearRegression()"
   ]
  },
  {
   "cell_type": "code",
   "execution_count": 13,
   "id": "79908178",
   "metadata": {},
   "outputs": [
    {
     "data": {
      "text/plain": [
       "LinearRegression()"
      ]
     },
     "execution_count": 13,
     "metadata": {},
     "output_type": "execute_result"
    }
   ],
   "source": [
    "regl.fit(X_train, y_train)"
   ]
  },
  {
   "cell_type": "code",
   "execution_count": 14,
   "id": "8ae929a8",
   "metadata": {},
   "outputs": [],
   "source": [
    "pred_regl = regl.predict(X_test)"
   ]
  },
  {
   "cell_type": "markdown",
   "id": "794f7075-b690-41fc-b26d-816591565b03",
   "metadata": {},
   "source": [
    "### Resultados regresión lineal"
   ]
  },
  {
   "cell_type": "code",
   "execution_count": 15,
   "id": "92ce988e-4b41-4c57-bb8f-b8a8c61e9765",
   "metadata": {},
   "outputs": [
    {
     "name": "stdout",
     "output_type": "stream",
     "text": [
      "51.02463786759685\n"
     ]
    }
   ],
   "source": [
    "rmse_regl = mean_squared_error(y_test, pred_regl, squared=False)\n",
    "print(rmse_regl)"
   ]
  },
  {
   "cell_type": "code",
   "execution_count": 16,
   "id": "3fc1e09b-88fd-4b85-9f08-73a211a26820",
   "metadata": {
    "tags": []
   },
   "outputs": [],
   "source": [
    "result['pred_regl'] = pred_regl"
   ]
  },
  {
   "cell_type": "code",
   "execution_count": 17,
   "id": "f23a5acb-dc5f-4ab9-84e2-b64fae1dc4ae",
   "metadata": {},
   "outputs": [],
   "source": [
    "result['error_regl'] = result['y_test'] - result['pred_regl']"
   ]
  },
  {
   "cell_type": "code",
   "execution_count": 18,
   "id": "dae5515a-5437-4f13-8ebe-781ad3dfaafa",
   "metadata": {},
   "outputs": [],
   "source": [
    "result['regl_MSE'] = rmse_regl"
   ]
  },
  {
   "cell_type": "code",
   "execution_count": 19,
   "id": "83b62dca-49f0-4655-ac9f-e64ba2b2ff4c",
   "metadata": {},
   "outputs": [
    {
     "data": {
      "text/html": [
       "<div>\n",
       "<style scoped>\n",
       "    .dataframe tbody tr th:only-of-type {\n",
       "        vertical-align: middle;\n",
       "    }\n",
       "\n",
       "    .dataframe tbody tr th {\n",
       "        vertical-align: top;\n",
       "    }\n",
       "\n",
       "    .dataframe thead th {\n",
       "        text-align: right;\n",
       "    }\n",
       "</style>\n",
       "<table border=\"1\" class=\"dataframe\">\n",
       "  <thead>\n",
       "    <tr style=\"text-align: right;\">\n",
       "      <th></th>\n",
       "      <th>y_test</th>\n",
       "      <th>pred_regl</th>\n",
       "      <th>error_regl</th>\n",
       "      <th>regl_MSE</th>\n",
       "    </tr>\n",
       "  </thead>\n",
       "  <tbody>\n",
       "    <tr>\n",
       "      <th>422</th>\n",
       "      <td>138.0</td>\n",
       "      <td>116.755445</td>\n",
       "      <td>21.244555</td>\n",
       "      <td>51.024638</td>\n",
       "    </tr>\n",
       "    <tr>\n",
       "      <th>255</th>\n",
       "      <td>214.0</td>\n",
       "      <td>223.693344</td>\n",
       "      <td>-9.693344</td>\n",
       "      <td>51.024638</td>\n",
       "    </tr>\n",
       "    <tr>\n",
       "      <th>502</th>\n",
       "      <td>217.0</td>\n",
       "      <td>124.823184</td>\n",
       "      <td>92.176816</td>\n",
       "      <td>51.024638</td>\n",
       "    </tr>\n",
       "    <tr>\n",
       "      <th>491</th>\n",
       "      <td>170.0</td>\n",
       "      <td>206.471065</td>\n",
       "      <td>-36.471065</td>\n",
       "      <td>51.024638</td>\n",
       "    </tr>\n",
       "    <tr>\n",
       "      <th>520</th>\n",
       "      <td>109.0</td>\n",
       "      <td>108.676980</td>\n",
       "      <td>0.323020</td>\n",
       "      <td>51.024638</td>\n",
       "    </tr>\n",
       "  </tbody>\n",
       "</table>\n",
       "</div>"
      ],
      "text/plain": [
       "     y_test   pred_regl  error_regl   regl_MSE\n",
       "422   138.0  116.755445   21.244555  51.024638\n",
       "255   214.0  223.693344   -9.693344  51.024638\n",
       "502   217.0  124.823184   92.176816  51.024638\n",
       "491   170.0  206.471065  -36.471065  51.024638\n",
       "520   109.0  108.676980    0.323020  51.024638"
      ]
     },
     "execution_count": 19,
     "metadata": {},
     "output_type": "execute_result"
    }
   ],
   "source": [
    "result.head()"
   ]
  },
  {
   "cell_type": "code",
   "execution_count": 20,
   "id": "bce1433e-c2fd-483b-a8ea-3ea0d9128aed",
   "metadata": {},
   "outputs": [
    {
     "data": {
      "text/plain": [
       "<AxesSubplot:>"
      ]
     },
     "execution_count": 20,
     "metadata": {},
     "output_type": "execute_result"
    },
    {
     "data": {
      "image/png": "[encoded data removed]",
      "text/plain": [
       "<Figure size 432x288 with 1 Axes>"
      ]
     },
     "metadata": {
      "needs_background": "light"
     },
     "output_type": "display_data"
    }
   ],
   "source": [
    "result['error_regl'].hist(bins=20)"
   ]
  },
  {
   "cell_type": "code",
   "execution_count": 21,
   "id": "84c13bc7-4dcb-42a4-8644-ca12a1c40a01",
   "metadata": {},
   "outputs": [
    {
     "data": {
      "text/plain": [
       "count    110.000000\n",
       "mean       2.728264\n",
       "std       51.184836\n",
       "min     -258.919704\n",
       "25%      -15.213499\n",
       "50%        0.059301\n",
       "75%       27.721989\n",
       "max      158.339812\n",
       "Name: error_regl, dtype: float64"
      ]
     },
     "execution_count": 21,
     "metadata": {},
     "output_type": "execute_result"
    }
   ],
   "source": [
    "result['error_regl'].describe()"
   ]
  },
  {
   "cell_type": "markdown",
   "id": "18eb7110-30ff-41ec-825f-1a6239436fc4",
   "metadata": {},
   "source": [
    "#### Representar modelo de predicción"
   ]
  },
  {
   "cell_type": "code",
   "execution_count": 22,
   "id": "c72a7623",
   "metadata": {},
   "outputs": [],
   "source": [
    "'''analisisX = df_data.iloc[:,-1].reset_index()\n",
    "analisisX = analisisX['llamadas']'''\n",
    "\n",
    "analisisRegl = regl.predict(X)\n",
    "analisisRegl = pd.DataFrame(analisisRegl)"
   ]
  },
  {
   "cell_type": "code",
   "execution_count": 23,
   "id": "689ef70d",
   "metadata": {
    "scrolled": true
   },
   "outputs": [
    {
     "data": {
      "text/plain": [
       "[<matplotlib.lines.Line2D at 0x1aebf67e8b0>]"
      ]
     },
     "execution_count": 23,
     "metadata": {},
     "output_type": "execute_result"
    },
    {
     "data": {
      "image/png": "[encoded data removed]",
      "text/plain": [
       "<Figure size 432x288 with 1 Axes>"
      ]
     },
     "metadata": {
      "needs_background": "light"
     },
     "output_type": "display_data"
    }
   ],
   "source": [
    "plt.plot(y, c='green')\n",
    "plt.plot(analisisRegl, c='red')"
   ]
  },
  {
   "cell_type": "markdown",
   "id": "b72933d5-5301-4000-b084-779879c2a415",
   "metadata": {},
   "source": [
    "# Cross-Val-Score REGLINEAL"
   ]
  },
  {
   "cell_type": "code",
   "execution_count": 24,
   "id": "ebbce40c-fd75-4435-9cc5-58f1f27432f3",
   "metadata": {},
   "outputs": [
    {
     "name": "stdout",
     "output_type": "stream",
     "text": [
      "34.14347923056962\n"
     ]
    }
   ],
   "source": [
    "lin_score = cross_val_score(regl, X_train, y_train, cv=100, scoring = 'neg_mean_squared_error')\n",
    "lin_score_n = -lin_score\n",
    "cvs_regl = np.mean(np.sqrt(lin_score_n))\n",
    "result['cvs_regl'] = cvs_regl\n",
    "print(cvs_regl)"
   ]
  },
  {
   "cell_type": "markdown",
   "id": "38c93fbe-b741-44ed-a1db-593544dbd5ce",
   "metadata": {},
   "source": [
    "## K-vecinos"
   ]
  },
  {
   "cell_type": "code",
   "execution_count": 25,
   "id": "1863d717",
   "metadata": {},
   "outputs": [],
   "source": [
    "from sklearn.neighbors import KNeighborsRegressor\n",
    "from sklearn.model_selection import GridSearchCV"
   ]
  },
  {
   "cell_type": "markdown",
   "id": "797de646-4541-41ea-9d1c-742f12350453",
   "metadata": {},
   "source": [
    "#### Buscamos el mejor ajuste del modelo de K-vecinos"
   ]
  },
  {
   "cell_type": "code",
   "execution_count": 26,
   "id": "891df9bd",
   "metadata": {},
   "outputs": [],
   "source": [
    "reg_gs = GridSearchCV(KNeighborsRegressor(),\n",
    "                        param_grid={\"n_neighbors\":np.arange(1,50)})"
   ]
  },
  {
   "cell_type": "code",
   "execution_count": 27,
   "id": "b107eb3c",
   "metadata": {},
   "outputs": [
    {
     "data": {
      "text/plain": [
       "GridSearchCV(estimator=KNeighborsRegressor(),\n",
       "             param_grid={'n_neighbors': array([ 1,  2,  3,  4,  5,  6,  7,  8,  9, 10, 11, 12, 13, 14, 15, 16, 17,\n",
       "       18, 19, 20, 21, 22, 23, 24, 25, 26, 27, 28, 29, 30, 31, 32, 33, 34,\n",
       "       35, 36, 37, 38, 39, 40, 41, 42, 43, 44, 45, 46, 47, 48, 49])})"
      ]
     },
     "execution_count": 27,
     "metadata": {},
     "output_type": "execute_result"
    }
   ],
   "source": [
    "reg_gs.fit(X,y)"
   ]
  },
  {
   "cell_type": "code",
   "execution_count": 28,
   "id": "87336782",
   "metadata": {},
   "outputs": [
    {
     "data": {
      "text/plain": [
       "({'n_neighbors': 24}, 0.23093156115671776)"
      ]
     },
     "execution_count": 28,
     "metadata": {},
     "output_type": "execute_result"
    }
   ],
   "source": [
    "reg_gs.best_params_, reg_gs.best_score_"
   ]
  },
  {
   "cell_type": "code",
   "execution_count": 29,
   "id": "68efa217",
   "metadata": {},
   "outputs": [],
   "source": [
    "# Regresor\n",
    "regk = KNeighborsRegressor(n_neighbors=17)"
   ]
  },
  {
   "cell_type": "code",
   "execution_count": 30,
   "id": "da20d1de",
   "metadata": {},
   "outputs": [
    {
     "data": {
      "text/plain": [
       "KNeighborsRegressor(n_neighbors=17)"
      ]
     },
     "execution_count": 30,
     "metadata": {},
     "output_type": "execute_result"
    }
   ],
   "source": [
    "regk.fit(X_train,y_train)"
   ]
  },
  {
   "cell_type": "code",
   "execution_count": 31,
   "id": "2299b0ad",
   "metadata": {},
   "outputs": [],
   "source": [
    "pred_regk = regk.predict(X_test)"
   ]
  },
  {
   "cell_type": "markdown",
   "id": "5a7857ef-5b68-437d-8795-4e7ec4bce692",
   "metadata": {},
   "source": [
    "### Resultados K-vecinos"
   ]
  },
  {
   "cell_type": "code",
   "execution_count": 32,
   "id": "8e4fe490-6288-4fd2-b3f8-8ddc14efb137",
   "metadata": {},
   "outputs": [
    {
     "name": "stdout",
     "output_type": "stream",
     "text": [
      "64.72672391622594\n"
     ]
    }
   ],
   "source": [
    "rmse_regk = mean_squared_error(y_test, pred_regk, squared=False)\n",
    "print(rmse_regk)"
   ]
  },
  {
   "cell_type": "code",
   "execution_count": 33,
   "id": "27ac3280-f800-4e60-adba-a048a83954ba",
   "metadata": {
    "tags": []
   },
   "outputs": [],
   "source": [
    "result['pred_regk'] = pred_regk"
   ]
  },
  {
   "cell_type": "code",
   "execution_count": 34,
   "id": "68581b68-85e9-4d0c-aa65-4c0ba7797395",
   "metadata": {},
   "outputs": [],
   "source": [
    "result['error_regk'] = result['y_test'] - result['pred_regk']"
   ]
  },
  {
   "cell_type": "code",
   "execution_count": 35,
   "id": "23bcfe7f-5125-47aa-80d2-e7e09f841f6d",
   "metadata": {},
   "outputs": [],
   "source": [
    "result['regk_MSE'] = rmse_regk"
   ]
  },
  {
   "cell_type": "code",
   "execution_count": 36,
   "id": "bafdaec0-e52b-459d-8d6c-d392854f1d9c",
   "metadata": {},
   "outputs": [
    {
     "data": {
      "text/html": [
       "<div>\n",
       "<style scoped>\n",
       "    .dataframe tbody tr th:only-of-type {\n",
       "        vertical-align: middle;\n",
       "    }\n",
       "\n",
       "    .dataframe tbody tr th {\n",
       "        vertical-align: top;\n",
       "    }\n",
       "\n",
       "    .dataframe thead th {\n",
       "        text-align: right;\n",
       "    }\n",
       "</style>\n",
       "<table border=\"1\" class=\"dataframe\">\n",
       "  <thead>\n",
       "    <tr style=\"text-align: right;\">\n",
       "      <th></th>\n",
       "      <th>y_test</th>\n",
       "      <th>pred_regl</th>\n",
       "      <th>error_regl</th>\n",
       "      <th>regl_MSE</th>\n",
       "      <th>cvs_regl</th>\n",
       "      <th>pred_regk</th>\n",
       "      <th>error_regk</th>\n",
       "      <th>regk_MSE</th>\n",
       "    </tr>\n",
       "  </thead>\n",
       "  <tbody>\n",
       "    <tr>\n",
       "      <th>422</th>\n",
       "      <td>138.0</td>\n",
       "      <td>116.755445</td>\n",
       "      <td>21.244555</td>\n",
       "      <td>51.024638</td>\n",
       "      <td>34.143479</td>\n",
       "      <td>154.647059</td>\n",
       "      <td>-16.647059</td>\n",
       "      <td>64.726724</td>\n",
       "    </tr>\n",
       "    <tr>\n",
       "      <th>255</th>\n",
       "      <td>214.0</td>\n",
       "      <td>223.693344</td>\n",
       "      <td>-9.693344</td>\n",
       "      <td>51.024638</td>\n",
       "      <td>34.143479</td>\n",
       "      <td>218.882353</td>\n",
       "      <td>-4.882353</td>\n",
       "      <td>64.726724</td>\n",
       "    </tr>\n",
       "    <tr>\n",
       "      <th>502</th>\n",
       "      <td>217.0</td>\n",
       "      <td>124.823184</td>\n",
       "      <td>92.176816</td>\n",
       "      <td>51.024638</td>\n",
       "      <td>34.143479</td>\n",
       "      <td>169.352941</td>\n",
       "      <td>47.647059</td>\n",
       "      <td>64.726724</td>\n",
       "    </tr>\n",
       "    <tr>\n",
       "      <th>491</th>\n",
       "      <td>170.0</td>\n",
       "      <td>206.471065</td>\n",
       "      <td>-36.471065</td>\n",
       "      <td>51.024638</td>\n",
       "      <td>34.143479</td>\n",
       "      <td>237.352941</td>\n",
       "      <td>-67.352941</td>\n",
       "      <td>64.726724</td>\n",
       "    </tr>\n",
       "    <tr>\n",
       "      <th>520</th>\n",
       "      <td>109.0</td>\n",
       "      <td>108.676980</td>\n",
       "      <td>0.323020</td>\n",
       "      <td>51.024638</td>\n",
       "      <td>34.143479</td>\n",
       "      <td>137.882353</td>\n",
       "      <td>-28.882353</td>\n",
       "      <td>64.726724</td>\n",
       "    </tr>\n",
       "  </tbody>\n",
       "</table>\n",
       "</div>"
      ],
      "text/plain": [
       "     y_test   pred_regl  error_regl   regl_MSE   cvs_regl   pred_regk  \\\n",
       "422   138.0  116.755445   21.244555  51.024638  34.143479  154.647059   \n",
       "255   214.0  223.693344   -9.693344  51.024638  34.143479  218.882353   \n",
       "502   217.0  124.823184   92.176816  51.024638  34.143479  169.352941   \n",
       "491   170.0  206.471065  -36.471065  51.024638  34.143479  237.352941   \n",
       "520   109.0  108.676980    0.323020  51.024638  34.143479  137.882353   \n",
       "\n",
       "     error_regk   regk_MSE  \n",
       "422  -16.647059  64.726724  \n",
       "255   -4.882353  64.726724  \n",
       "502   47.647059  64.726724  \n",
       "491  -67.352941  64.726724  \n",
       "520  -28.882353  64.726724  "
      ]
     },
     "execution_count": 36,
     "metadata": {},
     "output_type": "execute_result"
    }
   ],
   "source": [
    "result.head()"
   ]
  },
  {
   "cell_type": "code",
   "execution_count": 37,
   "id": "093fce2d-695d-4655-86fd-a3f97e17ef7d",
   "metadata": {},
   "outputs": [
    {
     "data": {
      "text/plain": [
       "<AxesSubplot:>"
      ]
     },
     "execution_count": 37,
     "metadata": {},
     "output_type": "execute_result"
    },
    {
     "data": {
      "image/png": "[encoded data removed]",
      "text/plain": [
       "<Figure size 432x288 with 1 Axes>"
      ]
     },
     "metadata": {
      "needs_background": "light"
     },
     "output_type": "display_data"
    }
   ],
   "source": [
    "result['error_regk'].hist(bins=20)"
   ]
  },
  {
   "cell_type": "code",
   "execution_count": 38,
   "id": "7e6ca9e3-1637-49f7-972e-43f52a64c332",
   "metadata": {},
   "outputs": [
    {
     "data": {
      "text/plain": [
       "count    110.000000\n",
       "mean       5.651337\n",
       "std       64.774643\n",
       "min     -178.117647\n",
       "25%      -39.676471\n",
       "50%       -3.764706\n",
       "75%       41.500000\n",
       "max      221.588235\n",
       "Name: error_regk, dtype: float64"
      ]
     },
     "execution_count": 38,
     "metadata": {},
     "output_type": "execute_result"
    }
   ],
   "source": [
    "result['error_regk'].describe()"
   ]
  },
  {
   "cell_type": "markdown",
   "id": "f4f0fdea-8de7-497f-b316-13a2fa84f1a9",
   "metadata": {},
   "source": [
    "#### Representar modelo de predicción"
   ]
  },
  {
   "cell_type": "code",
   "execution_count": 39,
   "id": "1a2311ad",
   "metadata": {},
   "outputs": [
    {
     "data": {
      "text/plain": [
       "[<matplotlib.lines.Line2D at 0x1aebf8ad250>]"
      ]
     },
     "execution_count": 39,
     "metadata": {},
     "output_type": "execute_result"
    },
    {
     "data": {
      "image/png": "[encoded data removed]",
      "text/plain": [
       "<Figure size 432x288 with 1 Axes>"
      ]
     },
     "metadata": {
      "needs_background": "light"
     },
     "output_type": "display_data"
    }
   ],
   "source": [
    "analisisRegk = regk.predict(X)\n",
    "analisisRegk = pd.DataFrame(analisisRegk)\n",
    "\n",
    "plt.plot(y, c='green')\n",
    "plt.plot(analisisRegk, c='red')"
   ]
  },
  {
   "cell_type": "markdown",
   "id": "0b57317e-daea-4779-b400-2d42d64b6280",
   "metadata": {},
   "source": [
    "# Cross-Val-Score K-Vecinos"
   ]
  },
  {
   "cell_type": "code",
   "execution_count": 40,
   "id": "884ebe27-5b30-4352-8bd3-be66ce74676b",
   "metadata": {},
   "outputs": [
    {
     "name": "stdout",
     "output_type": "stream",
     "text": [
      "57.00091578997176\n"
     ]
    }
   ],
   "source": [
    "lin_score = cross_val_score(regk, X_train, y_train, cv=100, scoring = 'neg_mean_squared_error')\n",
    "lin_score_n = -lin_score\n",
    "cvs_regk = np.mean(np.sqrt(lin_score_n))\n",
    "result['cvs_regk'] = cvs_regk\n",
    "print(cvs_regk)"
   ]
  },
  {
   "cell_type": "markdown",
   "id": "5708f029-4781-41cf-81af-ea87c55167f7",
   "metadata": {},
   "source": [
    "## XGBoost"
   ]
  },
  {
   "cell_type": "code",
   "execution_count": 41,
   "id": "bc9467a9-98cc-404d-ba54-0cddf8d9dac5",
   "metadata": {},
   "outputs": [],
   "source": [
    "import xgboost as xgb"
   ]
  },
  {
   "cell_type": "code",
   "execution_count": 42,
   "id": "f8c3cf5c-fd2f-4d82-ab1b-b0d32636dd75",
   "metadata": {},
   "outputs": [],
   "source": [
    "# Regresor\n",
    "regXGB = xgb.XGBRegressor()"
   ]
  },
  {
   "cell_type": "code",
   "execution_count": 43,
   "id": "32d188e8-c420-4907-b375-ff1402c86d81",
   "metadata": {},
   "outputs": [
    {
     "data": {
      "text/plain": [
       "XGBRegressor(base_score=0.5, booster='gbtree', colsample_bylevel=1,\n",
       "             colsample_bynode=1, colsample_bytree=1, gamma=0, gpu_id=-1,\n",
       "             importance_type='gain', interaction_constraints='',\n",
       "             learning_rate=0.300000012, max_delta_step=0, max_depth=6,\n",
       "             min_child_weight=1, missing=nan, monotone_constraints='()',\n",
       "             n_estimators=100, n_jobs=4, num_parallel_tree=1, random_state=0,\n",
       "             reg_alpha=0, reg_lambda=1, scale_pos_weight=1, subsample=1,\n",
       "             tree_method='exact', validate_parameters=1, verbosity=None)"
      ]
     },
     "execution_count": 43,
     "metadata": {},
     "output_type": "execute_result"
    }
   ],
   "source": [
    "regXGB.fit(X_train, y_train)"
   ]
  },
  {
   "cell_type": "code",
   "execution_count": 44,
   "id": "cd903df4-5d70-42d6-a6e2-b44a6b04c484",
   "metadata": {},
   "outputs": [],
   "source": [
    "pred_regXGB = regXGB.predict(X_test)"
   ]
  },
  {
   "cell_type": "markdown",
   "id": "f8f5137e-9e84-4eaf-94ca-4ab95cb1d82c",
   "metadata": {},
   "source": [
    "### Resultados XGBoost"
   ]
  },
  {
   "cell_type": "code",
   "execution_count": 45,
   "id": "424d0416-94cd-4047-a94d-d7078efa47cc",
   "metadata": {},
   "outputs": [
    {
     "name": "stdout",
     "output_type": "stream",
     "text": [
      "55.45784689217884\n"
     ]
    }
   ],
   "source": [
    "rmse_regXGB = mean_squared_error(y_test, pred_regXGB, squared=False)\n",
    "print(rmse_regXGB)"
   ]
  },
  {
   "cell_type": "code",
   "execution_count": 46,
   "id": "1df75b74-409e-4c08-a659-b136e9cd7578",
   "metadata": {
    "tags": []
   },
   "outputs": [],
   "source": [
    "result['pred_regXGB'] = pred_regXGB"
   ]
  },
  {
   "cell_type": "code",
   "execution_count": 47,
   "id": "e46dc6b8-761b-48c7-b210-73d20800c682",
   "metadata": {},
   "outputs": [],
   "source": [
    "result['error_regXGB'] = result['y_test'] - result['pred_regXGB']"
   ]
  },
  {
   "cell_type": "code",
   "execution_count": 48,
   "id": "99ef4e26-b77b-4b91-a3fc-993d8854721b",
   "metadata": {},
   "outputs": [],
   "source": [
    "result['regXGB_MSE'] = rmse_regXGB"
   ]
  },
  {
   "cell_type": "code",
   "execution_count": 49,
   "id": "49293265-368e-462f-af71-21adc0d1afa1",
   "metadata": {},
   "outputs": [
    {
     "data": {
      "text/html": [
       "<div>\n",
       "<style scoped>\n",
       "    .dataframe tbody tr th:only-of-type {\n",
       "        vertical-align: middle;\n",
       "    }\n",
       "\n",
       "    .dataframe tbody tr th {\n",
       "        vertical-align: top;\n",
       "    }\n",
       "\n",
       "    .dataframe thead th {\n",
       "        text-align: right;\n",
       "    }\n",
       "</style>\n",
       "<table border=\"1\" class=\"dataframe\">\n",
       "  <thead>\n",
       "    <tr style=\"text-align: right;\">\n",
       "      <th></th>\n",
       "      <th>y_test</th>\n",
       "      <th>pred_regl</th>\n",
       "      <th>error_regl</th>\n",
       "      <th>regl_MSE</th>\n",
       "      <th>cvs_regl</th>\n",
       "      <th>pred_regk</th>\n",
       "      <th>error_regk</th>\n",
       "      <th>regk_MSE</th>\n",
       "      <th>cvs_regk</th>\n",
       "      <th>pred_regXGB</th>\n",
       "      <th>error_regXGB</th>\n",
       "      <th>regXGB_MSE</th>\n",
       "    </tr>\n",
       "  </thead>\n",
       "  <tbody>\n",
       "    <tr>\n",
       "      <th>422</th>\n",
       "      <td>138.0</td>\n",
       "      <td>116.755445</td>\n",
       "      <td>21.244555</td>\n",
       "      <td>51.024638</td>\n",
       "      <td>34.143479</td>\n",
       "      <td>154.647059</td>\n",
       "      <td>-16.647059</td>\n",
       "      <td>64.726724</td>\n",
       "      <td>57.000916</td>\n",
       "      <td>113.935463</td>\n",
       "      <td>24.064537</td>\n",
       "      <td>55.457847</td>\n",
       "    </tr>\n",
       "    <tr>\n",
       "      <th>255</th>\n",
       "      <td>214.0</td>\n",
       "      <td>223.693344</td>\n",
       "      <td>-9.693344</td>\n",
       "      <td>51.024638</td>\n",
       "      <td>34.143479</td>\n",
       "      <td>218.882353</td>\n",
       "      <td>-4.882353</td>\n",
       "      <td>64.726724</td>\n",
       "      <td>57.000916</td>\n",
       "      <td>202.943390</td>\n",
       "      <td>11.056610</td>\n",
       "      <td>55.457847</td>\n",
       "    </tr>\n",
       "    <tr>\n",
       "      <th>502</th>\n",
       "      <td>217.0</td>\n",
       "      <td>124.823184</td>\n",
       "      <td>92.176816</td>\n",
       "      <td>51.024638</td>\n",
       "      <td>34.143479</td>\n",
       "      <td>169.352941</td>\n",
       "      <td>47.647059</td>\n",
       "      <td>64.726724</td>\n",
       "      <td>57.000916</td>\n",
       "      <td>138.068298</td>\n",
       "      <td>78.931702</td>\n",
       "      <td>55.457847</td>\n",
       "    </tr>\n",
       "    <tr>\n",
       "      <th>491</th>\n",
       "      <td>170.0</td>\n",
       "      <td>206.471065</td>\n",
       "      <td>-36.471065</td>\n",
       "      <td>51.024638</td>\n",
       "      <td>34.143479</td>\n",
       "      <td>237.352941</td>\n",
       "      <td>-67.352941</td>\n",
       "      <td>64.726724</td>\n",
       "      <td>57.000916</td>\n",
       "      <td>207.591919</td>\n",
       "      <td>-37.591919</td>\n",
       "      <td>55.457847</td>\n",
       "    </tr>\n",
       "    <tr>\n",
       "      <th>520</th>\n",
       "      <td>109.0</td>\n",
       "      <td>108.676980</td>\n",
       "      <td>0.323020</td>\n",
       "      <td>51.024638</td>\n",
       "      <td>34.143479</td>\n",
       "      <td>137.882353</td>\n",
       "      <td>-28.882353</td>\n",
       "      <td>64.726724</td>\n",
       "      <td>57.000916</td>\n",
       "      <td>87.836830</td>\n",
       "      <td>21.163170</td>\n",
       "      <td>55.457847</td>\n",
       "    </tr>\n",
       "  </tbody>\n",
       "</table>\n",
       "</div>"
      ],
      "text/plain": [
       "     y_test   pred_regl  error_regl   regl_MSE   cvs_regl   pred_regk  \\\n",
       "422   138.0  116.755445   21.244555  51.024638  34.143479  154.647059   \n",
       "255   214.0  223.693344   -9.693344  51.024638  34.143479  218.882353   \n",
       "502   217.0  124.823184   92.176816  51.024638  34.143479  169.352941   \n",
       "491   170.0  206.471065  -36.471065  51.024638  34.143479  237.352941   \n",
       "520   109.0  108.676980    0.323020  51.024638  34.143479  137.882353   \n",
       "\n",
       "     error_regk   regk_MSE   cvs_regk  pred_regXGB  error_regXGB  regXGB_MSE  \n",
       "422  -16.647059  64.726724  57.000916   113.935463     24.064537   55.457847  \n",
       "255   -4.882353  64.726724  57.000916   202.943390     11.056610   55.457847  \n",
       "502   47.647059  64.726724  57.000916   138.068298     78.931702   55.457847  \n",
       "491  -67.352941  64.726724  57.000916   207.591919    -37.591919   55.457847  \n",
       "520  -28.882353  64.726724  57.000916    87.836830     21.163170   55.457847  "
      ]
     },
     "execution_count": 49,
     "metadata": {},
     "output_type": "execute_result"
    }
   ],
   "source": [
    "result.head()"
   ]
  },
  {
   "cell_type": "code",
   "execution_count": 50,
   "id": "6bfdf051-96b9-4373-9a67-7c1bd2c811df",
   "metadata": {},
   "outputs": [
    {
     "data": {
      "text/plain": [
       "<AxesSubplot:>"
      ]
     },
     "execution_count": 50,
     "metadata": {},
     "output_type": "execute_result"
    },
    {
     "data": {
      "image/png": "[encoded data removed]",
      "text/plain": [
       "<Figure size 432x288 with 1 Axes>"
      ]
     },
     "metadata": {
      "needs_background": "light"
     },
     "output_type": "display_data"
    }
   ],
   "source": [
    "result['error_regXGB'].hist(bins=20)"
   ]
  },
  {
   "cell_type": "code",
   "execution_count": 51,
   "id": "d42a5716-12de-445b-b04c-5fb69568c401",
   "metadata": {},
   "outputs": [
    {
     "data": {
      "text/plain": [
       "count    110.000000\n",
       "mean       3.409148\n",
       "std       55.606296\n",
       "min     -274.168152\n",
       "25%      -21.727608\n",
       "50%       12.848927\n",
       "75%       27.454943\n",
       "max      167.938416\n",
       "Name: error_regXGB, dtype: float64"
      ]
     },
     "execution_count": 51,
     "metadata": {},
     "output_type": "execute_result"
    }
   ],
   "source": [
    "result['error_regXGB'].describe()"
   ]
  },
  {
   "cell_type": "markdown",
   "id": "c446f991-ad33-48f1-917b-cc8373599626",
   "metadata": {},
   "source": [
    "#### Representar modelo de predicción"
   ]
  },
  {
   "cell_type": "code",
   "execution_count": 52,
   "id": "c363e4ac-6b89-4d81-bec4-4065b018ded5",
   "metadata": {},
   "outputs": [],
   "source": [
    "'''analisisX = df_data.iloc[:,-1].reset_index()\n",
    "analisisX = analisisX['llamadas']'''\n",
    "\n",
    "analisisRegXGB = regXGB.predict(X)\n",
    "analisisRegXGB = pd.DataFrame(analisisRegXGB)"
   ]
  },
  {
   "cell_type": "code",
   "execution_count": 53,
   "id": "1238bd18-93b0-4fbb-ab73-17f9ddc22f8b",
   "metadata": {
    "scrolled": true
   },
   "outputs": [
    {
     "data": {
      "text/plain": [
       "[<matplotlib.lines.Line2D at 0x1aebfbae430>]"
      ]
     },
     "execution_count": 53,
     "metadata": {},
     "output_type": "execute_result"
    },
    {
     "data": {
      "image/png": "[encoded data removed]",
      "text/plain": [
       "<Figure size 432x288 with 1 Axes>"
      ]
     },
     "metadata": {
      "needs_background": "light"
     },
     "output_type": "display_data"
    }
   ],
   "source": [
    "plt.plot(y, c='green')\n",
    "plt.plot(analisisRegXGB, c='red')"
   ]
  },
  {
   "cell_type": "markdown",
   "id": "6960fcdc-fc6a-4b84-8193-23097c204b34",
   "metadata": {},
   "source": [
    "# Cross-Val-Score XGBoost"
   ]
  },
  {
   "cell_type": "code",
   "execution_count": 54,
   "id": "316a6aa0-947b-480a-bbcf-d473dd1e8157",
   "metadata": {},
   "outputs": [
    {
     "name": "stdout",
     "output_type": "stream",
     "text": [
      "38.037336383739735\n"
     ]
    }
   ],
   "source": [
    "lin_score = cross_val_score(regXGB, X_train, y_train, cv=100, scoring = 'neg_mean_squared_error')\n",
    "lin_score_n = -lin_score\n",
    "cvs_regXGB = np.mean(np.sqrt(lin_score_n))\n",
    "result['cvs_regXGB'] = cvs_regXGB\n",
    "print(cvs_regXGB)"
   ]
  },
  {
   "cell_type": "markdown",
   "id": "3189a85b-77bd-46ab-a1dd-f1d2b2164f86",
   "metadata": {},
   "source": [
    "## Random Forest"
   ]
  },
  {
   "cell_type": "code",
   "execution_count": 55,
   "id": "9580b271-3e63-41c9-a34f-e0338a5909a1",
   "metadata": {},
   "outputs": [],
   "source": [
    "from sklearn.ensemble import RandomForestRegressor"
   ]
  },
  {
   "cell_type": "code",
   "execution_count": 56,
   "id": "de59afa2-e6de-414e-9225-bf005fd06c77",
   "metadata": {},
   "outputs": [],
   "source": [
    "# Regresor\n",
    "regRF = RandomForestRegressor(n_estimators=20)"
   ]
  },
  {
   "cell_type": "code",
   "execution_count": 57,
   "id": "91609841-37fe-4367-8254-def10787cdb8",
   "metadata": {},
   "outputs": [
    {
     "data": {
      "text/plain": [
       "RandomForestRegressor(n_estimators=20)"
      ]
     },
     "execution_count": 57,
     "metadata": {},
     "output_type": "execute_result"
    }
   ],
   "source": [
    "regRF.fit(X_train, y_train)"
   ]
  },
  {
   "cell_type": "code",
   "execution_count": 58,
   "id": "01bbfdf3-ec34-4239-aecc-c074d4b069db",
   "metadata": {},
   "outputs": [],
   "source": [
    "pred_regRF = regRF.predict(X_test)"
   ]
  },
  {
   "cell_type": "markdown",
   "id": "925c2c0a-fede-4982-868d-d69171d11fcd",
   "metadata": {},
   "source": [
    "### Resultados Random Forest"
   ]
  },
  {
   "cell_type": "code",
   "execution_count": 59,
   "id": "1f3dd276-f3cf-4633-999f-f7efee00db82",
   "metadata": {},
   "outputs": [
    {
     "name": "stdout",
     "output_type": "stream",
     "text": [
      "50.1629603483396\n"
     ]
    }
   ],
   "source": [
    "rmse_regRF = mean_squared_error(y_test, pred_regRF, squared=False)\n",
    "print(rmse_regRF)"
   ]
  },
  {
   "cell_type": "code",
   "execution_count": 60,
   "id": "b30d2485-12be-416b-90d6-e9c40d244e3b",
   "metadata": {
    "tags": []
   },
   "outputs": [],
   "source": [
    "result['pred_regRF'] = pred_regRF"
   ]
  },
  {
   "cell_type": "code",
   "execution_count": 61,
   "id": "0752f1e9-7591-4c05-9119-84a7de66a0ab",
   "metadata": {},
   "outputs": [],
   "source": [
    "result['error_regRF'] = result['y_test'] - result['pred_regRF']"
   ]
  },
  {
   "cell_type": "code",
   "execution_count": 62,
   "id": "fbe3c26e-1d81-4524-a58d-9aeac24c0e7b",
   "metadata": {},
   "outputs": [],
   "source": [
    "result['regRF_MSE'] = rmse_regRF"
   ]
  },
  {
   "cell_type": "code",
   "execution_count": 63,
   "id": "2668f025-c75f-4731-931a-8d58964e6219",
   "metadata": {},
   "outputs": [
    {
     "data": {
      "text/html": [
       "<div>\n",
       "<style scoped>\n",
       "    .dataframe tbody tr th:only-of-type {\n",
       "        vertical-align: middle;\n",
       "    }\n",
       "\n",
       "    .dataframe tbody tr th {\n",
       "        vertical-align: top;\n",
       "    }\n",
       "\n",
       "    .dataframe thead th {\n",
       "        text-align: right;\n",
       "    }\n",
       "</style>\n",
       "<table border=\"1\" class=\"dataframe\">\n",
       "  <thead>\n",
       "    <tr style=\"text-align: right;\">\n",
       "      <th></th>\n",
       "      <th>y_test</th>\n",
       "      <th>pred_regl</th>\n",
       "      <th>error_regl</th>\n",
       "      <th>regl_MSE</th>\n",
       "      <th>cvs_regl</th>\n",
       "      <th>pred_regk</th>\n",
       "      <th>error_regk</th>\n",
       "      <th>regk_MSE</th>\n",
       "      <th>cvs_regk</th>\n",
       "      <th>pred_regXGB</th>\n",
       "      <th>error_regXGB</th>\n",
       "      <th>regXGB_MSE</th>\n",
       "      <th>cvs_regXGB</th>\n",
       "      <th>pred_regRF</th>\n",
       "      <th>error_regRF</th>\n",
       "      <th>regRF_MSE</th>\n",
       "    </tr>\n",
       "  </thead>\n",
       "  <tbody>\n",
       "    <tr>\n",
       "      <th>422</th>\n",
       "      <td>138.0</td>\n",
       "      <td>116.755445</td>\n",
       "      <td>21.244555</td>\n",
       "      <td>51.024638</td>\n",
       "      <td>34.143479</td>\n",
       "      <td>154.647059</td>\n",
       "      <td>-16.647059</td>\n",
       "      <td>64.726724</td>\n",
       "      <td>57.000916</td>\n",
       "      <td>113.935463</td>\n",
       "      <td>24.064537</td>\n",
       "      <td>55.457847</td>\n",
       "      <td>38.037336</td>\n",
       "      <td>108.00</td>\n",
       "      <td>30.00</td>\n",
       "      <td>50.16296</td>\n",
       "    </tr>\n",
       "    <tr>\n",
       "      <th>255</th>\n",
       "      <td>214.0</td>\n",
       "      <td>223.693344</td>\n",
       "      <td>-9.693344</td>\n",
       "      <td>51.024638</td>\n",
       "      <td>34.143479</td>\n",
       "      <td>218.882353</td>\n",
       "      <td>-4.882353</td>\n",
       "      <td>64.726724</td>\n",
       "      <td>57.000916</td>\n",
       "      <td>202.943390</td>\n",
       "      <td>11.056610</td>\n",
       "      <td>55.457847</td>\n",
       "      <td>38.037336</td>\n",
       "      <td>206.15</td>\n",
       "      <td>7.85</td>\n",
       "      <td>50.16296</td>\n",
       "    </tr>\n",
       "    <tr>\n",
       "      <th>502</th>\n",
       "      <td>217.0</td>\n",
       "      <td>124.823184</td>\n",
       "      <td>92.176816</td>\n",
       "      <td>51.024638</td>\n",
       "      <td>34.143479</td>\n",
       "      <td>169.352941</td>\n",
       "      <td>47.647059</td>\n",
       "      <td>64.726724</td>\n",
       "      <td>57.000916</td>\n",
       "      <td>138.068298</td>\n",
       "      <td>78.931702</td>\n",
       "      <td>55.457847</td>\n",
       "      <td>38.037336</td>\n",
       "      <td>147.90</td>\n",
       "      <td>69.10</td>\n",
       "      <td>50.16296</td>\n",
       "    </tr>\n",
       "    <tr>\n",
       "      <th>491</th>\n",
       "      <td>170.0</td>\n",
       "      <td>206.471065</td>\n",
       "      <td>-36.471065</td>\n",
       "      <td>51.024638</td>\n",
       "      <td>34.143479</td>\n",
       "      <td>237.352941</td>\n",
       "      <td>-67.352941</td>\n",
       "      <td>64.726724</td>\n",
       "      <td>57.000916</td>\n",
       "      <td>207.591919</td>\n",
       "      <td>-37.591919</td>\n",
       "      <td>55.457847</td>\n",
       "      <td>38.037336</td>\n",
       "      <td>203.80</td>\n",
       "      <td>-33.80</td>\n",
       "      <td>50.16296</td>\n",
       "    </tr>\n",
       "    <tr>\n",
       "      <th>520</th>\n",
       "      <td>109.0</td>\n",
       "      <td>108.676980</td>\n",
       "      <td>0.323020</td>\n",
       "      <td>51.024638</td>\n",
       "      <td>34.143479</td>\n",
       "      <td>137.882353</td>\n",
       "      <td>-28.882353</td>\n",
       "      <td>64.726724</td>\n",
       "      <td>57.000916</td>\n",
       "      <td>87.836830</td>\n",
       "      <td>21.163170</td>\n",
       "      <td>55.457847</td>\n",
       "      <td>38.037336</td>\n",
       "      <td>98.70</td>\n",
       "      <td>10.30</td>\n",
       "      <td>50.16296</td>\n",
       "    </tr>\n",
       "  </tbody>\n",
       "</table>\n",
       "</div>"
      ],
      "text/plain": [
       "     y_test   pred_regl  error_regl   regl_MSE   cvs_regl   pred_regk  \\\n",
       "422   138.0  116.755445   21.244555  51.024638  34.143479  154.647059   \n",
       "255   214.0  223.693344   -9.693344  51.024638  34.143479  218.882353   \n",
       "502   217.0  124.823184   92.176816  51.024638  34.143479  169.352941   \n",
       "491   170.0  206.471065  -36.471065  51.024638  34.143479  237.352941   \n",
       "520   109.0  108.676980    0.323020  51.024638  34.143479  137.882353   \n",
       "\n",
       "     error_regk   regk_MSE   cvs_regk  pred_regXGB  error_regXGB  regXGB_MSE  \\\n",
       "422  -16.647059  64.726724  57.000916   113.935463     24.064537   55.457847   \n",
       "255   -4.882353  64.726724  57.000916   202.943390     11.056610   55.457847   \n",
       "502   47.647059  64.726724  57.000916   138.068298     78.931702   55.457847   \n",
       "491  -67.352941  64.726724  57.000916   207.591919    -37.591919   55.457847   \n",
       "520  -28.882353  64.726724  57.000916    87.836830     21.163170   55.457847   \n",
       "\n",
       "     cvs_regXGB  pred_regRF  error_regRF  regRF_MSE  \n",
       "422   38.037336      108.00        30.00   50.16296  \n",
       "255   38.037336      206.15         7.85   50.16296  \n",
       "502   38.037336      147.90        69.10   50.16296  \n",
       "491   38.037336      203.80       -33.80   50.16296  \n",
       "520   38.037336       98.70        10.30   50.16296  "
      ]
     },
     "execution_count": 63,
     "metadata": {},
     "output_type": "execute_result"
    }
   ],
   "source": [
    "result.head()"
   ]
  },
  {
   "cell_type": "code",
   "execution_count": 64,
   "id": "13c2ed96-6ce4-44b7-ad7f-3a6be41355d9",
   "metadata": {},
   "outputs": [
    {
     "data": {
      "text/plain": [
       "<AxesSubplot:>"
      ]
     },
     "execution_count": 64,
     "metadata": {},
     "output_type": "execute_result"
    },
    {
     "data": {
      "image/png": "[encoded data removed]",
      "text/plain": [
       "<Figure size 432x288 with 1 Axes>"
      ]
     },
     "metadata": {
      "needs_background": "light"
     },
     "output_type": "display_data"
    }
   ],
   "source": [
    "result['error_regRF'].hist(bins=20)"
   ]
  },
  {
   "cell_type": "code",
   "execution_count": 65,
   "id": "4bb2deef-fd63-4c36-b736-0fe21e12a36c",
   "metadata": {},
   "outputs": [
    {
     "data": {
      "text/plain": [
       "count    110.000000\n",
       "mean       0.630909\n",
       "std       50.388554\n",
       "min     -253.550000\n",
       "25%      -20.562500\n",
       "50%        5.675000\n",
       "75%       25.812500\n",
       "max      141.400000\n",
       "Name: error_regRF, dtype: float64"
      ]
     },
     "execution_count": 65,
     "metadata": {},
     "output_type": "execute_result"
    }
   ],
   "source": [
    "result['error_regRF'].describe()"
   ]
  },
  {
   "cell_type": "markdown",
   "id": "7a0281d1-b24a-4535-aeec-248f7dc3d2ae",
   "metadata": {},
   "source": [
    "#### Representar modelo de predicción"
   ]
  },
  {
   "cell_type": "code",
   "execution_count": 66,
   "id": "78d1fd61-ff86-4d15-907d-7d288bdbd7b8",
   "metadata": {},
   "outputs": [],
   "source": [
    "'''analisisX = df_data.iloc[:,-1].reset_index()\n",
    "analisisX = analisisX['llamadas']'''\n",
    "\n",
    "analisisregRF = regRF.predict(X)\n",
    "analisisregRF = pd.DataFrame(analisisregRF)"
   ]
  },
  {
   "cell_type": "code",
   "execution_count": 67,
   "id": "ae7a4a5a-8aad-48ac-a2ab-2d989f1e9b1d",
   "metadata": {
    "scrolled": true
   },
   "outputs": [
    {
     "data": {
      "text/plain": [
       "[<matplotlib.lines.Line2D at 0x1aec0d75c10>]"
      ]
     },
     "execution_count": 67,
     "metadata": {},
     "output_type": "execute_result"
    },
    {
     "data": {
      "image/png": "[encoded data removed]",
      "text/plain": [
       "<Figure size 432x288 with 1 Axes>"
      ]
     },
     "metadata": {
      "needs_background": "light"
     },
     "output_type": "display_data"
    }
   ],
   "source": [
    "plt.plot(y, c='green')\n",
    "plt.plot(analisisregRF, c='red')"
   ]
  },
  {
   "cell_type": "markdown",
   "id": "5378783f-93d0-44ac-ba7d-558eeb5f9884",
   "metadata": {},
   "source": [
    "# Cross-Val-Score Random Forest"
   ]
  },
  {
   "cell_type": "code",
   "execution_count": 68,
   "id": "85ac10ee-92de-49d8-b127-e2ef17164077",
   "metadata": {},
   "outputs": [
    {
     "name": "stdout",
     "output_type": "stream",
     "text": [
      "36.13001786608262\n"
     ]
    }
   ],
   "source": [
    "lin_score = cross_val_score(regRF, X_train, y_train, cv=100, scoring = 'neg_mean_squared_error')\n",
    "lin_score_n = -lin_score\n",
    "cvs_regRF = np.mean(np.sqrt(lin_score_n))\n",
    "result['cvs_regRF'] = cvs_regRF\n",
    "print(cvs_regRF)"
   ]
  },
  {
   "cell_type": "markdown",
   "id": "e3c2deae-40ab-4b7d-9f9a-7a94d6c3b15d",
   "metadata": {},
   "source": [
    "## ARIMA"
   ]
  },
  {
   "cell_type": "markdown",
   "id": "4c0bb260-c148-4c6e-a6cb-c6b29461f7be",
   "metadata": {},
   "source": [
    "#### Comprobar estacionalidad"
   ]
  },
  {
   "cell_type": "code",
   "execution_count": 69,
   "id": "757a2edd-0716-487b-9a04-1297ea4e3ffb",
   "metadata": {},
   "outputs": [],
   "source": [
    "from statsmodels.tsa.stattools import adfuller\n",
    "\n",
    "def adf_test(dataset):\n",
    "  dftest = adfuller(dataset, autolag = 'AIC')\n",
    "  print(\"1. ADF : \",dftest[0])\n",
    "  print(\"2. P-Value : \", dftest[1])\n",
    "  print(\"3. Num Of Lags : \", dftest[2])\n",
    "  print(\"4. Num Of Observations Used For ADF Regression and Critical Values Calculation :\", dftest[3])\n",
    "  print(\"5. Critical Values :\")\n",
    "  for key, val in dftest[4].items():\n",
    "      print(\"\\t\",key, \": \", val)"
   ]
  },
  {
   "cell_type": "code",
   "execution_count": 70,
   "id": "c62654ec-fd85-4056-be6b-0003fb804811",
   "metadata": {},
   "outputs": [
    {
     "name": "stdout",
     "output_type": "stream",
     "text": [
      "1. ADF :  -2.974966475504673\n",
      "2. P-Value :  0.03729927680264395\n",
      "3. Num Of Lags :  2\n",
      "4. Num Of Observations Used For ADF Regression and Critical Values Calculation : 543\n",
      "5. Critical Values :\n",
      "\t 1% :  -3.442450336733213\n",
      "\t 5% :  -2.8668774460774498\n",
      "\t 10% :  -2.5696126760816553\n"
     ]
    }
   ],
   "source": [
    "adf_test(y)"
   ]
  },
  {
   "cell_type": "markdown",
   "id": "693605c4-8fe7-4d8d-9a83-e19983aa64e8",
   "metadata": {},
   "source": [
    "### Evaluar modelos ARIMA"
   ]
  },
  {
   "cell_type": "code",
   "execution_count": 71,
   "id": "8226e9b5-d316-455f-adc8-494b919990a5",
   "metadata": {},
   "outputs": [],
   "source": [
    "from pmdarima import auto_arima\n",
    "# Ignore harmless warnings\n",
    "import warnings\n",
    "warnings.filterwarnings(\"ignore\")"
   ]
  },
  {
   "cell_type": "code",
   "execution_count": 72,
   "id": "7fbb6cbe-c950-48b9-b1c9-95ed922486c1",
   "metadata": {},
   "outputs": [
    {
     "name": "stdout",
     "output_type": "stream",
     "text": [
      "Performing stepwise search to minimize aic\n",
      " ARIMA(2,1,2)(0,0,0)[0] intercept   : AIC=5571.400, Time=0.27 sec\n",
      " ARIMA(0,1,0)(0,0,0)[0] intercept   : AIC=5621.456, Time=0.02 sec\n",
      " ARIMA(1,1,0)(0,0,0)[0] intercept   : AIC=5581.160, Time=0.08 sec\n",
      " ARIMA(0,1,1)(0,0,0)[0] intercept   : AIC=5571.515, Time=0.09 sec\n",
      " ARIMA(0,1,0)(0,0,0)[0]             : AIC=5619.501, Time=0.01 sec\n",
      " ARIMA(1,1,2)(0,0,0)[0] intercept   : AIC=5573.906, Time=0.25 sec\n",
      " ARIMA(2,1,1)(0,0,0)[0] intercept   : AIC=5570.774, Time=0.21 sec\n",
      " ARIMA(1,1,1)(0,0,0)[0] intercept   : AIC=5573.413, Time=0.12 sec\n",
      " ARIMA(2,1,0)(0,0,0)[0] intercept   : AIC=5568.966, Time=0.05 sec\n",
      " ARIMA(3,1,0)(0,0,0)[0] intercept   : AIC=5570.647, Time=0.29 sec\n",
      " ARIMA(3,1,1)(0,0,0)[0] intercept   : AIC=5572.134, Time=0.35 sec\n",
      " ARIMA(2,1,0)(0,0,0)[0]             : AIC=5567.052, Time=0.03 sec\n",
      " ARIMA(1,1,0)(0,0,0)[0]             : AIC=5579.229, Time=0.04 sec\n",
      " ARIMA(3,1,0)(0,0,0)[0]             : AIC=5568.732, Time=0.08 sec\n",
      " ARIMA(2,1,1)(0,0,0)[0]             : AIC=5568.854, Time=0.11 sec\n",
      " ARIMA(1,1,1)(0,0,0)[0]             : AIC=5571.498, Time=0.07 sec\n",
      " ARIMA(3,1,1)(0,0,0)[0]             : AIC=5570.216, Time=0.20 sec\n",
      "\n",
      "Best model:  ARIMA(2,1,0)(0,0,0)[0]          \n",
      "Total fit time: 2.271 seconds\n"
     ]
    },
    {
     "data": {
      "text/html": [
       "<table class=\"simpletable\">\n",
       "<caption>SARIMAX Results</caption>\n",
       "<tr>\n",
       "  <th>Dep. Variable:</th>           <td>y</td>        <th>  No. Observations:  </th>    <td>546</td>   \n",
       "</tr>\n",
       "<tr>\n",
       "  <th>Model:</th>           <td>SARIMAX(2, 1, 0)</td> <th>  Log Likelihood     </th> <td>-2780.526</td>\n",
       "</tr>\n",
       "<tr>\n",
       "  <th>Date:</th>            <td>Mon, 14 Jun 2021</td> <th>  AIC                </th> <td>5567.052</td> \n",
       "</tr>\n",
       "<tr>\n",
       "  <th>Time:</th>                <td>17:18:15</td>     <th>  BIC                </th> <td>5579.954</td> \n",
       "</tr>\n",
       "<tr>\n",
       "  <th>Sample:</th>                  <td>0</td>        <th>  HQIC               </th> <td>5572.096</td> \n",
       "</tr>\n",
       "<tr>\n",
       "  <th></th>                      <td> - 546</td>      <th>                     </th>     <td> </td>    \n",
       "</tr>\n",
       "<tr>\n",
       "  <th>Covariance Type:</th>        <td>opg</td>       <th>                     </th>     <td> </td>    \n",
       "</tr>\n",
       "</table>\n",
       "<table class=\"simpletable\">\n",
       "<tr>\n",
       "     <td></td>       <th>coef</th>     <th>std err</th>      <th>z</th>      <th>P>|z|</th>  <th>[0.025</th>    <th>0.975]</th>  \n",
       "</tr>\n",
       "<tr>\n",
       "  <th>ar.L1</th>  <td>   -0.3174</td> <td>    0.030</td> <td>  -10.734</td> <td> 0.000</td> <td>   -0.375</td> <td>   -0.259</td>\n",
       "</tr>\n",
       "<tr>\n",
       "  <th>ar.L2</th>  <td>   -0.1603</td> <td>    0.033</td> <td>   -4.827</td> <td> 0.000</td> <td>   -0.225</td> <td>   -0.095</td>\n",
       "</tr>\n",
       "<tr>\n",
       "  <th>sigma2</th> <td> 1584.6875</td> <td>   54.165</td> <td>   29.257</td> <td> 0.000</td> <td> 1478.527</td> <td> 1690.848</td>\n",
       "</tr>\n",
       "</table>\n",
       "<table class=\"simpletable\">\n",
       "<tr>\n",
       "  <th>Ljung-Box (L1) (Q):</th>     <td>0.01</td> <th>  Jarque-Bera (JB):  </th> <td>520.24</td>\n",
       "</tr>\n",
       "<tr>\n",
       "  <th>Prob(Q):</th>                <td>0.94</td> <th>  Prob(JB):          </th>  <td>0.00</td> \n",
       "</tr>\n",
       "<tr>\n",
       "  <th>Heteroskedasticity (H):</th> <td>0.34</td> <th>  Skew:              </th>  <td>-0.57</td>\n",
       "</tr>\n",
       "<tr>\n",
       "  <th>Prob(H) (two-sided):</th>    <td>0.00</td> <th>  Kurtosis:          </th>  <td>7.65</td> \n",
       "</tr>\n",
       "</table><br/><br/>Warnings:<br/>[1] Covariance matrix calculated using the outer product of gradients (complex-step)."
      ],
      "text/plain": [
       "<class 'statsmodels.iolib.summary.Summary'>\n",
       "\"\"\"\n",
       "                               SARIMAX Results                                \n",
       "==============================================================================\n",
       "Dep. Variable:                      y   No. Observations:                  546\n",
       "Model:               SARIMAX(2, 1, 0)   Log Likelihood               -2780.526\n",
       "Date:                Mon, 14 Jun 2021   AIC                           5567.052\n",
       "Time:                        17:18:15   BIC                           5579.954\n",
       "Sample:                             0   HQIC                          5572.096\n",
       "                                - 546                                         \n",
       "Covariance Type:                  opg                                         \n",
       "==============================================================================\n",
       "                 coef    std err          z      P>|z|      [0.025      0.975]\n",
       "------------------------------------------------------------------------------\n",
       "ar.L1         -0.3174      0.030    -10.734      0.000      -0.375      -0.259\n",
       "ar.L2         -0.1603      0.033     -4.827      0.000      -0.225      -0.095\n",
       "sigma2      1584.6875     54.165     29.257      0.000    1478.527    1690.848\n",
       "===================================================================================\n",
       "Ljung-Box (L1) (Q):                   0.01   Jarque-Bera (JB):               520.24\n",
       "Prob(Q):                              0.94   Prob(JB):                         0.00\n",
       "Heteroskedasticity (H):               0.34   Skew:                            -0.57\n",
       "Prob(H) (two-sided):                  0.00   Kurtosis:                         7.65\n",
       "===================================================================================\n",
       "\n",
       "Warnings:\n",
       "[1] Covariance matrix calculated using the outer product of gradients (complex-step).\n",
       "\"\"\""
      ]
     },
     "execution_count": 72,
     "metadata": {},
     "output_type": "execute_result"
    }
   ],
   "source": [
    "arima_fit = auto_arima(y, trace=True,\n",
    "                          suppress_warnings=True)\n",
    "arima_fit.summary()"
   ]
  },
  {
   "cell_type": "markdown",
   "id": "481e152e-8a66-496b-b493-bf7589ea7eb2",
   "metadata": {},
   "source": [
    "#### Aplicamos modelo SARIMAX (2,1,0)"
   ]
  },
  {
   "cell_type": "code",
   "execution_count": 73,
   "id": "da8f486f-19e8-4f3d-aca4-0cd79545dc22",
   "metadata": {},
   "outputs": [],
   "source": [
    "from statsmodels.tsa.statespace.sarimax import SARIMAX"
   ]
  },
  {
   "cell_type": "code",
   "execution_count": 74,
   "id": "ff57ff43-35a0-4aa7-84ed-131764e14938",
   "metadata": {},
   "outputs": [
    {
     "name": "stdout",
     "output_type": "stream",
     "text": [
      "(546, 33)\n",
      "(546, 33)\n"
     ]
    }
   ],
   "source": [
    "print(df_data.shape)\n",
    "print(df_data.shape)"
   ]
  },
  {
   "cell_type": "code",
   "execution_count": 75,
   "id": "d60201d9-0ac4-44fe-88a1-e1cec887eac6",
   "metadata": {},
   "outputs": [
    {
     "name": "stdout",
     "output_type": "stream",
     "text": [
      "436 110\n",
      "546\n"
     ]
    }
   ],
   "source": [
    "i, m = X.shape\n",
    "\n",
    "to_train = int(i*0.8)\n",
    "to_test = i - to_train\n",
    "\n",
    "print(to_train, to_test)\n",
    "print(to_train+to_test)"
   ]
  },
  {
   "cell_type": "code",
   "execution_count": 76,
   "id": "67e8f603-c44b-4338-8882-a9cec9c1cf21",
   "metadata": {},
   "outputs": [
    {
     "name": "stdout",
     "output_type": "stream",
     "text": [
      "(436, 31) (436,)\n",
      "(110, 31) (110,)\n"
     ]
    }
   ],
   "source": [
    "X_train, y_train = df_data.iloc[:to_train, ((df_data.columns != 'Fecha') & (df_data.columns != 'llamadas'))], df_data['llamadas'][:to_train]\n",
    "X_test, y_test = df_data.iloc[-to_test:, ((df_data.columns != 'Fecha') & (df_data.columns != 'llamadas'))], df_data['llamadas'][-to_test:]\n",
    "\n",
    "print(X_train.shape, y_train.shape)\n",
    "print(X_test.shape, y_test.shape)"
   ]
  },
  {
   "cell_type": "markdown",
   "id": "74095eaf-b725-4033-8aeb-170fe1239f9e",
   "metadata": {},
   "source": [
    "#### Normalizamos los datos"
   ]
  },
  {
   "cell_type": "code",
   "execution_count": 77,
   "id": "ec66ebb1-e095-4bb9-bf79-145b922bdd3b",
   "metadata": {},
   "outputs": [],
   "source": [
    "from sklearn.preprocessing import StandardScaler"
   ]
  },
  {
   "cell_type": "code",
   "execution_count": 78,
   "id": "17116fb9-7d26-4988-bf5a-c2d0723d6063",
   "metadata": {},
   "outputs": [],
   "source": [
    "scaler = StandardScaler()\n",
    "\n",
    "y_train = np.log1p(y_train)\n",
    "## y_test = np.log1p(y_test)\n",
    "\n",
    "X_train = scaler.fit_transform(X_train)\n",
    "X_test = scaler.transform(X_test)"
   ]
  },
  {
   "cell_type": "markdown",
   "id": "30992313-745b-4803-bf4a-a1bd2b8067e9",
   "metadata": {},
   "source": [
    "### Entrenamos el modelo"
   ]
  },
  {
   "cell_type": "code",
   "execution_count": 79,
   "id": "aa52803f-a07f-4840-ba12-77ee21905adf",
   "metadata": {},
   "outputs": [
    {
     "data": {
      "text/html": [
       "<table class=\"simpletable\">\n",
       "<caption>SARIMAX Results</caption>\n",
       "<tr>\n",
       "  <th>Dep. Variable:</th>       <td>llamadas</td>     <th>  No. Observations:  </th>    <td>436</td>  \n",
       "</tr>\n",
       "<tr>\n",
       "  <th>Model:</th>           <td>SARIMAX(2, 1, 0)</td> <th>  Log Likelihood     </th>  <td>85.616</td> \n",
       "</tr>\n",
       "<tr>\n",
       "  <th>Date:</th>            <td>Mon, 14 Jun 2021</td> <th>  AIC                </th> <td>-103.233</td>\n",
       "</tr>\n",
       "<tr>\n",
       "  <th>Time:</th>                <td>17:18:18</td>     <th>  BIC                </th>  <td>35.329</td> \n",
       "</tr>\n",
       "<tr>\n",
       "  <th>Sample:</th>                  <td>0</td>        <th>  HQIC               </th>  <td>-48.545</td>\n",
       "</tr>\n",
       "<tr>\n",
       "  <th></th>                      <td> - 436</td>      <th>                     </th>     <td> </td>   \n",
       "</tr>\n",
       "<tr>\n",
       "  <th>Covariance Type:</th>        <td>opg</td>       <th>                     </th>     <td> </td>   \n",
       "</tr>\n",
       "</table>\n",
       "<table class=\"simpletable\">\n",
       "<tr>\n",
       "     <td></td>       <th>coef</th>     <th>std err</th>      <th>z</th>      <th>P>|z|</th>  <th>[0.025</th>    <th>0.975]</th>  \n",
       "</tr>\n",
       "<tr>\n",
       "  <th>x1</th>     <td>   -0.0102</td> <td>    0.019</td> <td>   -0.526</td> <td> 0.599</td> <td>   -0.048</td> <td>    0.028</td>\n",
       "</tr>\n",
       "<tr>\n",
       "  <th>x2</th>     <td>   -0.0138</td> <td>    0.018</td> <td>   -0.769</td> <td> 0.442</td> <td>   -0.049</td> <td>    0.021</td>\n",
       "</tr>\n",
       "<tr>\n",
       "  <th>x3</th>     <td>    0.0096</td> <td>    0.012</td> <td>    0.827</td> <td> 0.408</td> <td>   -0.013</td> <td>    0.032</td>\n",
       "</tr>\n",
       "<tr>\n",
       "  <th>x4</th>     <td>   -0.0085</td> <td>    0.017</td> <td>   -0.489</td> <td> 0.625</td> <td>   -0.042</td> <td>    0.025</td>\n",
       "</tr>\n",
       "<tr>\n",
       "  <th>x5</th>     <td>    0.0102</td> <td>    0.022</td> <td>    0.467</td> <td> 0.641</td> <td>   -0.033</td> <td>    0.053</td>\n",
       "</tr>\n",
       "<tr>\n",
       "  <th>x6</th>     <td>   -0.0042</td> <td>    0.013</td> <td>   -0.331</td> <td> 0.740</td> <td>   -0.029</td> <td>    0.021</td>\n",
       "</tr>\n",
       "<tr>\n",
       "  <th>x7</th>     <td>    0.0102</td> <td>    0.012</td> <td>    0.863</td> <td> 0.388</td> <td>   -0.013</td> <td>    0.033</td>\n",
       "</tr>\n",
       "<tr>\n",
       "  <th>x8</th>     <td>   -0.0093</td> <td>    0.012</td> <td>   -0.798</td> <td> 0.425</td> <td>   -0.032</td> <td>    0.014</td>\n",
       "</tr>\n",
       "<tr>\n",
       "  <th>x9</th>     <td>    0.0198</td> <td>    0.010</td> <td>    1.888</td> <td> 0.059</td> <td>   -0.001</td> <td>    0.040</td>\n",
       "</tr>\n",
       "<tr>\n",
       "  <th>x10</th>    <td>   -0.0044</td> <td>    0.012</td> <td>   -0.366</td> <td> 0.714</td> <td>   -0.028</td> <td>    0.019</td>\n",
       "</tr>\n",
       "<tr>\n",
       "  <th>x11</th>    <td>   -0.0006</td> <td>    0.010</td> <td>   -0.061</td> <td> 0.951</td> <td>   -0.021</td> <td>    0.020</td>\n",
       "</tr>\n",
       "<tr>\n",
       "  <th>const</th>  <td> 1.271e-17</td> <td>  6.2e-12</td> <td> 2.05e-06</td> <td> 1.000</td> <td>-1.21e-11</td> <td> 1.21e-11</td>\n",
       "</tr>\n",
       "<tr>\n",
       "  <th>x12</th>    <td>   -0.0152</td> <td>    0.013</td> <td>   -1.131</td> <td> 0.258</td> <td>   -0.041</td> <td>    0.011</td>\n",
       "</tr>\n",
       "<tr>\n",
       "  <th>x13</th>    <td>   -0.0044</td> <td>    0.012</td> <td>   -0.367</td> <td> 0.714</td> <td>   -0.028</td> <td>    0.019</td>\n",
       "</tr>\n",
       "<tr>\n",
       "  <th>x14</th>    <td>    0.0055</td> <td>    0.010</td> <td>    0.573</td> <td> 0.566</td> <td>   -0.013</td> <td>    0.024</td>\n",
       "</tr>\n",
       "<tr>\n",
       "  <th>x15</th>    <td>    0.0138</td> <td>    0.010</td> <td>    1.338</td> <td> 0.181</td> <td>   -0.006</td> <td>    0.034</td>\n",
       "</tr>\n",
       "<tr>\n",
       "  <th>x16</th>    <td>    0.0063</td> <td>    0.010</td> <td>    0.635</td> <td> 0.526</td> <td>   -0.013</td> <td>    0.026</td>\n",
       "</tr>\n",
       "<tr>\n",
       "  <th>x17</th>    <td>   -0.0053</td> <td>    0.010</td> <td>   -0.508</td> <td> 0.611</td> <td>   -0.026</td> <td>    0.015</td>\n",
       "</tr>\n",
       "<tr>\n",
       "  <th>x18</th>    <td>    0.0084</td> <td>    0.010</td> <td>    0.833</td> <td> 0.405</td> <td>   -0.011</td> <td>    0.028</td>\n",
       "</tr>\n",
       "<tr>\n",
       "  <th>x19</th>    <td>   -0.0114</td> <td>    0.010</td> <td>   -1.126</td> <td> 0.260</td> <td>   -0.031</td> <td>    0.008</td>\n",
       "</tr>\n",
       "<tr>\n",
       "  <th>x20</th>    <td>    0.0130</td> <td>    0.009</td> <td>    1.387</td> <td> 0.165</td> <td>   -0.005</td> <td>    0.031</td>\n",
       "</tr>\n",
       "<tr>\n",
       "  <th>x21</th>    <td>   -0.0130</td> <td>    0.010</td> <td>   -1.288</td> <td> 0.198</td> <td>   -0.033</td> <td>    0.007</td>\n",
       "</tr>\n",
       "<tr>\n",
       "  <th>x22</th>    <td>    0.0179</td> <td>    0.037</td> <td>    0.484</td> <td> 0.629</td> <td>   -0.055</td> <td>    0.090</td>\n",
       "</tr>\n",
       "<tr>\n",
       "  <th>x23</th>    <td>   -0.0090</td> <td>    0.019</td> <td>   -0.471</td> <td> 0.638</td> <td>   -0.046</td> <td>    0.028</td>\n",
       "</tr>\n",
       "<tr>\n",
       "  <th>x24</th>    <td>    0.1283</td> <td>    0.037</td> <td>    3.470</td> <td> 0.001</td> <td>    0.056</td> <td>    0.201</td>\n",
       "</tr>\n",
       "<tr>\n",
       "  <th>x25</th>    <td>   -0.0136</td> <td>    0.048</td> <td>   -0.281</td> <td> 0.779</td> <td>   -0.109</td> <td>    0.081</td>\n",
       "</tr>\n",
       "<tr>\n",
       "  <th>x26</th>    <td>   -0.0071</td> <td>    0.041</td> <td>   -0.174</td> <td> 0.862</td> <td>   -0.087</td> <td>    0.073</td>\n",
       "</tr>\n",
       "<tr>\n",
       "  <th>x27</th>    <td>    0.0131</td> <td>    0.040</td> <td>    0.329</td> <td> 0.742</td> <td>   -0.065</td> <td>    0.091</td>\n",
       "</tr>\n",
       "<tr>\n",
       "  <th>x28</th>    <td>   -0.0578</td> <td>    0.039</td> <td>   -1.501</td> <td> 0.133</td> <td>   -0.133</td> <td>    0.018</td>\n",
       "</tr>\n",
       "<tr>\n",
       "  <th>x29</th>    <td>    0.0192</td> <td>    0.037</td> <td>    0.512</td> <td> 0.609</td> <td>   -0.054</td> <td>    0.093</td>\n",
       "</tr>\n",
       "<tr>\n",
       "  <th>x30</th>    <td>    0.0418</td> <td>    0.036</td> <td>    1.166</td> <td> 0.244</td> <td>   -0.028</td> <td>    0.112</td>\n",
       "</tr>\n",
       "<tr>\n",
       "  <th>ar.L1</th>  <td>   -0.6263</td> <td>    0.047</td> <td>  -13.222</td> <td> 0.000</td> <td>   -0.719</td> <td>   -0.533</td>\n",
       "</tr>\n",
       "<tr>\n",
       "  <th>ar.L2</th>  <td>   -0.2793</td> <td>    0.067</td> <td>   -4.145</td> <td> 0.000</td> <td>   -0.411</td> <td>   -0.147</td>\n",
       "</tr>\n",
       "<tr>\n",
       "  <th>sigma2</th> <td>    0.0395</td> <td>    0.002</td> <td>   19.546</td> <td> 0.000</td> <td>    0.035</td> <td>    0.043</td>\n",
       "</tr>\n",
       "</table>\n",
       "<table class=\"simpletable\">\n",
       "<tr>\n",
       "  <th>Ljung-Box (L1) (Q):</th>     <td>0.10</td> <th>  Jarque-Bera (JB):  </th> <td>2006.32</td>\n",
       "</tr>\n",
       "<tr>\n",
       "  <th>Prob(Q):</th>                <td>0.75</td> <th>  Prob(JB):          </th>  <td>0.00</td>  \n",
       "</tr>\n",
       "<tr>\n",
       "  <th>Heteroskedasticity (H):</th> <td>2.46</td> <th>  Skew:              </th>  <td>-0.98</td> \n",
       "</tr>\n",
       "<tr>\n",
       "  <th>Prob(H) (two-sided):</th>    <td>0.00</td> <th>  Kurtosis:          </th>  <td>13.34</td> \n",
       "</tr>\n",
       "</table><br/><br/>Warnings:<br/>[1] Covariance matrix calculated using the outer product of gradients (complex-step).<br/>[2] Covariance matrix is singular or near-singular, with condition number  1e+18. Standard errors may be unstable."
      ],
      "text/plain": [
       "<class 'statsmodels.iolib.summary.Summary'>\n",
       "\"\"\"\n",
       "                               SARIMAX Results                                \n",
       "==============================================================================\n",
       "Dep. Variable:               llamadas   No. Observations:                  436\n",
       "Model:               SARIMAX(2, 1, 0)   Log Likelihood                  85.616\n",
       "Date:                Mon, 14 Jun 2021   AIC                           -103.233\n",
       "Time:                        17:18:18   BIC                             35.329\n",
       "Sample:                             0   HQIC                           -48.545\n",
       "                                - 436                                         \n",
       "Covariance Type:                  opg                                         \n",
       "==============================================================================\n",
       "                 coef    std err          z      P>|z|      [0.025      0.975]\n",
       "------------------------------------------------------------------------------\n",
       "x1            -0.0102      0.019     -0.526      0.599      -0.048       0.028\n",
       "x2            -0.0138      0.018     -0.769      0.442      -0.049       0.021\n",
       "x3             0.0096      0.012      0.827      0.408      -0.013       0.032\n",
       "x4            -0.0085      0.017     -0.489      0.625      -0.042       0.025\n",
       "x5             0.0102      0.022      0.467      0.641      -0.033       0.053\n",
       "x6            -0.0042      0.013     -0.331      0.740      -0.029       0.021\n",
       "x7             0.0102      0.012      0.863      0.388      -0.013       0.033\n",
       "x8            -0.0093      0.012     -0.798      0.425      -0.032       0.014\n",
       "x9             0.0198      0.010      1.888      0.059      -0.001       0.040\n",
       "x10           -0.0044      0.012     -0.366      0.714      -0.028       0.019\n",
       "x11           -0.0006      0.010     -0.061      0.951      -0.021       0.020\n",
       "const       1.271e-17    6.2e-12   2.05e-06      1.000   -1.21e-11    1.21e-11\n",
       "x12           -0.0152      0.013     -1.131      0.258      -0.041       0.011\n",
       "x13           -0.0044      0.012     -0.367      0.714      -0.028       0.019\n",
       "x14            0.0055      0.010      0.573      0.566      -0.013       0.024\n",
       "x15            0.0138      0.010      1.338      0.181      -0.006       0.034\n",
       "x16            0.0063      0.010      0.635      0.526      -0.013       0.026\n",
       "x17           -0.0053      0.010     -0.508      0.611      -0.026       0.015\n",
       "x18            0.0084      0.010      0.833      0.405      -0.011       0.028\n",
       "x19           -0.0114      0.010     -1.126      0.260      -0.031       0.008\n",
       "x20            0.0130      0.009      1.387      0.165      -0.005       0.031\n",
       "x21           -0.0130      0.010     -1.288      0.198      -0.033       0.007\n",
       "x22            0.0179      0.037      0.484      0.629      -0.055       0.090\n",
       "x23           -0.0090      0.019     -0.471      0.638      -0.046       0.028\n",
       "x24            0.1283      0.037      3.470      0.001       0.056       0.201\n",
       "x25           -0.0136      0.048     -0.281      0.779      -0.109       0.081\n",
       "x26           -0.0071      0.041     -0.174      0.862      -0.087       0.073\n",
       "x27            0.0131      0.040      0.329      0.742      -0.065       0.091\n",
       "x28           -0.0578      0.039     -1.501      0.133      -0.133       0.018\n",
       "x29            0.0192      0.037      0.512      0.609      -0.054       0.093\n",
       "x30            0.0418      0.036      1.166      0.244      -0.028       0.112\n",
       "ar.L1         -0.6263      0.047    -13.222      0.000      -0.719      -0.533\n",
       "ar.L2         -0.2793      0.067     -4.145      0.000      -0.411      -0.147\n",
       "sigma2         0.0395      0.002     19.546      0.000       0.035       0.043\n",
       "===================================================================================\n",
       "Ljung-Box (L1) (Q):                   0.10   Jarque-Bera (JB):              2006.32\n",
       "Prob(Q):                              0.75   Prob(JB):                         0.00\n",
       "Heteroskedasticity (H):               2.46   Skew:                            -0.98\n",
       "Prob(H) (two-sided):                  0.00   Kurtosis:                        13.34\n",
       "===================================================================================\n",
       "\n",
       "Warnings:\n",
       "[1] Covariance matrix calculated using the outer product of gradients (complex-step).\n",
       "[2] Covariance matrix is singular or near-singular, with condition number  1e+18. Standard errors may be unstable.\n",
       "\"\"\""
      ]
     },
     "execution_count": 79,
     "metadata": {},
     "output_type": "execute_result"
    }
   ],
   "source": [
    "regSARIMAX = SARIMAX(y_train, order=(2,1,0), exog=X_train)\n",
    "regSARIMAX = regSARIMAX.fit()\n",
    "regSARIMAX.summary()"
   ]
  },
  {
   "cell_type": "code",
   "execution_count": 80,
   "id": "025c260d-d97e-4353-9314-1882d72041b7",
   "metadata": {},
   "outputs": [
    {
     "data": {
      "text/plain": [
       "<AxesSubplot:>"
      ]
     },
     "execution_count": 80,
     "metadata": {},
     "output_type": "execute_result"
    },
    {
     "data": {
      "image/png": "[encoded data removed]",
      "text/plain": [
       "<Figure size 432x288 with 1 Axes>"
      ]
     },
     "metadata": {
      "needs_background": "light"
     },
     "output_type": "display_data"
    }
   ],
   "source": [
    "start = len(X_train)\n",
    "end = len(X_train)+len(X_test)-1\n",
    "\n",
    "pred_regSARIMAX = regSARIMAX.predict(start=start, end=end, exog=X_test, typ='levels').rename('SARIMAX Predictions')\n",
    "pred_regSARIMAX = pred_regSARIMAX.apply(lambda x: 0 if x < 0 else x )\n",
    "\n",
    "pred_regSARIMAX = np.expm1(pred_regSARIMAX)\n",
    "\n",
    "pred_regSARIMAX.plot(legend=True)\n",
    "y_test.plot(legend=True)"
   ]
  },
  {
   "cell_type": "markdown",
   "id": "96100899-dee2-46fb-b03e-16a9f571b298",
   "metadata": {},
   "source": [
    "#### Resultados SARIMAX"
   ]
  },
  {
   "cell_type": "code",
   "execution_count": 81,
   "id": "3a216bd6-bf3a-4402-a2f4-662d45bb8b98",
   "metadata": {},
   "outputs": [
    {
     "name": "stdout",
     "output_type": "stream",
     "text": [
      "59.53070780679279\n"
     ]
    }
   ],
   "source": [
    "rmse_regSARIMAX = mean_squared_error(y_test, pred_regSARIMAX, squared=False)\n",
    "print(rmse_regSARIMAX)"
   ]
  },
  {
   "cell_type": "code",
   "execution_count": 82,
   "id": "ff410481-5596-483d-a118-3fb5af486616",
   "metadata": {},
   "outputs": [
    {
     "data": {
      "text/html": [
       "<div>\n",
       "<style scoped>\n",
       "    .dataframe tbody tr th:only-of-type {\n",
       "        vertical-align: middle;\n",
       "    }\n",
       "\n",
       "    .dataframe tbody tr th {\n",
       "        vertical-align: top;\n",
       "    }\n",
       "\n",
       "    .dataframe thead th {\n",
       "        text-align: right;\n",
       "    }\n",
       "</style>\n",
       "<table border=\"1\" class=\"dataframe\">\n",
       "  <thead>\n",
       "    <tr style=\"text-align: right;\">\n",
       "      <th></th>\n",
       "      <th>llamadas</th>\n",
       "      <th>pred_regSARIMAX</th>\n",
       "      <th>error_regSARIMAX</th>\n",
       "      <th>regSARIMAX_MSE</th>\n",
       "    </tr>\n",
       "  </thead>\n",
       "  <tbody>\n",
       "    <tr>\n",
       "      <th>436</th>\n",
       "      <td>129.0</td>\n",
       "      <td>123.161948</td>\n",
       "      <td>5.838052</td>\n",
       "      <td>59.530708</td>\n",
       "    </tr>\n",
       "    <tr>\n",
       "      <th>437</th>\n",
       "      <td>128.0</td>\n",
       "      <td>126.821311</td>\n",
       "      <td>1.178689</td>\n",
       "      <td>59.530708</td>\n",
       "    </tr>\n",
       "    <tr>\n",
       "      <th>438</th>\n",
       "      <td>195.0</td>\n",
       "      <td>138.086017</td>\n",
       "      <td>56.913983</td>\n",
       "      <td>59.530708</td>\n",
       "    </tr>\n",
       "    <tr>\n",
       "      <th>439</th>\n",
       "      <td>152.0</td>\n",
       "      <td>133.208277</td>\n",
       "      <td>18.791723</td>\n",
       "      <td>59.530708</td>\n",
       "    </tr>\n",
       "    <tr>\n",
       "      <th>440</th>\n",
       "      <td>160.0</td>\n",
       "      <td>129.818380</td>\n",
       "      <td>30.181620</td>\n",
       "      <td>59.530708</td>\n",
       "    </tr>\n",
       "  </tbody>\n",
       "</table>\n",
       "</div>"
      ],
      "text/plain": [
       "     llamadas  pred_regSARIMAX  error_regSARIMAX  regSARIMAX_MSE\n",
       "436     129.0       123.161948          5.838052       59.530708\n",
       "437     128.0       126.821311          1.178689       59.530708\n",
       "438     195.0       138.086017         56.913983       59.530708\n",
       "439     152.0       133.208277         18.791723       59.530708\n",
       "440     160.0       129.818380         30.181620       59.530708"
      ]
     },
     "execution_count": 82,
     "metadata": {},
     "output_type": "execute_result"
    }
   ],
   "source": [
    "resultSARIMAX = pd.DataFrame(y_test, columns=['llamadas'])\n",
    "resultSARIMAX['pred_regSARIMAX'] = pred_regSARIMAX\n",
    "resultSARIMAX['error_regSARIMAX'] = resultSARIMAX.llamadas - resultSARIMAX.pred_regSARIMAX\n",
    "resultSARIMAX['regSARIMAX_MSE'] = rmse_regSARIMAX\n",
    "resultSARIMAX.head()"
   ]
  },
  {
   "cell_type": "code",
   "execution_count": 83,
   "id": "406a4074-91f2-4789-851d-cecf73e28d19",
   "metadata": {},
   "outputs": [
    {
     "data": {
      "text/plain": [
       "count    110.000000\n",
       "mean      32.553206\n",
       "std       50.069798\n",
       "min      -63.863373\n",
       "25%       -2.054101\n",
       "50%       18.405023\n",
       "75%       60.461603\n",
       "max      166.783352\n",
       "Name: error_regSARIMAX, dtype: float64"
      ]
     },
     "execution_count": 83,
     "metadata": {},
     "output_type": "execute_result"
    }
   ],
   "source": [
    "resultSARIMAX['error_regSARIMAX'].describe()"
   ]
  },
  {
   "cell_type": "code",
   "execution_count": 84,
   "id": "952e74e0-d60b-4fbb-82ba-bd3b3d9355db",
   "metadata": {},
   "outputs": [
    {
     "data": {
      "text/plain": [
       "<AxesSubplot:>"
      ]
     },
     "execution_count": 84,
     "metadata": {},
     "output_type": "execute_result"
    },
    {
     "data": {
      "image/png": "[encoded data removed]",
      "text/plain": [
       "<Figure size 432x288 with 1 Axes>"
      ]
     },
     "metadata": {
      "needs_background": "light"
     },
     "output_type": "display_data"
    }
   ],
   "source": [
    "resultSARIMAX['error_regSARIMAX'].hist(bins=100)"
   ]
  },
  {
   "cell_type": "markdown",
   "id": "a17aa61c-15c9-4096-acf0-ef13e9d0abde",
   "metadata": {},
   "source": [
    "# Comparacion de modelos"
   ]
  },
  {
   "cell_type": "code",
   "execution_count": 85,
   "id": "2f5a53b2-752e-4073-aa97-e34c7bc24500",
   "metadata": {
    "tags": []
   },
   "outputs": [],
   "source": [
    "models = {'modelo': ['Reg. Lineal', 'Kvecinos', 'XGBoost', 'Random Forest', 'SARIMAX'],\n",
    "          'MSE': [result.head(1).iloc[0,3], result.head(1).iloc[0,7], result.head(1).iloc[0,11], result.head(1).iloc[0,15], resultSARIMAX.head(1).iloc[0,3]],\n",
    "          'CVS': [result.head(1).iloc[0,4], result.head(1).iloc[0,8], result.head(1).iloc[0,12], result.head(1).iloc[0,16], resultSARIMAX.head(1).iloc[0,3]]\n",
    "         }"
   ]
  },
  {
   "cell_type": "code",
   "execution_count": 86,
   "id": "1877cf42-3dba-4798-a713-b3c83a53b3d2",
   "metadata": {},
   "outputs": [],
   "source": [
    "vsModels = pd.DataFrame.from_dict(models)"
   ]
  },
  {
   "cell_type": "code",
   "execution_count": 87,
   "id": "36f4595e-dae5-447b-924a-3ab20e4ab306",
   "metadata": {},
   "outputs": [],
   "source": [
    "vsModels.set_index('modelo', inplace=True)"
   ]
  },
  {
   "cell_type": "code",
   "execution_count": 88,
   "id": "87c2f9f1-abf7-4961-8760-ec93cbbb896e",
   "metadata": {},
   "outputs": [
    {
     "data": {
      "text/html": [
       "<div>\n",
       "<style scoped>\n",
       "    .dataframe tbody tr th:only-of-type {\n",
       "        vertical-align: middle;\n",
       "    }\n",
       "\n",
       "    .dataframe tbody tr th {\n",
       "        vertical-align: top;\n",
       "    }\n",
       "\n",
       "    .dataframe thead th {\n",
       "        text-align: right;\n",
       "    }\n",
       "</style>\n",
       "<table border=\"1\" class=\"dataframe\">\n",
       "  <thead>\n",
       "    <tr style=\"text-align: right;\">\n",
       "      <th></th>\n",
       "      <th>MSE</th>\n",
       "      <th>CVS</th>\n",
       "    </tr>\n",
       "    <tr>\n",
       "      <th>modelo</th>\n",
       "      <th></th>\n",
       "      <th></th>\n",
       "    </tr>\n",
       "  </thead>\n",
       "  <tbody>\n",
       "    <tr>\n",
       "      <th>Reg. Lineal</th>\n",
       "      <td>51.024638</td>\n",
       "      <td>34.143479</td>\n",
       "    </tr>\n",
       "    <tr>\n",
       "      <th>Random Forest</th>\n",
       "      <td>50.162960</td>\n",
       "      <td>36.130018</td>\n",
       "    </tr>\n",
       "    <tr>\n",
       "      <th>XGBoost</th>\n",
       "      <td>55.457847</td>\n",
       "      <td>38.037336</td>\n",
       "    </tr>\n",
       "    <tr>\n",
       "      <th>Kvecinos</th>\n",
       "      <td>64.726724</td>\n",
       "      <td>57.000916</td>\n",
       "    </tr>\n",
       "    <tr>\n",
       "      <th>SARIMAX</th>\n",
       "      <td>59.530708</td>\n",
       "      <td>59.530708</td>\n",
       "    </tr>\n",
       "  </tbody>\n",
       "</table>\n",
       "</div>"
      ],
      "text/plain": [
       "                     MSE        CVS\n",
       "modelo                             \n",
       "Reg. Lineal    51.024638  34.143479\n",
       "Random Forest  50.162960  36.130018\n",
       "XGBoost        55.457847  38.037336\n",
       "Kvecinos       64.726724  57.000916\n",
       "SARIMAX        59.530708  59.530708"
      ]
     },
     "execution_count": 88,
     "metadata": {},
     "output_type": "execute_result"
    }
   ],
   "source": [
    "vsModels.sort_values(by='CVS')"
   ]
  }
 ],
 "metadata": {
  "kernelspec": {
   "display_name": "Python 3",
   "language": "python",
   "name": "python3"
  },
  "language_info": {
   "codemirror_mode": {
    "name": "ipython",
    "version": 3
   },
   "file_extension": ".py",
   "mimetype": "text/x-python",
   "name": "python",
   "nbconvert_exporter": "python",
   "pygments_lexer": "ipython3",
   "version": "3.9.5"
  }
 },
 "nbformat": 4,
 "nbformat_minor": 5
}
