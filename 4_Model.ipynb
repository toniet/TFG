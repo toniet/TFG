{
 "cells": [
  {
   "cell_type": "markdown",
   "id": "95116fb2",
   "metadata": {},
   "source": [
    "# TFM. Modelo predictivo llamadas Call Center\n",
    "## Notebook 4 - Modelos de regresión"
   ]
  },
  {
   "cell_type": "markdown",
   "id": "ca1bc0ea",
   "metadata": {},
   "source": [
    "## Importacion de librerias "
   ]
  },
  {
   "cell_type": "code",
   "execution_count": 1,
   "id": "ea76beaf",
   "metadata": {},
   "outputs": [],
   "source": [
    "import pandas as pd\n",
    "import numpy as np\n",
    "import matplotlib.pyplot as plt\n",
    "\n",
    "pd.options.display.max_columns = None"
   ]
  },
  {
   "cell_type": "markdown",
   "id": "02c0ae64",
   "metadata": {},
   "source": [
    "## Carga de datos"
   ]
  },
  {
   "cell_type": "code",
   "execution_count": 2,
   "id": "a4cc6842",
   "metadata": {},
   "outputs": [],
   "source": [
    "df_data = pd.read_pickle('./data/df_data')"
   ]
  },
  {
   "cell_type": "code",
   "execution_count": 3,
   "id": "fe9643c0",
   "metadata": {},
   "outputs": [
    {
     "data": {
      "text/html": [
       "<div>\n",
       "<style scoped>\n",
       "    .dataframe tbody tr th:only-of-type {\n",
       "        vertical-align: middle;\n",
       "    }\n",
       "\n",
       "    .dataframe tbody tr th {\n",
       "        vertical-align: top;\n",
       "    }\n",
       "\n",
       "    .dataframe thead th {\n",
       "        text-align: right;\n",
       "    }\n",
       "</style>\n",
       "<table border=\"1\" class=\"dataframe\">\n",
       "  <thead>\n",
       "    <tr style=\"text-align: right;\">\n",
       "      <th></th>\n",
       "      <th>Fecha</th>\n",
       "      <th>Monday</th>\n",
       "      <th>Tuesday</th>\n",
       "      <th>Wednesday</th>\n",
       "      <th>Thursday</th>\n",
       "      <th>Friday</th>\n",
       "      <th>envioslag1</th>\n",
       "      <th>envioslag6</th>\n",
       "      <th>envioslag7</th>\n",
       "      <th>envioslag8</th>\n",
       "      <th>envios</th>\n",
       "      <th>sinlag1</th>\n",
       "      <th>coslag1</th>\n",
       "      <th>sinlag2</th>\n",
       "      <th>coslag2</th>\n",
       "      <th>sinlag3</th>\n",
       "      <th>coslag3</th>\n",
       "      <th>sinlag4</th>\n",
       "      <th>coslag4</th>\n",
       "      <th>sinlag5</th>\n",
       "      <th>coslag5</th>\n",
       "      <th>sinlag6</th>\n",
       "      <th>coslag6</th>\n",
       "      <th>sinlag7</th>\n",
       "      <th>coslag7</th>\n",
       "      <th>llamadaslag1</th>\n",
       "      <th>llamadaslag2</th>\n",
       "      <th>llamadaslag3</th>\n",
       "      <th>llamadaslag4</th>\n",
       "      <th>llamadaslag5</th>\n",
       "      <th>llamadaslag6</th>\n",
       "      <th>llamadaslag7</th>\n",
       "      <th>llamadas</th>\n",
       "    </tr>\n",
       "  </thead>\n",
       "  <tbody>\n",
       "    <tr>\n",
       "      <th>0</th>\n",
       "      <td>2019-01-14</td>\n",
       "      <td>1.0</td>\n",
       "      <td>0.0</td>\n",
       "      <td>0.0</td>\n",
       "      <td>0.0</td>\n",
       "      <td>0.0</td>\n",
       "      <td>23.0</td>\n",
       "      <td>3220.0</td>\n",
       "      <td>1408.0</td>\n",
       "      <td>1923.0</td>\n",
       "      <td>3237.0</td>\n",
       "      <td>3.921346e-15</td>\n",
       "      <td>1.0</td>\n",
       "      <td>-1.960673e-15</td>\n",
       "      <td>-1.0</td>\n",
       "      <td>8.660254e-01</td>\n",
       "      <td>-0.5</td>\n",
       "      <td>1.000000e+00</td>\n",
       "      <td>-9.803364e-16</td>\n",
       "      <td>-5.877853e-01</td>\n",
       "      <td>-0.809017</td>\n",
       "      <td>8.660254e-01</td>\n",
       "      <td>0.5</td>\n",
       "      <td>-7.818315e-01</td>\n",
       "      <td>0.623490</td>\n",
       "      <td>270.0</td>\n",
       "      <td>236.0</td>\n",
       "      <td>227.0</td>\n",
       "      <td>174.0</td>\n",
       "      <td>173.0</td>\n",
       "      <td>351.0</td>\n",
       "      <td>283.0</td>\n",
       "      <td>260.0</td>\n",
       "    </tr>\n",
       "    <tr>\n",
       "      <th>1</th>\n",
       "      <td>2019-01-15</td>\n",
       "      <td>0.0</td>\n",
       "      <td>1.0</td>\n",
       "      <td>0.0</td>\n",
       "      <td>0.0</td>\n",
       "      <td>0.0</td>\n",
       "      <td>3237.0</td>\n",
       "      <td>4595.0</td>\n",
       "      <td>3220.0</td>\n",
       "      <td>1408.0</td>\n",
       "      <td>2911.0</td>\n",
       "      <td>-3.429011e-15</td>\n",
       "      <td>1.0</td>\n",
       "      <td>-1.714506e-15</td>\n",
       "      <td>1.0</td>\n",
       "      <td>-8.660254e-01</td>\n",
       "      <td>-0.5</td>\n",
       "      <td>8.572528e-16</td>\n",
       "      <td>-1.000000e+00</td>\n",
       "      <td>-9.510565e-01</td>\n",
       "      <td>0.309017</td>\n",
       "      <td>8.660254e-01</td>\n",
       "      <td>-0.5</td>\n",
       "      <td>-4.898587e-16</td>\n",
       "      <td>1.000000</td>\n",
       "      <td>260.0</td>\n",
       "      <td>270.0</td>\n",
       "      <td>236.0</td>\n",
       "      <td>227.0</td>\n",
       "      <td>174.0</td>\n",
       "      <td>173.0</td>\n",
       "      <td>351.0</td>\n",
       "      <td>259.0</td>\n",
       "    </tr>\n",
       "    <tr>\n",
       "      <th>2</th>\n",
       "      <td>2019-01-16</td>\n",
       "      <td>0.0</td>\n",
       "      <td>0.0</td>\n",
       "      <td>1.0</td>\n",
       "      <td>0.0</td>\n",
       "      <td>0.0</td>\n",
       "      <td>2911.0</td>\n",
       "      <td>2924.0</td>\n",
       "      <td>4595.0</td>\n",
       "      <td>3220.0</td>\n",
       "      <td>2639.0</td>\n",
       "      <td>-1.077937e-14</td>\n",
       "      <td>1.0</td>\n",
       "      <td>5.389684e-15</td>\n",
       "      <td>-1.0</td>\n",
       "      <td>-4.777360e-15</td>\n",
       "      <td>1.0</td>\n",
       "      <td>-1.000000e+00</td>\n",
       "      <td>-2.694842e-15</td>\n",
       "      <td>-7.347881e-16</td>\n",
       "      <td>1.000000</td>\n",
       "      <td>2.388680e-15</td>\n",
       "      <td>-1.0</td>\n",
       "      <td>7.818315e-01</td>\n",
       "      <td>0.623490</td>\n",
       "      <td>259.0</td>\n",
       "      <td>260.0</td>\n",
       "      <td>270.0</td>\n",
       "      <td>236.0</td>\n",
       "      <td>227.0</td>\n",
       "      <td>174.0</td>\n",
       "      <td>173.0</td>\n",
       "      <td>227.0</td>\n",
       "    </tr>\n",
       "    <tr>\n",
       "      <th>3</th>\n",
       "      <td>2019-01-17</td>\n",
       "      <td>0.0</td>\n",
       "      <td>0.0</td>\n",
       "      <td>0.0</td>\n",
       "      <td>1.0</td>\n",
       "      <td>0.0</td>\n",
       "      <td>2639.0</td>\n",
       "      <td>289.0</td>\n",
       "      <td>2924.0</td>\n",
       "      <td>4595.0</td>\n",
       "      <td>2056.0</td>\n",
       "      <td>-3.918870e-15</td>\n",
       "      <td>1.0</td>\n",
       "      <td>-1.959435e-15</td>\n",
       "      <td>1.0</td>\n",
       "      <td>8.660254e-01</td>\n",
       "      <td>-0.5</td>\n",
       "      <td>-9.797174e-16</td>\n",
       "      <td>1.000000e+00</td>\n",
       "      <td>9.510565e-01</td>\n",
       "      <td>0.309017</td>\n",
       "      <td>-8.660254e-01</td>\n",
       "      <td>-0.5</td>\n",
       "      <td>9.749279e-01</td>\n",
       "      <td>-0.222521</td>\n",
       "      <td>227.0</td>\n",
       "      <td>259.0</td>\n",
       "      <td>260.0</td>\n",
       "      <td>270.0</td>\n",
       "      <td>236.0</td>\n",
       "      <td>227.0</td>\n",
       "      <td>174.0</td>\n",
       "      <td>142.0</td>\n",
       "    </tr>\n",
       "    <tr>\n",
       "      <th>4</th>\n",
       "      <td>2019-01-18</td>\n",
       "      <td>0.0</td>\n",
       "      <td>0.0</td>\n",
       "      <td>0.0</td>\n",
       "      <td>0.0</td>\n",
       "      <td>1.0</td>\n",
       "      <td>2056.0</td>\n",
       "      <td>2461.0</td>\n",
       "      <td>289.0</td>\n",
       "      <td>2924.0</td>\n",
       "      <td>2005.0</td>\n",
       "      <td>2.941628e-15</td>\n",
       "      <td>1.0</td>\n",
       "      <td>-1.470814e-15</td>\n",
       "      <td>-1.0</td>\n",
       "      <td>-8.660254e-01</td>\n",
       "      <td>-0.5</td>\n",
       "      <td>1.000000e+00</td>\n",
       "      <td>-7.354071e-16</td>\n",
       "      <td>5.877853e-01</td>\n",
       "      <td>-0.809017</td>\n",
       "      <td>-8.660254e-01</td>\n",
       "      <td>0.5</td>\n",
       "      <td>4.338837e-01</td>\n",
       "      <td>-0.900969</td>\n",
       "      <td>142.0</td>\n",
       "      <td>227.0</td>\n",
       "      <td>259.0</td>\n",
       "      <td>260.0</td>\n",
       "      <td>270.0</td>\n",
       "      <td>236.0</td>\n",
       "      <td>227.0</td>\n",
       "      <td>277.0</td>\n",
       "    </tr>\n",
       "  </tbody>\n",
       "</table>\n",
       "</div>"
      ],
      "text/plain": [
       "        Fecha  Monday  Tuesday  Wednesday  Thursday  Friday  envioslag1  \\\n",
       "0  2019-01-14     1.0      0.0        0.0       0.0     0.0        23.0   \n",
       "1  2019-01-15     0.0      1.0        0.0       0.0     0.0      3237.0   \n",
       "2  2019-01-16     0.0      0.0        1.0       0.0     0.0      2911.0   \n",
       "3  2019-01-17     0.0      0.0        0.0       1.0     0.0      2639.0   \n",
       "4  2019-01-18     0.0      0.0        0.0       0.0     1.0      2056.0   \n",
       "\n",
       "   envioslag6  envioslag7  envioslag8  envios       sinlag1  coslag1  \\\n",
       "0      3220.0      1408.0      1923.0  3237.0  3.921346e-15      1.0   \n",
       "1      4595.0      3220.0      1408.0  2911.0 -3.429011e-15      1.0   \n",
       "2      2924.0      4595.0      3220.0  2639.0 -1.077937e-14      1.0   \n",
       "3       289.0      2924.0      4595.0  2056.0 -3.918870e-15      1.0   \n",
       "4      2461.0       289.0      2924.0  2005.0  2.941628e-15      1.0   \n",
       "\n",
       "        sinlag2  coslag2       sinlag3  coslag3       sinlag4       coslag4  \\\n",
       "0 -1.960673e-15     -1.0  8.660254e-01     -0.5  1.000000e+00 -9.803364e-16   \n",
       "1 -1.714506e-15      1.0 -8.660254e-01     -0.5  8.572528e-16 -1.000000e+00   \n",
       "2  5.389684e-15     -1.0 -4.777360e-15      1.0 -1.000000e+00 -2.694842e-15   \n",
       "3 -1.959435e-15      1.0  8.660254e-01     -0.5 -9.797174e-16  1.000000e+00   \n",
       "4 -1.470814e-15     -1.0 -8.660254e-01     -0.5  1.000000e+00 -7.354071e-16   \n",
       "\n",
       "        sinlag5   coslag5       sinlag6  coslag6       sinlag7   coslag7  \\\n",
       "0 -5.877853e-01 -0.809017  8.660254e-01      0.5 -7.818315e-01  0.623490   \n",
       "1 -9.510565e-01  0.309017  8.660254e-01     -0.5 -4.898587e-16  1.000000   \n",
       "2 -7.347881e-16  1.000000  2.388680e-15     -1.0  7.818315e-01  0.623490   \n",
       "3  9.510565e-01  0.309017 -8.660254e-01     -0.5  9.749279e-01 -0.222521   \n",
       "4  5.877853e-01 -0.809017 -8.660254e-01      0.5  4.338837e-01 -0.900969   \n",
       "\n",
       "   llamadaslag1  llamadaslag2  llamadaslag3  llamadaslag4  llamadaslag5  \\\n",
       "0         270.0         236.0         227.0         174.0         173.0   \n",
       "1         260.0         270.0         236.0         227.0         174.0   \n",
       "2         259.0         260.0         270.0         236.0         227.0   \n",
       "3         227.0         259.0         260.0         270.0         236.0   \n",
       "4         142.0         227.0         259.0         260.0         270.0   \n",
       "\n",
       "   llamadaslag6  llamadaslag7  llamadas  \n",
       "0         351.0         283.0     260.0  \n",
       "1         173.0         351.0     259.0  \n",
       "2         174.0         173.0     227.0  \n",
       "3         227.0         174.0     142.0  \n",
       "4         236.0         227.0     277.0  "
      ]
     },
     "execution_count": 3,
     "metadata": {},
     "output_type": "execute_result"
    }
   ],
   "source": [
    "df_data.head()"
   ]
  },
  {
   "cell_type": "markdown",
   "id": "4360d7c2-72c0-4978-a193-47b1cc974442",
   "metadata": {},
   "source": [
    "# Tratamiento de la serie temporal con ML"
   ]
  },
  {
   "cell_type": "code",
   "execution_count": 4,
   "id": "012c42ec-05b3-4a3e-adbb-2e48b4bd7a1c",
   "metadata": {},
   "outputs": [],
   "source": [
    "from sklearn.model_selection import train_test_split\n",
    "from sklearn.metrics import mean_squared_error"
   ]
  },
  {
   "cell_type": "code",
   "execution_count": 5,
   "id": "7c164c87",
   "metadata": {},
   "outputs": [],
   "source": [
    "X = df_data.iloc[:,1:-1]\n",
    "y = df_data['llamadas']\n",
    "\n",
    "X_train, X_test, y_train, y_test = train_test_split(X, y, test_size=0.20)"
   ]
  },
  {
   "cell_type": "code",
   "execution_count": 6,
   "id": "c1fc36c5-d1ea-4291-a95c-0bfd92b2e5f0",
   "metadata": {},
   "outputs": [],
   "source": [
    "result = pd.DataFrame()\n",
    "result['y_test'] = y_test"
   ]
  },
  {
   "cell_type": "markdown",
   "id": "fced95ea-ec9e-496c-98aa-8399991678ca",
   "metadata": {},
   "source": [
    "## Regresión Lineal"
   ]
  },
  {
   "cell_type": "code",
   "execution_count": 7,
   "id": "141c5bac",
   "metadata": {},
   "outputs": [],
   "source": [
    "from sklearn.linear_model import LinearRegression"
   ]
  },
  {
   "cell_type": "code",
   "execution_count": 8,
   "id": "621bc285",
   "metadata": {},
   "outputs": [],
   "source": [
    "# Regresor\n",
    "regl = LinearRegression()"
   ]
  },
  {
   "cell_type": "code",
   "execution_count": 9,
   "id": "e63fce2e",
   "metadata": {},
   "outputs": [
    {
     "data": {
      "text/plain": [
       "Index(['Monday', 'Tuesday', 'Wednesday', 'Thursday', 'Friday', 'envioslag1',\n",
       "       'envioslag6', 'envioslag7', 'envioslag8', 'envios', 'sinlag1',\n",
       "       'coslag1', 'sinlag2', 'coslag2', 'sinlag3', 'coslag3', 'sinlag4',\n",
       "       'coslag4', 'sinlag5', 'coslag5', 'sinlag6', 'coslag6', 'sinlag7',\n",
       "       'coslag7', 'llamadaslag1', 'llamadaslag2', 'llamadaslag3',\n",
       "       'llamadaslag4', 'llamadaslag5', 'llamadaslag6', 'llamadaslag7'],\n",
       "      dtype='object')"
      ]
     },
     "execution_count": 9,
     "metadata": {},
     "output_type": "execute_result"
    }
   ],
   "source": [
    "X.columns"
   ]
  },
  {
   "cell_type": "code",
   "execution_count": 10,
   "id": "79908178",
   "metadata": {},
   "outputs": [
    {
     "data": {
      "text/plain": [
       "LinearRegression()"
      ]
     },
     "execution_count": 10,
     "metadata": {},
     "output_type": "execute_result"
    }
   ],
   "source": [
    "regl.fit(X_train, y_train)"
   ]
  },
  {
   "cell_type": "code",
   "execution_count": 11,
   "id": "8ae929a8",
   "metadata": {},
   "outputs": [],
   "source": [
    "pred_regl = regl.predict(X_test)"
   ]
  },
  {
   "cell_type": "markdown",
   "id": "794f7075-b690-41fc-b26d-816591565b03",
   "metadata": {},
   "source": [
    "### Resultados regresión lineal"
   ]
  },
  {
   "cell_type": "code",
   "execution_count": 12,
   "id": "92ce988e-4b41-4c57-bb8f-b8a8c61e9765",
   "metadata": {},
   "outputs": [
    {
     "name": "stdout",
     "output_type": "stream",
     "text": [
      "43.19567592586164\n"
     ]
    }
   ],
   "source": [
    "rmse_regl = mean_squared_error(y_test, pred_regl, squared=False)\n",
    "print(rmse_regl)"
   ]
  },
  {
   "cell_type": "code",
   "execution_count": 13,
   "id": "3fc1e09b-88fd-4b85-9f08-73a211a26820",
   "metadata": {
    "tags": []
   },
   "outputs": [],
   "source": [
    "result['pred_regl'] = pred_regl"
   ]
  },
  {
   "cell_type": "code",
   "execution_count": 14,
   "id": "f23a5acb-dc5f-4ab9-84e2-b64fae1dc4ae",
   "metadata": {},
   "outputs": [],
   "source": [
    "result['error_regl'] = result['y_test'] - result['pred_regl']"
   ]
  },
  {
   "cell_type": "code",
   "execution_count": 15,
   "id": "83b62dca-49f0-4655-ac9f-e64ba2b2ff4c",
   "metadata": {},
   "outputs": [
    {
     "data": {
      "text/html": [
       "<div>\n",
       "<style scoped>\n",
       "    .dataframe tbody tr th:only-of-type {\n",
       "        vertical-align: middle;\n",
       "    }\n",
       "\n",
       "    .dataframe tbody tr th {\n",
       "        vertical-align: top;\n",
       "    }\n",
       "\n",
       "    .dataframe thead th {\n",
       "        text-align: right;\n",
       "    }\n",
       "</style>\n",
       "<table border=\"1\" class=\"dataframe\">\n",
       "  <thead>\n",
       "    <tr style=\"text-align: right;\">\n",
       "      <th></th>\n",
       "      <th>y_test</th>\n",
       "      <th>pred_regl</th>\n",
       "      <th>error_regl</th>\n",
       "    </tr>\n",
       "  </thead>\n",
       "  <tbody>\n",
       "    <tr>\n",
       "      <th>538</th>\n",
       "      <td>137.0</td>\n",
       "      <td>92.182068</td>\n",
       "      <td>44.817932</td>\n",
       "    </tr>\n",
       "    <tr>\n",
       "      <th>541</th>\n",
       "      <td>116.0</td>\n",
       "      <td>131.697754</td>\n",
       "      <td>-15.697754</td>\n",
       "    </tr>\n",
       "    <tr>\n",
       "      <th>525</th>\n",
       "      <td>116.0</td>\n",
       "      <td>152.413330</td>\n",
       "      <td>-36.413330</td>\n",
       "    </tr>\n",
       "    <tr>\n",
       "      <th>475</th>\n",
       "      <td>212.0</td>\n",
       "      <td>172.148071</td>\n",
       "      <td>39.851929</td>\n",
       "    </tr>\n",
       "    <tr>\n",
       "      <th>214</th>\n",
       "      <td>234.0</td>\n",
       "      <td>226.126038</td>\n",
       "      <td>7.873962</td>\n",
       "    </tr>\n",
       "  </tbody>\n",
       "</table>\n",
       "</div>"
      ],
      "text/plain": [
       "     y_test   pred_regl  error_regl\n",
       "538   137.0   92.182068   44.817932\n",
       "541   116.0  131.697754  -15.697754\n",
       "525   116.0  152.413330  -36.413330\n",
       "475   212.0  172.148071   39.851929\n",
       "214   234.0  226.126038    7.873962"
      ]
     },
     "execution_count": 15,
     "metadata": {},
     "output_type": "execute_result"
    }
   ],
   "source": [
    "result.head()"
   ]
  },
  {
   "cell_type": "code",
   "execution_count": 16,
   "id": "bce1433e-c2fd-483b-a8ea-3ea0d9128aed",
   "metadata": {},
   "outputs": [
    {
     "data": {
      "text/plain": [
       "<AxesSubplot:>"
      ]
     },
     "execution_count": 16,
     "metadata": {},
     "output_type": "execute_result"
    },
    {
     "data": {
      "image/png": "[encoded data removed]",
      "text/plain": [
       "<Figure size 432x288 with 1 Axes>"
      ]
     },
     "metadata": {
      "needs_background": "light"
     },
     "output_type": "display_data"
    }
   ],
   "source": [
    "result['error_regl'].hist(bins=20)"
   ]
  },
  {
   "cell_type": "code",
   "execution_count": 17,
   "id": "84c13bc7-4dcb-42a4-8644-ca12a1c40a01",
   "metadata": {},
   "outputs": [
    {
     "data": {
      "text/plain": [
       "count    110.000000\n",
       "mean      -2.110839\n",
       "std       43.341527\n",
       "min     -271.522400\n",
       "25%      -20.023865\n",
       "50%       -1.406586\n",
       "75%       20.160156\n",
       "max      109.221680\n",
       "Name: error_regl, dtype: float64"
      ]
     },
     "execution_count": 17,
     "metadata": {},
     "output_type": "execute_result"
    }
   ],
   "source": [
    "result['error_regl'].describe()"
   ]
  },
  {
   "cell_type": "markdown",
   "id": "18eb7110-30ff-41ec-825f-1a6239436fc4",
   "metadata": {},
   "source": [
    "#### Representar modelo de predicción"
   ]
  },
  {
   "cell_type": "code",
   "execution_count": 18,
   "id": "c72a7623",
   "metadata": {},
   "outputs": [],
   "source": [
    "analisisX = df_data.iloc[:,-1].reset_index()\n",
    "analisisX = analisisX['llamadas']\n",
    "\n",
    "analisisPre = regl.predict(X)\n",
    "analisisPre = pd.DataFrame(analisisPre)"
   ]
  },
  {
   "cell_type": "code",
   "execution_count": 19,
   "id": "689ef70d",
   "metadata": {
    "scrolled": true
   },
   "outputs": [
    {
     "data": {
      "text/plain": [
       "[<matplotlib.lines.Line2D at 0x1dfc5171790>]"
      ]
     },
     "execution_count": 19,
     "metadata": {},
     "output_type": "execute_result"
    },
    {
     "data": {
      "image/png": "[encoded data removed]",
      "text/plain": [
       "<Figure size 432x288 with 1 Axes>"
      ]
     },
     "metadata": {
      "needs_background": "light"
     },
     "output_type": "display_data"
    }
   ],
   "source": [
    "plt.plot(analisisX, c='green')\n",
    "plt.plot(analisisPre, c='red')"
   ]
  },
  {
   "cell_type": "markdown",
   "id": "38c93fbe-b741-44ed-a1db-593544dbd5ce",
   "metadata": {},
   "source": [
    "## K-vecinos"
   ]
  },
  {
   "cell_type": "code",
   "execution_count": 20,
   "id": "1863d717",
   "metadata": {},
   "outputs": [],
   "source": [
    "from sklearn.neighbors import KNeighborsRegressor\n",
    "from sklearn.model_selection import GridSearchCV"
   ]
  },
  {
   "cell_type": "markdown",
   "id": "797de646-4541-41ea-9d1c-742f12350453",
   "metadata": {},
   "source": [
    "#### Buscamos el mejor ajuste del modelo de K-vecinos"
   ]
  },
  {
   "cell_type": "code",
   "execution_count": 21,
   "id": "891df9bd",
   "metadata": {},
   "outputs": [],
   "source": [
    "reg_gs = GridSearchCV(KNeighborsRegressor(),\n",
    "                        param_grid={\"n_neighbors\":np.arange(1,50)})"
   ]
  },
  {
   "cell_type": "code",
   "execution_count": 22,
   "id": "b107eb3c",
   "metadata": {},
   "outputs": [
    {
     "data": {
      "text/plain": [
       "GridSearchCV(estimator=KNeighborsRegressor(),\n",
       "             param_grid={'n_neighbors': array([ 1,  2,  3,  4,  5,  6,  7,  8,  9, 10, 11, 12, 13, 14, 15, 16, 17,\n",
       "       18, 19, 20, 21, 22, 23, 24, 25, 26, 27, 28, 29, 30, 31, 32, 33, 34,\n",
       "       35, 36, 37, 38, 39, 40, 41, 42, 43, 44, 45, 46, 47, 48, 49])})"
      ]
     },
     "execution_count": 22,
     "metadata": {},
     "output_type": "execute_result"
    }
   ],
   "source": [
    "reg_gs.fit(X,y)"
   ]
  },
  {
   "cell_type": "code",
   "execution_count": 23,
   "id": "87336782",
   "metadata": {},
   "outputs": [
    {
     "data": {
      "text/plain": [
       "({'n_neighbors': 10}, -0.7811210739022725)"
      ]
     },
     "execution_count": 23,
     "metadata": {},
     "output_type": "execute_result"
    }
   ],
   "source": [
    "reg_gs.best_params_, reg_gs.best_score_"
   ]
  },
  {
   "cell_type": "code",
   "execution_count": 24,
   "id": "68efa217",
   "metadata": {},
   "outputs": [],
   "source": [
    "# Regresor\n",
    "regk = KNeighborsRegressor(n_neighbors=10)"
   ]
  },
  {
   "cell_type": "code",
   "execution_count": 25,
   "id": "da20d1de",
   "metadata": {},
   "outputs": [
    {
     "data": {
      "text/plain": [
       "KNeighborsRegressor(n_neighbors=10)"
      ]
     },
     "execution_count": 25,
     "metadata": {},
     "output_type": "execute_result"
    }
   ],
   "source": [
    "regk.fit(X_train,y_train)"
   ]
  },
  {
   "cell_type": "code",
   "execution_count": 26,
   "id": "2299b0ad",
   "metadata": {},
   "outputs": [],
   "source": [
    "pred_regk = regk.predict(X_test)"
   ]
  },
  {
   "cell_type": "markdown",
   "id": "5a7857ef-5b68-437d-8795-4e7ec4bce692",
   "metadata": {},
   "source": [
    "### Resultados K-vecinos"
   ]
  },
  {
   "cell_type": "code",
   "execution_count": 27,
   "id": "8e4fe490-6288-4fd2-b3f8-8ddc14efb137",
   "metadata": {},
   "outputs": [
    {
     "name": "stdout",
     "output_type": "stream",
     "text": [
      "86.40376149219432\n"
     ]
    }
   ],
   "source": [
    "rmse_regk = mean_squared_error(y_test, pred_regk, squared=False)\n",
    "print(rmse_regk)"
   ]
  },
  {
   "cell_type": "code",
   "execution_count": 28,
   "id": "27ac3280-f800-4e60-adba-a048a83954ba",
   "metadata": {
    "tags": []
   },
   "outputs": [],
   "source": [
    "result['pred_regk'] = pred_regk"
   ]
  },
  {
   "cell_type": "code",
   "execution_count": 29,
   "id": "68581b68-85e9-4d0c-aa65-4c0ba7797395",
   "metadata": {},
   "outputs": [],
   "source": [
    "result['error_regk'] = result['y_test'] - result['pred_regk']"
   ]
  },
  {
   "cell_type": "code",
   "execution_count": 30,
   "id": "bafdaec0-e52b-459d-8d6c-d392854f1d9c",
   "metadata": {},
   "outputs": [
    {
     "data": {
      "text/html": [
       "<div>\n",
       "<style scoped>\n",
       "    .dataframe tbody tr th:only-of-type {\n",
       "        vertical-align: middle;\n",
       "    }\n",
       "\n",
       "    .dataframe tbody tr th {\n",
       "        vertical-align: top;\n",
       "    }\n",
       "\n",
       "    .dataframe thead th {\n",
       "        text-align: right;\n",
       "    }\n",
       "</style>\n",
       "<table border=\"1\" class=\"dataframe\">\n",
       "  <thead>\n",
       "    <tr style=\"text-align: right;\">\n",
       "      <th></th>\n",
       "      <th>y_test</th>\n",
       "      <th>pred_regl</th>\n",
       "      <th>error_regl</th>\n",
       "      <th>pred_regk</th>\n",
       "      <th>error_regk</th>\n",
       "    </tr>\n",
       "  </thead>\n",
       "  <tbody>\n",
       "    <tr>\n",
       "      <th>538</th>\n",
       "      <td>137.0</td>\n",
       "      <td>92.182068</td>\n",
       "      <td>44.817932</td>\n",
       "      <td>158.5</td>\n",
       "      <td>-21.5</td>\n",
       "    </tr>\n",
       "    <tr>\n",
       "      <th>541</th>\n",
       "      <td>116.0</td>\n",
       "      <td>131.697754</td>\n",
       "      <td>-15.697754</td>\n",
       "      <td>152.7</td>\n",
       "      <td>-36.7</td>\n",
       "    </tr>\n",
       "    <tr>\n",
       "      <th>525</th>\n",
       "      <td>116.0</td>\n",
       "      <td>152.413330</td>\n",
       "      <td>-36.413330</td>\n",
       "      <td>236.0</td>\n",
       "      <td>-120.0</td>\n",
       "    </tr>\n",
       "    <tr>\n",
       "      <th>475</th>\n",
       "      <td>212.0</td>\n",
       "      <td>172.148071</td>\n",
       "      <td>39.851929</td>\n",
       "      <td>250.1</td>\n",
       "      <td>-38.1</td>\n",
       "    </tr>\n",
       "    <tr>\n",
       "      <th>214</th>\n",
       "      <td>234.0</td>\n",
       "      <td>226.126038</td>\n",
       "      <td>7.873962</td>\n",
       "      <td>213.7</td>\n",
       "      <td>20.3</td>\n",
       "    </tr>\n",
       "  </tbody>\n",
       "</table>\n",
       "</div>"
      ],
      "text/plain": [
       "     y_test   pred_regl  error_regl  pred_regk  error_regk\n",
       "538   137.0   92.182068   44.817932      158.5       -21.5\n",
       "541   116.0  131.697754  -15.697754      152.7       -36.7\n",
       "525   116.0  152.413330  -36.413330      236.0      -120.0\n",
       "475   212.0  172.148071   39.851929      250.1       -38.1\n",
       "214   234.0  226.126038    7.873962      213.7        20.3"
      ]
     },
     "execution_count": 30,
     "metadata": {},
     "output_type": "execute_result"
    }
   ],
   "source": [
    "result.head()"
   ]
  },
  {
   "cell_type": "code",
   "execution_count": 31,
   "id": "093fce2d-695d-4655-86fd-a3f97e17ef7d",
   "metadata": {},
   "outputs": [
    {
     "data": {
      "text/plain": [
       "<AxesSubplot:>"
      ]
     },
     "execution_count": 31,
     "metadata": {},
     "output_type": "execute_result"
    },
    {
     "data": {
      "image/png": "[encoded data removed]",
      "text/plain": [
       "<Figure size 432x288 with 1 Axes>"
      ]
     },
     "metadata": {
      "needs_background": "light"
     },
     "output_type": "display_data"
    }
   ],
   "source": [
    "result['error_regk'].hist(bins=20)"
   ]
  },
  {
   "cell_type": "code",
   "execution_count": 32,
   "id": "7e6ca9e3-1637-49f7-972e-43f52a64c332",
   "metadata": {},
   "outputs": [
    {
     "data": {
      "text/plain": [
       "count    110.000000\n",
       "mean       3.845455\n",
       "std       86.713198\n",
       "min     -154.000000\n",
       "25%      -56.950000\n",
       "50%       -9.350000\n",
       "75%       58.200000\n",
       "max      294.400000\n",
       "Name: error_regk, dtype: float64"
      ]
     },
     "execution_count": 32,
     "metadata": {},
     "output_type": "execute_result"
    }
   ],
   "source": [
    "result['error_regk'].describe()"
   ]
  },
  {
   "cell_type": "markdown",
   "id": "f4f0fdea-8de7-497f-b316-13a2fa84f1a9",
   "metadata": {},
   "source": [
    "#### Representar modelo de predicción"
   ]
  },
  {
   "cell_type": "code",
   "execution_count": 33,
   "id": "1a2311ad",
   "metadata": {},
   "outputs": [
    {
     "data": {
      "text/plain": [
       "[<matplotlib.lines.Line2D at 0x1dfc579f5e0>]"
      ]
     },
     "execution_count": 33,
     "metadata": {},
     "output_type": "execute_result"
    },
    {
     "data": {
      "image/png": "[encoded data removed]",
      "text/plain": [
       "<Figure size 432x288 with 1 Axes>"
      ]
     },
     "metadata": {
      "needs_background": "light"
     },
     "output_type": "display_data"
    }
   ],
   "source": [
    "analisisPre = regk.predict(X)\n",
    "analisisPre = pd.DataFrame(analisisPre)\n",
    "\n",
    "plt.plot(analisisX, c='green')\n",
    "plt.plot(analisisPre, c='red')"
   ]
  },
  {
   "cell_type": "code",
   "execution_count": null,
   "id": "d39ca919-57e5-4bad-a79f-fbcbc1c53b85",
   "metadata": {},
   "outputs": [],
   "source": []
  }
 ],
 "metadata": {
  "kernelspec": {
   "display_name": "Python 3",
   "language": "python",
   "name": "python3"
  },
  "language_info": {
   "codemirror_mode": {
    "name": "ipython",
    "version": 3
   },
   "file_extension": ".py",
   "mimetype": "text/x-python",
   "name": "python",
   "nbconvert_exporter": "python",
   "pygments_lexer": "ipython3",
   "version": "3.9.5"
  }
 },
 "nbformat": 4,
 "nbformat_minor": 5
}
