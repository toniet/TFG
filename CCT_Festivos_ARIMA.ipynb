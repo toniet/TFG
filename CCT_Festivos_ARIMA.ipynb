{
 "cells": [
  {
   "cell_type": "code",
   "execution_count": 1,
   "metadata": {
    "colab": {},
    "colab_type": "code",
    "id": "sJUCGgJAeXmn"
   },
   "outputs": [],
   "source": [
    "import pandas as pd\n",
    "import numpy as np\n",
    "import datetime"
   ]
  },
  {
   "cell_type": "markdown",
   "metadata": {
    "colab_type": "text",
    "id": "kzMWL_bGvvuY"
   },
   "source": [
    "# Read Data"
   ]
  },
  {
   "cell_type": "code",
   "execution_count": 2,
   "metadata": {},
   "outputs": [],
   "source": [
    "#df=pd.read_csv('data/calls.csv',index_col='DATE',parse_dates=True)\n",
    "#df=df.dropna()"
   ]
  },
  {
   "cell_type": "code",
   "execution_count": 3,
   "metadata": {
    "colab": {
     "base_uri": "https://localhost:8080/",
     "height": 243
    },
    "colab_type": "code",
    "id": "rKYgCgvcebUM",
    "outputId": "8d11db02-ce47-432f-a9f6-dd8b06c79dd3"
   },
   "outputs": [
    {
     "name": "stdout",
     "output_type": "stream",
     "text": [
      "Shape of data (575, 1)\n"
     ]
    },
    {
     "data": {
      "text/html": [
       "<div>\n",
       "<style scoped>\n",
       "    .dataframe tbody tr th:only-of-type {\n",
       "        vertical-align: middle;\n",
       "    }\n",
       "\n",
       "    .dataframe tbody tr th {\n",
       "        vertical-align: top;\n",
       "    }\n",
       "\n",
       "    .dataframe thead th {\n",
       "        text-align: right;\n",
       "    }\n",
       "</style>\n",
       "<table border=\"1\" class=\"dataframe\">\n",
       "  <thead>\n",
       "    <tr style=\"text-align: right;\">\n",
       "      <th></th>\n",
       "      <th>dateCreacion</th>\n",
       "    </tr>\n",
       "    <tr>\n",
       "      <th>Date</th>\n",
       "      <th></th>\n",
       "    </tr>\n",
       "  </thead>\n",
       "  <tbody>\n",
       "    <tr>\n",
       "      <th>2019-01-02</th>\n",
       "      <td>281</td>\n",
       "    </tr>\n",
       "    <tr>\n",
       "      <th>2019-01-03</th>\n",
       "      <td>283</td>\n",
       "    </tr>\n",
       "    <tr>\n",
       "      <th>2019-01-04</th>\n",
       "      <td>351</td>\n",
       "    </tr>\n",
       "    <tr>\n",
       "      <th>2019-01-07</th>\n",
       "      <td>173</td>\n",
       "    </tr>\n",
       "    <tr>\n",
       "      <th>2019-01-08</th>\n",
       "      <td>174</td>\n",
       "    </tr>\n",
       "  </tbody>\n",
       "</table>\n",
       "</div>"
      ],
      "text/plain": [
       "            dateCreacion\n",
       "Date                    \n",
       "2019-01-02           281\n",
       "2019-01-03           283\n",
       "2019-01-04           351\n",
       "2019-01-07           173\n",
       "2019-01-08           174"
      ]
     },
     "execution_count": 3,
     "metadata": {},
     "output_type": "execute_result"
    }
   ],
   "source": [
    "df_calls = pd.read_pickle('data/df_Call')\n",
    "print('Shape of data',df_calls.shape)\n",
    "df_calls.head()"
   ]
  },
  {
   "cell_type": "code",
   "execution_count": 4,
   "metadata": {},
   "outputs": [
    {
     "data": {
      "text/html": [
       "<div>\n",
       "<style scoped>\n",
       "    .dataframe tbody tr th:only-of-type {\n",
       "        vertical-align: middle;\n",
       "    }\n",
       "\n",
       "    .dataframe tbody tr th {\n",
       "        vertical-align: top;\n",
       "    }\n",
       "\n",
       "    .dataframe thead th {\n",
       "        text-align: right;\n",
       "    }\n",
       "</style>\n",
       "<table border=\"1\" class=\"dataframe\">\n",
       "  <thead>\n",
       "    <tr style=\"text-align: right;\">\n",
       "      <th></th>\n",
       "      <th>dateCreacion</th>\n",
       "    </tr>\n",
       "    <tr>\n",
       "      <th>Date</th>\n",
       "      <th></th>\n",
       "    </tr>\n",
       "  </thead>\n",
       "  <tbody>\n",
       "    <tr>\n",
       "      <th>2021-04-15</th>\n",
       "      <td>116</td>\n",
       "    </tr>\n",
       "    <tr>\n",
       "      <th>2021-04-16</th>\n",
       "      <td>114</td>\n",
       "    </tr>\n",
       "    <tr>\n",
       "      <th>2021-04-19</th>\n",
       "      <td>114</td>\n",
       "    </tr>\n",
       "    <tr>\n",
       "      <th>2021-04-20</th>\n",
       "      <td>108</td>\n",
       "    </tr>\n",
       "    <tr>\n",
       "      <th>2021-04-21</th>\n",
       "      <td>53</td>\n",
       "    </tr>\n",
       "  </tbody>\n",
       "</table>\n",
       "</div>"
      ],
      "text/plain": [
       "            dateCreacion\n",
       "Date                    \n",
       "2021-04-15           116\n",
       "2021-04-16           114\n",
       "2021-04-19           114\n",
       "2021-04-20           108\n",
       "2021-04-21            53"
      ]
     },
     "execution_count": 4,
     "metadata": {},
     "output_type": "execute_result"
    }
   ],
   "source": [
    "df_calls.tail()"
   ]
  },
  {
   "cell_type": "code",
   "execution_count": 5,
   "metadata": {},
   "outputs": [
    {
     "data": {
      "text/html": [
       "<div>\n",
       "<style scoped>\n",
       "    .dataframe tbody tr th:only-of-type {\n",
       "        vertical-align: middle;\n",
       "    }\n",
       "\n",
       "    .dataframe tbody tr th {\n",
       "        vertical-align: top;\n",
       "    }\n",
       "\n",
       "    .dataframe thead th {\n",
       "        text-align: right;\n",
       "    }\n",
       "</style>\n",
       "<table border=\"1\" class=\"dataframe\">\n",
       "  <thead>\n",
       "    <tr style=\"text-align: right;\">\n",
       "      <th></th>\n",
       "      <th>Date</th>\n",
       "      <th>dateCreacion</th>\n",
       "    </tr>\n",
       "  </thead>\n",
       "  <tbody>\n",
       "    <tr>\n",
       "      <th>0</th>\n",
       "      <td>2019-01-02</td>\n",
       "      <td>281</td>\n",
       "    </tr>\n",
       "    <tr>\n",
       "      <th>1</th>\n",
       "      <td>2019-01-03</td>\n",
       "      <td>283</td>\n",
       "    </tr>\n",
       "    <tr>\n",
       "      <th>2</th>\n",
       "      <td>2019-01-04</td>\n",
       "      <td>351</td>\n",
       "    </tr>\n",
       "    <tr>\n",
       "      <th>3</th>\n",
       "      <td>2019-01-07</td>\n",
       "      <td>173</td>\n",
       "    </tr>\n",
       "    <tr>\n",
       "      <th>4</th>\n",
       "      <td>2019-01-08</td>\n",
       "      <td>174</td>\n",
       "    </tr>\n",
       "  </tbody>\n",
       "</table>\n",
       "</div>"
      ],
      "text/plain": [
       "         Date  dateCreacion\n",
       "0  2019-01-02           281\n",
       "1  2019-01-03           283\n",
       "2  2019-01-04           351\n",
       "3  2019-01-07           173\n",
       "4  2019-01-08           174"
      ]
     },
     "execution_count": 5,
     "metadata": {},
     "output_type": "execute_result"
    }
   ],
   "source": [
    "df_calls.reset_index(inplace=True)\n",
    "df_calls.head()"
   ]
  },
  {
   "cell_type": "code",
   "execution_count": 6,
   "metadata": {},
   "outputs": [],
   "source": [
    "begin_date = '2019-01-02'\n",
    "end_date = '2021-04-20'\n",
    "\n",
    "#df = pd.DataFrame({'date':pd.date_range(begin_date, periods=840)})\n",
    "df = pd.DataFrame({'date':pd.date_range(begin_date,end_date)})"
   ]
  },
  {
   "cell_type": "code",
   "execution_count": 7,
   "metadata": {},
   "outputs": [],
   "source": [
    "df['Date'] = [str(x.date()) for x in df['date']]"
   ]
  },
  {
   "cell_type": "code",
   "execution_count": 8,
   "metadata": {},
   "outputs": [],
   "source": [
    "df = df.set_index('Date').join(df_calls.set_index('Date'))[['dateCreacion']]\n",
    "#df = df_calls"
   ]
  },
  {
   "cell_type": "code",
   "execution_count": 9,
   "metadata": {},
   "outputs": [],
   "source": [
    "df.fillna(0, inplace=True)"
   ]
  },
  {
   "cell_type": "code",
   "execution_count": 10,
   "metadata": {},
   "outputs": [],
   "source": [
    "df.reset_index(inplace=True)"
   ]
  },
  {
   "cell_type": "code",
   "execution_count": 11,
   "metadata": {},
   "outputs": [
    {
     "data": {
      "text/html": [
       "<div>\n",
       "<style scoped>\n",
       "    .dataframe tbody tr th:only-of-type {\n",
       "        vertical-align: middle;\n",
       "    }\n",
       "\n",
       "    .dataframe tbody tr th {\n",
       "        vertical-align: top;\n",
       "    }\n",
       "\n",
       "    .dataframe thead th {\n",
       "        text-align: right;\n",
       "    }\n",
       "</style>\n",
       "<table border=\"1\" class=\"dataframe\">\n",
       "  <thead>\n",
       "    <tr style=\"text-align: right;\">\n",
       "      <th></th>\n",
       "      <th>Date</th>\n",
       "      <th>dateCreacion</th>\n",
       "    </tr>\n",
       "  </thead>\n",
       "  <tbody>\n",
       "    <tr>\n",
       "      <th>0</th>\n",
       "      <td>2019-01-02</td>\n",
       "      <td>281.0</td>\n",
       "    </tr>\n",
       "    <tr>\n",
       "      <th>1</th>\n",
       "      <td>2019-01-03</td>\n",
       "      <td>283.0</td>\n",
       "    </tr>\n",
       "    <tr>\n",
       "      <th>2</th>\n",
       "      <td>2019-01-04</td>\n",
       "      <td>351.0</td>\n",
       "    </tr>\n",
       "    <tr>\n",
       "      <th>3</th>\n",
       "      <td>2019-01-05</td>\n",
       "      <td>0.0</td>\n",
       "    </tr>\n",
       "    <tr>\n",
       "      <th>4</th>\n",
       "      <td>2019-01-06</td>\n",
       "      <td>0.0</td>\n",
       "    </tr>\n",
       "  </tbody>\n",
       "</table>\n",
       "</div>"
      ],
      "text/plain": [
       "         Date  dateCreacion\n",
       "0  2019-01-02         281.0\n",
       "1  2019-01-03         283.0\n",
       "2  2019-01-04         351.0\n",
       "3  2019-01-05           0.0\n",
       "4  2019-01-06           0.0"
      ]
     },
     "execution_count": 11,
     "metadata": {},
     "output_type": "execute_result"
    }
   ],
   "source": [
    "df.head()"
   ]
  },
  {
   "cell_type": "code",
   "execution_count": 12,
   "metadata": {},
   "outputs": [
    {
     "data": {
      "text/html": [
       "<div>\n",
       "<style scoped>\n",
       "    .dataframe tbody tr th:only-of-type {\n",
       "        vertical-align: middle;\n",
       "    }\n",
       "\n",
       "    .dataframe tbody tr th {\n",
       "        vertical-align: top;\n",
       "    }\n",
       "\n",
       "    .dataframe thead th {\n",
       "        text-align: right;\n",
       "    }\n",
       "</style>\n",
       "<table border=\"1\" class=\"dataframe\">\n",
       "  <thead>\n",
       "    <tr style=\"text-align: right;\">\n",
       "      <th></th>\n",
       "      <th>dateCreacion</th>\n",
       "    </tr>\n",
       "  </thead>\n",
       "  <tbody>\n",
       "    <tr>\n",
       "      <th>count</th>\n",
       "      <td>840.000000</td>\n",
       "    </tr>\n",
       "    <tr>\n",
       "      <th>mean</th>\n",
       "      <td>140.804762</td>\n",
       "    </tr>\n",
       "    <tr>\n",
       "      <th>std</th>\n",
       "      <td>128.393382</td>\n",
       "    </tr>\n",
       "    <tr>\n",
       "      <th>min</th>\n",
       "      <td>0.000000</td>\n",
       "    </tr>\n",
       "    <tr>\n",
       "      <th>25%</th>\n",
       "      <td>0.000000</td>\n",
       "    </tr>\n",
       "    <tr>\n",
       "      <th>50%</th>\n",
       "      <td>133.500000</td>\n",
       "    </tr>\n",
       "    <tr>\n",
       "      <th>75%</th>\n",
       "      <td>223.250000</td>\n",
       "    </tr>\n",
       "    <tr>\n",
       "      <th>max</th>\n",
       "      <td>598.000000</td>\n",
       "    </tr>\n",
       "  </tbody>\n",
       "</table>\n",
       "</div>"
      ],
      "text/plain": [
       "       dateCreacion\n",
       "count    840.000000\n",
       "mean     140.804762\n",
       "std      128.393382\n",
       "min        0.000000\n",
       "25%        0.000000\n",
       "50%      133.500000\n",
       "75%      223.250000\n",
       "max      598.000000"
      ]
     },
     "execution_count": 12,
     "metadata": {},
     "output_type": "execute_result"
    }
   ],
   "source": [
    "df.describe()"
   ]
  },
  {
   "cell_type": "markdown",
   "metadata": {
    "colab_type": "text",
    "id": "kVswd7W7vyi4"
   },
   "source": [
    "# Plot Your Data"
   ]
  },
  {
   "cell_type": "code",
   "execution_count": 13,
   "metadata": {
    "colab": {
     "base_uri": "https://localhost:8080/",
     "height": 334
    },
    "colab_type": "code",
    "id": "KppUuT8-ejqD",
    "outputId": "aabcf955-c76b-436f-8f4d-b1f1f35a975c",
    "tags": []
   },
   "outputs": [
    {
     "data": {
      "text/plain": [
       "<AxesSubplot:>"
      ]
     },
     "execution_count": 13,
     "metadata": {},
     "output_type": "execute_result"
    },
    {
     "data": {
      "image/png": "[encoded data removed]",
      "text/plain": [
       "<Figure size 864x360 with 1 Axes>"
      ]
     },
     "metadata": {
      "needs_background": "light"
     },
     "output_type": "display_data"
    }
   ],
   "source": [
    "df['dateCreacion'].plot(figsize=(12,5))"
   ]
  },
  {
   "cell_type": "markdown",
   "metadata": {
    "colab_type": "text",
    "id": "2YK8qw2Gv1bT"
   },
   "source": [
    "# Check For Stationarity"
   ]
  },
  {
   "cell_type": "code",
   "execution_count": 14,
   "metadata": {
    "colab": {},
    "colab_type": "code",
    "id": "8TqnvNbBexKT"
   },
   "outputs": [],
   "source": [
    "from statsmodels.tsa.stattools import adfuller\n",
    "\n",
    "def adf_test(dataset):\n",
    "  dftest = adfuller(dataset, autolag = 'AIC')\n",
    "  print(\"1. ADF : \",dftest[0])\n",
    "  print(\"2. P-Value : \", dftest[1])\n",
    "  print(\"3. Num Of Lags : \", dftest[2])\n",
    "  print(\"4. Num Of Observations Used For ADF Regression and Critical Values Calculation :\", dftest[3])\n",
    "  print(\"5. Critical Values :\")\n",
    "  for key, val in dftest[4].items():\n",
    "      print(\"\\t\",key, \": \", val)"
   ]
  },
  {
   "cell_type": "code",
   "execution_count": 15,
   "metadata": {
    "colab": {
     "base_uri": "https://localhost:8080/",
     "height": 150
    },
    "colab_type": "code",
    "id": "muTlXcZYe3Jk",
    "outputId": "80456da0-cc9f-46a0-dbbc-875d9f8b5c51"
   },
   "outputs": [
    {
     "name": "stdout",
     "output_type": "stream",
     "text": [
      "1. ADF :  -2.8978518929950696\n",
      "2. P-Value :  0.04559836392875905\n",
      "3. Num Of Lags :  20\n",
      "4. Num Of Observations Used For ADF Regression and Critical Values Calculation : 819\n",
      "5. Critical Values :\n",
      "\t 1% :  -3.4383596631852327\n",
      "\t 5% :  -2.865075444948184\n",
      "\t 10% :  -2.568652576059133\n"
     ]
    }
   ],
   "source": [
    "adf_test(df['dateCreacion'])"
   ]
  },
  {
   "cell_type": "markdown",
   "metadata": {
    "colab_type": "text",
    "id": "XE7o8ZDEv6TV"
   },
   "source": [
    "# Figure Out Order for ARIMA Model"
   ]
  },
  {
   "cell_type": "code",
   "execution_count": 16,
   "metadata": {
    "colab": {},
    "colab_type": "code",
    "id": "0Y1yq4A5e6j8"
   },
   "outputs": [],
   "source": [
    "from pmdarima import auto_arima\n",
    "# Ignore harmless warnings\n",
    "import warnings\n",
    "warnings.filterwarnings(\"ignore\")"
   ]
  },
  {
   "cell_type": "code",
   "execution_count": 17,
   "metadata": {
    "colab": {
     "base_uri": "https://localhost:8080/",
     "height": 497
    },
    "colab_type": "code",
    "id": "6ikhqu-mfHCA",
    "outputId": "12c50b57-0a9c-4c14-c4a3-3061d4ebd954"
   },
   "outputs": [
    {
     "name": "stdout",
     "output_type": "stream",
     "text": [
      "Performing stepwise search to minimize aic\n",
      " ARIMA(2,1,2)(0,0,0)[0] intercept   : AIC=10125.692, Time=0.90 sec\n",
      " ARIMA(0,1,0)(0,0,0)[0] intercept   : AIC=10616.241, Time=0.02 sec\n",
      " ARIMA(1,1,0)(0,0,0)[0] intercept   : AIC=10609.682, Time=0.04 sec\n",
      " ARIMA(0,1,1)(0,0,0)[0] intercept   : AIC=10407.916, Time=0.17 sec\n",
      " ARIMA(0,1,0)(0,0,0)[0]             : AIC=10614.244, Time=0.01 sec\n",
      " ARIMA(1,1,2)(0,0,0)[0] intercept   : AIC=10231.938, Time=0.37 sec\n",
      " ARIMA(2,1,1)(0,0,0)[0] intercept   : AIC=10202.408, Time=0.42 sec\n",
      " ARIMA(3,1,2)(0,0,0)[0] intercept   : AIC=10199.248, Time=0.88 sec\n",
      " ARIMA(2,1,3)(0,0,0)[0] intercept   : AIC=10149.512, Time=1.17 sec\n",
      " ARIMA(1,1,1)(0,0,0)[0] intercept   : AIC=10317.526, Time=0.57 sec\n",
      " ARIMA(1,1,3)(0,0,0)[0] intercept   : AIC=10182.808, Time=0.69 sec\n",
      " ARIMA(3,1,1)(0,0,0)[0] intercept   : AIC=10202.946, Time=0.62 sec\n",
      " ARIMA(3,1,3)(0,0,0)[0] intercept   : AIC=10096.640, Time=1.26 sec\n",
      " ARIMA(4,1,3)(0,0,0)[0] intercept   : AIC=inf, Time=1.52 sec\n",
      " ARIMA(3,1,4)(0,0,0)[0] intercept   : AIC=10077.880, Time=1.57 sec\n",
      " ARIMA(2,1,4)(0,0,0)[0] intercept   : AIC=10171.209, Time=1.37 sec\n",
      " ARIMA(4,1,4)(0,0,0)[0] intercept   : AIC=9851.309, Time=1.75 sec\n",
      " ARIMA(5,1,4)(0,0,0)[0] intercept   : AIC=9692.926, Time=1.72 sec\n",
      " ARIMA(5,1,3)(0,0,0)[0] intercept   : AIC=9709.163, Time=1.66 sec\n",
      " ARIMA(5,1,5)(0,0,0)[0] intercept   : AIC=9637.270, Time=2.19 sec\n",
      " ARIMA(4,1,5)(0,0,0)[0] intercept   : AIC=9753.691, Time=2.22 sec\n",
      " ARIMA(5,1,5)(0,0,0)[0]             : AIC=9634.609, Time=1.49 sec\n",
      " ARIMA(4,1,5)(0,0,0)[0]             : AIC=9753.542, Time=1.33 sec\n",
      " ARIMA(5,1,4)(0,0,0)[0]             : AIC=9690.685, Time=1.04 sec\n",
      " ARIMA(4,1,4)(0,0,0)[0]             : AIC=9838.209, Time=0.94 sec\n",
      "\n",
      "Best model:  ARIMA(5,1,5)(0,0,0)[0]          \n",
      "Total fit time: 25.930 seconds\n"
     ]
    },
    {
     "data": {
      "text/html": [
       "<table class=\"simpletable\">\n",
       "<caption>SARIMAX Results</caption>\n",
       "<tr>\n",
       "  <th>Dep. Variable:</th>           <td>y</td>        <th>  No. Observations:  </th>    <td>840</td>   \n",
       "</tr>\n",
       "<tr>\n",
       "  <th>Model:</th>           <td>SARIMAX(5, 1, 5)</td> <th>  Log Likelihood     </th> <td>-4806.304</td>\n",
       "</tr>\n",
       "<tr>\n",
       "  <th>Date:</th>            <td>Wed, 02 Jun 2021</td> <th>  AIC                </th> <td>9634.609</td> \n",
       "</tr>\n",
       "<tr>\n",
       "  <th>Time:</th>                <td>18:28:58</td>     <th>  BIC                </th> <td>9686.663</td> \n",
       "</tr>\n",
       "<tr>\n",
       "  <th>Sample:</th>                  <td>0</td>        <th>  HQIC               </th> <td>9654.560</td> \n",
       "</tr>\n",
       "<tr>\n",
       "  <th></th>                      <td> - 840</td>      <th>                     </th>     <td> </td>    \n",
       "</tr>\n",
       "<tr>\n",
       "  <th>Covariance Type:</th>        <td>opg</td>       <th>                     </th>     <td> </td>    \n",
       "</tr>\n",
       "</table>\n",
       "<table class=\"simpletable\">\n",
       "<tr>\n",
       "     <td></td>       <th>coef</th>     <th>std err</th>      <th>z</th>      <th>P>|z|</th>  <th>[0.025</th>    <th>0.975]</th>  \n",
       "</tr>\n",
       "<tr>\n",
       "  <th>ar.L1</th>  <td>    0.7806</td> <td>    0.066</td> <td>   11.917</td> <td> 0.000</td> <td>    0.652</td> <td>    0.909</td>\n",
       "</tr>\n",
       "<tr>\n",
       "  <th>ar.L2</th>  <td>   -1.4266</td> <td>    0.050</td> <td>  -28.380</td> <td> 0.000</td> <td>   -1.525</td> <td>   -1.328</td>\n",
       "</tr>\n",
       "<tr>\n",
       "  <th>ar.L3</th>  <td>    0.7783</td> <td>    0.092</td> <td>    8.447</td> <td> 0.000</td> <td>    0.598</td> <td>    0.959</td>\n",
       "</tr>\n",
       "<tr>\n",
       "  <th>ar.L4</th>  <td>   -0.9766</td> <td>    0.051</td> <td>  -19.001</td> <td> 0.000</td> <td>   -1.077</td> <td>   -0.876</td>\n",
       "</tr>\n",
       "<tr>\n",
       "  <th>ar.L5</th>  <td>   -0.0126</td> <td>    0.062</td> <td>   -0.204</td> <td> 0.838</td> <td>   -0.133</td> <td>    0.108</td>\n",
       "</tr>\n",
       "<tr>\n",
       "  <th>ma.L1</th>  <td>   -1.5241</td> <td>    0.056</td> <td>  -27.141</td> <td> 0.000</td> <td>   -1.634</td> <td>   -1.414</td>\n",
       "</tr>\n",
       "<tr>\n",
       "  <th>ma.L2</th>  <td>    1.8592</td> <td>    0.065</td> <td>   28.675</td> <td> 0.000</td> <td>    1.732</td> <td>    1.986</td>\n",
       "</tr>\n",
       "<tr>\n",
       "  <th>ma.L3</th>  <td>   -1.7588</td> <td>    0.070</td> <td>  -25.101</td> <td> 0.000</td> <td>   -1.896</td> <td>   -1.621</td>\n",
       "</tr>\n",
       "<tr>\n",
       "  <th>ma.L4</th>  <td>    1.4109</td> <td>    0.061</td> <td>   23.245</td> <td> 0.000</td> <td>    1.292</td> <td>    1.530</td>\n",
       "</tr>\n",
       "<tr>\n",
       "  <th>ma.L5</th>  <td>   -0.6424</td> <td>    0.044</td> <td>  -14.443</td> <td> 0.000</td> <td>   -0.730</td> <td>   -0.555</td>\n",
       "</tr>\n",
       "<tr>\n",
       "  <th>sigma2</th> <td> 7879.9728</td> <td>  365.364</td> <td>   21.567</td> <td> 0.000</td> <td> 7163.872</td> <td> 8596.074</td>\n",
       "</tr>\n",
       "</table>\n",
       "<table class=\"simpletable\">\n",
       "<tr>\n",
       "  <th>Ljung-Box (L1) (Q):</th>     <td>0.31</td> <th>  Jarque-Bera (JB):  </th> <td>1315.37</td>\n",
       "</tr>\n",
       "<tr>\n",
       "  <th>Prob(Q):</th>                <td>0.58</td> <th>  Prob(JB):          </th>  <td>0.00</td>  \n",
       "</tr>\n",
       "<tr>\n",
       "  <th>Heteroskedasticity (H):</th> <td>0.40</td> <th>  Skew:              </th>  <td>-0.68</td> \n",
       "</tr>\n",
       "<tr>\n",
       "  <th>Prob(H) (two-sided):</th>    <td>0.00</td> <th>  Kurtosis:          </th>  <td>8.98</td>  \n",
       "</tr>\n",
       "</table><br/><br/>Warnings:<br/>[1] Covariance matrix calculated using the outer product of gradients (complex-step)."
      ],
      "text/plain": [
       "<class 'statsmodels.iolib.summary.Summary'>\n",
       "\"\"\"\n",
       "                               SARIMAX Results                                \n",
       "==============================================================================\n",
       "Dep. Variable:                      y   No. Observations:                  840\n",
       "Model:               SARIMAX(5, 1, 5)   Log Likelihood               -4806.304\n",
       "Date:                Wed, 02 Jun 2021   AIC                           9634.609\n",
       "Time:                        18:28:58   BIC                           9686.663\n",
       "Sample:                             0   HQIC                          9654.560\n",
       "                                - 840                                         \n",
       "Covariance Type:                  opg                                         \n",
       "==============================================================================\n",
       "                 coef    std err          z      P>|z|      [0.025      0.975]\n",
       "------------------------------------------------------------------------------\n",
       "ar.L1          0.7806      0.066     11.917      0.000       0.652       0.909\n",
       "ar.L2         -1.4266      0.050    -28.380      0.000      -1.525      -1.328\n",
       "ar.L3          0.7783      0.092      8.447      0.000       0.598       0.959\n",
       "ar.L4         -0.9766      0.051    -19.001      0.000      -1.077      -0.876\n",
       "ar.L5         -0.0126      0.062     -0.204      0.838      -0.133       0.108\n",
       "ma.L1         -1.5241      0.056    -27.141      0.000      -1.634      -1.414\n",
       "ma.L2          1.8592      0.065     28.675      0.000       1.732       1.986\n",
       "ma.L3         -1.7588      0.070    -25.101      0.000      -1.896      -1.621\n",
       "ma.L4          1.4109      0.061     23.245      0.000       1.292       1.530\n",
       "ma.L5         -0.6424      0.044    -14.443      0.000      -0.730      -0.555\n",
       "sigma2      7879.9728    365.364     21.567      0.000    7163.872    8596.074\n",
       "===================================================================================\n",
       "Ljung-Box (L1) (Q):                   0.31   Jarque-Bera (JB):              1315.37\n",
       "Prob(Q):                              0.58   Prob(JB):                         0.00\n",
       "Heteroskedasticity (H):               0.40   Skew:                            -0.68\n",
       "Prob(H) (two-sided):                  0.00   Kurtosis:                         8.98\n",
       "===================================================================================\n",
       "\n",
       "Warnings:\n",
       "[1] Covariance matrix calculated using the outer product of gradients (complex-step).\n",
       "\"\"\""
      ]
     },
     "execution_count": 17,
     "metadata": {},
     "output_type": "execute_result"
    }
   ],
   "source": [
    "stepwise_fit = auto_arima(df['dateCreacion'], trace=True,\n",
    "                          suppress_warnings=True)\n",
    "stepwise_fit.summary()"
   ]
  },
  {
   "cell_type": "code",
   "execution_count": 18,
   "metadata": {
    "colab": {},
    "colab_type": "code",
    "id": "i2OiS6-gfKHs"
   },
   "outputs": [],
   "source": [
    "from statsmodels.tsa.arima_model import ARIMA"
   ]
  },
  {
   "cell_type": "markdown",
   "metadata": {
    "colab_type": "text",
    "id": "y-JQDC6yv9_y"
   },
   "source": [
    "# Split Data into Training and Testing"
   ]
  },
  {
   "cell_type": "code",
   "execution_count": 19,
   "metadata": {},
   "outputs": [
    {
     "name": "stdout",
     "output_type": "stream",
     "text": [
      "(840, 2)\n"
     ]
    }
   ],
   "source": [
    "print(df.shape)"
   ]
  },
  {
   "cell_type": "code",
   "execution_count": 20,
   "metadata": {},
   "outputs": [
    {
     "name": "stdout",
     "output_type": "stream",
     "text": [
      "840\n"
     ]
    }
   ],
   "source": [
    "i, m = df.shape\n",
    "\n",
    "to_train = int(i*0.8)\n",
    "to_test = i - to_train\n",
    "\n",
    "print(to_train+to_test)"
   ]
  },
  {
   "cell_type": "code",
   "execution_count": 21,
   "metadata": {
    "colab": {
     "base_uri": "https://localhost:8080/",
     "height": 234
    },
    "colab_type": "code",
    "id": "h-SgGft2fYMF",
    "outputId": "44f0e4aa-b673-4f81-e3cb-a9ee81948ee4"
   },
   "outputs": [
    {
     "name": "stdout",
     "output_type": "stream",
     "text": [
      "(672, 2) (168, 2)\n",
      "Date            2020-11-04\n",
      "dateCreacion         122.0\n",
      "Name: 672, dtype: object\n",
      "Date            2021-04-20\n",
      "dateCreacion         108.0\n",
      "Name: 839, dtype: object\n"
     ]
    },
    {
     "data": {
      "text/plain": [
       "(None, None)"
      ]
     },
     "execution_count": 21,
     "metadata": {},
     "output_type": "execute_result"
    }
   ],
   "source": [
    "train=df.iloc[:to_train]\n",
    "test=df.iloc[-to_test:]\n",
    "print(train.shape,test.shape)\n",
    "print(test.iloc[0]), print(test.iloc[-1])"
   ]
  },
  {
   "cell_type": "markdown",
   "metadata": {
    "colab_type": "text",
    "id": "emUTK7M6wCmx"
   },
   "source": [
    "## Train the Model"
   ]
  },
  {
   "cell_type": "code",
   "execution_count": 22,
   "metadata": {},
   "outputs": [],
   "source": [
    "from statsmodels.tsa.arima_model import ARIMA"
   ]
  },
  {
   "cell_type": "code",
   "execution_count": 23,
   "metadata": {
    "colab": {
     "base_uri": "https://localhost:8080/",
     "height": 470
    },
    "colab_type": "code",
    "id": "LKr5XHt0fbWT",
    "outputId": "78d6a43a-ed4b-48b3-9bea-20fb185ed8e4"
   },
   "outputs": [
    {
     "data": {
      "text/html": [
       "<table class=\"simpletable\">\n",
       "<caption>ARIMA Model Results</caption>\n",
       "<tr>\n",
       "  <th>Dep. Variable:</th>  <td>D.dateCreacion</td>  <th>  No. Observations:  </th>    <td>671</td>   \n",
       "</tr>\n",
       "<tr>\n",
       "  <th>Model:</th>          <td>ARIMA(5, 1, 5)</td>  <th>  Log Likelihood     </th> <td>-3846.956</td>\n",
       "</tr>\n",
       "<tr>\n",
       "  <th>Method:</th>             <td>css-mle</td>     <th>  S.D. of innovations</th>  <td>74.305</td>  \n",
       "</tr>\n",
       "<tr>\n",
       "  <th>Date:</th>          <td>Wed, 02 Jun 2021</td> <th>  AIC                </th> <td>7717.912</td> \n",
       "</tr>\n",
       "<tr>\n",
       "  <th>Time:</th>              <td>18:29:04</td>     <th>  BIC                </th> <td>7772.018</td> \n",
       "</tr>\n",
       "<tr>\n",
       "  <th>Sample:</th>                <td>1</td>        <th>  HQIC               </th> <td>7738.868</td> \n",
       "</tr>\n",
       "<tr>\n",
       "  <th></th>                       <td> </td>        <th>                     </th>     <td> </td>    \n",
       "</tr>\n",
       "</table>\n",
       "<table class=\"simpletable\">\n",
       "<tr>\n",
       "            <td></td>              <th>coef</th>     <th>std err</th>      <th>z</th>      <th>P>|z|</th>  <th>[0.025</th>    <th>0.975]</th>  \n",
       "</tr>\n",
       "<tr>\n",
       "  <th>const</th>                <td>   -0.1549</td> <td>    0.598</td> <td>   -0.259</td> <td> 0.796</td> <td>   -1.327</td> <td>    1.017</td>\n",
       "</tr>\n",
       "<tr>\n",
       "  <th>ar.L1.D.dateCreacion</th> <td>    0.7749</td> <td>    0.069</td> <td>   11.187</td> <td> 0.000</td> <td>    0.639</td> <td>    0.911</td>\n",
       "</tr>\n",
       "<tr>\n",
       "  <th>ar.L2.D.dateCreacion</th> <td>   -1.4186</td> <td>    0.056</td> <td>  -25.228</td> <td> 0.000</td> <td>   -1.529</td> <td>   -1.308</td>\n",
       "</tr>\n",
       "<tr>\n",
       "  <th>ar.L3.D.dateCreacion</th> <td>    0.7606</td> <td>    0.100</td> <td>    7.615</td> <td> 0.000</td> <td>    0.565</td> <td>    0.956</td>\n",
       "</tr>\n",
       "<tr>\n",
       "  <th>ar.L4.D.dateCreacion</th> <td>   -0.9706</td> <td>    0.056</td> <td>  -17.230</td> <td> 0.000</td> <td>   -1.081</td> <td>   -0.860</td>\n",
       "</tr>\n",
       "<tr>\n",
       "  <th>ar.L5.D.dateCreacion</th> <td>   -0.0240</td> <td>    0.068</td> <td>   -0.353</td> <td> 0.724</td> <td>   -0.157</td> <td>    0.109</td>\n",
       "</tr>\n",
       "<tr>\n",
       "  <th>ma.L1.D.dateCreacion</th> <td>   -1.5021</td> <td>    0.058</td> <td>  -25.902</td> <td> 0.000</td> <td>   -1.616</td> <td>   -1.388</td>\n",
       "</tr>\n",
       "<tr>\n",
       "  <th>ma.L2.D.dateCreacion</th> <td>    1.8268</td> <td>    0.080</td> <td>   22.754</td> <td> 0.000</td> <td>    1.669</td> <td>    1.984</td>\n",
       "</tr>\n",
       "<tr>\n",
       "  <th>ma.L3.D.dateCreacion</th> <td>   -1.6626</td> <td>    0.102</td> <td>  -16.350</td> <td> 0.000</td> <td>   -1.862</td> <td>   -1.463</td>\n",
       "</tr>\n",
       "<tr>\n",
       "  <th>ma.L4.D.dateCreacion</th> <td>    1.3459</td> <td>    0.082</td> <td>   16.460</td> <td> 0.000</td> <td>    1.186</td> <td>    1.506</td>\n",
       "</tr>\n",
       "<tr>\n",
       "  <th>ma.L5.D.dateCreacion</th> <td>   -0.6188</td> <td>    0.057</td> <td>  -10.802</td> <td> 0.000</td> <td>   -0.731</td> <td>   -0.507</td>\n",
       "</tr>\n",
       "</table>\n",
       "<table class=\"simpletable\">\n",
       "<caption>Roots</caption>\n",
       "<tr>\n",
       "    <td></td>   <th>            Real</th>  <th>         Imaginary</th> <th>         Modulus</th>  <th>        Frequency</th>\n",
       "</tr>\n",
       "<tr>\n",
       "  <th>AR.1</th> <td>          -0.2231</td> <td>          -0.9773j</td> <td>           1.0025</td> <td>          -0.2857</td>\n",
       "</tr>\n",
       "<tr>\n",
       "  <th>AR.2</th> <td>          -0.2231</td> <td>          +0.9773j</td> <td>           1.0025</td> <td>           0.2857</td>\n",
       "</tr>\n",
       "<tr>\n",
       "  <th>AR.3</th> <td>           0.6249</td> <td>          -0.7841j</td> <td>           1.0027</td> <td>          -0.1429</td>\n",
       "</tr>\n",
       "<tr>\n",
       "  <th>AR.4</th> <td>           0.6249</td> <td>          +0.7841j</td> <td>           1.0027</td> <td>           0.1429</td>\n",
       "</tr>\n",
       "<tr>\n",
       "  <th>AR.5</th> <td>         -41.3131</td> <td>          -0.0000j</td> <td>          41.3131</td> <td>          -0.5000</td>\n",
       "</tr>\n",
       "<tr>\n",
       "  <th>MA.1</th> <td>          -0.2456</td> <td>          -1.0123j</td> <td>           1.0417</td> <td>          -0.2879</td>\n",
       "</tr>\n",
       "<tr>\n",
       "  <th>MA.2</th> <td>          -0.2456</td> <td>          +1.0123j</td> <td>           1.0417</td> <td>           0.2879</td>\n",
       "</tr>\n",
       "<tr>\n",
       "  <th>MA.3</th> <td>           0.6768</td> <td>          -0.8226j</td> <td>           1.0652</td> <td>          -0.1404</td>\n",
       "</tr>\n",
       "<tr>\n",
       "  <th>MA.4</th> <td>           0.6768</td> <td>          +0.8226j</td> <td>           1.0652</td> <td>           0.1404</td>\n",
       "</tr>\n",
       "<tr>\n",
       "  <th>MA.5</th> <td>           1.3126</td> <td>          -0.0000j</td> <td>           1.3126</td> <td>          -0.0000</td>\n",
       "</tr>\n",
       "</table>"
      ],
      "text/plain": [
       "<class 'statsmodels.iolib.summary.Summary'>\n",
       "\"\"\"\n",
       "                             ARIMA Model Results                              \n",
       "==============================================================================\n",
       "Dep. Variable:         D.dateCreacion   No. Observations:                  671\n",
       "Model:                 ARIMA(5, 1, 5)   Log Likelihood               -3846.956\n",
       "Method:                       css-mle   S.D. of innovations             74.305\n",
       "Date:                Wed, 02 Jun 2021   AIC                           7717.912\n",
       "Time:                        18:29:04   BIC                           7772.018\n",
       "Sample:                             1   HQIC                          7738.868\n",
       "                                                                              \n",
       "========================================================================================\n",
       "                           coef    std err          z      P>|z|      [0.025      0.975]\n",
       "----------------------------------------------------------------------------------------\n",
       "const                   -0.1549      0.598     -0.259      0.796      -1.327       1.017\n",
       "ar.L1.D.dateCreacion     0.7749      0.069     11.187      0.000       0.639       0.911\n",
       "ar.L2.D.dateCreacion    -1.4186      0.056    -25.228      0.000      -1.529      -1.308\n",
       "ar.L3.D.dateCreacion     0.7606      0.100      7.615      0.000       0.565       0.956\n",
       "ar.L4.D.dateCreacion    -0.9706      0.056    -17.230      0.000      -1.081      -0.860\n",
       "ar.L5.D.dateCreacion    -0.0240      0.068     -0.353      0.724      -0.157       0.109\n",
       "ma.L1.D.dateCreacion    -1.5021      0.058    -25.902      0.000      -1.616      -1.388\n",
       "ma.L2.D.dateCreacion     1.8268      0.080     22.754      0.000       1.669       1.984\n",
       "ma.L3.D.dateCreacion    -1.6626      0.102    -16.350      0.000      -1.862      -1.463\n",
       "ma.L4.D.dateCreacion     1.3459      0.082     16.460      0.000       1.186       1.506\n",
       "ma.L5.D.dateCreacion    -0.6188      0.057    -10.802      0.000      -0.731      -0.507\n",
       "                                    Roots                                    \n",
       "=============================================================================\n",
       "                  Real          Imaginary           Modulus         Frequency\n",
       "-----------------------------------------------------------------------------\n",
       "AR.1           -0.2231           -0.9773j            1.0025           -0.2857\n",
       "AR.2           -0.2231           +0.9773j            1.0025            0.2857\n",
       "AR.3            0.6249           -0.7841j            1.0027           -0.1429\n",
       "AR.4            0.6249           +0.7841j            1.0027            0.1429\n",
       "AR.5          -41.3131           -0.0000j           41.3131           -0.5000\n",
       "MA.1           -0.2456           -1.0123j            1.0417           -0.2879\n",
       "MA.2           -0.2456           +1.0123j            1.0417            0.2879\n",
       "MA.3            0.6768           -0.8226j            1.0652           -0.1404\n",
       "MA.4            0.6768           +0.8226j            1.0652            0.1404\n",
       "MA.5            1.3126           -0.0000j            1.3126           -0.0000\n",
       "-----------------------------------------------------------------------------\n",
       "\"\"\""
      ]
     },
     "execution_count": 23,
     "metadata": {},
     "output_type": "execute_result"
    }
   ],
   "source": [
    "model=ARIMA(train['dateCreacion'],order=(5,1,5))\n",
    "model=model.fit()\n",
    "model.summary()"
   ]
  },
  {
   "cell_type": "markdown",
   "metadata": {
    "colab_type": "text",
    "id": "QnJXQ4iBwFec"
   },
   "source": [
    "# Make Predictions on Test Set"
   ]
  },
  {
   "cell_type": "code",
   "execution_count": 24,
   "metadata": {
    "colab": {
     "base_uri": "https://localhost:8080/",
     "height": 331
    },
    "colab_type": "code",
    "id": "2ZtJTygKfg5i",
    "outputId": "46053cf4-b267-4cb8-c89d-fbb7f1fc079c"
   },
   "outputs": [
    {
     "data": {
      "text/plain": [
       "<AxesSubplot:>"
      ]
     },
     "execution_count": 24,
     "metadata": {},
     "output_type": "execute_result"
    },
    {
     "data": {
      "image/png": "[encoded data removed]",
      "text/plain": [
       "<Figure size 432x288 with 1 Axes>"
      ]
     },
     "metadata": {
      "needs_background": "light"
     },
     "output_type": "display_data"
    }
   ],
   "source": [
    "start = len(train)\n",
    "end = len(train)+len(test)-1\n",
    "\n",
    "pred = model.predict(start=start,end=end,typ='levels').rename('ARIMA Predictions')\n",
    "pred.plot(legend=True)\n",
    "test['dateCreacion'].plot(legend=True)"
   ]
  },
  {
   "cell_type": "code",
   "execution_count": 25,
   "metadata": {},
   "outputs": [
    {
     "data": {
      "text/html": [
       "<div>\n",
       "<style scoped>\n",
       "    .dataframe tbody tr th:only-of-type {\n",
       "        vertical-align: middle;\n",
       "    }\n",
       "\n",
       "    .dataframe tbody tr th {\n",
       "        vertical-align: top;\n",
       "    }\n",
       "\n",
       "    .dataframe thead th {\n",
       "        text-align: right;\n",
       "    }\n",
       "</style>\n",
       "<table border=\"1\" class=\"dataframe\">\n",
       "  <thead>\n",
       "    <tr style=\"text-align: right;\">\n",
       "      <th></th>\n",
       "      <th>Date</th>\n",
       "      <th>dateCreacion</th>\n",
       "      <th>predicciones</th>\n",
       "    </tr>\n",
       "  </thead>\n",
       "  <tbody>\n",
       "    <tr>\n",
       "      <th>672</th>\n",
       "      <td>2020-11-04</td>\n",
       "      <td>122.0</td>\n",
       "      <td>115.604868</td>\n",
       "    </tr>\n",
       "    <tr>\n",
       "      <th>673</th>\n",
       "      <td>2020-11-05</td>\n",
       "      <td>151.0</td>\n",
       "      <td>146.980647</td>\n",
       "    </tr>\n",
       "    <tr>\n",
       "      <th>674</th>\n",
       "      <td>2020-11-06</td>\n",
       "      <td>166.0</td>\n",
       "      <td>133.469539</td>\n",
       "    </tr>\n",
       "    <tr>\n",
       "      <th>675</th>\n",
       "      <td>2020-11-07</td>\n",
       "      <td>0.0</td>\n",
       "      <td>17.890379</td>\n",
       "    </tr>\n",
       "    <tr>\n",
       "      <th>676</th>\n",
       "      <td>2020-11-08</td>\n",
       "      <td>0.0</td>\n",
       "      <td>-1.524668</td>\n",
       "    </tr>\n",
       "  </tbody>\n",
       "</table>\n",
       "</div>"
      ],
      "text/plain": [
       "           Date  dateCreacion  predicciones\n",
       "672  2020-11-04         122.0    115.604868\n",
       "673  2020-11-05         151.0    146.980647\n",
       "674  2020-11-06         166.0    133.469539\n",
       "675  2020-11-07           0.0     17.890379\n",
       "676  2020-11-08           0.0     -1.524668"
      ]
     },
     "execution_count": 25,
     "metadata": {},
     "output_type": "execute_result"
    }
   ],
   "source": [
    "error = test\n",
    "error['predicciones'] = pred\n",
    "error.head()"
   ]
  },
  {
   "cell_type": "code",
   "execution_count": 26,
   "metadata": {},
   "outputs": [
    {
     "data": {
      "text/html": [
       "<div>\n",
       "<style scoped>\n",
       "    .dataframe tbody tr th:only-of-type {\n",
       "        vertical-align: middle;\n",
       "    }\n",
       "\n",
       "    .dataframe tbody tr th {\n",
       "        vertical-align: top;\n",
       "    }\n",
       "\n",
       "    .dataframe thead th {\n",
       "        text-align: right;\n",
       "    }\n",
       "</style>\n",
       "<table border=\"1\" class=\"dataframe\">\n",
       "  <thead>\n",
       "    <tr style=\"text-align: right;\">\n",
       "      <th></th>\n",
       "      <th>Date</th>\n",
       "      <th>dateCreacion</th>\n",
       "      <th>predicciones</th>\n",
       "      <th>diff</th>\n",
       "    </tr>\n",
       "  </thead>\n",
       "  <tbody>\n",
       "    <tr>\n",
       "      <th>672</th>\n",
       "      <td>2020-11-04</td>\n",
       "      <td>122.0</td>\n",
       "      <td>115.604868</td>\n",
       "      <td>6.395132</td>\n",
       "    </tr>\n",
       "    <tr>\n",
       "      <th>673</th>\n",
       "      <td>2020-11-05</td>\n",
       "      <td>151.0</td>\n",
       "      <td>146.980647</td>\n",
       "      <td>4.019353</td>\n",
       "    </tr>\n",
       "    <tr>\n",
       "      <th>674</th>\n",
       "      <td>2020-11-06</td>\n",
       "      <td>166.0</td>\n",
       "      <td>133.469539</td>\n",
       "      <td>32.530461</td>\n",
       "    </tr>\n",
       "    <tr>\n",
       "      <th>675</th>\n",
       "      <td>2020-11-07</td>\n",
       "      <td>0.0</td>\n",
       "      <td>17.890379</td>\n",
       "      <td>-17.890379</td>\n",
       "    </tr>\n",
       "    <tr>\n",
       "      <th>676</th>\n",
       "      <td>2020-11-08</td>\n",
       "      <td>0.0</td>\n",
       "      <td>-1.524668</td>\n",
       "      <td>1.524668</td>\n",
       "    </tr>\n",
       "  </tbody>\n",
       "</table>\n",
       "</div>"
      ],
      "text/plain": [
       "           Date  dateCreacion  predicciones       diff\n",
       "672  2020-11-04         122.0    115.604868   6.395132\n",
       "673  2020-11-05         151.0    146.980647   4.019353\n",
       "674  2020-11-06         166.0    133.469539  32.530461\n",
       "675  2020-11-07           0.0     17.890379 -17.890379\n",
       "676  2020-11-08           0.0     -1.524668   1.524668"
      ]
     },
     "execution_count": 26,
     "metadata": {},
     "output_type": "execute_result"
    }
   ],
   "source": [
    "error['diff'] = error.dateCreacion - error.predicciones\n",
    "error.head()"
   ]
  },
  {
   "cell_type": "code",
   "execution_count": 27,
   "metadata": {},
   "outputs": [],
   "source": [
    "error['diff'] = error['diff'].abs()"
   ]
  },
  {
   "cell_type": "code",
   "execution_count": 28,
   "metadata": {},
   "outputs": [
    {
     "data": {
      "text/html": [
       "<div>\n",
       "<style scoped>\n",
       "    .dataframe tbody tr th:only-of-type {\n",
       "        vertical-align: middle;\n",
       "    }\n",
       "\n",
       "    .dataframe tbody tr th {\n",
       "        vertical-align: top;\n",
       "    }\n",
       "\n",
       "    .dataframe thead th {\n",
       "        text-align: right;\n",
       "    }\n",
       "</style>\n",
       "<table border=\"1\" class=\"dataframe\">\n",
       "  <thead>\n",
       "    <tr style=\"text-align: right;\">\n",
       "      <th></th>\n",
       "      <th>Date</th>\n",
       "      <th>dateCreacion</th>\n",
       "      <th>predicciones</th>\n",
       "      <th>diff</th>\n",
       "    </tr>\n",
       "  </thead>\n",
       "  <tbody>\n",
       "    <tr>\n",
       "      <th>672</th>\n",
       "      <td>2020-11-04</td>\n",
       "      <td>122.0</td>\n",
       "      <td>115.604868</td>\n",
       "      <td>6.395132</td>\n",
       "    </tr>\n",
       "    <tr>\n",
       "      <th>673</th>\n",
       "      <td>2020-11-05</td>\n",
       "      <td>151.0</td>\n",
       "      <td>146.980647</td>\n",
       "      <td>4.019353</td>\n",
       "    </tr>\n",
       "    <tr>\n",
       "      <th>674</th>\n",
       "      <td>2020-11-06</td>\n",
       "      <td>166.0</td>\n",
       "      <td>133.469539</td>\n",
       "      <td>32.530461</td>\n",
       "    </tr>\n",
       "    <tr>\n",
       "      <th>675</th>\n",
       "      <td>2020-11-07</td>\n",
       "      <td>0.0</td>\n",
       "      <td>17.890379</td>\n",
       "      <td>17.890379</td>\n",
       "    </tr>\n",
       "    <tr>\n",
       "      <th>676</th>\n",
       "      <td>2020-11-08</td>\n",
       "      <td>0.0</td>\n",
       "      <td>-1.524668</td>\n",
       "      <td>1.524668</td>\n",
       "    </tr>\n",
       "  </tbody>\n",
       "</table>\n",
       "</div>"
      ],
      "text/plain": [
       "           Date  dateCreacion  predicciones       diff\n",
       "672  2020-11-04         122.0    115.604868   6.395132\n",
       "673  2020-11-05         151.0    146.980647   4.019353\n",
       "674  2020-11-06         166.0    133.469539  32.530461\n",
       "675  2020-11-07           0.0     17.890379  17.890379\n",
       "676  2020-11-08           0.0     -1.524668   1.524668"
      ]
     },
     "execution_count": 28,
     "metadata": {},
     "output_type": "execute_result"
    }
   ],
   "source": [
    "error.head()"
   ]
  },
  {
   "cell_type": "code",
   "execution_count": 29,
   "metadata": {},
   "outputs": [
    {
     "data": {
      "text/plain": [
       "count    168.000000\n",
       "mean      43.643009\n",
       "std       47.087903\n",
       "min        0.197435\n",
       "25%       10.276398\n",
       "50%       20.782921\n",
       "75%       55.083530\n",
       "max      195.834501\n",
       "Name: diff, dtype: float64"
      ]
     },
     "execution_count": 29,
     "metadata": {},
     "output_type": "execute_result"
    }
   ],
   "source": [
    "error['diff'].describe()"
   ]
  },
  {
   "cell_type": "code",
   "execution_count": 30,
   "metadata": {},
   "outputs": [
    {
     "data": {
      "text/plain": [
       "<AxesSubplot:>"
      ]
     },
     "execution_count": 30,
     "metadata": {},
     "output_type": "execute_result"
    },
    {
     "data": {
      "image/png": "[encoded data removed]",
      "text/plain": [
       "<Figure size 432x288 with 1 Axes>"
      ]
     },
     "metadata": {
      "needs_background": "light"
     },
     "output_type": "display_data"
    }
   ],
   "source": [
    "error['diff'].hist()"
   ]
  },
  {
   "cell_type": "code",
   "execution_count": 31,
   "metadata": {
    "colab": {
     "base_uri": "https://localhost:8080/",
     "height": 331
    },
    "colab_type": "code",
    "id": "grTT31Tdfqfb",
    "outputId": "8caf1342-cc91-496f-c4ca-9159007add83"
   },
   "outputs": [],
   "source": [
    "#pred.plot(legend='ARIMA Predictions')\n",
    "#test['dateCreacion'].plot(legend=True)"
   ]
  },
  {
   "cell_type": "code",
   "execution_count": 32,
   "metadata": {
    "colab": {
     "base_uri": "https://localhost:8080/",
     "height": 33
    },
    "colab_type": "code",
    "id": "3R2eTZHDfz5H",
    "outputId": "8dcb8e41-f96d-4adf-9784-21342aacb1a4"
   },
   "outputs": [
    {
     "data": {
      "text/plain": [
       "105.70833333333333"
      ]
     },
     "execution_count": 32,
     "metadata": {},
     "output_type": "execute_result"
    }
   ],
   "source": [
    "test['dateCreacion'].mean()"
   ]
  },
  {
   "cell_type": "code",
   "execution_count": 33,
   "metadata": {
    "colab": {
     "base_uri": "https://localhost:8080/",
     "height": 33
    },
    "colab_type": "code",
    "id": "zQ7SB2lQux5x",
    "outputId": "740e2eeb-e2b0-42ac-ec76-58da663146e9"
   },
   "outputs": [
    {
     "name": "stdout",
     "output_type": "stream",
     "text": [
      "64.09980328101551\n"
     ]
    }
   ],
   "source": [
    "from sklearn.metrics import mean_squared_error\n",
    "from math import sqrt\n",
    "rmse=sqrt(mean_squared_error(pred,test['dateCreacion']))\n",
    "print(rmse)\n"
   ]
  },
  {
   "cell_type": "code",
   "execution_count": 34,
   "metadata": {
    "colab": {
     "base_uri": "https://localhost:8080/",
     "height": 226
    },
    "colab_type": "code",
    "id": "DgJUq_lGvV10",
    "outputId": "c4087b3d-d92b-44ce-b116-fa1c7ffd3b47"
   },
   "outputs": [],
   "source": [
    "model2=ARIMA(df['dateCreacion'],order=(5,1,5))\n",
    "model2=model2.fit()"
   ]
  },
  {
   "cell_type": "markdown",
   "metadata": {
    "colab_type": "text",
    "id": "hQ4chXSmvSZw"
   },
   "source": [
    "# For Future Dates"
   ]
  },
  {
   "cell_type": "code",
   "execution_count": 35,
   "metadata": {
    "colab": {
     "base_uri": "https://localhost:8080/",
     "height": 552
    },
    "colab_type": "code",
    "id": "ZsjzMPfKqVag",
    "outputId": "8de3772d-8613-4db7-91d4-673d3a1909e9"
   },
   "outputs": [
    {
     "name": "stdout",
     "output_type": "stream",
     "text": [
      "840    105.836504\n",
      "841    117.866342\n",
      "842     91.314450\n",
      "843     10.825867\n",
      "844      9.948588\n",
      "845     91.703976\n",
      "846    120.276232\n",
      "847    104.274667\n",
      "848    116.052385\n",
      "849     89.988387\n",
      "850     10.954970\n",
      "851     10.268830\n",
      "852     90.726484\n",
      "853    118.661747\n",
      "854    102.728759\n",
      "855    114.255706\n",
      "856     88.671119\n",
      "857     11.066578\n",
      "858     10.564911\n",
      "859     89.744738\n",
      "860    117.055985\n",
      "861    101.194039\n",
      "862    112.475960\n",
      "863     87.362439\n",
      "864     11.160956\n",
      "865     10.837270\n",
      "866     88.758887\n",
      "867    115.458848\n",
      "868     99.670302\n",
      "869    110.712808\n",
      "870     86.062142\n",
      "871     11.238364\n",
      "872     11.086343\n",
      "873     87.769078\n",
      "874    113.870237\n",
      "875     98.157348\n",
      "876    108.965919\n",
      "877     84.770031\n",
      "878     11.299057\n",
      "879     11.312553\n",
      "880     86.775452\n",
      "881    112.290054\n",
      "882     96.654979\n",
      "883    107.234965\n",
      "884     83.485910\n",
      "885     11.343290\n",
      "886     11.516319\n",
      "887     85.778148\n",
      "888    110.718203\n",
      "889     95.163001\n",
      "890    105.519629\n",
      "Name: ARIMA Predictions, dtype: float64\n"
     ]
    }
   ],
   "source": [
    "pred=model2.predict(start=len(df),end=len(df)+50,typ='levels').rename('ARIMA Predictions')\n",
    "#print(comp_pred)\n",
    "#pred.index=index_future_dates\n",
    "print(pred)"
   ]
  },
  {
   "cell_type": "code",
   "execution_count": 36,
   "metadata": {
    "colab": {
     "base_uri": "https://localhost:8080/",
     "height": 372
    },
    "colab_type": "code",
    "id": "hPgempSauwqo",
    "outputId": "3dc42a39-ff4d-4c6e-ac68-0cef1ffe7d01"
   },
   "outputs": [
    {
     "data": {
      "text/plain": [
       "<AxesSubplot:>"
      ]
     },
     "execution_count": 36,
     "metadata": {},
     "output_type": "execute_result"
    },
    {
     "data": {
      "image/png": "[encoded data removed]",
      "text/plain": [
       "<Figure size 864x360 with 1 Axes>"
      ]
     },
     "metadata": {
      "needs_background": "light"
     },
     "output_type": "display_data"
    }
   ],
   "source": [
    "df['dateCreacion'].plot()\n",
    "pred.plot(figsize=(12,5),legend=True)"
   ]
  },
  {
   "cell_type": "code",
   "execution_count": null,
   "metadata": {
    "colab": {},
    "colab_type": "code",
    "id": "JeeTSWbZww7r"
   },
   "outputs": [],
   "source": []
  }
 ],
 "metadata": {
  "colab": {
   "authorship_tag": "ABX9TyNyCEF0bu5JjuFIh9AZRrLX",
   "collapsed_sections": [],
   "include_colab_link": true,
   "name": "Temperature_Forecast_ARIMA.ipynb",
   "provenance": [],
   "toc_visible": true
  },
  "kernelspec": {
   "display_name": "Python 3",
   "language": "python",
   "name": "python3"
  },
  "language_info": {
   "codemirror_mode": {
    "name": "ipython",
    "version": 3
   },
   "file_extension": ".py",
   "mimetype": "text/x-python",
   "name": "python",
   "nbconvert_exporter": "python",
   "pygments_lexer": "ipython3",
   "version": "3.9.5"
  }
 },
 "nbformat": 4,
 "nbformat_minor": 4
}
