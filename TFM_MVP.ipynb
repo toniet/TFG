{
 "cells": [
  {
   "cell_type": "markdown",
   "id": "graphic-banks",
   "metadata": {},
   "source": [
    "# TFM. Modelo predictivo llamadas Call Center\n",
    "## MVP"
   ]
  },
  {
   "cell_type": "markdown",
   "id": "collectible-royalty",
   "metadata": {},
   "source": [
    "## Importacion de librerias "
   ]
  },
  {
   "cell_type": "code",
   "execution_count": 1,
   "id": "statewide-psychiatry",
   "metadata": {},
   "outputs": [],
   "source": [
    "#import pymssql\n",
    "import pandas as pd\n",
    "import numpy as np\n",
    "from sklearn.preprocessing import OneHotEncoder\n",
    "import datetime\n",
    "\n",
    "pd.options.display.max_columns = None"
   ]
  },
  {
   "cell_type": "markdown",
   "id": "official-patient",
   "metadata": {},
   "source": [
    "### Importacion de los datos de envios por oficinas"
   ]
  },
  {
   "cell_type": "code",
   "execution_count": 2,
   "id": "curious-asthma",
   "metadata": {},
   "outputs": [],
   "source": [
    "df_shippings = pd.read_csv('data/shippings.csv', low_memory=False)"
   ]
  },
  {
   "cell_type": "code",
   "execution_count": 3,
   "id": "spatial-amino",
   "metadata": {},
   "outputs": [
    {
     "data": {
      "text/plain": [
       "array([4800, 4802, 4803, 4806, 4810])"
      ]
     },
     "execution_count": 3,
     "metadata": {},
     "output_type": "execute_result"
    }
   ],
   "source": [
    "df_shippings['Franquicia destino'].unique()"
   ]
  },
  {
   "cell_type": "code",
   "execution_count": 4,
   "id": "administrative-patent",
   "metadata": {
    "scrolled": false
   },
   "outputs": [
    {
     "data": {
      "text/plain": [
       "Index(['Unnamed: 0', 'Fecha envío', 'Número envío', 'Id. Fiscal',\n",
       "       'Nombre Comercial', 'Código servicio', 'Nombre Rem', 'Población Rem',\n",
       "       'CP Rem', 'Nombre vía Rem', 'Nombre', 'Población', 'Código postal',\n",
       "       'Nombre vía', 'Total bultos', 'Franquicia origen', 'Franquicia destino',\n",
       "       'Total', 'Estado', 'Tipo anomalía', 'Motivo', 'Importe Total'],\n",
       "      dtype='object')"
      ]
     },
     "execution_count": 4,
     "metadata": {},
     "output_type": "execute_result"
    }
   ],
   "source": [
    "df = df_shippings[ (df_shippings['Franquicia destino']==4800) ]\n",
    "#df = df_shippings\n",
    "df.columns"
   ]
  },
  {
   "cell_type": "code",
   "execution_count": 5,
   "id": "amended-surface",
   "metadata": {},
   "outputs": [
    {
     "data": {
      "text/html": [
       "<div>\n",
       "<style scoped>\n",
       "    .dataframe tbody tr th:only-of-type {\n",
       "        vertical-align: middle;\n",
       "    }\n",
       "\n",
       "    .dataframe tbody tr th {\n",
       "        vertical-align: top;\n",
       "    }\n",
       "\n",
       "    .dataframe thead th {\n",
       "        text-align: right;\n",
       "    }\n",
       "</style>\n",
       "<table border=\"1\" class=\"dataframe\">\n",
       "  <thead>\n",
       "    <tr style=\"text-align: right;\">\n",
       "      <th></th>\n",
       "      <th>Fecha envío</th>\n",
       "      <th>Código servicio</th>\n",
       "      <th>Código postal</th>\n",
       "      <th>Total bultos</th>\n",
       "      <th>Franquicia origen</th>\n",
       "      <th>Franquicia destino</th>\n",
       "    </tr>\n",
       "  </thead>\n",
       "  <tbody>\n",
       "    <tr>\n",
       "      <th>0</th>\n",
       "      <td>01/01/2020</td>\n",
       "      <td>Urgente 12</td>\n",
       "      <td>07011</td>\n",
       "      <td>1</td>\n",
       "      <td>636</td>\n",
       "      <td>4800</td>\n",
       "    </tr>\n",
       "    <tr>\n",
       "      <th>1</th>\n",
       "      <td>01/01/2020</td>\n",
       "      <td>Económico</td>\n",
       "      <td>07003</td>\n",
       "      <td>2</td>\n",
       "      <td>640</td>\n",
       "      <td>4800</td>\n",
       "    </tr>\n",
       "    <tr>\n",
       "      <th>2</th>\n",
       "      <td>01/01/2020</td>\n",
       "      <td>Económico</td>\n",
       "      <td>07001</td>\n",
       "      <td>1</td>\n",
       "      <td>642</td>\n",
       "      <td>4800</td>\n",
       "    </tr>\n",
       "    <tr>\n",
       "      <th>3</th>\n",
       "      <td>01/01/2020</td>\n",
       "      <td>Urgente 10</td>\n",
       "      <td>07012</td>\n",
       "      <td>1</td>\n",
       "      <td>679</td>\n",
       "      <td>4800</td>\n",
       "    </tr>\n",
       "    <tr>\n",
       "      <th>4</th>\n",
       "      <td>01/01/2020</td>\n",
       "      <td>E-commerce</td>\n",
       "      <td>07003</td>\n",
       "      <td>1</td>\n",
       "      <td>2638</td>\n",
       "      <td>4800</td>\n",
       "    </tr>\n",
       "    <tr>\n",
       "      <th>...</th>\n",
       "      <td>...</td>\n",
       "      <td>...</td>\n",
       "      <td>...</td>\n",
       "      <td>...</td>\n",
       "      <td>...</td>\n",
       "      <td>...</td>\n",
       "    </tr>\n",
       "    <tr>\n",
       "      <th>164142</th>\n",
       "      <td>02/02/2021</td>\n",
       "      <td>Urgente 19</td>\n",
       "      <td>07160</td>\n",
       "      <td>1</td>\n",
       "      <td>4810</td>\n",
       "      <td>4800</td>\n",
       "    </tr>\n",
       "    <tr>\n",
       "      <th>164143</th>\n",
       "      <td>02/02/2021</td>\n",
       "      <td>Urgente 19</td>\n",
       "      <td>07014</td>\n",
       "      <td>1</td>\n",
       "      <td>4810</td>\n",
       "      <td>4800</td>\n",
       "    </tr>\n",
       "    <tr>\n",
       "      <th>164144</th>\n",
       "      <td>02/02/2021</td>\n",
       "      <td>Urgente 12</td>\n",
       "      <td>07014</td>\n",
       "      <td>1</td>\n",
       "      <td>4810</td>\n",
       "      <td>4800</td>\n",
       "    </tr>\n",
       "    <tr>\n",
       "      <th>164145</th>\n",
       "      <td>02/02/2021</td>\n",
       "      <td>Urgente 19</td>\n",
       "      <td>07181</td>\n",
       "      <td>1</td>\n",
       "      <td>4810</td>\n",
       "      <td>4800</td>\n",
       "    </tr>\n",
       "    <tr>\n",
       "      <th>164146</th>\n",
       "      <td>02/02/2021</td>\n",
       "      <td>Urgente 19</td>\n",
       "      <td>07181</td>\n",
       "      <td>1</td>\n",
       "      <td>4810</td>\n",
       "      <td>4800</td>\n",
       "    </tr>\n",
       "  </tbody>\n",
       "</table>\n",
       "<p>164147 rows × 6 columns</p>\n",
       "</div>"
      ],
      "text/plain": [
       "       Fecha envío Código servicio Código postal  Total bultos  \\\n",
       "0       01/01/2020      Urgente 12         07011             1   \n",
       "1       01/01/2020       Económico         07003             2   \n",
       "2       01/01/2020       Económico         07001             1   \n",
       "3       01/01/2020      Urgente 10         07012             1   \n",
       "4       01/01/2020      E-commerce         07003             1   \n",
       "...            ...             ...           ...           ...   \n",
       "164142  02/02/2021      Urgente 19         07160             1   \n",
       "164143  02/02/2021      Urgente 19         07014             1   \n",
       "164144  02/02/2021      Urgente 12         07014             1   \n",
       "164145  02/02/2021      Urgente 19         07181             1   \n",
       "164146  02/02/2021      Urgente 19         07181             1   \n",
       "\n",
       "        Franquicia origen  Franquicia destino  \n",
       "0                     636                4800  \n",
       "1                     640                4800  \n",
       "2                     642                4800  \n",
       "3                     679                4800  \n",
       "4                    2638                4800  \n",
       "...                   ...                 ...  \n",
       "164142               4810                4800  \n",
       "164143               4810                4800  \n",
       "164144               4810                4800  \n",
       "164145               4810                4800  \n",
       "164146               4810                4800  \n",
       "\n",
       "[164147 rows x 6 columns]"
      ]
     },
     "execution_count": 5,
     "metadata": {},
     "output_type": "execute_result"
    }
   ],
   "source": [
    "df = df.iloc[:, [1,5,12,14,15,16]]\n",
    "df"
   ]
  },
  {
   "cell_type": "code",
   "execution_count": 6,
   "id": "innovative-indonesian",
   "metadata": {
    "scrolled": true
   },
   "outputs": [],
   "source": [
    "df['Fecha envío'] = pd.to_datetime(df['Fecha envío'])"
   ]
  },
  {
   "cell_type": "code",
   "execution_count": 7,
   "id": "ambient-helping",
   "metadata": {},
   "outputs": [],
   "source": [
    "def updateDate(s):\n",
    "    envio24h = ['Urgente 8:30', 'Urgente 10','Urgente 12','Urgente 14','Urgente 19', \\\n",
    "               'Urgente 8:30 expedición', 'Urgente 10 expedición','Urgente 12 expedición', \\\n",
    "               'Urgente 14 expedición','Urgente 19 expedición','Urgente hoy','Burofax', \\\n",
    "               'Documentos 14','Mascotas','Bag 14','Bag 19','Express documentos']\n",
    "    envio48h = ['Económico','E-commerce','Mrw economy (ecopaq)','Retorno canje']\n",
    "    maritimo = ['Marítimo baleares']\n",
    "    \n",
    "    nDate = np.nan\n",
    "    ## Arreglar los 24H\n",
    "    if s['Código servicio'] in envio24h:\n",
    "        nDate = s['Fecha envío'] + datetime.timedelta(days=1)\n",
    "    elif s['Código servicio'] in envio48h:\n",
    "        nDate = s['Fecha envío'] + datetime.timedelta(days=2)\n",
    "    else:\n",
    "        nDate = s['Fecha envío'] + datetime.timedelta(days=4)\n",
    "    \n",
    "    if nDate.isoweekday() == 7:\n",
    "        nDate = nDate + datetime.timedelta(days=1)\n",
    "    elif nDate.isoweekday() == 6:\n",
    "        nDate = nDate + datetime.timedelta(days=2)\n",
    "        \n",
    "    return nDate"
   ]
  },
  {
   "cell_type": "code",
   "execution_count": 8,
   "id": "sublime-youth",
   "metadata": {},
   "outputs": [],
   "source": [
    "df['xDate'] = df.apply(updateDate, axis=1)"
   ]
  },
  {
   "cell_type": "code",
   "execution_count": 9,
   "id": "caring-blocking",
   "metadata": {
    "scrolled": true
   },
   "outputs": [
    {
     "data": {
      "text/html": [
       "<div>\n",
       "<style scoped>\n",
       "    .dataframe tbody tr th:only-of-type {\n",
       "        vertical-align: middle;\n",
       "    }\n",
       "\n",
       "    .dataframe tbody tr th {\n",
       "        vertical-align: top;\n",
       "    }\n",
       "\n",
       "    .dataframe thead th {\n",
       "        text-align: right;\n",
       "    }\n",
       "</style>\n",
       "<table border=\"1\" class=\"dataframe\">\n",
       "  <thead>\n",
       "    <tr style=\"text-align: right;\">\n",
       "      <th></th>\n",
       "      <th>Fecha envío</th>\n",
       "      <th>Código servicio</th>\n",
       "      <th>Código postal</th>\n",
       "      <th>Total bultos</th>\n",
       "      <th>Franquicia origen</th>\n",
       "      <th>Franquicia destino</th>\n",
       "      <th>xDate</th>\n",
       "    </tr>\n",
       "  </thead>\n",
       "  <tbody>\n",
       "  </tbody>\n",
       "</table>\n",
       "</div>"
      ],
      "text/plain": [
       "Empty DataFrame\n",
       "Columns: [Fecha envío, Código servicio, Código postal, Total bultos, Franquicia origen, Franquicia destino, xDate]\n",
       "Index: []"
      ]
     },
     "execution_count": 9,
     "metadata": {},
     "output_type": "execute_result"
    }
   ],
   "source": [
    "df[df['xDate'].isnull()]"
   ]
  },
  {
   "cell_type": "code",
   "execution_count": 10,
   "id": "noticed-handling",
   "metadata": {},
   "outputs": [],
   "source": [
    "df['Fecha envío'] =  pd.to_datetime(df['xDate']).astype('str')"
   ]
  },
  {
   "cell_type": "code",
   "execution_count": 11,
   "id": "white-boards",
   "metadata": {},
   "outputs": [],
   "source": [
    "#Filtro Fecha\n",
    "#df = df[ df['Fecha envío'] == '2020-02-18' ]"
   ]
  },
  {
   "cell_type": "code",
   "execution_count": 12,
   "id": "musical-composition",
   "metadata": {},
   "outputs": [
    {
     "data": {
      "text/plain": [
       "array(['Urgente 12', 'Económico', 'Urgente 10', 'E-commerce',\n",
       "       'Urgente 19', 'Mascotas', 'Marítimo baleares', 'Urgente 14',\n",
       "       'Urgente 19 expedición', 'Urgente 12 expedición', 'Urgente 8:30',\n",
       "       'Burofax', 'Retorno albarán', 'Bag 14', 'Urgente 10 expedición',\n",
       "       'Urgente hoy', 'Documentos 14', 'Bag 19',\n",
       "       'Urgente 8:30 expedición', 'Mrw economy (ecopaq)',\n",
       "       'Urgente 14 expedición', 'Express documentos', 'Retorno canje'],\n",
       "      dtype=object)"
      ]
     },
     "execution_count": 12,
     "metadata": {},
     "output_type": "execute_result"
    }
   ],
   "source": [
    "df['Código servicio'].unique()"
   ]
  },
  {
   "cell_type": "code",
   "execution_count": 13,
   "id": "tracked-ranking",
   "metadata": {},
   "outputs": [],
   "source": [
    "train = df[['Fecha envío','Código servicio','Franquicia origen','Código postal']]\n",
    "train.reset_index(inplace=True)\n",
    "train = train[['Fecha envío','Código servicio','Franquicia origen','Código postal']]\n",
    "train['total'] = 1"
   ]
  },
  {
   "cell_type": "code",
   "execution_count": 14,
   "id": "specified-calibration",
   "metadata": {},
   "outputs": [
    {
     "data": {
      "text/html": [
       "<div>\n",
       "<style scoped>\n",
       "    .dataframe tbody tr th:only-of-type {\n",
       "        vertical-align: middle;\n",
       "    }\n",
       "\n",
       "    .dataframe tbody tr th {\n",
       "        vertical-align: top;\n",
       "    }\n",
       "\n",
       "    .dataframe thead th {\n",
       "        text-align: right;\n",
       "    }\n",
       "</style>\n",
       "<table border=\"1\" class=\"dataframe\">\n",
       "  <thead>\n",
       "    <tr style=\"text-align: right;\">\n",
       "      <th></th>\n",
       "      <th>Fecha envío</th>\n",
       "      <th>Código servicio</th>\n",
       "      <th>Franquicia origen</th>\n",
       "      <th>Código postal</th>\n",
       "      <th>total</th>\n",
       "    </tr>\n",
       "  </thead>\n",
       "  <tbody>\n",
       "    <tr>\n",
       "      <th>0</th>\n",
       "      <td>2020-01-02</td>\n",
       "      <td>Urgente 12</td>\n",
       "      <td>636</td>\n",
       "      <td>07011</td>\n",
       "      <td>1</td>\n",
       "    </tr>\n",
       "    <tr>\n",
       "      <th>1</th>\n",
       "      <td>2020-01-03</td>\n",
       "      <td>Económico</td>\n",
       "      <td>640</td>\n",
       "      <td>07003</td>\n",
       "      <td>1</td>\n",
       "    </tr>\n",
       "    <tr>\n",
       "      <th>2</th>\n",
       "      <td>2020-01-03</td>\n",
       "      <td>Económico</td>\n",
       "      <td>642</td>\n",
       "      <td>07001</td>\n",
       "      <td>1</td>\n",
       "    </tr>\n",
       "    <tr>\n",
       "      <th>3</th>\n",
       "      <td>2020-01-02</td>\n",
       "      <td>Urgente 10</td>\n",
       "      <td>679</td>\n",
       "      <td>07012</td>\n",
       "      <td>1</td>\n",
       "    </tr>\n",
       "    <tr>\n",
       "      <th>4</th>\n",
       "      <td>2020-01-03</td>\n",
       "      <td>E-commerce</td>\n",
       "      <td>2638</td>\n",
       "      <td>07003</td>\n",
       "      <td>1</td>\n",
       "    </tr>\n",
       "  </tbody>\n",
       "</table>\n",
       "</div>"
      ],
      "text/plain": [
       "  Fecha envío Código servicio  Franquicia origen Código postal  total\n",
       "0  2020-01-02      Urgente 12                636         07011      1\n",
       "1  2020-01-03       Económico                640         07003      1\n",
       "2  2020-01-03       Económico                642         07001      1\n",
       "3  2020-01-02      Urgente 10                679         07012      1\n",
       "4  2020-01-03      E-commerce               2638         07003      1"
      ]
     },
     "execution_count": 14,
     "metadata": {},
     "output_type": "execute_result"
    }
   ],
   "source": [
    "train.head()"
   ]
  },
  {
   "cell_type": "code",
   "execution_count": 15,
   "id": "brazilian-following",
   "metadata": {},
   "outputs": [],
   "source": [
    "train['Franquicia origen'] = train['Franquicia origen'].apply(str)\n",
    "train['Código postal'] = train['Código postal'].apply(str)"
   ]
  },
  {
   "cell_type": "code",
   "execution_count": 16,
   "id": "statewide-teddy",
   "metadata": {},
   "outputs": [],
   "source": [
    "encoder = OneHotEncoder(handle_unknown='ignore')\n",
    "enc = train[['Código servicio']]"
   ]
  },
  {
   "cell_type": "code",
   "execution_count": 17,
   "id": "particular-montreal",
   "metadata": {
    "scrolled": true
   },
   "outputs": [
    {
     "data": {
      "text/plain": [
       "[array(['Bag 14', 'Bag 19', 'Burofax', 'Documentos 14', 'E-commerce',\n",
       "        'Económico', 'Express documentos', 'Marítimo baleares', 'Mascotas',\n",
       "        'Mrw economy (ecopaq)', 'Retorno albarán', 'Retorno canje',\n",
       "        'Urgente 10', 'Urgente 10 expedición', 'Urgente 12',\n",
       "        'Urgente 12 expedición', 'Urgente 14', 'Urgente 14 expedición',\n",
       "        'Urgente 19', 'Urgente 19 expedición', 'Urgente 8:30',\n",
       "        'Urgente 8:30 expedición', 'Urgente hoy'], dtype=object)]"
      ]
     },
     "execution_count": 17,
     "metadata": {},
     "output_type": "execute_result"
    }
   ],
   "source": [
    "encoder.fit(enc.values.reshape(-1,1))\n",
    "encoder.categories_"
   ]
  },
  {
   "cell_type": "code",
   "execution_count": 18,
   "id": "classified-print",
   "metadata": {},
   "outputs": [],
   "source": [
    "encoded = encoder.transform(enc.values.reshape(-1,1))\n",
    "encoded_df = pd.DataFrame(encoded.todense())\n",
    "encoded_df.columns = encoder.categories_[0]"
   ]
  },
  {
   "cell_type": "code",
   "execution_count": 19,
   "id": "charged-ivory",
   "metadata": {},
   "outputs": [],
   "source": [
    "train = pd.concat([train,encoded_df], axis=1)"
   ]
  },
  {
   "cell_type": "code",
   "execution_count": 20,
   "id": "passing-techno",
   "metadata": {},
   "outputs": [],
   "source": [
    "#encoder = OneHotEncoder(handle_unknown='ignore')\n",
    "#enc = train[['Franquicia origen']]\n",
    "#encoder.fit(enc.values.reshape(-1,1))\n",
    "#encoded = encoder.transform(enc.values.reshape(-1,1))\n",
    "#encoded_df = pd.DataFrame(encoded.todense())\n",
    "#encoded_df.columns = encoder.categories_[0]"
   ]
  },
  {
   "cell_type": "code",
   "execution_count": 21,
   "id": "cultural-pressing",
   "metadata": {},
   "outputs": [],
   "source": [
    "#train = pd.concat([train,encoded_df], axis=1)"
   ]
  },
  {
   "cell_type": "code",
   "execution_count": 22,
   "id": "optical-behavior",
   "metadata": {},
   "outputs": [],
   "source": [
    "#encoder = OneHotEncoder(handle_unknown='ignore')\n",
    "#enc = train[['Código postal']]\n",
    "#encoder.fit(enc.values.reshape(-1,1))\n",
    "#encoded = encoder.transform(enc.values.reshape(-1,1))\n",
    "#encoded_df = pd.DataFrame(encoded.todense())\n",
    "#encoded_df.columns = encoder.categories_[0]"
   ]
  },
  {
   "cell_type": "code",
   "execution_count": 23,
   "id": "lovely-impression",
   "metadata": {},
   "outputs": [],
   "source": [
    "#train = pd.concat([train,encoded_df], axis=1)"
   ]
  },
  {
   "cell_type": "code",
   "execution_count": 24,
   "id": "distributed-stopping",
   "metadata": {},
   "outputs": [],
   "source": [
    "train.drop(columns=['Código servicio','Franquicia origen','Código postal'], inplace=True)"
   ]
  },
  {
   "cell_type": "code",
   "execution_count": 25,
   "id": "republican-listening",
   "metadata": {},
   "outputs": [],
   "source": [
    "train = train.groupby(['Fecha envío']).sum()"
   ]
  },
  {
   "cell_type": "code",
   "execution_count": 26,
   "id": "changed-chair",
   "metadata": {
    "scrolled": true
   },
   "outputs": [
    {
     "data": {
      "text/html": [
       "<div>\n",
       "<style scoped>\n",
       "    .dataframe tbody tr th:only-of-type {\n",
       "        vertical-align: middle;\n",
       "    }\n",
       "\n",
       "    .dataframe tbody tr th {\n",
       "        vertical-align: top;\n",
       "    }\n",
       "\n",
       "    .dataframe thead th {\n",
       "        text-align: right;\n",
       "    }\n",
       "</style>\n",
       "<table border=\"1\" class=\"dataframe\">\n",
       "  <thead>\n",
       "    <tr style=\"text-align: right;\">\n",
       "      <th></th>\n",
       "      <th>total</th>\n",
       "      <th>Bag 14</th>\n",
       "      <th>Bag 19</th>\n",
       "      <th>Burofax</th>\n",
       "      <th>Documentos 14</th>\n",
       "      <th>E-commerce</th>\n",
       "      <th>Económico</th>\n",
       "      <th>Express documentos</th>\n",
       "      <th>Marítimo baleares</th>\n",
       "      <th>Mascotas</th>\n",
       "      <th>Mrw economy (ecopaq)</th>\n",
       "      <th>Retorno albarán</th>\n",
       "      <th>Retorno canje</th>\n",
       "      <th>Urgente 10</th>\n",
       "      <th>Urgente 10 expedición</th>\n",
       "      <th>Urgente 12</th>\n",
       "      <th>Urgente 12 expedición</th>\n",
       "      <th>Urgente 14</th>\n",
       "      <th>Urgente 14 expedición</th>\n",
       "      <th>Urgente 19</th>\n",
       "      <th>Urgente 19 expedición</th>\n",
       "      <th>Urgente 8:30</th>\n",
       "      <th>Urgente 8:30 expedición</th>\n",
       "      <th>Urgente hoy</th>\n",
       "    </tr>\n",
       "    <tr>\n",
       "      <th>Fecha envío</th>\n",
       "      <th></th>\n",
       "      <th></th>\n",
       "      <th></th>\n",
       "      <th></th>\n",
       "      <th></th>\n",
       "      <th></th>\n",
       "      <th></th>\n",
       "      <th></th>\n",
       "      <th></th>\n",
       "      <th></th>\n",
       "      <th></th>\n",
       "      <th></th>\n",
       "      <th></th>\n",
       "      <th></th>\n",
       "      <th></th>\n",
       "      <th></th>\n",
       "      <th></th>\n",
       "      <th></th>\n",
       "      <th></th>\n",
       "      <th></th>\n",
       "      <th></th>\n",
       "      <th></th>\n",
       "      <th></th>\n",
       "      <th></th>\n",
       "    </tr>\n",
       "  </thead>\n",
       "  <tbody>\n",
       "    <tr>\n",
       "      <th>2020-01-02</th>\n",
       "      <td>11</td>\n",
       "      <td>0.0</td>\n",
       "      <td>0.0</td>\n",
       "      <td>0.0</td>\n",
       "      <td>0.0</td>\n",
       "      <td>0.0</td>\n",
       "      <td>0.0</td>\n",
       "      <td>0.0</td>\n",
       "      <td>0.0</td>\n",
       "      <td>0.0</td>\n",
       "      <td>0.0</td>\n",
       "      <td>0.0</td>\n",
       "      <td>0.0</td>\n",
       "      <td>1.0</td>\n",
       "      <td>0.0</td>\n",
       "      <td>8.0</td>\n",
       "      <td>0.0</td>\n",
       "      <td>0.0</td>\n",
       "      <td>0.0</td>\n",
       "      <td>2.0</td>\n",
       "      <td>0.0</td>\n",
       "      <td>0.0</td>\n",
       "      <td>0.0</td>\n",
       "      <td>0.0</td>\n",
       "    </tr>\n",
       "    <tr>\n",
       "      <th>2020-01-03</th>\n",
       "      <td>146</td>\n",
       "      <td>0.0</td>\n",
       "      <td>0.0</td>\n",
       "      <td>0.0</td>\n",
       "      <td>0.0</td>\n",
       "      <td>34.0</td>\n",
       "      <td>2.0</td>\n",
       "      <td>0.0</td>\n",
       "      <td>0.0</td>\n",
       "      <td>0.0</td>\n",
       "      <td>0.0</td>\n",
       "      <td>0.0</td>\n",
       "      <td>0.0</td>\n",
       "      <td>1.0</td>\n",
       "      <td>0.0</td>\n",
       "      <td>2.0</td>\n",
       "      <td>1.0</td>\n",
       "      <td>0.0</td>\n",
       "      <td>0.0</td>\n",
       "      <td>106.0</td>\n",
       "      <td>0.0</td>\n",
       "      <td>0.0</td>\n",
       "      <td>0.0</td>\n",
       "      <td>0.0</td>\n",
       "    </tr>\n",
       "    <tr>\n",
       "      <th>2020-01-06</th>\n",
       "      <td>441</td>\n",
       "      <td>0.0</td>\n",
       "      <td>0.0</td>\n",
       "      <td>0.0</td>\n",
       "      <td>0.0</td>\n",
       "      <td>207.0</td>\n",
       "      <td>66.0</td>\n",
       "      <td>0.0</td>\n",
       "      <td>54.0</td>\n",
       "      <td>1.0</td>\n",
       "      <td>0.0</td>\n",
       "      <td>0.0</td>\n",
       "      <td>0.0</td>\n",
       "      <td>16.0</td>\n",
       "      <td>1.0</td>\n",
       "      <td>58.0</td>\n",
       "      <td>10.0</td>\n",
       "      <td>0.0</td>\n",
       "      <td>0.0</td>\n",
       "      <td>23.0</td>\n",
       "      <td>5.0</td>\n",
       "      <td>0.0</td>\n",
       "      <td>0.0</td>\n",
       "      <td>0.0</td>\n",
       "    </tr>\n",
       "    <tr>\n",
       "      <th>2020-01-07</th>\n",
       "      <td>202</td>\n",
       "      <td>0.0</td>\n",
       "      <td>0.0</td>\n",
       "      <td>1.0</td>\n",
       "      <td>0.0</td>\n",
       "      <td>8.0</td>\n",
       "      <td>3.0</td>\n",
       "      <td>0.0</td>\n",
       "      <td>91.0</td>\n",
       "      <td>4.0</td>\n",
       "      <td>0.0</td>\n",
       "      <td>0.0</td>\n",
       "      <td>0.0</td>\n",
       "      <td>13.0</td>\n",
       "      <td>1.0</td>\n",
       "      <td>48.0</td>\n",
       "      <td>2.0</td>\n",
       "      <td>0.0</td>\n",
       "      <td>0.0</td>\n",
       "      <td>27.0</td>\n",
       "      <td>4.0</td>\n",
       "      <td>0.0</td>\n",
       "      <td>0.0</td>\n",
       "      <td>0.0</td>\n",
       "    </tr>\n",
       "    <tr>\n",
       "      <th>2020-01-08</th>\n",
       "      <td>771</td>\n",
       "      <td>0.0</td>\n",
       "      <td>0.0</td>\n",
       "      <td>1.0</td>\n",
       "      <td>0.0</td>\n",
       "      <td>431.0</td>\n",
       "      <td>51.0</td>\n",
       "      <td>0.0</td>\n",
       "      <td>246.0</td>\n",
       "      <td>0.0</td>\n",
       "      <td>0.0</td>\n",
       "      <td>0.0</td>\n",
       "      <td>0.0</td>\n",
       "      <td>10.0</td>\n",
       "      <td>1.0</td>\n",
       "      <td>13.0</td>\n",
       "      <td>0.0</td>\n",
       "      <td>0.0</td>\n",
       "      <td>0.0</td>\n",
       "      <td>15.0</td>\n",
       "      <td>2.0</td>\n",
       "      <td>1.0</td>\n",
       "      <td>0.0</td>\n",
       "      <td>0.0</td>\n",
       "    </tr>\n",
       "  </tbody>\n",
       "</table>\n",
       "</div>"
      ],
      "text/plain": [
       "             total  Bag 14  Bag 19  Burofax  Documentos 14  E-commerce  \\\n",
       "Fecha envío                                                              \n",
       "2020-01-02      11     0.0     0.0      0.0            0.0         0.0   \n",
       "2020-01-03     146     0.0     0.0      0.0            0.0        34.0   \n",
       "2020-01-06     441     0.0     0.0      0.0            0.0       207.0   \n",
       "2020-01-07     202     0.0     0.0      1.0            0.0         8.0   \n",
       "2020-01-08     771     0.0     0.0      1.0            0.0       431.0   \n",
       "\n",
       "             Económico  Express documentos  Marítimo baleares  Mascotas  \\\n",
       "Fecha envío                                                               \n",
       "2020-01-02         0.0                 0.0                0.0       0.0   \n",
       "2020-01-03         2.0                 0.0                0.0       0.0   \n",
       "2020-01-06        66.0                 0.0               54.0       1.0   \n",
       "2020-01-07         3.0                 0.0               91.0       4.0   \n",
       "2020-01-08        51.0                 0.0              246.0       0.0   \n",
       "\n",
       "             Mrw economy (ecopaq)  Retorno albarán  Retorno canje  Urgente 10  \\\n",
       "Fecha envío                                                                     \n",
       "2020-01-02                    0.0              0.0            0.0         1.0   \n",
       "2020-01-03                    0.0              0.0            0.0         1.0   \n",
       "2020-01-06                    0.0              0.0            0.0        16.0   \n",
       "2020-01-07                    0.0              0.0            0.0        13.0   \n",
       "2020-01-08                    0.0              0.0            0.0        10.0   \n",
       "\n",
       "             Urgente 10 expedición  Urgente 12  Urgente 12 expedición  \\\n",
       "Fecha envío                                                             \n",
       "2020-01-02                     0.0         8.0                    0.0   \n",
       "2020-01-03                     0.0         2.0                    1.0   \n",
       "2020-01-06                     1.0        58.0                   10.0   \n",
       "2020-01-07                     1.0        48.0                    2.0   \n",
       "2020-01-08                     1.0        13.0                    0.0   \n",
       "\n",
       "             Urgente 14  Urgente 14 expedición  Urgente 19  \\\n",
       "Fecha envío                                                  \n",
       "2020-01-02          0.0                    0.0         2.0   \n",
       "2020-01-03          0.0                    0.0       106.0   \n",
       "2020-01-06          0.0                    0.0        23.0   \n",
       "2020-01-07          0.0                    0.0        27.0   \n",
       "2020-01-08          0.0                    0.0        15.0   \n",
       "\n",
       "             Urgente 19 expedición  Urgente 8:30  Urgente 8:30 expedición  \\\n",
       "Fecha envío                                                                 \n",
       "2020-01-02                     0.0           0.0                      0.0   \n",
       "2020-01-03                     0.0           0.0                      0.0   \n",
       "2020-01-06                     5.0           0.0                      0.0   \n",
       "2020-01-07                     4.0           0.0                      0.0   \n",
       "2020-01-08                     2.0           1.0                      0.0   \n",
       "\n",
       "             Urgente hoy  \n",
       "Fecha envío               \n",
       "2020-01-02           0.0  \n",
       "2020-01-03           0.0  \n",
       "2020-01-06           0.0  \n",
       "2020-01-07           0.0  \n",
       "2020-01-08           0.0  "
      ]
     },
     "execution_count": 26,
     "metadata": {},
     "output_type": "execute_result"
    }
   ],
   "source": [
    "train.head()"
   ]
  },
  {
   "cell_type": "markdown",
   "id": "sustained-arena",
   "metadata": {},
   "source": [
    "### Importacion de los datos de llamadas por oficinas"
   ]
  },
  {
   "cell_type": "code",
   "execution_count": 27,
   "id": "french-navigator",
   "metadata": {
    "scrolled": false
   },
   "outputs": [
    {
     "name": "stderr",
     "output_type": "stream",
     "text": [
      "/usr/lib/python3/dist-packages/IPython/core/interactiveshell.py:3062: DtypeWarning: Columns (5) have mixed types.Specify dtype option on import or set low_memory=False.\n",
      "  has_raised = await self.run_ast_nodes(code_ast.body, cell_name,\n"
     ]
    }
   ],
   "source": [
    "df_calls = pd.read_csv('data/calls.csv')"
   ]
  },
  {
   "cell_type": "code",
   "execution_count": 28,
   "id": "eastern-netherlands",
   "metadata": {},
   "outputs": [
    {
     "data": {
      "text/plain": [
       "Index(['Unnamed: 0', 'idTransaccion', 'tInicio', 'tFinal', 'estado',\n",
       "       'tProximoContacto', 'tReplanificacion', 'nTAdmin', 'nTAdminExcedido',\n",
       "       'nTQ', 'idSujeto', 'sIdOriginal', 'sNombreCliente', 'sApellido1Cliente',\n",
       "       'sApellido2Cliente', 'sTelefonoCliente', 'idServicio', 'idCampanya',\n",
       "       'idAgente', 'idSegmento', 'sNombreSegmento', 'sAtributoSegmento',\n",
       "       'sFiltroSegmento', 'sDescripcionFinal', 'sDescripcionFinal.1',\n",
       "       'idFinal', 'sDescripcionFinal.2', 'sFiltroFinal', 'tActualizado',\n",
       "       'tCreacion', 'nOrigenTransaccion'],\n",
       "      dtype='object')"
      ]
     },
     "execution_count": 28,
     "metadata": {},
     "output_type": "execute_result"
    }
   ],
   "source": [
    "df_calls.columns"
   ]
  },
  {
   "cell_type": "code",
   "execution_count": 29,
   "id": "authentic-arrival",
   "metadata": {
    "scrolled": true
   },
   "outputs": [
    {
     "data": {
      "text/plain": [
       "0         NaN\n",
       "1         NaN\n",
       "1634      NaN\n",
       "21123     NaN\n",
       "25623     NaN\n",
       "25659     NaN\n",
       "61933     NaN\n",
       "71745     NaN\n",
       "71786     NaN\n",
       "82418     NaN\n",
       "82704     NaN\n",
       "101157    NaN\n",
       "108384    NaN\n",
       "111725    NaN\n",
       "129667    NaN\n",
       "133307    NaN\n",
       "135941    NaN\n",
       "138519    NaN\n",
       "142555    NaN\n",
       "Name: sTelefonoCliente, dtype: object"
      ]
     },
     "execution_count": 29,
     "metadata": {},
     "output_type": "execute_result"
    }
   ],
   "source": [
    "df_calls['sTelefonoCliente'][df_calls['sTelefonoCliente'].isnull() == True] "
   ]
  },
  {
   "cell_type": "code",
   "execution_count": 30,
   "id": "alternate-comment",
   "metadata": {},
   "outputs": [],
   "source": [
    "df_calls = df_calls[df_calls['sTelefonoCliente'].notna()]"
   ]
  },
  {
   "cell_type": "code",
   "execution_count": 31,
   "id": "skilled-massage",
   "metadata": {
    "scrolled": true
   },
   "outputs": [
    {
     "data": {
      "text/html": [
       "<div>\n",
       "<style scoped>\n",
       "    .dataframe tbody tr th:only-of-type {\n",
       "        vertical-align: middle;\n",
       "    }\n",
       "\n",
       "    .dataframe tbody tr th {\n",
       "        vertical-align: top;\n",
       "    }\n",
       "\n",
       "    .dataframe thead th {\n",
       "        text-align: right;\n",
       "    }\n",
       "</style>\n",
       "<table border=\"1\" class=\"dataframe\">\n",
       "  <thead>\n",
       "    <tr style=\"text-align: right;\">\n",
       "      <th></th>\n",
       "      <th>tCreacion</th>\n",
       "      <th>tInicio</th>\n",
       "      <th>tFinal</th>\n",
       "      <th>sTelefonoCliente</th>\n",
       "      <th>idCampanya</th>\n",
       "    </tr>\n",
       "  </thead>\n",
       "  <tbody>\n",
       "    <tr>\n",
       "      <th>2</th>\n",
       "      <td>2020-03-01 13:42:29.567</td>\n",
       "      <td>NaN</td>\n",
       "      <td>2020-03-01 13:42:44.647</td>\n",
       "      <td>918298287</td>\n",
       "      <td>100000021.0</td>\n",
       "    </tr>\n",
       "    <tr>\n",
       "      <th>3</th>\n",
       "      <td>2020-03-01 18:48:01.543</td>\n",
       "      <td>NaN</td>\n",
       "      <td>2020-03-01 18:48:08.430</td>\n",
       "      <td>664401666</td>\n",
       "      <td>100000021.0</td>\n",
       "    </tr>\n",
       "    <tr>\n",
       "      <th>4</th>\n",
       "      <td>2020-03-02 02:46:55.637</td>\n",
       "      <td>NaN</td>\n",
       "      <td>2020-03-02 02:47:07.040</td>\n",
       "      <td>918298287</td>\n",
       "      <td>100000015.0</td>\n",
       "    </tr>\n",
       "    <tr>\n",
       "      <th>5</th>\n",
       "      <td>2020-03-02 07:28:57.743</td>\n",
       "      <td>NaN</td>\n",
       "      <td>2020-03-02 07:29:06.180</td>\n",
       "      <td>653312359</td>\n",
       "      <td>100000021.0</td>\n",
       "    </tr>\n",
       "    <tr>\n",
       "      <th>6</th>\n",
       "      <td>2020-03-02 08:05:45.267</td>\n",
       "      <td>2020-03-02 08:06:37.973</td>\n",
       "      <td>2020-03-02 08:08:33.807</td>\n",
       "      <td>971886546</td>\n",
       "      <td>100000021.0</td>\n",
       "    </tr>\n",
       "    <tr>\n",
       "      <th>...</th>\n",
       "      <td>...</td>\n",
       "      <td>...</td>\n",
       "      <td>...</td>\n",
       "      <td>...</td>\n",
       "      <td>...</td>\n",
       "    </tr>\n",
       "    <tr>\n",
       "      <th>185650</th>\n",
       "      <td>2021-03-01 18:23:09.127</td>\n",
       "      <td>NaN</td>\n",
       "      <td>2021-03-01 18:23:20.437</td>\n",
       "      <td>618612573</td>\n",
       "      <td>100000021.0</td>\n",
       "    </tr>\n",
       "    <tr>\n",
       "      <th>185651</th>\n",
       "      <td>2021-03-01 18:41:53.330</td>\n",
       "      <td>NaN</td>\n",
       "      <td>2021-03-01 18:42:04.347</td>\n",
       "      <td>636294460</td>\n",
       "      <td>100000021.0</td>\n",
       "    </tr>\n",
       "    <tr>\n",
       "      <th>185652</th>\n",
       "      <td>2021-03-01 18:42:09.820</td>\n",
       "      <td>NaN</td>\n",
       "      <td>2021-03-01 18:42:24.097</td>\n",
       "      <td>636294460</td>\n",
       "      <td>100000021.0</td>\n",
       "    </tr>\n",
       "    <tr>\n",
       "      <th>185653</th>\n",
       "      <td>2021-03-01 18:54:21.400</td>\n",
       "      <td>NaN</td>\n",
       "      <td>2021-03-01 18:54:40.957</td>\n",
       "      <td>916425282</td>\n",
       "      <td>100000021.0</td>\n",
       "    </tr>\n",
       "    <tr>\n",
       "      <th>185654</th>\n",
       "      <td>2021-03-01 19:16:15.310</td>\n",
       "      <td>NaN</td>\n",
       "      <td>2021-03-01 19:16:29.523</td>\n",
       "      <td>918296650</td>\n",
       "      <td>100000015.0</td>\n",
       "    </tr>\n",
       "  </tbody>\n",
       "</table>\n",
       "<p>185636 rows × 5 columns</p>\n",
       "</div>"
      ],
      "text/plain": [
       "                      tCreacion                  tInicio  \\\n",
       "2       2020-03-01 13:42:29.567                      NaN   \n",
       "3       2020-03-01 18:48:01.543                      NaN   \n",
       "4       2020-03-02 02:46:55.637                      NaN   \n",
       "5       2020-03-02 07:28:57.743                      NaN   \n",
       "6       2020-03-02 08:05:45.267  2020-03-02 08:06:37.973   \n",
       "...                         ...                      ...   \n",
       "185650  2021-03-01 18:23:09.127                      NaN   \n",
       "185651  2021-03-01 18:41:53.330                      NaN   \n",
       "185652  2021-03-01 18:42:09.820                      NaN   \n",
       "185653  2021-03-01 18:54:21.400                      NaN   \n",
       "185654  2021-03-01 19:16:15.310                      NaN   \n",
       "\n",
       "                         tFinal sTelefonoCliente   idCampanya  \n",
       "2       2020-03-01 13:42:44.647        918298287  100000021.0  \n",
       "3       2020-03-01 18:48:08.430        664401666  100000021.0  \n",
       "4       2020-03-02 02:47:07.040        918298287  100000015.0  \n",
       "5       2020-03-02 07:29:06.180        653312359  100000021.0  \n",
       "6       2020-03-02 08:08:33.807        971886546  100000021.0  \n",
       "...                         ...              ...          ...  \n",
       "185650  2021-03-01 18:23:20.437        618612573  100000021.0  \n",
       "185651  2021-03-01 18:42:04.347        636294460  100000021.0  \n",
       "185652  2021-03-01 18:42:24.097        636294460  100000021.0  \n",
       "185653  2021-03-01 18:54:40.957        916425282  100000021.0  \n",
       "185654  2021-03-01 19:16:29.523        918296650  100000015.0  \n",
       "\n",
       "[185636 rows x 5 columns]"
      ]
     },
     "execution_count": 31,
     "metadata": {},
     "output_type": "execute_result"
    }
   ],
   "source": [
    "df_calls = df_calls[['tCreacion','tInicio','tFinal','sTelefonoCliente','idCampanya']]\n",
    "df_calls"
   ]
  },
  {
   "cell_type": "code",
   "execution_count": 32,
   "id": "younger-cancer",
   "metadata": {},
   "outputs": [],
   "source": [
    "df_calls['tCreacion'] = pd.to_datetime(df_calls['tCreacion'])\n",
    "df_calls['tInicio'] = pd.to_datetime(df_calls['tInicio'])\n",
    "df_calls['tFinal'] = pd.to_datetime(df_calls['tFinal'])\n",
    "\n",
    "df_calls['Date'] = df_calls['tCreacion'].dt.date\n",
    "df_calls['Date'] = df_calls['Date'].astype('str')\n",
    "\n",
    "df_calls['dateCreacion'] = df_calls['tCreacion'].dt.date\n",
    "df_calls['dateCreacion'] = df_calls['dateCreacion'].astype('str')\n",
    "\n",
    "df_calls['dateInicio'] = df_calls['tInicio'].dt.date\n",
    "df_calls['dateInicio'] = df_calls['dateInicio'].astype('str') "
   ]
  },
  {
   "cell_type": "code",
   "execution_count": 33,
   "id": "static-graphics",
   "metadata": {
    "scrolled": true
   },
   "outputs": [
    {
     "data": {
      "text/html": [
       "<div>\n",
       "<style scoped>\n",
       "    .dataframe tbody tr th:only-of-type {\n",
       "        vertical-align: middle;\n",
       "    }\n",
       "\n",
       "    .dataframe tbody tr th {\n",
       "        vertical-align: top;\n",
       "    }\n",
       "\n",
       "    .dataframe thead th {\n",
       "        text-align: right;\n",
       "    }\n",
       "</style>\n",
       "<table border=\"1\" class=\"dataframe\">\n",
       "  <thead>\n",
       "    <tr style=\"text-align: right;\">\n",
       "      <th></th>\n",
       "      <th>tCreacion</th>\n",
       "      <th>tInicio</th>\n",
       "      <th>tFinal</th>\n",
       "      <th>sTelefonoCliente</th>\n",
       "      <th>idCampanya</th>\n",
       "      <th>Date</th>\n",
       "      <th>dateCreacion</th>\n",
       "      <th>dateInicio</th>\n",
       "    </tr>\n",
       "  </thead>\n",
       "  <tbody>\n",
       "    <tr>\n",
       "      <th>2</th>\n",
       "      <td>2020-03-01 13:42:29.567</td>\n",
       "      <td>NaT</td>\n",
       "      <td>2020-03-01 13:42:44.647</td>\n",
       "      <td>918298287</td>\n",
       "      <td>100000021.0</td>\n",
       "      <td>2020-03-01</td>\n",
       "      <td>2020-03-01</td>\n",
       "      <td>NaT</td>\n",
       "    </tr>\n",
       "    <tr>\n",
       "      <th>3</th>\n",
       "      <td>2020-03-01 18:48:01.543</td>\n",
       "      <td>NaT</td>\n",
       "      <td>2020-03-01 18:48:08.430</td>\n",
       "      <td>664401666</td>\n",
       "      <td>100000021.0</td>\n",
       "      <td>2020-03-01</td>\n",
       "      <td>2020-03-01</td>\n",
       "      <td>NaT</td>\n",
       "    </tr>\n",
       "    <tr>\n",
       "      <th>4</th>\n",
       "      <td>2020-03-02 02:46:55.637</td>\n",
       "      <td>NaT</td>\n",
       "      <td>2020-03-02 02:47:07.040</td>\n",
       "      <td>918298287</td>\n",
       "      <td>100000015.0</td>\n",
       "      <td>2020-03-02</td>\n",
       "      <td>2020-03-02</td>\n",
       "      <td>NaT</td>\n",
       "    </tr>\n",
       "    <tr>\n",
       "      <th>5</th>\n",
       "      <td>2020-03-02 07:28:57.743</td>\n",
       "      <td>NaT</td>\n",
       "      <td>2020-03-02 07:29:06.180</td>\n",
       "      <td>653312359</td>\n",
       "      <td>100000021.0</td>\n",
       "      <td>2020-03-02</td>\n",
       "      <td>2020-03-02</td>\n",
       "      <td>NaT</td>\n",
       "    </tr>\n",
       "    <tr>\n",
       "      <th>6</th>\n",
       "      <td>2020-03-02 08:05:45.267</td>\n",
       "      <td>2020-03-02 08:06:37.973</td>\n",
       "      <td>2020-03-02 08:08:33.807</td>\n",
       "      <td>971886546</td>\n",
       "      <td>100000021.0</td>\n",
       "      <td>2020-03-02</td>\n",
       "      <td>2020-03-02</td>\n",
       "      <td>2020-03-02</td>\n",
       "    </tr>\n",
       "    <tr>\n",
       "      <th>...</th>\n",
       "      <td>...</td>\n",
       "      <td>...</td>\n",
       "      <td>...</td>\n",
       "      <td>...</td>\n",
       "      <td>...</td>\n",
       "      <td>...</td>\n",
       "      <td>...</td>\n",
       "      <td>...</td>\n",
       "    </tr>\n",
       "    <tr>\n",
       "      <th>185650</th>\n",
       "      <td>2021-03-01 18:23:09.127</td>\n",
       "      <td>NaT</td>\n",
       "      <td>2021-03-01 18:23:20.437</td>\n",
       "      <td>618612573</td>\n",
       "      <td>100000021.0</td>\n",
       "      <td>2021-03-01</td>\n",
       "      <td>2021-03-01</td>\n",
       "      <td>NaT</td>\n",
       "    </tr>\n",
       "    <tr>\n",
       "      <th>185651</th>\n",
       "      <td>2021-03-01 18:41:53.330</td>\n",
       "      <td>NaT</td>\n",
       "      <td>2021-03-01 18:42:04.347</td>\n",
       "      <td>636294460</td>\n",
       "      <td>100000021.0</td>\n",
       "      <td>2021-03-01</td>\n",
       "      <td>2021-03-01</td>\n",
       "      <td>NaT</td>\n",
       "    </tr>\n",
       "    <tr>\n",
       "      <th>185652</th>\n",
       "      <td>2021-03-01 18:42:09.820</td>\n",
       "      <td>NaT</td>\n",
       "      <td>2021-03-01 18:42:24.097</td>\n",
       "      <td>636294460</td>\n",
       "      <td>100000021.0</td>\n",
       "      <td>2021-03-01</td>\n",
       "      <td>2021-03-01</td>\n",
       "      <td>NaT</td>\n",
       "    </tr>\n",
       "    <tr>\n",
       "      <th>185653</th>\n",
       "      <td>2021-03-01 18:54:21.400</td>\n",
       "      <td>NaT</td>\n",
       "      <td>2021-03-01 18:54:40.957</td>\n",
       "      <td>916425282</td>\n",
       "      <td>100000021.0</td>\n",
       "      <td>2021-03-01</td>\n",
       "      <td>2021-03-01</td>\n",
       "      <td>NaT</td>\n",
       "    </tr>\n",
       "    <tr>\n",
       "      <th>185654</th>\n",
       "      <td>2021-03-01 19:16:15.310</td>\n",
       "      <td>NaT</td>\n",
       "      <td>2021-03-01 19:16:29.523</td>\n",
       "      <td>918296650</td>\n",
       "      <td>100000015.0</td>\n",
       "      <td>2021-03-01</td>\n",
       "      <td>2021-03-01</td>\n",
       "      <td>NaT</td>\n",
       "    </tr>\n",
       "  </tbody>\n",
       "</table>\n",
       "<p>185636 rows × 8 columns</p>\n",
       "</div>"
      ],
      "text/plain": [
       "                     tCreacion                 tInicio  \\\n",
       "2      2020-03-01 13:42:29.567                     NaT   \n",
       "3      2020-03-01 18:48:01.543                     NaT   \n",
       "4      2020-03-02 02:46:55.637                     NaT   \n",
       "5      2020-03-02 07:28:57.743                     NaT   \n",
       "6      2020-03-02 08:05:45.267 2020-03-02 08:06:37.973   \n",
       "...                        ...                     ...   \n",
       "185650 2021-03-01 18:23:09.127                     NaT   \n",
       "185651 2021-03-01 18:41:53.330                     NaT   \n",
       "185652 2021-03-01 18:42:09.820                     NaT   \n",
       "185653 2021-03-01 18:54:21.400                     NaT   \n",
       "185654 2021-03-01 19:16:15.310                     NaT   \n",
       "\n",
       "                        tFinal sTelefonoCliente   idCampanya        Date  \\\n",
       "2      2020-03-01 13:42:44.647        918298287  100000021.0  2020-03-01   \n",
       "3      2020-03-01 18:48:08.430        664401666  100000021.0  2020-03-01   \n",
       "4      2020-03-02 02:47:07.040        918298287  100000015.0  2020-03-02   \n",
       "5      2020-03-02 07:29:06.180        653312359  100000021.0  2020-03-02   \n",
       "6      2020-03-02 08:08:33.807        971886546  100000021.0  2020-03-02   \n",
       "...                        ...              ...          ...         ...   \n",
       "185650 2021-03-01 18:23:20.437        618612573  100000021.0  2021-03-01   \n",
       "185651 2021-03-01 18:42:04.347        636294460  100000021.0  2021-03-01   \n",
       "185652 2021-03-01 18:42:24.097        636294460  100000021.0  2021-03-01   \n",
       "185653 2021-03-01 18:54:40.957        916425282  100000021.0  2021-03-01   \n",
       "185654 2021-03-01 19:16:29.523        918296650  100000015.0  2021-03-01   \n",
       "\n",
       "       dateCreacion  dateInicio  \n",
       "2        2020-03-01         NaT  \n",
       "3        2020-03-01         NaT  \n",
       "4        2020-03-02         NaT  \n",
       "5        2020-03-02         NaT  \n",
       "6        2020-03-02  2020-03-02  \n",
       "...             ...         ...  \n",
       "185650   2021-03-01         NaT  \n",
       "185651   2021-03-01         NaT  \n",
       "185652   2021-03-01         NaT  \n",
       "185653   2021-03-01         NaT  \n",
       "185654   2021-03-01         NaT  \n",
       "\n",
       "[185636 rows x 8 columns]"
      ]
     },
     "execution_count": 33,
     "metadata": {},
     "output_type": "execute_result"
    }
   ],
   "source": [
    "df_calls"
   ]
  },
  {
   "cell_type": "code",
   "execution_count": 34,
   "id": "frequent-letter",
   "metadata": {
    "scrolled": true
   },
   "outputs": [],
   "source": [
    "df_calls = df_calls[['Date','dateCreacion','sTelefonoCliente','idCampanya']]"
   ]
  },
  {
   "cell_type": "code",
   "execution_count": 35,
   "id": "comfortable-granny",
   "metadata": {
    "scrolled": true
   },
   "outputs": [
    {
     "name": "stderr",
     "output_type": "stream",
     "text": [
      "<ipython-input-35-194b5f777100>:1: SettingWithCopyWarning: \n",
      "A value is trying to be set on a copy of a slice from a DataFrame\n",
      "\n",
      "See the caveats in the documentation: https://pandas.pydata.org/pandas-docs/stable/user_guide/indexing.html#returning-a-view-versus-a-copy\n",
      "  df_calls.drop_duplicates(inplace=True)\n"
     ]
    }
   ],
   "source": [
    "df_calls.drop_duplicates(inplace=True)"
   ]
  },
  {
   "cell_type": "markdown",
   "id": "senior-universal",
   "metadata": {},
   "source": [
    "### Analisis Datos"
   ]
  },
  {
   "cell_type": "code",
   "execution_count": 36,
   "id": "political-contribution",
   "metadata": {},
   "outputs": [],
   "source": [
    "df_calls = df_calls[ df_calls['idCampanya'] == 100000015.0 ]"
   ]
  },
  {
   "cell_type": "code",
   "execution_count": 37,
   "id": "expired-score",
   "metadata": {},
   "outputs": [],
   "source": [
    "df_calls = df_calls.groupby('Date').count()\n",
    "df_calls = df_calls[['dateCreacion']]\n",
    "df_calls = df_calls[df_calls.dateCreacion > 20]"
   ]
  },
  {
   "cell_type": "code",
   "execution_count": 38,
   "id": "annual-diesel",
   "metadata": {
    "scrolled": false
   },
   "outputs": [
    {
     "data": {
      "text/html": [
       "<div>\n",
       "<style scoped>\n",
       "    .dataframe tbody tr th:only-of-type {\n",
       "        vertical-align: middle;\n",
       "    }\n",
       "\n",
       "    .dataframe tbody tr th {\n",
       "        vertical-align: top;\n",
       "    }\n",
       "\n",
       "    .dataframe thead th {\n",
       "        text-align: right;\n",
       "    }\n",
       "</style>\n",
       "<table border=\"1\" class=\"dataframe\">\n",
       "  <thead>\n",
       "    <tr style=\"text-align: right;\">\n",
       "      <th></th>\n",
       "      <th>index</th>\n",
       "      <th>total</th>\n",
       "      <th>Bag 14</th>\n",
       "      <th>Bag 19</th>\n",
       "      <th>Burofax</th>\n",
       "      <th>Documentos 14</th>\n",
       "      <th>E-commerce</th>\n",
       "      <th>Económico</th>\n",
       "      <th>Express documentos</th>\n",
       "      <th>Marítimo baleares</th>\n",
       "      <th>Mascotas</th>\n",
       "      <th>Mrw economy (ecopaq)</th>\n",
       "      <th>Retorno albarán</th>\n",
       "      <th>Retorno canje</th>\n",
       "      <th>Urgente 10</th>\n",
       "      <th>Urgente 10 expedición</th>\n",
       "      <th>Urgente 12</th>\n",
       "      <th>Urgente 12 expedición</th>\n",
       "      <th>Urgente 14</th>\n",
       "      <th>Urgente 14 expedición</th>\n",
       "      <th>Urgente 19</th>\n",
       "      <th>Urgente 19 expedición</th>\n",
       "      <th>Urgente 8:30</th>\n",
       "      <th>Urgente 8:30 expedición</th>\n",
       "      <th>Urgente hoy</th>\n",
       "      <th>dateCreacion</th>\n",
       "    </tr>\n",
       "  </thead>\n",
       "  <tbody>\n",
       "    <tr>\n",
       "      <th>42</th>\n",
       "      <td>2020-03-02</td>\n",
       "      <td>1784.0</td>\n",
       "      <td>2.0</td>\n",
       "      <td>1.0</td>\n",
       "      <td>5.0</td>\n",
       "      <td>1.0</td>\n",
       "      <td>297.0</td>\n",
       "      <td>221.0</td>\n",
       "      <td>0.0</td>\n",
       "      <td>980.0</td>\n",
       "      <td>2.0</td>\n",
       "      <td>0.0</td>\n",
       "      <td>6.0</td>\n",
       "      <td>0.0</td>\n",
       "      <td>60.0</td>\n",
       "      <td>5.0</td>\n",
       "      <td>100.0</td>\n",
       "      <td>24.0</td>\n",
       "      <td>1.0</td>\n",
       "      <td>0.0</td>\n",
       "      <td>41.0</td>\n",
       "      <td>34.0</td>\n",
       "      <td>3.0</td>\n",
       "      <td>1.0</td>\n",
       "      <td>0.0</td>\n",
       "      <td>140.0</td>\n",
       "    </tr>\n",
       "    <tr>\n",
       "      <th>43</th>\n",
       "      <td>2020-03-03</td>\n",
       "      <td>640.0</td>\n",
       "      <td>0.0</td>\n",
       "      <td>0.0</td>\n",
       "      <td>2.0</td>\n",
       "      <td>1.0</td>\n",
       "      <td>140.0</td>\n",
       "      <td>70.0</td>\n",
       "      <td>0.0</td>\n",
       "      <td>186.0</td>\n",
       "      <td>8.0</td>\n",
       "      <td>0.0</td>\n",
       "      <td>0.0</td>\n",
       "      <td>0.0</td>\n",
       "      <td>52.0</td>\n",
       "      <td>1.0</td>\n",
       "      <td>102.0</td>\n",
       "      <td>21.0</td>\n",
       "      <td>1.0</td>\n",
       "      <td>0.0</td>\n",
       "      <td>33.0</td>\n",
       "      <td>17.0</td>\n",
       "      <td>5.0</td>\n",
       "      <td>1.0</td>\n",
       "      <td>0.0</td>\n",
       "      <td>135.0</td>\n",
       "    </tr>\n",
       "    <tr>\n",
       "      <th>44</th>\n",
       "      <td>2020-03-04</td>\n",
       "      <td>737.0</td>\n",
       "      <td>0.0</td>\n",
       "      <td>0.0</td>\n",
       "      <td>3.0</td>\n",
       "      <td>0.0</td>\n",
       "      <td>340.0</td>\n",
       "      <td>127.0</td>\n",
       "      <td>0.0</td>\n",
       "      <td>38.0</td>\n",
       "      <td>5.0</td>\n",
       "      <td>0.0</td>\n",
       "      <td>0.0</td>\n",
       "      <td>0.0</td>\n",
       "      <td>44.0</td>\n",
       "      <td>5.0</td>\n",
       "      <td>83.0</td>\n",
       "      <td>18.0</td>\n",
       "      <td>1.0</td>\n",
       "      <td>0.0</td>\n",
       "      <td>54.0</td>\n",
       "      <td>17.0</td>\n",
       "      <td>1.0</td>\n",
       "      <td>1.0</td>\n",
       "      <td>0.0</td>\n",
       "      <td>118.0</td>\n",
       "    </tr>\n",
       "    <tr>\n",
       "      <th>45</th>\n",
       "      <td>2020-03-05</td>\n",
       "      <td>709.0</td>\n",
       "      <td>0.0</td>\n",
       "      <td>0.0</td>\n",
       "      <td>0.0</td>\n",
       "      <td>0.0</td>\n",
       "      <td>234.0</td>\n",
       "      <td>117.0</td>\n",
       "      <td>0.0</td>\n",
       "      <td>279.0</td>\n",
       "      <td>0.0</td>\n",
       "      <td>0.0</td>\n",
       "      <td>3.0</td>\n",
       "      <td>0.0</td>\n",
       "      <td>10.0</td>\n",
       "      <td>1.0</td>\n",
       "      <td>25.0</td>\n",
       "      <td>4.0</td>\n",
       "      <td>1.0</td>\n",
       "      <td>0.0</td>\n",
       "      <td>21.0</td>\n",
       "      <td>13.0</td>\n",
       "      <td>0.0</td>\n",
       "      <td>1.0</td>\n",
       "      <td>0.0</td>\n",
       "      <td>128.0</td>\n",
       "    </tr>\n",
       "    <tr>\n",
       "      <th>46</th>\n",
       "      <td>2020-03-06</td>\n",
       "      <td>712.0</td>\n",
       "      <td>0.0</td>\n",
       "      <td>0.0</td>\n",
       "      <td>0.0</td>\n",
       "      <td>0.0</td>\n",
       "      <td>137.0</td>\n",
       "      <td>40.0</td>\n",
       "      <td>0.0</td>\n",
       "      <td>518.0</td>\n",
       "      <td>0.0</td>\n",
       "      <td>0.0</td>\n",
       "      <td>0.0</td>\n",
       "      <td>0.0</td>\n",
       "      <td>16.0</td>\n",
       "      <td>0.0</td>\n",
       "      <td>1.0</td>\n",
       "      <td>0.0</td>\n",
       "      <td>0.0</td>\n",
       "      <td>0.0</td>\n",
       "      <td>0.0</td>\n",
       "      <td>0.0</td>\n",
       "      <td>0.0</td>\n",
       "      <td>0.0</td>\n",
       "      <td>0.0</td>\n",
       "      <td>114.0</td>\n",
       "    </tr>\n",
       "  </tbody>\n",
       "</table>\n",
       "</div>"
      ],
      "text/plain": [
       "         index   total  Bag 14  Bag 19  Burofax  Documentos 14  E-commerce  \\\n",
       "42  2020-03-02  1784.0     2.0     1.0      5.0            1.0       297.0   \n",
       "43  2020-03-03   640.0     0.0     0.0      2.0            1.0       140.0   \n",
       "44  2020-03-04   737.0     0.0     0.0      3.0            0.0       340.0   \n",
       "45  2020-03-05   709.0     0.0     0.0      0.0            0.0       234.0   \n",
       "46  2020-03-06   712.0     0.0     0.0      0.0            0.0       137.0   \n",
       "\n",
       "    Económico  Express documentos  Marítimo baleares  Mascotas  \\\n",
       "42      221.0                 0.0              980.0       2.0   \n",
       "43       70.0                 0.0              186.0       8.0   \n",
       "44      127.0                 0.0               38.0       5.0   \n",
       "45      117.0                 0.0              279.0       0.0   \n",
       "46       40.0                 0.0              518.0       0.0   \n",
       "\n",
       "    Mrw economy (ecopaq)  Retorno albarán  Retorno canje  Urgente 10  \\\n",
       "42                   0.0              6.0            0.0        60.0   \n",
       "43                   0.0              0.0            0.0        52.0   \n",
       "44                   0.0              0.0            0.0        44.0   \n",
       "45                   0.0              3.0            0.0        10.0   \n",
       "46                   0.0              0.0            0.0        16.0   \n",
       "\n",
       "    Urgente 10 expedición  Urgente 12  Urgente 12 expedición  Urgente 14  \\\n",
       "42                    5.0       100.0                   24.0         1.0   \n",
       "43                    1.0       102.0                   21.0         1.0   \n",
       "44                    5.0        83.0                   18.0         1.0   \n",
       "45                    1.0        25.0                    4.0         1.0   \n",
       "46                    0.0         1.0                    0.0         0.0   \n",
       "\n",
       "    Urgente 14 expedición  Urgente 19  Urgente 19 expedición  Urgente 8:30  \\\n",
       "42                    0.0        41.0                   34.0           3.0   \n",
       "43                    0.0        33.0                   17.0           5.0   \n",
       "44                    0.0        54.0                   17.0           1.0   \n",
       "45                    0.0        21.0                   13.0           0.0   \n",
       "46                    0.0         0.0                    0.0           0.0   \n",
       "\n",
       "    Urgente 8:30 expedición  Urgente hoy  dateCreacion  \n",
       "42                      1.0          0.0         140.0  \n",
       "43                      1.0          0.0         135.0  \n",
       "44                      1.0          0.0         118.0  \n",
       "45                      1.0          0.0         128.0  \n",
       "46                      0.0          0.0         114.0  "
      ]
     },
     "execution_count": 38,
     "metadata": {},
     "output_type": "execute_result"
    }
   ],
   "source": [
    "df_explore = pd.concat([train, df_calls], axis=1).reset_index()\n",
    "df_explore.dropna(inplace=True)\n",
    "df_explore.head()"
   ]
  },
  {
   "cell_type": "code",
   "execution_count": 39,
   "id": "textile-induction",
   "metadata": {},
   "outputs": [
    {
     "data": {
      "text/plain": [
       "index                      2020-03-022020-03-032020-03-042020-03-052020-0...\n",
       "total                                                               125847.0\n",
       "Bag 14                                                                  11.0\n",
       "Bag 19                                                                  15.0\n",
       "Burofax                                                                299.0\n",
       "Documentos 14                                                           17.0\n",
       "E-commerce                                                           33318.0\n",
       "Económico                                                             9531.0\n",
       "Express documentos                                                       4.0\n",
       "Marítimo baleares                                                    63731.0\n",
       "Mascotas                                                               574.0\n",
       "Mrw economy (ecopaq)                                                    13.0\n",
       "Retorno albarán                                                        113.0\n",
       "Retorno canje                                                            0.0\n",
       "Urgente 10                                                            3885.0\n",
       "Urgente 10 expedición                                                  239.0\n",
       "Urgente 12                                                            6981.0\n",
       "Urgente 12 expedición                                                 1130.0\n",
       "Urgente 14                                                             101.0\n",
       "Urgente 14 expedición                                                    0.0\n",
       "Urgente 19                                                            3999.0\n",
       "Urgente 19 expedición                                                 1668.0\n",
       "Urgente 8:30                                                           159.0\n",
       "Urgente 8:30 expedición                                                 58.0\n",
       "Urgente hoy                                                              1.0\n",
       "dateCreacion                                                         24969.0\n",
       "dtype: object"
      ]
     },
     "execution_count": 39,
     "metadata": {},
     "output_type": "execute_result"
    }
   ],
   "source": [
    "df_explore.sum()"
   ]
  },
  {
   "cell_type": "code",
   "execution_count": 40,
   "id": "attractive-damages",
   "metadata": {},
   "outputs": [
    {
     "data": {
      "text/plain": [
       "count    234.000000\n",
       "mean     106.705128\n",
       "std       75.379744\n",
       "min       23.000000\n",
       "25%       59.000000\n",
       "50%       78.500000\n",
       "75%      119.000000\n",
       "max      374.000000\n",
       "Name: dateCreacion, dtype: float64"
      ]
     },
     "execution_count": 40,
     "metadata": {},
     "output_type": "execute_result"
    }
   ],
   "source": [
    "df_explore.dateCreacion.describe()"
   ]
  },
  {
   "cell_type": "code",
   "execution_count": 41,
   "id": "latest-marking",
   "metadata": {},
   "outputs": [],
   "source": [
    "import numpy as np\n",
    "import seaborn as sns\n",
    "import matplotlib.pyplot as plt"
   ]
  },
  {
   "cell_type": "code",
   "execution_count": 42,
   "id": "proved-evolution",
   "metadata": {
    "scrolled": false
   },
   "outputs": [
    {
     "data": {
      "text/plain": [
       "(array([54., 93., 38., 11.,  7., 10.,  4.,  8.,  4.,  5.]),\n",
       " array([ 23. ,  58.1,  93.2, 128.3, 163.4, 198.5, 233.6, 268.7, 303.8,\n",
       "        338.9, 374. ]),\n",
       " <a list of 10 Patch objects>)"
      ]
     },
     "execution_count": 42,
     "metadata": {},
     "output_type": "execute_result"
    },
    {
     "data": {
      "image/png": "[encoded data removed]",
      "text/plain": [
       "<Figure size 432x288 with 1 Axes>"
      ]
     },
     "metadata": {
      "needs_background": "light"
     },
     "output_type": "display_data"
    }
   ],
   "source": [
    "plt.hist(df_explore['dateCreacion'])"
   ]
  },
  {
   "cell_type": "code",
   "execution_count": 43,
   "id": "noble-authority",
   "metadata": {},
   "outputs": [],
   "source": [
    "#df_subset = df_explore.iloc[:,[0,1]]\n",
    "#df_subtotal = df_explore.iloc[:,-1]\n",
    "#df_subtotal = pd.concat([df_subset, df_subtotal], axis=1)\n",
    "#df_subtotal.head()"
   ]
  },
  {
   "cell_type": "code",
   "execution_count": 44,
   "id": "vulnerable-mortgage",
   "metadata": {},
   "outputs": [
    {
     "data": {
      "image/png": "[encoded data removed]",
      "text/plain": [
       "<Figure size 900x900 with 30 Axes>"
      ]
     },
     "metadata": {
      "needs_background": "light"
     },
     "output_type": "display_data"
    }
   ],
   "source": [
    "sns.pairplot(df_explore.loc[:,['total','E-commerce','Económico','Marítimo baleares','dateCreacion']]);"
   ]
  },
  {
   "cell_type": "code",
   "execution_count": 45,
   "id": "variable-amazon",
   "metadata": {},
   "outputs": [],
   "source": [
    "x = np.array(df_explore['index'])\n",
    "envios = np.array(df_explore['total'])\n",
    "llamadas = np.array(df_explore['dateCreacion'])\n",
    "\n",
    "envio24h = np.array(df_explore['Urgente 8:30'] + df_explore['Urgente 10'] + df_explore['Urgente 12'] + \\\n",
    "    df_explore['Urgente 14'] + df_explore['Urgente 19'] + df_explore['Urgente 8:30 expedición'] + \\\n",
    "    df_explore['Urgente 10 expedición'] + df_explore['Urgente 12 expedición'] + \\\n",
    "    df_explore['Urgente 19 expedición'] + df_explore['Burofax'] + \\\n",
    "    df_explore['Mascotas'])\n",
    "\n",
    "envio48h = np.array(df_explore['Económico'] + df_explore['E-commerce'])\n",
    "\n",
    "minoritarios =  np.array(df_explore['Bag 14'] + df_explore['Bag 19'] + df_explore['Express documentos'] + \\\n",
    "    df_explore['Documentos 14'] + df_explore['Urgente hoy'] +  df_explore['Urgente 14 expedición'] + \\\n",
    "    df_explore['Retorno canje'] + df_explore['Mrw economy (ecopaq)'])\n",
    "\n",
    "maritimo = np.array(df_explore['Marítimo baleares'])"
   ]
  },
  {
   "cell_type": "code",
   "execution_count": 46,
   "id": "loving-great",
   "metadata": {},
   "outputs": [],
   "source": [
    "def normalizar2(Xs, datos, llamadas):\n",
    "    mask = datos == 0\n",
    "    x = np.delete(Xs, mask)\n",
    "    d1 = np.delete(datos, mask)\n",
    "    d2 = np.delete(llamadas, mask)\n",
    "    d1 = np.log(d1)\n",
    "    d2 = np.log(d2)\n",
    "    \n",
    "    return x, d1, d2\n",
    "\n",
    "def normalizar(Xs, datos, llamadas):\n",
    "    mask = datos == 0\n",
    "    x = np.delete(Xs, mask)\n",
    "    d1 = np.delete(datos, mask)\n",
    "    d2 = np.delete(llamadas, mask)\n",
    "    \n",
    "    return x, d1, d2"
   ]
  },
  {
   "cell_type": "code",
   "execution_count": 47,
   "id": "asian-drunk",
   "metadata": {},
   "outputs": [
    {
     "data": {
      "image/png": "[encoded data removed]",
      "text/plain": [
       "<Figure size 432x288 with 1 Axes>"
      ]
     },
     "metadata": {
      "needs_background": "light"
     },
     "output_type": "display_data"
    }
   ],
   "source": [
    "Xs, ys1, ys2 = normalizar(x, envios, llamadas)\n",
    "plt.scatter(Xs, ys1, c='black')\n",
    "plt.scatter(Xs, ys2, c='blue', alpha=.5);"
   ]
  },
  {
   "cell_type": "code",
   "execution_count": 48,
   "id": "starting-median",
   "metadata": {},
   "outputs": [
    {
     "data": {
      "image/png": "[encoded data removed]",
      "text/plain": [
       "<Figure size 432x288 with 1 Axes>"
      ]
     },
     "metadata": {
      "needs_background": "light"
     },
     "output_type": "display_data"
    }
   ],
   "source": [
    "Xs, ys1, ys2 = normalizar(x, envio24h, llamadas)\n",
    "plt.scatter(Xs, ys1, c='green')\n",
    "plt.scatter(Xs, ys2, c='blue', alpha=.5);"
   ]
  },
  {
   "cell_type": "code",
   "execution_count": 49,
   "id": "plain-subcommittee",
   "metadata": {
    "scrolled": false
   },
   "outputs": [
    {
     "data": {
      "image/png": "[encoded data removed]",
      "text/plain": [
       "<Figure size 432x288 with 1 Axes>"
      ]
     },
     "metadata": {
      "needs_background": "light"
     },
     "output_type": "display_data"
    }
   ],
   "source": [
    "Xs, ys1, ys2 = normalizar(x, envio48h, llamadas)\n",
    "plt.scatter(Xs, ys1, c='red')\n",
    "plt.scatter(Xs, ys2, c='blue', alpha=.5);"
   ]
  },
  {
   "cell_type": "code",
   "execution_count": 50,
   "id": "changed-lingerie",
   "metadata": {},
   "outputs": [
    {
     "data": {
      "image/png": "[encoded data removed]",
      "text/plain": [
       "<Figure size 432x288 with 1 Axes>"
      ]
     },
     "metadata": {
      "needs_background": "light"
     },
     "output_type": "display_data"
    }
   ],
   "source": [
    "Xs, ys1, ys2 = normalizar(x, maritimo, llamadas)\n",
    "plt.scatter(Xs, ys1, c='orange')\n",
    "plt.scatter(Xs, ys2, c='blue', alpha=.5);"
   ]
  },
  {
   "cell_type": "code",
   "execution_count": 51,
   "id": "clinical-processing",
   "metadata": {},
   "outputs": [
    {
     "data": {
      "image/png": "[encoded data removed]",
      "text/plain": [
       "<Figure size 432x288 with 1 Axes>"
      ]
     },
     "metadata": {
      "needs_background": "light"
     },
     "output_type": "display_data"
    }
   ],
   "source": [
    "Xs, ys1, ys2 = normalizar(x, minoritarios, llamadas)\n",
    "plt.scatter(Xs, ys1, c='pink')\n",
    "plt.scatter(Xs, ys2, c='blue', alpha=.5);"
   ]
  },
  {
   "cell_type": "markdown",
   "id": "yellow-material",
   "metadata": {},
   "source": [
    "## Modelo"
   ]
  },
  {
   "cell_type": "code",
   "execution_count": 52,
   "id": "dried-concentrate",
   "metadata": {},
   "outputs": [],
   "source": [
    "from sklearn.linear_model import LinearRegression\n",
    "from sklearn.model_selection import train_test_split\n",
    "from sklearn.metrics import mean_absolute_error"
   ]
  },
  {
   "cell_type": "code",
   "execution_count": 53,
   "id": "about-commonwealth",
   "metadata": {},
   "outputs": [],
   "source": [
    "reg = LinearRegression()"
   ]
  },
  {
   "cell_type": "code",
   "execution_count": 54,
   "id": "incorporated-jamaica",
   "metadata": {},
   "outputs": [],
   "source": [
    "X = df_explore.iloc[:,1:-1]\n",
    "y = df_explore['dateCreacion']\n",
    "\n",
    "X_train, X_test, y_train, y_test = train_test_split(X, y, test_size=0.20)"
   ]
  },
  {
   "cell_type": "code",
   "execution_count": 55,
   "id": "junior-newport",
   "metadata": {},
   "outputs": [
    {
     "data": {
      "text/plain": [
       "LinearRegression()"
      ]
     },
     "execution_count": 55,
     "metadata": {},
     "output_type": "execute_result"
    }
   ],
   "source": [
    "reg.fit(X_train,y_train)"
   ]
  },
  {
   "cell_type": "code",
   "execution_count": 56,
   "id": "hearing-participation",
   "metadata": {},
   "outputs": [],
   "source": [
    "y_pred = reg.predict(X_test)"
   ]
  },
  {
   "cell_type": "code",
   "execution_count": 57,
   "id": "enabling-executive",
   "metadata": {
    "scrolled": true
   },
   "outputs": [
    {
     "data": {
      "text/plain": [
       "39.10114948039812"
      ]
     },
     "execution_count": 57,
     "metadata": {},
     "output_type": "execute_result"
    }
   ],
   "source": [
    "mean_absolute_error(y_test, y_pred)"
   ]
  },
  {
   "cell_type": "code",
   "execution_count": 58,
   "id": "instrumental-clock",
   "metadata": {},
   "outputs": [
    {
     "data": {
      "text/plain": [
       "[<matplotlib.lines.Line2D at 0x7f1a651a98e0>]"
      ]
     },
     "execution_count": 58,
     "metadata": {},
     "output_type": "execute_result"
    },
    {
     "data": {
      "image/png": "[encoded data removed]",
      "text/plain": [
       "<Figure size 432x288 with 1 Axes>"
      ]
     },
     "metadata": {
      "needs_background": "light"
     },
     "output_type": "display_data"
    }
   ],
   "source": [
    "plt.plot(df_explore.iloc[:,-1])\n",
    "plt.plot(reg.predict(df_explore.iloc[:,1:-1]))"
   ]
  },
  {
   "cell_type": "code",
   "execution_count": 59,
   "id": "animal-shakespeare",
   "metadata": {},
   "outputs": [],
   "source": [
    "from sklearn.neighbors import KNeighborsRegressor\n",
    "from sklearn.model_selection import GridSearchCV\n",
    "from sklearn.model_selection import cross_val_score"
   ]
  },
  {
   "cell_type": "code",
   "execution_count": 60,
   "id": "large-lodging",
   "metadata": {},
   "outputs": [],
   "source": [
    "reg_gs = GridSearchCV(KNeighborsRegressor(),\n",
    "                        param_grid={\"n_neighbors\":np.arange(3,50)})"
   ]
  },
  {
   "cell_type": "code",
   "execution_count": 61,
   "id": "sorted-christianity",
   "metadata": {},
   "outputs": [
    {
     "data": {
      "text/plain": [
       "GridSearchCV(estimator=KNeighborsRegressor(),\n",
       "             param_grid={'n_neighbors': array([ 3,  4,  5,  6,  7,  8,  9, 10, 11, 12, 13, 14, 15, 16, 17, 18, 19,\n",
       "       20, 21, 22, 23, 24, 25, 26, 27, 28, 29, 30, 31, 32, 33, 34, 35, 36,\n",
       "       37, 38, 39, 40, 41, 42, 43, 44, 45, 46, 47, 48, 49])})"
      ]
     },
     "execution_count": 61,
     "metadata": {},
     "output_type": "execute_result"
    }
   ],
   "source": [
    "reg_gs.fit(X,y)"
   ]
  },
  {
   "cell_type": "code",
   "execution_count": 62,
   "id": "blank-edward",
   "metadata": {},
   "outputs": [
    {
     "data": {
      "text/plain": [
       "({'n_neighbors': 14}, -7.010527454331917)"
      ]
     },
     "execution_count": 62,
     "metadata": {},
     "output_type": "execute_result"
    }
   ],
   "source": [
    "reg_gs.best_params_, reg_gs.best_score_"
   ]
  },
  {
   "cell_type": "code",
   "execution_count": 63,
   "id": "future-limit",
   "metadata": {},
   "outputs": [],
   "source": [
    "regk = KNeighborsRegressor(n_neighbors=3)"
   ]
  },
  {
   "cell_type": "code",
   "execution_count": 64,
   "id": "applicable-basics",
   "metadata": {},
   "outputs": [
    {
     "data": {
      "text/plain": [
       "KNeighborsRegressor(n_neighbors=3)"
      ]
     },
     "execution_count": 64,
     "metadata": {},
     "output_type": "execute_result"
    }
   ],
   "source": [
    "regk.fit(X_train,y_train)"
   ]
  },
  {
   "cell_type": "code",
   "execution_count": 65,
   "id": "nominated-milton",
   "metadata": {},
   "outputs": [],
   "source": [
    "y_predk = regk.predict(X_test)"
   ]
  },
  {
   "cell_type": "code",
   "execution_count": 66,
   "id": "finite-lucas",
   "metadata": {},
   "outputs": [
    {
     "data": {
      "text/plain": [
       "40.801418439716315"
      ]
     },
     "execution_count": 66,
     "metadata": {},
     "output_type": "execute_result"
    }
   ],
   "source": [
    "#MAE\n",
    "mean_absolute_error(y_test, y_predk)"
   ]
  },
  {
   "cell_type": "code",
   "execution_count": 67,
   "id": "employed-democracy",
   "metadata": {},
   "outputs": [
    {
     "data": {
      "text/plain": [
       "-52.78803576934937"
      ]
     },
     "execution_count": 67,
     "metadata": {},
     "output_type": "execute_result"
    }
   ],
   "source": [
    "cross_val_score(regk,X,y,scoring='neg_mean_absolute_error').mean()"
   ]
  },
  {
   "cell_type": "code",
   "execution_count": null,
   "id": "short-diversity",
   "metadata": {},
   "outputs": [],
   "source": []
  }
 ],
 "metadata": {
  "kernelspec": {
   "display_name": "Python 3",
   "language": "python",
   "name": "python3"
  },
  "language_info": {
   "codemirror_mode": {
    "name": "ipython",
    "version": 3
   },
   "file_extension": ".py",
   "mimetype": "text/x-python",
   "name": "python",
   "nbconvert_exporter": "python",
   "pygments_lexer": "ipython3",
   "version": "3.8.5"
  }
 },
 "nbformat": 4,
 "nbformat_minor": 5
}
