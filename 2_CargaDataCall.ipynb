{
 "cells": [
  {
   "cell_type": "markdown",
   "id": "1a9b030c",
   "metadata": {},
   "source": [
    "# Modelo predictivo llamadas Contact Center\n",
    "## Notebook 2 - Importación datos de llamadas"
   ]
  },
  {
   "cell_type": "markdown",
   "id": "665ff8d1",
   "metadata": {},
   "source": [
    "## Importacion de librerias "
   ]
  },
  {
   "cell_type": "code",
   "execution_count": 1,
   "id": "1698cfab",
   "metadata": {},
   "outputs": [],
   "source": [
    "import pandas as pd\n",
    "pd.options.display.max_columns = None"
   ]
  },
  {
   "cell_type": "markdown",
   "id": "6c035bcb",
   "metadata": {},
   "source": [
    "### Importacion de los datos de llamadas por oficinas"
   ]
  },
  {
   "cell_type": "code",
   "execution_count": 2,
   "id": "65b0ded7",
   "metadata": {},
   "outputs": [],
   "source": [
    "df_calls = pd.read_csv('data/new_calls.csv', low_memory=False)"
   ]
  },
  {
   "cell_type": "code",
   "execution_count": 3,
   "id": "0833e1b9",
   "metadata": {},
   "outputs": [
    {
     "data": {
      "text/plain": [
       "Index(['Unnamed: 0', 'IDCAMPANYA', 'IDSUJETO', 'VALOR', 'DATACREACIO'], dtype='object')"
      ]
     },
     "execution_count": 3,
     "metadata": {},
     "output_type": "execute_result"
    }
   ],
   "source": [
    "df_calls.columns"
   ]
  },
  {
   "cell_type": "code",
   "execution_count": 4,
   "id": "a0f16f72",
   "metadata": {
    "scrolled": true
   },
   "outputs": [
    {
     "data": {
      "text/html": [
       "<div>\n",
       "<style scoped>\n",
       "    .dataframe tbody tr th:only-of-type {\n",
       "        vertical-align: middle;\n",
       "    }\n",
       "\n",
       "    .dataframe tbody tr th {\n",
       "        vertical-align: top;\n",
       "    }\n",
       "\n",
       "    .dataframe thead th {\n",
       "        text-align: right;\n",
       "    }\n",
       "</style>\n",
       "<table border=\"1\" class=\"dataframe\">\n",
       "  <thead>\n",
       "    <tr style=\"text-align: right;\">\n",
       "      <th></th>\n",
       "      <th>IDCAMPANYA</th>\n",
       "      <th>VALOR</th>\n",
       "      <th>DATACREACIO</th>\n",
       "    </tr>\n",
       "  </thead>\n",
       "  <tbody>\n",
       "    <tr>\n",
       "      <th>0</th>\n",
       "      <td>100000021</td>\n",
       "      <td>No tiene Numero</td>\n",
       "      <td>2019-01-02 08:06:49</td>\n",
       "    </tr>\n",
       "    <tr>\n",
       "      <th>1</th>\n",
       "      <td>100000022</td>\n",
       "      <td>Recogida</td>\n",
       "      <td>2019-01-02 08:08:18</td>\n",
       "    </tr>\n",
       "    <tr>\n",
       "      <th>2</th>\n",
       "      <td>100000015</td>\n",
       "      <td>Estado de Pedido</td>\n",
       "      <td>2019-01-02 08:09:06</td>\n",
       "    </tr>\n",
       "    <tr>\n",
       "      <th>3</th>\n",
       "      <td>100000015</td>\n",
       "      <td>Recogida</td>\n",
       "      <td>2019-01-02 08:13:47</td>\n",
       "    </tr>\n",
       "    <tr>\n",
       "      <th>4</th>\n",
       "      <td>100000015</td>\n",
       "      <td>No tiene Numero</td>\n",
       "      <td>2019-01-02 08:15:15</td>\n",
       "    </tr>\n",
       "  </tbody>\n",
       "</table>\n",
       "</div>"
      ],
      "text/plain": [
       "   IDCAMPANYA             VALOR          DATACREACIO\n",
       "0   100000021   No tiene Numero  2019-01-02 08:06:49\n",
       "1   100000022          Recogida  2019-01-02 08:08:18\n",
       "2   100000015  Estado de Pedido  2019-01-02 08:09:06\n",
       "3   100000015          Recogida  2019-01-02 08:13:47\n",
       "4   100000015   No tiene Numero  2019-01-02 08:15:15"
      ]
     },
     "execution_count": 4,
     "metadata": {},
     "output_type": "execute_result"
    }
   ],
   "source": [
    "df_calls = df_calls[['IDCAMPANYA','VALOR','DATACREACIO']]\n",
    "df_calls.head()"
   ]
  },
  {
   "cell_type": "markdown",
   "id": "c143d5f9-5984-4f17-8edc-bc394858166b",
   "metadata": {},
   "source": [
    "### Ver distribución de las llamadas por tipo"
   ]
  },
  {
   "cell_type": "code",
   "execution_count": 5,
   "id": "2428b5c2-29fe-4f7d-a5fa-eb9d033471bf",
   "metadata": {},
   "outputs": [],
   "source": [
    "import matplotlib.pyplot as plt"
   ]
  },
  {
   "cell_type": "code",
   "execution_count": 6,
   "id": "0dd2d975-3277-4ec9-9a8a-9d58d59260e5",
   "metadata": {},
   "outputs": [],
   "source": [
    "df = df_calls\n",
    "df['VALOR'] = ['Estado de Pedido' if item == 'No tiene Numero' else item  for item in df['VALOR']]\n",
    "df = df_calls.groupby('VALOR').count()[['DATACREACIO']]"
   ]
  },
  {
   "cell_type": "code",
   "execution_count": 7,
   "id": "d17056e4-7ab2-421a-82b0-9454cf4dbb31",
   "metadata": {},
   "outputs": [],
   "source": [
    "x = df.index\n",
    "y = df['DATACREACIO']"
   ]
  },
  {
   "cell_type": "code",
   "execution_count": 8,
   "id": "15c3dbab-3812-45c6-9192-4a938b9a7767",
   "metadata": {},
   "outputs": [
    {
     "data": {
      "text/plain": [
       "<AxesSubplot:xlabel='VALOR'>"
      ]
     },
     "execution_count": 8,
     "metadata": {},
     "output_type": "execute_result"
    },
    {
     "data": {
      "image/png": "[encoded data removed]",
      "text/plain": [
       "<Figure size 432x288 with 1 Axes>"
      ]
     },
     "metadata": {
      "needs_background": "light"
     },
     "output_type": "display_data"
    }
   ],
   "source": [
    "df.plot(kind='bar')"
   ]
  },
  {
   "cell_type": "markdown",
   "id": "5e307ab7-25bb-401b-a125-75bac4c2d311",
   "metadata": {},
   "source": [
    "### Preparacion del dataframe de trabajo"
   ]
  },
  {
   "cell_type": "code",
   "execution_count": 9,
   "id": "fb95c862",
   "metadata": {},
   "outputs": [],
   "source": [
    "df_calls['tCreacion'] = pd.to_datetime(df_calls['DATACREACIO'])\n",
    "\n",
    "df_calls['Date'] = df_calls['tCreacion'].dt.date\n",
    "df_calls['Date'] = df_calls['Date'].astype('str')\n",
    "\n",
    "df_calls['dateCreacion'] = df_calls['tCreacion'].dt.date\n",
    "df_calls['dateCreacion'] = df_calls['dateCreacion'].astype('str')"
   ]
  },
  {
   "cell_type": "code",
   "execution_count": 10,
   "id": "a288b880",
   "metadata": {
    "scrolled": true
   },
   "outputs": [
    {
     "data": {
      "text/html": [
       "<div>\n",
       "<style scoped>\n",
       "    .dataframe tbody tr th:only-of-type {\n",
       "        vertical-align: middle;\n",
       "    }\n",
       "\n",
       "    .dataframe tbody tr th {\n",
       "        vertical-align: top;\n",
       "    }\n",
       "\n",
       "    .dataframe thead th {\n",
       "        text-align: right;\n",
       "    }\n",
       "</style>\n",
       "<table border=\"1\" class=\"dataframe\">\n",
       "  <thead>\n",
       "    <tr style=\"text-align: right;\">\n",
       "      <th></th>\n",
       "      <th>IDCAMPANYA</th>\n",
       "      <th>VALOR</th>\n",
       "      <th>DATACREACIO</th>\n",
       "      <th>tCreacion</th>\n",
       "      <th>Date</th>\n",
       "      <th>dateCreacion</th>\n",
       "    </tr>\n",
       "  </thead>\n",
       "  <tbody>\n",
       "    <tr>\n",
       "      <th>0</th>\n",
       "      <td>100000021</td>\n",
       "      <td>Estado de Pedido</td>\n",
       "      <td>2019-01-02 08:06:49</td>\n",
       "      <td>2019-01-02 08:06:49</td>\n",
       "      <td>2019-01-02</td>\n",
       "      <td>2019-01-02</td>\n",
       "    </tr>\n",
       "    <tr>\n",
       "      <th>1</th>\n",
       "      <td>100000022</td>\n",
       "      <td>Recogida</td>\n",
       "      <td>2019-01-02 08:08:18</td>\n",
       "      <td>2019-01-02 08:08:18</td>\n",
       "      <td>2019-01-02</td>\n",
       "      <td>2019-01-02</td>\n",
       "    </tr>\n",
       "    <tr>\n",
       "      <th>2</th>\n",
       "      <td>100000015</td>\n",
       "      <td>Estado de Pedido</td>\n",
       "      <td>2019-01-02 08:09:06</td>\n",
       "      <td>2019-01-02 08:09:06</td>\n",
       "      <td>2019-01-02</td>\n",
       "      <td>2019-01-02</td>\n",
       "    </tr>\n",
       "    <tr>\n",
       "      <th>3</th>\n",
       "      <td>100000015</td>\n",
       "      <td>Recogida</td>\n",
       "      <td>2019-01-02 08:13:47</td>\n",
       "      <td>2019-01-02 08:13:47</td>\n",
       "      <td>2019-01-02</td>\n",
       "      <td>2019-01-02</td>\n",
       "    </tr>\n",
       "    <tr>\n",
       "      <th>4</th>\n",
       "      <td>100000015</td>\n",
       "      <td>Estado de Pedido</td>\n",
       "      <td>2019-01-02 08:15:15</td>\n",
       "      <td>2019-01-02 08:15:15</td>\n",
       "      <td>2019-01-02</td>\n",
       "      <td>2019-01-02</td>\n",
       "    </tr>\n",
       "  </tbody>\n",
       "</table>\n",
       "</div>"
      ],
      "text/plain": [
       "   IDCAMPANYA             VALOR          DATACREACIO           tCreacion  \\\n",
       "0   100000021  Estado de Pedido  2019-01-02 08:06:49 2019-01-02 08:06:49   \n",
       "1   100000022          Recogida  2019-01-02 08:08:18 2019-01-02 08:08:18   \n",
       "2   100000015  Estado de Pedido  2019-01-02 08:09:06 2019-01-02 08:09:06   \n",
       "3   100000015          Recogida  2019-01-02 08:13:47 2019-01-02 08:13:47   \n",
       "4   100000015  Estado de Pedido  2019-01-02 08:15:15 2019-01-02 08:15:15   \n",
       "\n",
       "         Date dateCreacion  \n",
       "0  2019-01-02   2019-01-02  \n",
       "1  2019-01-02   2019-01-02  \n",
       "2  2019-01-02   2019-01-02  \n",
       "3  2019-01-02   2019-01-02  \n",
       "4  2019-01-02   2019-01-02  "
      ]
     },
     "execution_count": 10,
     "metadata": {},
     "output_type": "execute_result"
    }
   ],
   "source": [
    "df_calls.head()"
   ]
  },
  {
   "cell_type": "code",
   "execution_count": 11,
   "id": "5b4722c5",
   "metadata": {
    "scrolled": true
   },
   "outputs": [],
   "source": [
    "df_calls = df_calls[['Date','dateCreacion','IDCAMPANYA','VALOR']]"
   ]
  },
  {
   "cell_type": "markdown",
   "id": "876c161a",
   "metadata": {},
   "source": [
    "### Filtramos campaña"
   ]
  },
  {
   "cell_type": "code",
   "execution_count": 12,
   "id": "fc0a4563",
   "metadata": {},
   "outputs": [],
   "source": [
    "df_calls = df_calls.groupby(['Date','IDCAMPANYA','VALOR']).count()"
   ]
  },
  {
   "cell_type": "code",
   "execution_count": 13,
   "id": "74e29c71",
   "metadata": {},
   "outputs": [
    {
     "data": {
      "text/html": [
       "<div>\n",
       "<style scoped>\n",
       "    .dataframe tbody tr th:only-of-type {\n",
       "        vertical-align: middle;\n",
       "    }\n",
       "\n",
       "    .dataframe tbody tr th {\n",
       "        vertical-align: top;\n",
       "    }\n",
       "\n",
       "    .dataframe thead th {\n",
       "        text-align: right;\n",
       "    }\n",
       "</style>\n",
       "<table border=\"1\" class=\"dataframe\">\n",
       "  <thead>\n",
       "    <tr style=\"text-align: right;\">\n",
       "      <th></th>\n",
       "      <th></th>\n",
       "      <th></th>\n",
       "      <th>dateCreacion</th>\n",
       "    </tr>\n",
       "    <tr>\n",
       "      <th>Date</th>\n",
       "      <th>IDCAMPANYA</th>\n",
       "      <th>VALOR</th>\n",
       "      <th></th>\n",
       "    </tr>\n",
       "  </thead>\n",
       "  <tbody>\n",
       "    <tr>\n",
       "      <th rowspan=\"5\" valign=\"top\">2019-01-02</th>\n",
       "      <th rowspan=\"3\" valign=\"top\">100000015</th>\n",
       "      <th>Estado de Pedido</th>\n",
       "      <td>86</td>\n",
       "    </tr>\n",
       "    <tr>\n",
       "      <th>Informacion</th>\n",
       "      <td>38</td>\n",
       "    </tr>\n",
       "    <tr>\n",
       "      <th>Recogida</th>\n",
       "      <td>43</td>\n",
       "    </tr>\n",
       "    <tr>\n",
       "      <th rowspan=\"2\" valign=\"top\">100000021</th>\n",
       "      <th>Estado de Pedido</th>\n",
       "      <td>104</td>\n",
       "    </tr>\n",
       "    <tr>\n",
       "      <th>Informacion</th>\n",
       "      <td>31</td>\n",
       "    </tr>\n",
       "  </tbody>\n",
       "</table>\n",
       "</div>"
      ],
      "text/plain": [
       "                                        dateCreacion\n",
       "Date       IDCAMPANYA VALOR                         \n",
       "2019-01-02 100000015  Estado de Pedido            86\n",
       "                      Informacion                 38\n",
       "                      Recogida                    43\n",
       "           100000021  Estado de Pedido           104\n",
       "                      Informacion                 31"
      ]
     },
     "execution_count": 13,
     "metadata": {},
     "output_type": "execute_result"
    }
   ],
   "source": [
    "df_calls.head()"
   ]
  },
  {
   "cell_type": "code",
   "execution_count": 14,
   "id": "b755a655",
   "metadata": {},
   "outputs": [],
   "source": [
    "df_calls = df_calls.reset_index()"
   ]
  },
  {
   "cell_type": "code",
   "execution_count": 15,
   "id": "77238648",
   "metadata": {
    "scrolled": true
   },
   "outputs": [
    {
     "data": {
      "text/html": [
       "<div>\n",
       "<style scoped>\n",
       "    .dataframe tbody tr th:only-of-type {\n",
       "        vertical-align: middle;\n",
       "    }\n",
       "\n",
       "    .dataframe tbody tr th {\n",
       "        vertical-align: top;\n",
       "    }\n",
       "\n",
       "    .dataframe thead th {\n",
       "        text-align: right;\n",
       "    }\n",
       "</style>\n",
       "<table border=\"1\" class=\"dataframe\">\n",
       "  <thead>\n",
       "    <tr style=\"text-align: right;\">\n",
       "      <th></th>\n",
       "      <th>Date</th>\n",
       "      <th>IDCAMPANYA</th>\n",
       "      <th>VALOR</th>\n",
       "      <th>dateCreacion</th>\n",
       "    </tr>\n",
       "  </thead>\n",
       "  <tbody>\n",
       "    <tr>\n",
       "      <th>0</th>\n",
       "      <td>2019-01-02</td>\n",
       "      <td>100000015</td>\n",
       "      <td>Estado de Pedido</td>\n",
       "      <td>86</td>\n",
       "    </tr>\n",
       "    <tr>\n",
       "      <th>1</th>\n",
       "      <td>2019-01-02</td>\n",
       "      <td>100000015</td>\n",
       "      <td>Informacion</td>\n",
       "      <td>38</td>\n",
       "    </tr>\n",
       "    <tr>\n",
       "      <th>2</th>\n",
       "      <td>2019-01-02</td>\n",
       "      <td>100000015</td>\n",
       "      <td>Recogida</td>\n",
       "      <td>43</td>\n",
       "    </tr>\n",
       "    <tr>\n",
       "      <th>3</th>\n",
       "      <td>2019-01-02</td>\n",
       "      <td>100000021</td>\n",
       "      <td>Estado de Pedido</td>\n",
       "      <td>104</td>\n",
       "    </tr>\n",
       "    <tr>\n",
       "      <th>4</th>\n",
       "      <td>2019-01-02</td>\n",
       "      <td>100000021</td>\n",
       "      <td>Informacion</td>\n",
       "      <td>31</td>\n",
       "    </tr>\n",
       "  </tbody>\n",
       "</table>\n",
       "</div>"
      ],
      "text/plain": [
       "         Date  IDCAMPANYA             VALOR  dateCreacion\n",
       "0  2019-01-02   100000015  Estado de Pedido            86\n",
       "1  2019-01-02   100000015       Informacion            38\n",
       "2  2019-01-02   100000015          Recogida            43\n",
       "3  2019-01-02   100000021  Estado de Pedido           104\n",
       "4  2019-01-02   100000021       Informacion            31"
      ]
     },
     "execution_count": 15,
     "metadata": {},
     "output_type": "execute_result"
    }
   ],
   "source": [
    "df_calls.head()"
   ]
  },
  {
   "cell_type": "code",
   "execution_count": 16,
   "id": "e4b191bb",
   "metadata": {},
   "outputs": [
    {
     "data": {
      "text/plain": [
       "array(['Estado de Pedido'], dtype=object)"
      ]
     },
     "execution_count": 16,
     "metadata": {},
     "output_type": "execute_result"
    }
   ],
   "source": [
    "df = df_calls.head(1)\n",
    "df['VALOR'].values"
   ]
  },
  {
   "cell_type": "markdown",
   "id": "43b76607-23cd-48a5-a757-e67338882a8f",
   "metadata": {},
   "source": [
    "##### Nos quedamos únicamente con los registros que hacen referencia a llamadas para consultar un estado de pedido, en este caso 'Estado de Pedido' y 'No tiene Numero'"
   ]
  },
  {
   "cell_type": "code",
   "execution_count": 17,
   "id": "e39a9852",
   "metadata": {},
   "outputs": [
    {
     "data": {
      "text/html": [
       "<div>\n",
       "<style scoped>\n",
       "    .dataframe tbody tr th:only-of-type {\n",
       "        vertical-align: middle;\n",
       "    }\n",
       "\n",
       "    .dataframe tbody tr th {\n",
       "        vertical-align: top;\n",
       "    }\n",
       "\n",
       "    .dataframe thead th {\n",
       "        text-align: right;\n",
       "    }\n",
       "</style>\n",
       "<table border=\"1\" class=\"dataframe\">\n",
       "  <thead>\n",
       "    <tr style=\"text-align: right;\">\n",
       "      <th></th>\n",
       "      <th>Date</th>\n",
       "      <th>IDCAMPANYA</th>\n",
       "      <th>VALOR</th>\n",
       "      <th>dateCreacion</th>\n",
       "    </tr>\n",
       "  </thead>\n",
       "  <tbody>\n",
       "    <tr>\n",
       "      <th>0</th>\n",
       "      <td>2019-01-02</td>\n",
       "      <td>100000015</td>\n",
       "      <td>Estado de Pedido</td>\n",
       "      <td>86</td>\n",
       "    </tr>\n",
       "    <tr>\n",
       "      <th>3</th>\n",
       "      <td>2019-01-02</td>\n",
       "      <td>100000021</td>\n",
       "      <td>Estado de Pedido</td>\n",
       "      <td>104</td>\n",
       "    </tr>\n",
       "    <tr>\n",
       "      <th>6</th>\n",
       "      <td>2019-01-02</td>\n",
       "      <td>100000022</td>\n",
       "      <td>Estado de Pedido</td>\n",
       "      <td>34</td>\n",
       "    </tr>\n",
       "    <tr>\n",
       "      <th>9</th>\n",
       "      <td>2019-01-02</td>\n",
       "      <td>100000023</td>\n",
       "      <td>Estado de Pedido</td>\n",
       "      <td>41</td>\n",
       "    </tr>\n",
       "    <tr>\n",
       "      <th>12</th>\n",
       "      <td>2019-01-02</td>\n",
       "      <td>100000024</td>\n",
       "      <td>Estado de Pedido</td>\n",
       "      <td>16</td>\n",
       "    </tr>\n",
       "  </tbody>\n",
       "</table>\n",
       "</div>"
      ],
      "text/plain": [
       "          Date  IDCAMPANYA             VALOR  dateCreacion\n",
       "0   2019-01-02   100000015  Estado de Pedido            86\n",
       "3   2019-01-02   100000021  Estado de Pedido           104\n",
       "6   2019-01-02   100000022  Estado de Pedido            34\n",
       "9   2019-01-02   100000023  Estado de Pedido            41\n",
       "12  2019-01-02   100000024  Estado de Pedido            16"
      ]
     },
     "execution_count": 17,
     "metadata": {},
     "output_type": "execute_result"
    }
   ],
   "source": [
    "df_calls = df_calls[(df_calls['VALOR'] == 'Estado de Pedido') | (df_calls['VALOR'] == 'No tiene Numero')]\n",
    "df_calls.head()"
   ]
  },
  {
   "cell_type": "markdown",
   "id": "1c70f5f7-3bcf-4c04-a267-43017a2b1014",
   "metadata": {},
   "source": [
    "##### Agrupamos por fecha para tener el total de llamadas por día"
   ]
  },
  {
   "cell_type": "code",
   "execution_count": 18,
   "id": "048ce17d",
   "metadata": {},
   "outputs": [],
   "source": [
    "df_calls = df_calls.groupby('Date').sum()[['dateCreacion']]"
   ]
  },
  {
   "cell_type": "code",
   "execution_count": 19,
   "id": "26af5c2a",
   "metadata": {},
   "outputs": [
    {
     "data": {
      "text/html": [
       "<div>\n",
       "<style scoped>\n",
       "    .dataframe tbody tr th:only-of-type {\n",
       "        vertical-align: middle;\n",
       "    }\n",
       "\n",
       "    .dataframe tbody tr th {\n",
       "        vertical-align: top;\n",
       "    }\n",
       "\n",
       "    .dataframe thead th {\n",
       "        text-align: right;\n",
       "    }\n",
       "</style>\n",
       "<table border=\"1\" class=\"dataframe\">\n",
       "  <thead>\n",
       "    <tr style=\"text-align: right;\">\n",
       "      <th></th>\n",
       "      <th>dateCreacion</th>\n",
       "    </tr>\n",
       "    <tr>\n",
       "      <th>Date</th>\n",
       "      <th></th>\n",
       "    </tr>\n",
       "  </thead>\n",
       "  <tbody>\n",
       "    <tr>\n",
       "      <th>2019-01-02</th>\n",
       "      <td>281</td>\n",
       "    </tr>\n",
       "    <tr>\n",
       "      <th>2019-01-03</th>\n",
       "      <td>283</td>\n",
       "    </tr>\n",
       "    <tr>\n",
       "      <th>2019-01-04</th>\n",
       "      <td>351</td>\n",
       "    </tr>\n",
       "    <tr>\n",
       "      <th>2019-01-07</th>\n",
       "      <td>173</td>\n",
       "    </tr>\n",
       "    <tr>\n",
       "      <th>2019-01-08</th>\n",
       "      <td>174</td>\n",
       "    </tr>\n",
       "  </tbody>\n",
       "</table>\n",
       "</div>"
      ],
      "text/plain": [
       "            dateCreacion\n",
       "Date                    \n",
       "2019-01-02           281\n",
       "2019-01-03           283\n",
       "2019-01-04           351\n",
       "2019-01-07           173\n",
       "2019-01-08           174"
      ]
     },
     "execution_count": 19,
     "metadata": {},
     "output_type": "execute_result"
    }
   ],
   "source": [
    "df_calls.head()"
   ]
  },
  {
   "cell_type": "code",
   "execution_count": 20,
   "id": "4cf8c732",
   "metadata": {},
   "outputs": [],
   "source": [
    "df_calls.to_pickle('./data/df_Call')"
   ]
  }
 ],
 "metadata": {
  "kernelspec": {
   "display_name": "Python 3",
   "language": "python",
   "name": "python3"
  },
  "language_info": {
   "codemirror_mode": {
    "name": "ipython",
    "version": 3
   },
   "file_extension": ".py",
   "mimetype": "text/x-python",
   "name": "python",
   "nbconvert_exporter": "python",
   "pygments_lexer": "ipython3",
   "version": "3.9.5"
  }
 },
 "nbformat": 4,
 "nbformat_minor": 5
}
