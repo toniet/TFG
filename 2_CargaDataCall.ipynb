{
 "cells": [
  {
   "cell_type": "markdown",
   "id": "graphic-banks",
   "metadata": {},
   "source": [
    "# TFM. Llamadas Call Center\n",
    "## MVP"
   ]
  },
  {
   "cell_type": "markdown",
   "id": "collectible-royalty",
   "metadata": {},
   "source": [
    "## Importacion de librerias "
   ]
  },
  {
   "cell_type": "code",
   "execution_count": 1,
   "id": "statewide-psychiatry",
   "metadata": {},
   "outputs": [],
   "source": [
    "import pandas as pd\n",
    "pd.options.display.max_columns = None"
   ]
  },
  {
   "cell_type": "markdown",
   "id": "sustained-arena",
   "metadata": {},
   "source": [
    "### Importacion de los datos de llamadas por oficinas"
   ]
  },
  {
   "cell_type": "code",
   "execution_count": 2,
   "id": "french-navigator",
   "metadata": {
    "scrolled": false
   },
   "outputs": [],
   "source": [
    "df_calls = pd.read_csv('data/calls.csv', low_memory=False)"
   ]
  },
  {
   "cell_type": "code",
   "execution_count": 3,
   "id": "eastern-netherlands",
   "metadata": {},
   "outputs": [
    {
     "data": {
      "text/plain": [
       "Index(['Unnamed: 0', 'idTransaccion', 'tInicio', 'tFinal', 'estado',\n",
       "       'tProximoContacto', 'tReplanificacion', 'nTAdmin', 'nTAdminExcedido',\n",
       "       'nTQ', 'idSujeto', 'sIdOriginal', 'sNombreCliente', 'sApellido1Cliente',\n",
       "       'sApellido2Cliente', 'sTelefonoCliente', 'idServicio', 'idCampanya',\n",
       "       'idAgente', 'idSegmento', 'sNombreSegmento', 'sAtributoSegmento',\n",
       "       'sFiltroSegmento', 'sDescripcionFinal', 'sDescripcionFinal.1',\n",
       "       'idFinal', 'sDescripcionFinal.2', 'sFiltroFinal', 'tActualizado',\n",
       "       'tCreacion', 'nOrigenTransaccion'],\n",
       "      dtype='object')"
      ]
     },
     "execution_count": 3,
     "metadata": {},
     "output_type": "execute_result"
    }
   ],
   "source": [
    "df_calls.columns"
   ]
  },
  {
   "cell_type": "code",
   "execution_count": 4,
   "id": "authentic-arrival",
   "metadata": {
    "scrolled": true
   },
   "outputs": [
    {
     "data": {
      "text/plain": [
       "0         NaN\n",
       "1         NaN\n",
       "1634      NaN\n",
       "21123     NaN\n",
       "25623     NaN\n",
       "25659     NaN\n",
       "61933     NaN\n",
       "71745     NaN\n",
       "71786     NaN\n",
       "82418     NaN\n",
       "82704     NaN\n",
       "101157    NaN\n",
       "108384    NaN\n",
       "111725    NaN\n",
       "129667    NaN\n",
       "133307    NaN\n",
       "135941    NaN\n",
       "138519    NaN\n",
       "142555    NaN\n",
       "Name: sTelefonoCliente, dtype: object"
      ]
     },
     "execution_count": 4,
     "metadata": {},
     "output_type": "execute_result"
    }
   ],
   "source": [
    "df_calls['sTelefonoCliente'][df_calls['sTelefonoCliente'].isnull() == True] "
   ]
  },
  {
   "cell_type": "code",
   "execution_count": 5,
   "id": "alternate-comment",
   "metadata": {},
   "outputs": [],
   "source": [
    "df_calls = df_calls[df_calls['sTelefonoCliente'].notna()]"
   ]
  },
  {
   "cell_type": "code",
   "execution_count": 6,
   "id": "skilled-massage",
   "metadata": {
    "scrolled": true
   },
   "outputs": [
    {
     "data": {
      "text/html": [
       "<div>\n",
       "<style scoped>\n",
       "    .dataframe tbody tr th:only-of-type {\n",
       "        vertical-align: middle;\n",
       "    }\n",
       "\n",
       "    .dataframe tbody tr th {\n",
       "        vertical-align: top;\n",
       "    }\n",
       "\n",
       "    .dataframe thead th {\n",
       "        text-align: right;\n",
       "    }\n",
       "</style>\n",
       "<table border=\"1\" class=\"dataframe\">\n",
       "  <thead>\n",
       "    <tr style=\"text-align: right;\">\n",
       "      <th></th>\n",
       "      <th>tCreacion</th>\n",
       "      <th>tInicio</th>\n",
       "      <th>tFinal</th>\n",
       "      <th>sTelefonoCliente</th>\n",
       "      <th>idCampanya</th>\n",
       "    </tr>\n",
       "  </thead>\n",
       "  <tbody>\n",
       "    <tr>\n",
       "      <th>2</th>\n",
       "      <td>2020-03-01 13:42:29.567</td>\n",
       "      <td>NaN</td>\n",
       "      <td>2020-03-01 13:42:44.647</td>\n",
       "      <td>918298287</td>\n",
       "      <td>100000021.0</td>\n",
       "    </tr>\n",
       "    <tr>\n",
       "      <th>3</th>\n",
       "      <td>2020-03-01 18:48:01.543</td>\n",
       "      <td>NaN</td>\n",
       "      <td>2020-03-01 18:48:08.430</td>\n",
       "      <td>664401666</td>\n",
       "      <td>100000021.0</td>\n",
       "    </tr>\n",
       "    <tr>\n",
       "      <th>4</th>\n",
       "      <td>2020-03-02 02:46:55.637</td>\n",
       "      <td>NaN</td>\n",
       "      <td>2020-03-02 02:47:07.040</td>\n",
       "      <td>918298287</td>\n",
       "      <td>100000015.0</td>\n",
       "    </tr>\n",
       "    <tr>\n",
       "      <th>5</th>\n",
       "      <td>2020-03-02 07:28:57.743</td>\n",
       "      <td>NaN</td>\n",
       "      <td>2020-03-02 07:29:06.180</td>\n",
       "      <td>653312359</td>\n",
       "      <td>100000021.0</td>\n",
       "    </tr>\n",
       "    <tr>\n",
       "      <th>6</th>\n",
       "      <td>2020-03-02 08:05:45.267</td>\n",
       "      <td>2020-03-02 08:06:37.973</td>\n",
       "      <td>2020-03-02 08:08:33.807</td>\n",
       "      <td>971886546</td>\n",
       "      <td>100000021.0</td>\n",
       "    </tr>\n",
       "  </tbody>\n",
       "</table>\n",
       "</div>"
      ],
      "text/plain": [
       "                 tCreacion                  tInicio                   tFinal  \\\n",
       "2  2020-03-01 13:42:29.567                      NaN  2020-03-01 13:42:44.647   \n",
       "3  2020-03-01 18:48:01.543                      NaN  2020-03-01 18:48:08.430   \n",
       "4  2020-03-02 02:46:55.637                      NaN  2020-03-02 02:47:07.040   \n",
       "5  2020-03-02 07:28:57.743                      NaN  2020-03-02 07:29:06.180   \n",
       "6  2020-03-02 08:05:45.267  2020-03-02 08:06:37.973  2020-03-02 08:08:33.807   \n",
       "\n",
       "  sTelefonoCliente   idCampanya  \n",
       "2        918298287  100000021.0  \n",
       "3        664401666  100000021.0  \n",
       "4        918298287  100000015.0  \n",
       "5        653312359  100000021.0  \n",
       "6        971886546  100000021.0  "
      ]
     },
     "execution_count": 6,
     "metadata": {},
     "output_type": "execute_result"
    }
   ],
   "source": [
    "df_calls = df_calls[['tCreacion','tInicio','tFinal','sTelefonoCliente','idCampanya']]\n",
    "df_calls.head()"
   ]
  },
  {
   "cell_type": "code",
   "execution_count": 7,
   "id": "younger-cancer",
   "metadata": {},
   "outputs": [],
   "source": [
    "df_calls['tCreacion'] = pd.to_datetime(df_calls['tCreacion'])\n",
    "df_calls['tInicio'] = pd.to_datetime(df_calls['tInicio'])\n",
    "df_calls['tFinal'] = pd.to_datetime(df_calls['tFinal'])\n",
    "\n",
    "df_calls['Date'] = df_calls['tCreacion'].dt.date\n",
    "df_calls['Date'] = df_calls['Date'].astype('str')\n",
    "\n",
    "df_calls['dateCreacion'] = df_calls['tCreacion'].dt.date\n",
    "df_calls['dateCreacion'] = df_calls['dateCreacion'].astype('str')\n",
    "\n",
    "df_calls['dateInicio'] = df_calls['tInicio'].dt.date\n",
    "df_calls['dateInicio'] = df_calls['dateInicio'].astype('str') "
   ]
  },
  {
   "cell_type": "code",
   "execution_count": 8,
   "id": "static-graphics",
   "metadata": {
    "scrolled": true
   },
   "outputs": [
    {
     "data": {
      "text/html": [
       "<div>\n",
       "<style scoped>\n",
       "    .dataframe tbody tr th:only-of-type {\n",
       "        vertical-align: middle;\n",
       "    }\n",
       "\n",
       "    .dataframe tbody tr th {\n",
       "        vertical-align: top;\n",
       "    }\n",
       "\n",
       "    .dataframe thead th {\n",
       "        text-align: right;\n",
       "    }\n",
       "</style>\n",
       "<table border=\"1\" class=\"dataframe\">\n",
       "  <thead>\n",
       "    <tr style=\"text-align: right;\">\n",
       "      <th></th>\n",
       "      <th>tCreacion</th>\n",
       "      <th>tInicio</th>\n",
       "      <th>tFinal</th>\n",
       "      <th>sTelefonoCliente</th>\n",
       "      <th>idCampanya</th>\n",
       "      <th>Date</th>\n",
       "      <th>dateCreacion</th>\n",
       "      <th>dateInicio</th>\n",
       "    </tr>\n",
       "  </thead>\n",
       "  <tbody>\n",
       "    <tr>\n",
       "      <th>2</th>\n",
       "      <td>2020-03-01 13:42:29.567</td>\n",
       "      <td>NaT</td>\n",
       "      <td>2020-03-01 13:42:44.647</td>\n",
       "      <td>918298287</td>\n",
       "      <td>100000021.0</td>\n",
       "      <td>2020-03-01</td>\n",
       "      <td>2020-03-01</td>\n",
       "      <td>NaT</td>\n",
       "    </tr>\n",
       "    <tr>\n",
       "      <th>3</th>\n",
       "      <td>2020-03-01 18:48:01.543</td>\n",
       "      <td>NaT</td>\n",
       "      <td>2020-03-01 18:48:08.430</td>\n",
       "      <td>664401666</td>\n",
       "      <td>100000021.0</td>\n",
       "      <td>2020-03-01</td>\n",
       "      <td>2020-03-01</td>\n",
       "      <td>NaT</td>\n",
       "    </tr>\n",
       "    <tr>\n",
       "      <th>4</th>\n",
       "      <td>2020-03-02 02:46:55.637</td>\n",
       "      <td>NaT</td>\n",
       "      <td>2020-03-02 02:47:07.040</td>\n",
       "      <td>918298287</td>\n",
       "      <td>100000015.0</td>\n",
       "      <td>2020-03-02</td>\n",
       "      <td>2020-03-02</td>\n",
       "      <td>NaT</td>\n",
       "    </tr>\n",
       "    <tr>\n",
       "      <th>5</th>\n",
       "      <td>2020-03-02 07:28:57.743</td>\n",
       "      <td>NaT</td>\n",
       "      <td>2020-03-02 07:29:06.180</td>\n",
       "      <td>653312359</td>\n",
       "      <td>100000021.0</td>\n",
       "      <td>2020-03-02</td>\n",
       "      <td>2020-03-02</td>\n",
       "      <td>NaT</td>\n",
       "    </tr>\n",
       "    <tr>\n",
       "      <th>6</th>\n",
       "      <td>2020-03-02 08:05:45.267</td>\n",
       "      <td>2020-03-02 08:06:37.973</td>\n",
       "      <td>2020-03-02 08:08:33.807</td>\n",
       "      <td>971886546</td>\n",
       "      <td>100000021.0</td>\n",
       "      <td>2020-03-02</td>\n",
       "      <td>2020-03-02</td>\n",
       "      <td>2020-03-02</td>\n",
       "    </tr>\n",
       "  </tbody>\n",
       "</table>\n",
       "</div>"
      ],
      "text/plain": [
       "                tCreacion                 tInicio                  tFinal  \\\n",
       "2 2020-03-01 13:42:29.567                     NaT 2020-03-01 13:42:44.647   \n",
       "3 2020-03-01 18:48:01.543                     NaT 2020-03-01 18:48:08.430   \n",
       "4 2020-03-02 02:46:55.637                     NaT 2020-03-02 02:47:07.040   \n",
       "5 2020-03-02 07:28:57.743                     NaT 2020-03-02 07:29:06.180   \n",
       "6 2020-03-02 08:05:45.267 2020-03-02 08:06:37.973 2020-03-02 08:08:33.807   \n",
       "\n",
       "  sTelefonoCliente   idCampanya        Date dateCreacion  dateInicio  \n",
       "2        918298287  100000021.0  2020-03-01   2020-03-01         NaT  \n",
       "3        664401666  100000021.0  2020-03-01   2020-03-01         NaT  \n",
       "4        918298287  100000015.0  2020-03-02   2020-03-02         NaT  \n",
       "5        653312359  100000021.0  2020-03-02   2020-03-02         NaT  \n",
       "6        971886546  100000021.0  2020-03-02   2020-03-02  2020-03-02  "
      ]
     },
     "execution_count": 8,
     "metadata": {},
     "output_type": "execute_result"
    }
   ],
   "source": [
    "df_calls.head()"
   ]
  },
  {
   "cell_type": "code",
   "execution_count": 9,
   "id": "frequent-letter",
   "metadata": {
    "scrolled": true
   },
   "outputs": [],
   "source": [
    "df_calls = df_calls[['Date','dateCreacion','sTelefonoCliente','idCampanya']]"
   ]
  },
  {
   "cell_type": "code",
   "execution_count": 10,
   "id": "comfortable-granny",
   "metadata": {
    "scrolled": true
   },
   "outputs": [],
   "source": [
    "df_calls.drop_duplicates(inplace=True)"
   ]
  },
  {
   "cell_type": "markdown",
   "id": "isolated-check",
   "metadata": {},
   "source": [
    "### Filtramos campaña"
   ]
  },
  {
   "cell_type": "code",
   "execution_count": 11,
   "id": "political-contribution",
   "metadata": {},
   "outputs": [],
   "source": [
    "#df_calls = df_calls[ df_calls['idCampanya'] == 100000015.0 ]"
   ]
  },
  {
   "cell_type": "code",
   "execution_count": 12,
   "id": "expired-score",
   "metadata": {},
   "outputs": [],
   "source": [
    "df_calls = df_calls.groupby('Date').count()\n",
    "df_calls = df_calls[['dateCreacion']]\n",
    "df_calls = df_calls[df_calls.dateCreacion > 20]"
   ]
  },
  {
   "cell_type": "code",
   "execution_count": 13,
   "id": "matched-vitamin",
   "metadata": {},
   "outputs": [],
   "source": [
    "df_calls.to_pickle('./data/df_Call')"
   ]
  }
 ],
 "metadata": {
  "kernelspec": {
   "display_name": "Python 3",
   "language": "python",
   "name": "python3"
  },
  "language_info": {
   "codemirror_mode": {
    "name": "ipython",
    "version": 3
   },
   "file_extension": ".py",
   "mimetype": "text/x-python",
   "name": "python",
   "nbconvert_exporter": "python",
   "pygments_lexer": "ipython3",
   "version": "3.8.5"
  }
 },
 "nbformat": 4,
 "nbformat_minor": 5
}
