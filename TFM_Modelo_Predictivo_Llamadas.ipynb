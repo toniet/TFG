{
 "cells": [
  {
   "cell_type": "markdown",
   "id": "explicit-audience",
   "metadata": {},
   "source": [
    "# TFM. Modelo predictivo llamadas Call Center"
   ]
  },
  {
   "cell_type": "markdown",
   "id": "civilian-ladder",
   "metadata": {},
   "source": [
    "### Escenario"
   ]
  },
  {
   "cell_type": "markdown",
   "id": "atomic-arizona",
   "metadata": {},
   "source": [
    "**Angel24**, empresa mallorquina con mas de 40 años en el sector, dispone de un servicio de Call Center, donde se realizan campañas telefonicas de todo tipo (*llamadas entrantes y salientes*) \n",
    "\n",
    "En base a la experiencia, gestionar el equipo de personas necesario para prestar un servicio adecuado en  base a unos crioteroios de calidad es dificil, sobretodo en las llamadas entrantes ya que no siempre se comportan igual.\n",
    "\n",
    "Una de las campañas mas importantes que tiene este departamento de Call Center, es prestar atencion telefonica a los clientes de diferentes franquicias de **MRW**. Es un servicio de llamadas entrantes (*Inbound*)"
   ]
  },
  {
   "cell_type": "markdown",
   "id": "cellular-skiing",
   "metadata": {},
   "source": [
    "Mediante el estudio de los datos historicos, se pretende dimensionar al equipo por slots para poder prestar el mejor servicio posible"
   ]
  },
  {
   "cell_type": "markdown",
   "id": "confused-upper",
   "metadata": {},
   "source": [
    "### Fuentes de los datos"
   ]
  },
  {
   "cell_type": "markdown",
   "id": "sound-indication",
   "metadata": {},
   "source": [
    "Los datos de los que disponemos son:\n",
    "* Historial de llamadas\n",
    "* Historial de envios que llegan a las oficinas\n"
   ]
  },
  {
   "cell_type": "markdown",
   "id": "bulgarian-module",
   "metadata": {},
   "source": [
    "De ambos ficheros, disponemos informacion de 1 año."
   ]
  },
  {
   "cell_type": "markdown",
   "id": "blocked-farming",
   "metadata": {},
   "source": [
    "### Pregunta objetivo"
   ]
  },
  {
   "cell_type": "markdown",
   "id": "suffering-lesbian",
   "metadata": {},
   "source": [
    "En base a lo descrito hasta el momento, queremos saber:"
   ]
  },
  {
   "cell_type": "markdown",
   "id": "communist-federation",
   "metadata": {},
   "source": [
    "***¿Cuantas llamadas tendremos mañana de 10 a 12?*** Generalizando, saber el numero de llamadas por dia y hora en funcion de los envios que nos lleguen a las islas."
   ]
  },
  {
   "cell_type": "markdown",
   "id": "organic-stations",
   "metadata": {},
   "source": [
    "## Importacion de librerias "
   ]
  },
  {
   "cell_type": "code",
   "execution_count": 1,
   "id": "valued-effectiveness",
   "metadata": {},
   "outputs": [],
   "source": [
    "from os import getenv\n",
    "import pymssql\n",
    "import pandas as pd\n",
    "\n",
    "pd.options.display.max_columns = None"
   ]
  },
  {
   "cell_type": "markdown",
   "id": "curious-declaration",
   "metadata": {},
   "source": [
    "### Importacion de los datos de llamadas"
   ]
  },
  {
   "cell_type": "code",
   "execution_count": 2,
   "id": "genetic-nursing",
   "metadata": {},
   "outputs": [],
   "source": [
    "df_calls = pd.read_csv('data/calls.csv', low_memory=False)"
   ]
  },
  {
   "cell_type": "code",
   "execution_count": 3,
   "id": "indian-origin",
   "metadata": {},
   "outputs": [
    {
     "name": "stdout",
     "output_type": "stream",
     "text": [
      "<class 'pandas.core.frame.DataFrame'>\n",
      "RangeIndex: 186208 entries, 0 to 186207\n",
      "Data columns (total 29 columns):\n",
      " #   Column              Non-Null Count   Dtype  \n",
      "---  ------              --------------   -----  \n",
      " 0   Unnamed: 0          186208 non-null  int64  \n",
      " 1   idTransaccion       186208 non-null  float64\n",
      " 2   tInicio             97149 non-null   object \n",
      " 3   tFinal              186208 non-null  object \n",
      " 4   estado              186208 non-null  float64\n",
      " 5   tProximoContacto    3 non-null       object \n",
      " 6   tReplanificacion    3701 non-null    object \n",
      " 7   nTAdmin             186208 non-null  int64  \n",
      " 8   nTAdminExcedido     186208 non-null  int64  \n",
      " 9   nTQ                 186208 non-null  int64  \n",
      " 10  idSujeto            186208 non-null  float64\n",
      " 11  sIdOriginal         186208 non-null  int64  \n",
      " 12  sNombreCliente      186208 non-null  object \n",
      " 13  sApellido1Cliente   186208 non-null  object \n",
      " 14  sApellido2Cliente   0 non-null       float64\n",
      " 15  sTelefonoCliente    0 non-null       float64\n",
      " 16  idServicio          186208 non-null  float64\n",
      " 17  idCampanya          186208 non-null  float64\n",
      " 18  idAgente            186208 non-null  float64\n",
      " 19  idSegmento          186208 non-null  float64\n",
      " 20  sNombreSegmento     97126 non-null   object \n",
      " 21  sAtributoSegmento   0 non-null       float64\n",
      " 22  sFiltroSegmento     186208 non-null  object \n",
      " 23  idFinal             186208 non-null  float64\n",
      " 24  sDescripcionFinal   186208 non-null  object \n",
      " 25  sFiltroFinal        186208 non-null  object \n",
      " 26  tActualizado        186208 non-null  object \n",
      " 27  tCreacion           186208 non-null  object \n",
      " 28  nOrigenTransaccion  186208 non-null  int64  \n",
      "dtypes: float64(11), int64(6), object(12)\n",
      "memory usage: 41.2+ MB\n"
     ]
    }
   ],
   "source": [
    "df_calls.info()"
   ]
  },
  {
   "cell_type": "markdown",
   "id": "infectious-tomorrow",
   "metadata": {},
   "source": [
    "El DataFrame cargado de las llamadas tiene 28 columnas:\n",
    "* idTransaccion = Identificador de la transaccion\n",
    "* tInicio = Fecha hora inicio de la transaccion con agente\n",
    "* tFinal = Fecha hora fin de la transaccion con agente\n",
    "* estado = ...no sabemos siempre 1\n",
    "* tProximoContacto = Fecha hora reprogramaciones\n",
    "* tReplanificacion = Fecha hora reprogramaciones\n",
    "* nTAdmin = Tiempo administrativo\n",
    "* nTAdminExcedido = Tiempo administrativo exedido\n",
    "* nTQ = Tiempo en cola\n",
    "* idSujeto = Identificador del llamante\n",
    "* sIdOriginal = Identificador del llamante\n",
    "* sNombreCliente = Identificador del llamante\n",
    "* sApellido1Cliente = Identificador del llamante\n",
    "* sApellido2Cliente = Identificador del llamante\n",
    "* sTelefonoCliente = Identificador del llamante\n",
    "* idServicio = Identificador de servicio (grupo campañas)\n",
    "* idCampanya = Identificador campañas\n",
    "* idAgente = Identificador ragentes\n",
    "* idSegmento = Segmentacion de llamadas entrantes\n",
    "* sNombreSegmento = Segmentacion de llamadas entrantes\n",
    "* sAtributoSegmento = Segmentacion de llamadas entrantes\n",
    "* sFiltroSegmento = Segmentacion de llamadas entrantes\n",
    "* idFinal = Identificador final de llamada (transaccion)\n",
    "* sDescripcionFinal = Descripcion del final de llamada (transaccion)\n",
    "* sFiltroFinal = Identificador + Descripcion del final de llamada (transaccion)\n",
    "* tActualizado = Infor de copias de registros (info de sistemas)\n",
    "* tCreacion = Fechahora inicio transaccion (entrada en sistema, no en agente) \n",
    "* nOrigenTransaccion = Entrantes siempre 2"
   ]
  },
  {
   "cell_type": "markdown",
   "id": "elegant-embassy",
   "metadata": {},
   "source": [
    "### Importacion de los datos de envios por oficinas"
   ]
  },
  {
   "cell_type": "code",
   "execution_count": 4,
   "id": "diagnostic-bolivia",
   "metadata": {},
   "outputs": [],
   "source": [
    "# df4800 = pd.read_csv('data/mrw4800.txt', sep='\\t', low_memory=False, encoding='latin-1')"
   ]
  },
  {
   "cell_type": "code",
   "execution_count": 5,
   "id": "opened-closer",
   "metadata": {},
   "outputs": [],
   "source": [
    "# df4802 = pd.read_csv('data/mrw4802.txt', sep='\\t', low_memory=False, encoding='latin-1')"
   ]
  },
  {
   "cell_type": "code",
   "execution_count": 6,
   "id": "inappropriate-retreat",
   "metadata": {},
   "outputs": [],
   "source": [
    "# df4803 = pd.read_csv('data/mrw4803.txt', sep='\\t', low_memory=False, encoding='latin-1')"
   ]
  },
  {
   "cell_type": "code",
   "execution_count": 7,
   "id": "arabic-exhibit",
   "metadata": {},
   "outputs": [],
   "source": [
    "# df4806 = pd.read_csv('data/mrw4806.txt', sep='\\t', low_memory=False, encoding='latin-1')"
   ]
  },
  {
   "cell_type": "code",
   "execution_count": 8,
   "id": "greatest-worthy",
   "metadata": {},
   "outputs": [],
   "source": [
    "# df4810 = pd.read_csv('data/mrw4810.txt', sep='\\t', low_memory=False, encoding='latin-1')"
   ]
  },
  {
   "cell_type": "code",
   "execution_count": 9,
   "id": "polar-memorial",
   "metadata": {},
   "outputs": [],
   "source": [
    "# df4800.columns = df4802.columns"
   ]
  },
  {
   "cell_type": "code",
   "execution_count": 10,
   "id": "judicial-drain",
   "metadata": {},
   "outputs": [],
   "source": [
    "# df_shipping = pd.DataFrame()\n",
    "# df_shipping = pd.concat([df_shipping, df4800])\n",
    "# df_shipping = pd.concat([df_shipping, df4802])\n",
    "# df_shipping = pd.concat([df_shipping, df4803])\n",
    "# df_shipping = pd.concat([df_shipping, df4806])\n",
    "# df_shipping = pd.concat([df_shipping, df4810])"
   ]
  },
  {
   "cell_type": "code",
   "execution_count": 11,
   "id": "hungry-platinum",
   "metadata": {},
   "outputs": [],
   "source": [
    "# df_shipping.to_csv('data/shippings.csv')"
   ]
  },
  {
   "cell_type": "code",
   "execution_count": 12,
   "id": "seasonal-surge",
   "metadata": {},
   "outputs": [],
   "source": [
    "df_shippings = pd.read_csv('data/shippings.csv', low_memory=False)"
   ]
  },
  {
   "cell_type": "markdown",
   "id": "generic-consumption",
   "metadata": {},
   "source": [
    "Los DataFrames cargados de los envios de las oficinas tienen 21 columnas:\n",
    "* Fecha envío = Fecha creacion de envío\n",
    "* Número envío = Identificador del envio\n",
    "* Id. Fiscal = Identificacion fiscal cliente\n",
    "* Nombre Comercial = Nombre del cliente\n",
    "* Código servicio = Tipo de servicio, este esta vinculado con las horas en las que tendra que ser repartido\n",
    "* Nombre Rem = Nombre remitente a la atencio de\n",
    "* Población Rem = Poblacion remitente\n",
    "* CP Rem = CP remitente\n",
    "* Nombre vía Rem = Nombre domicilio remitente\n",
    "* Nombre = Nombre del cliente destino\n",
    "* Población = Poblacion destino\n",
    "* Código postal = Codigo postal destino\n",
    "* Nombre vía = Nombre domicilio cliente destino\n",
    "* Total bultos = Numero de bultos en el envio\n",
    "* Franquicia origen = Desde que oficina se envia el/los paquestes\n",
    "* Franquicia destino = A que oficina se envia el/los paquestes\n",
    "* Total = Importe envio\n",
    "* Estado = Situacion envio\n",
    "* Tipo anomalía = Incidencias en el envio\n",
    "* Motivo = Motivo del estado del envio\n",
    "* Importe Total = Importe total con gastos extras"
   ]
  },
  {
   "cell_type": "code",
   "execution_count": 13,
   "id": "variable-design",
   "metadata": {},
   "outputs": [],
   "source": [
    "import pandas as pd \n",
    "import operator\n",
    "import re"
   ]
  },
  {
   "cell_type": "code",
   "execution_count": 14,
   "id": "sound-happening",
   "metadata": {},
   "outputs": [],
   "source": [
    "def clean_text(txt):\n",
    "    txt = re.sub(\"[^a-záéíóúñüäë]\", \" \", txt.lower())\n",
    "    txt = re.sub(' +',' ', txt)\n",
    "    return txt.strip().split()"
   ]
  },
  {
   "cell_type": "code",
   "execution_count": 15,
   "id": "willing-mobility",
   "metadata": {},
   "outputs": [],
   "source": [
    "def df_to_dict(df, key_column, val_column):\n",
    "    \"\"\"convierte dos pandas series en un diccionario\"\"\"\n",
    "    xkey = df[key_column].tolist()\n",
    "    xval = df[val_column].tolist()\n",
    "    return dict(zip(xkey,xval))"
   ]
  },
  {
   "cell_type": "code",
   "execution_count": 16,
   "id": "black-distance",
   "metadata": {},
   "outputs": [],
   "source": [
    "def get_gender2(names):\n",
    "    names = clean_text(names)\n",
    "    names = [x for x in names if gender_list.get(x,'a') != 'a']\n",
    "    gender ={'m':0, 'f':0, 'a':0}\n",
    "    for i, name in enumerate(names):\n",
    "        g = gender_list.get(name,'a')\n",
    "        gender[g] += 1\n",
    "        gender[g] += 2 if len(names) > 1 and i == 0 and g != 'a' else 0 \n",
    "    gender['a'] = 0 if (gender['f']+gender['m']) > 0 else 1\n",
    "    return max(gender.items(), key=operator.itemgetter(1))[0]"
   ]
  },
  {
   "cell_type": "code",
   "execution_count": 17,
   "id": "color-credits",
   "metadata": {},
   "outputs": [
    {
     "name": "stdout",
     "output_type": "stream",
     "text": [
      "f\n"
     ]
    }
   ],
   "source": [
    "#path = 'https://www.dropbox.com/s/edm5383iffurv4x/nombres.csv?dl=1'\n",
    "#gender_list.to_csv(\"gender_list.csv\")\n",
    "gender_list = pd.read_csv(\"data/gender_list.csv\")\n",
    "gender_list = df_to_dict(gender_list, key_column='nombre', val_column='genero')\n",
    "print(get_gender2('Margalida'))\n",
    "#print(get_gender2('lopez jose maria'))\n",
    "#print(get_gender2('santos contreras'))\n",
    "#print(get_gender2('maria isabel lopez garcia rodriguez'))\n",
    "#print(get_gender2('cami lopez'))\n",
    "#print(get_gender2('majo garcia'))\n",
    "#print(get_gender2('colon cristobal'))\n",
    "#print(get_gender2('Cristóbal Colón'))\n",
    "#print(get_gender2('Cristoforo Colombo')) "
   ]
  },
  {
   "cell_type": "code",
   "execution_count": 18,
   "id": "literary-state",
   "metadata": {},
   "outputs": [
    {
     "data": {
      "text/html": [
       "<div>\n",
       "<style scoped>\n",
       "    .dataframe tbody tr th:only-of-type {\n",
       "        vertical-align: middle;\n",
       "    }\n",
       "\n",
       "    .dataframe tbody tr th {\n",
       "        vertical-align: top;\n",
       "    }\n",
       "\n",
       "    .dataframe thead th {\n",
       "        text-align: right;\n",
       "    }\n",
       "</style>\n",
       "<table border=\"1\" class=\"dataframe\">\n",
       "  <thead>\n",
       "    <tr style=\"text-align: right;\">\n",
       "      <th></th>\n",
       "      <th>Unnamed: 0</th>\n",
       "      <th>idTransaccion</th>\n",
       "      <th>tInicio</th>\n",
       "      <th>tFinal</th>\n",
       "      <th>estado</th>\n",
       "      <th>tProximoContacto</th>\n",
       "      <th>tReplanificacion</th>\n",
       "      <th>nTAdmin</th>\n",
       "      <th>nTAdminExcedido</th>\n",
       "      <th>nTQ</th>\n",
       "      <th>idSujeto</th>\n",
       "      <th>sIdOriginal</th>\n",
       "      <th>sNombreCliente</th>\n",
       "      <th>sApellido1Cliente</th>\n",
       "      <th>sApellido2Cliente</th>\n",
       "      <th>sTelefonoCliente</th>\n",
       "      <th>idServicio</th>\n",
       "      <th>idCampanya</th>\n",
       "      <th>idAgente</th>\n",
       "      <th>idSegmento</th>\n",
       "      <th>sNombreSegmento</th>\n",
       "      <th>sAtributoSegmento</th>\n",
       "      <th>sFiltroSegmento</th>\n",
       "      <th>idFinal</th>\n",
       "      <th>sDescripcionFinal</th>\n",
       "      <th>sFiltroFinal</th>\n",
       "      <th>tActualizado</th>\n",
       "      <th>tCreacion</th>\n",
       "      <th>nOrigenTransaccion</th>\n",
       "    </tr>\n",
       "  </thead>\n",
       "  <tbody>\n",
       "    <tr>\n",
       "      <th>0</th>\n",
       "      <td>0</td>\n",
       "      <td>105017008.0</td>\n",
       "      <td>NaN</td>\n",
       "      <td>2020-02-02 00:00:00.353</td>\n",
       "      <td>1.0</td>\n",
       "      <td>NaN</td>\n",
       "      <td>2020-02-03 00:00:00.000</td>\n",
       "      <td>0</td>\n",
       "      <td>0</td>\n",
       "      <td>0</td>\n",
       "      <td>0.0</td>\n",
       "      <td>0</td>\n",
       "      <td>ANONIMO</td>\n",
       "      <td>ANONIMO</td>\n",
       "      <td>NaN</td>\n",
       "      <td>NaN</td>\n",
       "      <td>0.0</td>\n",
       "      <td>100000015.0</td>\n",
       "      <td>0.0</td>\n",
       "      <td>0.0</td>\n",
       "      <td>NaN</td>\n",
       "      <td>NaN</td>\n",
       "      <td>[] [0]</td>\n",
       "      <td>14.0</td>\n",
       "      <td>Finalizada por el sistema</td>\n",
       "      <td>Finalizada por el sistema [14]</td>\n",
       "      <td>2020-02-02 00:01:15.507</td>\n",
       "      <td>2020-01-31 09:57:53.530</td>\n",
       "      <td>2</td>\n",
       "    </tr>\n",
       "    <tr>\n",
       "      <th>1</th>\n",
       "      <td>1</td>\n",
       "      <td>105017054.0</td>\n",
       "      <td>2020-01-31 10:04:20.350</td>\n",
       "      <td>2020-02-02 00:00:00.523</td>\n",
       "      <td>1.0</td>\n",
       "      <td>NaN</td>\n",
       "      <td>2020-02-03 00:00:00.000</td>\n",
       "      <td>0</td>\n",
       "      <td>0</td>\n",
       "      <td>0</td>\n",
       "      <td>0.0</td>\n",
       "      <td>0</td>\n",
       "      <td>ANONIMO</td>\n",
       "      <td>ANONIMO</td>\n",
       "      <td>NaN</td>\n",
       "      <td>NaN</td>\n",
       "      <td>100000056.0</td>\n",
       "      <td>100000021.0</td>\n",
       "      <td>100000027.0</td>\n",
       "      <td>100000030.0</td>\n",
       "      <td>Defecto</td>\n",
       "      <td>NaN</td>\n",
       "      <td>Defecto [] [100000030]</td>\n",
       "      <td>14.0</td>\n",
       "      <td>Finalizada por el sistema</td>\n",
       "      <td>Finalizada por el sistema [14]</td>\n",
       "      <td>2020-02-02 00:01:16.427</td>\n",
       "      <td>2020-01-31 10:04:02.723</td>\n",
       "      <td>2</td>\n",
       "    </tr>\n",
       "  </tbody>\n",
       "</table>\n",
       "</div>"
      ],
      "text/plain": [
       "   Unnamed: 0  idTransaccion                  tInicio  \\\n",
       "0           0    105017008.0                      NaN   \n",
       "1           1    105017054.0  2020-01-31 10:04:20.350   \n",
       "\n",
       "                    tFinal  estado tProximoContacto         tReplanificacion  \\\n",
       "0  2020-02-02 00:00:00.353     1.0              NaN  2020-02-03 00:00:00.000   \n",
       "1  2020-02-02 00:00:00.523     1.0              NaN  2020-02-03 00:00:00.000   \n",
       "\n",
       "   nTAdmin  nTAdminExcedido  nTQ  idSujeto  sIdOriginal sNombreCliente  \\\n",
       "0        0                0    0       0.0            0        ANONIMO   \n",
       "1        0                0    0       0.0            0        ANONIMO   \n",
       "\n",
       "  sApellido1Cliente  sApellido2Cliente  sTelefonoCliente   idServicio  \\\n",
       "0           ANONIMO                NaN               NaN          0.0   \n",
       "1           ANONIMO                NaN               NaN  100000056.0   \n",
       "\n",
       "    idCampanya     idAgente   idSegmento sNombreSegmento  sAtributoSegmento  \\\n",
       "0  100000015.0          0.0          0.0             NaN                NaN   \n",
       "1  100000021.0  100000027.0  100000030.0         Defecto                NaN   \n",
       "\n",
       "          sFiltroSegmento  idFinal          sDescripcionFinal  \\\n",
       "0                  [] [0]     14.0  Finalizada por el sistema   \n",
       "1  Defecto [] [100000030]     14.0  Finalizada por el sistema   \n",
       "\n",
       "                     sFiltroFinal             tActualizado  \\\n",
       "0  Finalizada por el sistema [14]  2020-02-02 00:01:15.507   \n",
       "1  Finalizada por el sistema [14]  2020-02-02 00:01:16.427   \n",
       "\n",
       "                 tCreacion  nOrigenTransaccion  \n",
       "0  2020-01-31 09:57:53.530                   2  \n",
       "1  2020-01-31 10:04:02.723                   2  "
      ]
     },
     "execution_count": 18,
     "metadata": {},
     "output_type": "execute_result"
    }
   ],
   "source": [
    "df_calls.head(2)"
   ]
  },
  {
   "cell_type": "code",
   "execution_count": 19,
   "id": "personalized-image",
   "metadata": {},
   "outputs": [],
   "source": [
    "df_callsfiltered = df_calls[['idCampanya','tCreacion']]"
   ]
  },
  {
   "cell_type": "code",
   "execution_count": 20,
   "id": "bibliographic-money",
   "metadata": {},
   "outputs": [
    {
     "data": {
      "text/html": [
       "<div>\n",
       "<style scoped>\n",
       "    .dataframe tbody tr th:only-of-type {\n",
       "        vertical-align: middle;\n",
       "    }\n",
       "\n",
       "    .dataframe tbody tr th {\n",
       "        vertical-align: top;\n",
       "    }\n",
       "\n",
       "    .dataframe thead th {\n",
       "        text-align: right;\n",
       "    }\n",
       "</style>\n",
       "<table border=\"1\" class=\"dataframe\">\n",
       "  <thead>\n",
       "    <tr style=\"text-align: right;\">\n",
       "      <th></th>\n",
       "      <th>idCampanya</th>\n",
       "      <th>tCreacion</th>\n",
       "    </tr>\n",
       "  </thead>\n",
       "  <tbody>\n",
       "    <tr>\n",
       "      <th>0</th>\n",
       "      <td>100000015.0</td>\n",
       "      <td>2020-01-31 09:57:53.530</td>\n",
       "    </tr>\n",
       "    <tr>\n",
       "      <th>1</th>\n",
       "      <td>100000021.0</td>\n",
       "      <td>2020-01-31 10:04:02.723</td>\n",
       "    </tr>\n",
       "    <tr>\n",
       "      <th>2</th>\n",
       "      <td>100000023.0</td>\n",
       "      <td>2020-01-31 10:32:03.093</td>\n",
       "    </tr>\n",
       "  </tbody>\n",
       "</table>\n",
       "</div>"
      ],
      "text/plain": [
       "    idCampanya                tCreacion\n",
       "0  100000015.0  2020-01-31 09:57:53.530\n",
       "1  100000021.0  2020-01-31 10:04:02.723\n",
       "2  100000023.0  2020-01-31 10:32:03.093"
      ]
     },
     "execution_count": 20,
     "metadata": {},
     "output_type": "execute_result"
    }
   ],
   "source": [
    "df_callsfiltered.head(3)"
   ]
  },
  {
   "cell_type": "code",
   "execution_count": 21,
   "id": "smoking-scanner",
   "metadata": {},
   "outputs": [
    {
     "name": "stderr",
     "output_type": "stream",
     "text": [
      "<ipython-input-21-d5df2341b303>:1: SettingWithCopyWarning: \n",
      "A value is trying to be set on a copy of a slice from a DataFrame.\n",
      "Try using .loc[row_indexer,col_indexer] = value instead\n",
      "\n",
      "See the caveats in the documentation: https://pandas.pydata.org/pandas-docs/stable/user_guide/indexing.html#returning-a-view-versus-a-copy\n",
      "  df_callsfiltered['Creacion'] = pd.to_datetime(df_callsfiltered['tCreacion'])\n"
     ]
    }
   ],
   "source": [
    "df_callsfiltered['Creacion'] = pd.to_datetime(df_callsfiltered['tCreacion'])"
   ]
  },
  {
   "cell_type": "code",
   "execution_count": 22,
   "id": "mighty-feedback",
   "metadata": {},
   "outputs": [
    {
     "name": "stderr",
     "output_type": "stream",
     "text": [
      "/home/tales/.local/lib/python3.8/site-packages/pandas/core/frame.py:4305: SettingWithCopyWarning: \n",
      "A value is trying to be set on a copy of a slice from a DataFrame\n",
      "\n",
      "See the caveats in the documentation: https://pandas.pydata.org/pandas-docs/stable/user_guide/indexing.html#returning-a-view-versus-a-copy\n",
      "  return super().drop(\n"
     ]
    }
   ],
   "source": [
    "df_callsfiltered.drop('tCreacion', axis=1, inplace=True)"
   ]
  },
  {
   "cell_type": "code",
   "execution_count": 23,
   "id": "sunrise-question",
   "metadata": {},
   "outputs": [
    {
     "name": "stderr",
     "output_type": "stream",
     "text": [
      "<ipython-input-23-d0f22a572b3c>:1: SettingWithCopyWarning: \n",
      "A value is trying to be set on a copy of a slice from a DataFrame.\n",
      "Try using .loc[row_indexer,col_indexer] = value instead\n",
      "\n",
      "See the caveats in the documentation: https://pandas.pydata.org/pandas-docs/stable/user_guide/indexing.html#returning-a-view-versus-a-copy\n",
      "  df_callsfiltered['Date'] = df_callsfiltered['Creacion'].dt.date\n"
     ]
    }
   ],
   "source": [
    "df_callsfiltered['Date'] = df_callsfiltered['Creacion'].dt.date"
   ]
  },
  {
   "cell_type": "code",
   "execution_count": 24,
   "id": "infinite-annual",
   "metadata": {},
   "outputs": [
    {
     "name": "stderr",
     "output_type": "stream",
     "text": [
      "<ipython-input-24-2b158ce6b46d>:1: SettingWithCopyWarning: \n",
      "A value is trying to be set on a copy of a slice from a DataFrame.\n",
      "Try using .loc[row_indexer,col_indexer] = value instead\n",
      "\n",
      "See the caveats in the documentation: https://pandas.pydata.org/pandas-docs/stable/user_guide/indexing.html#returning-a-view-versus-a-copy\n",
      "  df_callsfiltered['Time'] = pd.to_datetime(df_callsfiltered['Creacion'], format='%H:%M').dt.hour\n"
     ]
    }
   ],
   "source": [
    "df_callsfiltered['Time'] = pd.to_datetime(df_callsfiltered['Creacion'], format='%H:%M').dt.hour"
   ]
  },
  {
   "cell_type": "code",
   "execution_count": 25,
   "id": "detected-premiere",
   "metadata": {},
   "outputs": [
    {
     "data": {
      "text/html": [
       "<div>\n",
       "<style scoped>\n",
       "    .dataframe tbody tr th:only-of-type {\n",
       "        vertical-align: middle;\n",
       "    }\n",
       "\n",
       "    .dataframe tbody tr th {\n",
       "        vertical-align: top;\n",
       "    }\n",
       "\n",
       "    .dataframe thead th {\n",
       "        text-align: right;\n",
       "    }\n",
       "</style>\n",
       "<table border=\"1\" class=\"dataframe\">\n",
       "  <thead>\n",
       "    <tr style=\"text-align: right;\">\n",
       "      <th></th>\n",
       "      <th>idCampanya</th>\n",
       "      <th>Creacion</th>\n",
       "      <th>Date</th>\n",
       "      <th>Time</th>\n",
       "    </tr>\n",
       "  </thead>\n",
       "  <tbody>\n",
       "    <tr>\n",
       "      <th>0</th>\n",
       "      <td>100000015.0</td>\n",
       "      <td>2020-01-31 09:57:53.530</td>\n",
       "      <td>2020-01-31</td>\n",
       "      <td>9</td>\n",
       "    </tr>\n",
       "    <tr>\n",
       "      <th>1</th>\n",
       "      <td>100000021.0</td>\n",
       "      <td>2020-01-31 10:04:02.723</td>\n",
       "      <td>2020-01-31</td>\n",
       "      <td>10</td>\n",
       "    </tr>\n",
       "    <tr>\n",
       "      <th>2</th>\n",
       "      <td>100000023.0</td>\n",
       "      <td>2020-01-31 10:32:03.093</td>\n",
       "      <td>2020-01-31</td>\n",
       "      <td>10</td>\n",
       "    </tr>\n",
       "    <tr>\n",
       "      <th>3</th>\n",
       "      <td>100000015.0</td>\n",
       "      <td>2020-01-31 10:52:25.230</td>\n",
       "      <td>2020-01-31</td>\n",
       "      <td>10</td>\n",
       "    </tr>\n",
       "    <tr>\n",
       "      <th>4</th>\n",
       "      <td>100000023.0</td>\n",
       "      <td>2020-02-02 12:55:47.980</td>\n",
       "      <td>2020-02-02</td>\n",
       "      <td>12</td>\n",
       "    </tr>\n",
       "    <tr>\n",
       "      <th>...</th>\n",
       "      <td>...</td>\n",
       "      <td>...</td>\n",
       "      <td>...</td>\n",
       "      <td>...</td>\n",
       "    </tr>\n",
       "    <tr>\n",
       "      <th>186203</th>\n",
       "      <td>100000022.0</td>\n",
       "      <td>2021-02-01 20:36:49.863</td>\n",
       "      <td>2021-02-01</td>\n",
       "      <td>20</td>\n",
       "    </tr>\n",
       "    <tr>\n",
       "      <th>186204</th>\n",
       "      <td>100000015.0</td>\n",
       "      <td>2021-02-01 20:37:27.950</td>\n",
       "      <td>2021-02-01</td>\n",
       "      <td>20</td>\n",
       "    </tr>\n",
       "    <tr>\n",
       "      <th>186205</th>\n",
       "      <td>100000021.0</td>\n",
       "      <td>2021-02-01 21:14:59.920</td>\n",
       "      <td>2021-02-01</td>\n",
       "      <td>21</td>\n",
       "    </tr>\n",
       "    <tr>\n",
       "      <th>186206</th>\n",
       "      <td>100000021.0</td>\n",
       "      <td>2021-02-01 21:15:43.520</td>\n",
       "      <td>2021-02-01</td>\n",
       "      <td>21</td>\n",
       "    </tr>\n",
       "    <tr>\n",
       "      <th>186207</th>\n",
       "      <td>100000015.0</td>\n",
       "      <td>2021-02-01 22:25:48.283</td>\n",
       "      <td>2021-02-01</td>\n",
       "      <td>22</td>\n",
       "    </tr>\n",
       "  </tbody>\n",
       "</table>\n",
       "<p>186208 rows × 4 columns</p>\n",
       "</div>"
      ],
      "text/plain": [
       "         idCampanya                Creacion        Date  Time\n",
       "0       100000015.0 2020-01-31 09:57:53.530  2020-01-31     9\n",
       "1       100000021.0 2020-01-31 10:04:02.723  2020-01-31    10\n",
       "2       100000023.0 2020-01-31 10:32:03.093  2020-01-31    10\n",
       "3       100000015.0 2020-01-31 10:52:25.230  2020-01-31    10\n",
       "4       100000023.0 2020-02-02 12:55:47.980  2020-02-02    12\n",
       "...             ...                     ...         ...   ...\n",
       "186203  100000022.0 2021-02-01 20:36:49.863  2021-02-01    20\n",
       "186204  100000015.0 2021-02-01 20:37:27.950  2021-02-01    20\n",
       "186205  100000021.0 2021-02-01 21:14:59.920  2021-02-01    21\n",
       "186206  100000021.0 2021-02-01 21:15:43.520  2021-02-01    21\n",
       "186207  100000015.0 2021-02-01 22:25:48.283  2021-02-01    22\n",
       "\n",
       "[186208 rows x 4 columns]"
      ]
     },
     "execution_count": 25,
     "metadata": {},
     "output_type": "execute_result"
    }
   ],
   "source": [
    "df_callsfiltered"
   ]
  },
  {
   "cell_type": "code",
   "execution_count": 26,
   "id": "waiting-kingdom",
   "metadata": {
    "scrolled": true
   },
   "outputs": [
    {
     "name": "stdout",
     "output_type": "stream",
     "text": [
      "<class 'pandas.core.frame.DataFrame'>\n",
      "RangeIndex: 186208 entries, 0 to 186207\n",
      "Data columns (total 4 columns):\n",
      " #   Column      Non-Null Count   Dtype         \n",
      "---  ------      --------------   -----         \n",
      " 0   idCampanya  186208 non-null  float64       \n",
      " 1   Creacion    186208 non-null  datetime64[ns]\n",
      " 2   Date        186208 non-null  object        \n",
      " 3   Time        186208 non-null  int64         \n",
      "dtypes: datetime64[ns](1), float64(1), int64(1), object(1)\n",
      "memory usage: 5.7+ MB\n"
     ]
    }
   ],
   "source": [
    "df_callsfiltered.info()"
   ]
  },
  {
   "cell_type": "code",
   "execution_count": 27,
   "id": "aging-cycling",
   "metadata": {},
   "outputs": [
    {
     "data": {
      "text/html": [
       "<div>\n",
       "<style scoped>\n",
       "    .dataframe tbody tr th:only-of-type {\n",
       "        vertical-align: middle;\n",
       "    }\n",
       "\n",
       "    .dataframe tbody tr th {\n",
       "        vertical-align: top;\n",
       "    }\n",
       "\n",
       "    .dataframe thead th {\n",
       "        text-align: right;\n",
       "    }\n",
       "</style>\n",
       "<table border=\"1\" class=\"dataframe\">\n",
       "  <thead>\n",
       "    <tr style=\"text-align: right;\">\n",
       "      <th></th>\n",
       "      <th>idCampanya</th>\n",
       "      <th>Creacion</th>\n",
       "      <th>Date</th>\n",
       "      <th>Time</th>\n",
       "    </tr>\n",
       "  </thead>\n",
       "  <tbody>\n",
       "    <tr>\n",
       "      <th>0</th>\n",
       "      <td>100000015.0</td>\n",
       "      <td>2020-01-31 09:57:53.530</td>\n",
       "      <td>2020-01-31</td>\n",
       "      <td>9</td>\n",
       "    </tr>\n",
       "    <tr>\n",
       "      <th>1</th>\n",
       "      <td>100000021.0</td>\n",
       "      <td>2020-01-31 10:04:02.723</td>\n",
       "      <td>2020-01-31</td>\n",
       "      <td>10</td>\n",
       "    </tr>\n",
       "    <tr>\n",
       "      <th>2</th>\n",
       "      <td>100000023.0</td>\n",
       "      <td>2020-01-31 10:32:03.093</td>\n",
       "      <td>2020-01-31</td>\n",
       "      <td>10</td>\n",
       "    </tr>\n",
       "    <tr>\n",
       "      <th>3</th>\n",
       "      <td>100000015.0</td>\n",
       "      <td>2020-01-31 10:52:25.230</td>\n",
       "      <td>2020-01-31</td>\n",
       "      <td>10</td>\n",
       "    </tr>\n",
       "    <tr>\n",
       "      <th>4</th>\n",
       "      <td>100000023.0</td>\n",
       "      <td>2020-02-02 12:55:47.980</td>\n",
       "      <td>2020-02-02</td>\n",
       "      <td>12</td>\n",
       "    </tr>\n",
       "    <tr>\n",
       "      <th>...</th>\n",
       "      <td>...</td>\n",
       "      <td>...</td>\n",
       "      <td>...</td>\n",
       "      <td>...</td>\n",
       "    </tr>\n",
       "    <tr>\n",
       "      <th>186203</th>\n",
       "      <td>100000022.0</td>\n",
       "      <td>2021-02-01 20:36:49.863</td>\n",
       "      <td>2021-02-01</td>\n",
       "      <td>20</td>\n",
       "    </tr>\n",
       "    <tr>\n",
       "      <th>186204</th>\n",
       "      <td>100000015.0</td>\n",
       "      <td>2021-02-01 20:37:27.950</td>\n",
       "      <td>2021-02-01</td>\n",
       "      <td>20</td>\n",
       "    </tr>\n",
       "    <tr>\n",
       "      <th>186205</th>\n",
       "      <td>100000021.0</td>\n",
       "      <td>2021-02-01 21:14:59.920</td>\n",
       "      <td>2021-02-01</td>\n",
       "      <td>21</td>\n",
       "    </tr>\n",
       "    <tr>\n",
       "      <th>186206</th>\n",
       "      <td>100000021.0</td>\n",
       "      <td>2021-02-01 21:15:43.520</td>\n",
       "      <td>2021-02-01</td>\n",
       "      <td>21</td>\n",
       "    </tr>\n",
       "    <tr>\n",
       "      <th>186207</th>\n",
       "      <td>100000015.0</td>\n",
       "      <td>2021-02-01 22:25:48.283</td>\n",
       "      <td>2021-02-01</td>\n",
       "      <td>22</td>\n",
       "    </tr>\n",
       "  </tbody>\n",
       "</table>\n",
       "<p>186208 rows × 4 columns</p>\n",
       "</div>"
      ],
      "text/plain": [
       "         idCampanya                Creacion        Date  Time\n",
       "0       100000015.0 2020-01-31 09:57:53.530  2020-01-31     9\n",
       "1       100000021.0 2020-01-31 10:04:02.723  2020-01-31    10\n",
       "2       100000023.0 2020-01-31 10:32:03.093  2020-01-31    10\n",
       "3       100000015.0 2020-01-31 10:52:25.230  2020-01-31    10\n",
       "4       100000023.0 2020-02-02 12:55:47.980  2020-02-02    12\n",
       "...             ...                     ...         ...   ...\n",
       "186203  100000022.0 2021-02-01 20:36:49.863  2021-02-01    20\n",
       "186204  100000015.0 2021-02-01 20:37:27.950  2021-02-01    20\n",
       "186205  100000021.0 2021-02-01 21:14:59.920  2021-02-01    21\n",
       "186206  100000021.0 2021-02-01 21:15:43.520  2021-02-01    21\n",
       "186207  100000015.0 2021-02-01 22:25:48.283  2021-02-01    22\n",
       "\n",
       "[186208 rows x 4 columns]"
      ]
     },
     "execution_count": 27,
     "metadata": {},
     "output_type": "execute_result"
    }
   ],
   "source": [
    "df_callsfiltered"
   ]
  },
  {
   "cell_type": "code",
   "execution_count": 28,
   "id": "labeled-trigger",
   "metadata": {},
   "outputs": [
    {
     "name": "stderr",
     "output_type": "stream",
     "text": [
      "<ipython-input-28-f7dc496d0ca8>:3: SettingWithCopyWarning: \n",
      "A value is trying to be set on a copy of a slice from a DataFrame.\n",
      "Try using .loc[row_indexer,col_indexer] = value instead\n",
      "\n",
      "See the caveats in the documentation: https://pandas.pydata.org/pandas-docs/stable/user_guide/indexing.html#returning-a-view-versus-a-copy\n",
      "  df_callsfiltered['Interval'] = pd.cut(df_callsfiltered['Time'], bins=cut_bins, labels=cut_labels)\n"
     ]
    }
   ],
   "source": [
    "cut_labels = ['<8','8-11','11-13','13-15','15-17','17-19','19-21','>21']\n",
    "cut_bins = [0,8,10,12,14,16,18,20,23]\n",
    "df_callsfiltered['Interval'] = pd.cut(df_callsfiltered['Time'], bins=cut_bins, labels=cut_labels)"
   ]
  },
  {
   "cell_type": "code",
   "execution_count": 29,
   "id": "turkish-lecture",
   "metadata": {},
   "outputs": [
    {
     "data": {
      "text/html": [
       "<div>\n",
       "<style scoped>\n",
       "    .dataframe tbody tr th:only-of-type {\n",
       "        vertical-align: middle;\n",
       "    }\n",
       "\n",
       "    .dataframe tbody tr th {\n",
       "        vertical-align: top;\n",
       "    }\n",
       "\n",
       "    .dataframe thead th {\n",
       "        text-align: right;\n",
       "    }\n",
       "</style>\n",
       "<table border=\"1\" class=\"dataframe\">\n",
       "  <thead>\n",
       "    <tr style=\"text-align: right;\">\n",
       "      <th></th>\n",
       "      <th>idCampanya</th>\n",
       "      <th>Creacion</th>\n",
       "      <th>Date</th>\n",
       "      <th>Time</th>\n",
       "      <th>Interval</th>\n",
       "    </tr>\n",
       "  </thead>\n",
       "  <tbody>\n",
       "    <tr>\n",
       "      <th>0</th>\n",
       "      <td>100000015.0</td>\n",
       "      <td>2020-01-31 09:57:53.530</td>\n",
       "      <td>2020-01-31</td>\n",
       "      <td>9</td>\n",
       "      <td>8-11</td>\n",
       "    </tr>\n",
       "    <tr>\n",
       "      <th>1</th>\n",
       "      <td>100000021.0</td>\n",
       "      <td>2020-01-31 10:04:02.723</td>\n",
       "      <td>2020-01-31</td>\n",
       "      <td>10</td>\n",
       "      <td>8-11</td>\n",
       "    </tr>\n",
       "    <tr>\n",
       "      <th>2</th>\n",
       "      <td>100000023.0</td>\n",
       "      <td>2020-01-31 10:32:03.093</td>\n",
       "      <td>2020-01-31</td>\n",
       "      <td>10</td>\n",
       "      <td>8-11</td>\n",
       "    </tr>\n",
       "    <tr>\n",
       "      <th>3</th>\n",
       "      <td>100000015.0</td>\n",
       "      <td>2020-01-31 10:52:25.230</td>\n",
       "      <td>2020-01-31</td>\n",
       "      <td>10</td>\n",
       "      <td>8-11</td>\n",
       "    </tr>\n",
       "    <tr>\n",
       "      <th>4</th>\n",
       "      <td>100000023.0</td>\n",
       "      <td>2020-02-02 12:55:47.980</td>\n",
       "      <td>2020-02-02</td>\n",
       "      <td>12</td>\n",
       "      <td>11-13</td>\n",
       "    </tr>\n",
       "    <tr>\n",
       "      <th>...</th>\n",
       "      <td>...</td>\n",
       "      <td>...</td>\n",
       "      <td>...</td>\n",
       "      <td>...</td>\n",
       "      <td>...</td>\n",
       "    </tr>\n",
       "    <tr>\n",
       "      <th>186203</th>\n",
       "      <td>100000022.0</td>\n",
       "      <td>2021-02-01 20:36:49.863</td>\n",
       "      <td>2021-02-01</td>\n",
       "      <td>20</td>\n",
       "      <td>19-21</td>\n",
       "    </tr>\n",
       "    <tr>\n",
       "      <th>186204</th>\n",
       "      <td>100000015.0</td>\n",
       "      <td>2021-02-01 20:37:27.950</td>\n",
       "      <td>2021-02-01</td>\n",
       "      <td>20</td>\n",
       "      <td>19-21</td>\n",
       "    </tr>\n",
       "    <tr>\n",
       "      <th>186205</th>\n",
       "      <td>100000021.0</td>\n",
       "      <td>2021-02-01 21:14:59.920</td>\n",
       "      <td>2021-02-01</td>\n",
       "      <td>21</td>\n",
       "      <td>&gt;21</td>\n",
       "    </tr>\n",
       "    <tr>\n",
       "      <th>186206</th>\n",
       "      <td>100000021.0</td>\n",
       "      <td>2021-02-01 21:15:43.520</td>\n",
       "      <td>2021-02-01</td>\n",
       "      <td>21</td>\n",
       "      <td>&gt;21</td>\n",
       "    </tr>\n",
       "    <tr>\n",
       "      <th>186207</th>\n",
       "      <td>100000015.0</td>\n",
       "      <td>2021-02-01 22:25:48.283</td>\n",
       "      <td>2021-02-01</td>\n",
       "      <td>22</td>\n",
       "      <td>&gt;21</td>\n",
       "    </tr>\n",
       "  </tbody>\n",
       "</table>\n",
       "<p>186208 rows × 5 columns</p>\n",
       "</div>"
      ],
      "text/plain": [
       "         idCampanya                Creacion        Date  Time Interval\n",
       "0       100000015.0 2020-01-31 09:57:53.530  2020-01-31     9     8-11\n",
       "1       100000021.0 2020-01-31 10:04:02.723  2020-01-31    10     8-11\n",
       "2       100000023.0 2020-01-31 10:32:03.093  2020-01-31    10     8-11\n",
       "3       100000015.0 2020-01-31 10:52:25.230  2020-01-31    10     8-11\n",
       "4       100000023.0 2020-02-02 12:55:47.980  2020-02-02    12    11-13\n",
       "...             ...                     ...         ...   ...      ...\n",
       "186203  100000022.0 2021-02-01 20:36:49.863  2021-02-01    20    19-21\n",
       "186204  100000015.0 2021-02-01 20:37:27.950  2021-02-01    20    19-21\n",
       "186205  100000021.0 2021-02-01 21:14:59.920  2021-02-01    21      >21\n",
       "186206  100000021.0 2021-02-01 21:15:43.520  2021-02-01    21      >21\n",
       "186207  100000015.0 2021-02-01 22:25:48.283  2021-02-01    22      >21\n",
       "\n",
       "[186208 rows x 5 columns]"
      ]
     },
     "execution_count": 29,
     "metadata": {},
     "output_type": "execute_result"
    }
   ],
   "source": [
    "df_callsfiltered"
   ]
  },
  {
   "cell_type": "code",
   "execution_count": 30,
   "id": "american-volume",
   "metadata": {},
   "outputs": [
    {
     "data": {
      "text/html": [
       "<div>\n",
       "<style scoped>\n",
       "    .dataframe tbody tr th:only-of-type {\n",
       "        vertical-align: middle;\n",
       "    }\n",
       "\n",
       "    .dataframe tbody tr th {\n",
       "        vertical-align: top;\n",
       "    }\n",
       "\n",
       "    .dataframe thead th {\n",
       "        text-align: right;\n",
       "    }\n",
       "</style>\n",
       "<table border=\"1\" class=\"dataframe\">\n",
       "  <thead>\n",
       "    <tr style=\"text-align: right;\">\n",
       "      <th></th>\n",
       "      <th></th>\n",
       "      <th></th>\n",
       "      <th>Time</th>\n",
       "    </tr>\n",
       "    <tr>\n",
       "      <th>idCampanya</th>\n",
       "      <th>Date</th>\n",
       "      <th>Interval</th>\n",
       "      <th></th>\n",
       "    </tr>\n",
       "  </thead>\n",
       "  <tbody>\n",
       "    <tr>\n",
       "      <th rowspan=\"5\" valign=\"top\">100000015.0</th>\n",
       "      <th rowspan=\"5\" valign=\"top\">2020-01-31</th>\n",
       "      <th>&lt;8</th>\n",
       "      <td>0</td>\n",
       "    </tr>\n",
       "    <tr>\n",
       "      <th>8-11</th>\n",
       "      <td>19</td>\n",
       "    </tr>\n",
       "    <tr>\n",
       "      <th>11-13</th>\n",
       "      <td>0</td>\n",
       "    </tr>\n",
       "    <tr>\n",
       "      <th>13-15</th>\n",
       "      <td>0</td>\n",
       "    </tr>\n",
       "    <tr>\n",
       "      <th>15-17</th>\n",
       "      <td>0</td>\n",
       "    </tr>\n",
       "    <tr>\n",
       "      <th>...</th>\n",
       "      <th>...</th>\n",
       "      <th>...</th>\n",
       "      <td>...</td>\n",
       "    </tr>\n",
       "    <tr>\n",
       "      <th rowspan=\"5\" valign=\"top\">100000024.0</th>\n",
       "      <th rowspan=\"5\" valign=\"top\">2021-02-01</th>\n",
       "      <th>13-15</th>\n",
       "      <td>106</td>\n",
       "    </tr>\n",
       "    <tr>\n",
       "      <th>15-17</th>\n",
       "      <td>63</td>\n",
       "    </tr>\n",
       "    <tr>\n",
       "      <th>17-19</th>\n",
       "      <td>51</td>\n",
       "    </tr>\n",
       "    <tr>\n",
       "      <th>19-21</th>\n",
       "      <td>0</td>\n",
       "    </tr>\n",
       "    <tr>\n",
       "      <th>&gt;21</th>\n",
       "      <td>0</td>\n",
       "    </tr>\n",
       "  </tbody>\n",
       "</table>\n",
       "<p>14600 rows × 1 columns</p>\n",
       "</div>"
      ],
      "text/plain": [
       "                                 Time\n",
       "idCampanya  Date       Interval      \n",
       "100000015.0 2020-01-31 <8           0\n",
       "                       8-11        19\n",
       "                       11-13        0\n",
       "                       13-15        0\n",
       "                       15-17        0\n",
       "...                               ...\n",
       "100000024.0 2021-02-01 13-15      106\n",
       "                       15-17       63\n",
       "                       17-19       51\n",
       "                       19-21        0\n",
       "                       >21          0\n",
       "\n",
       "[14600 rows x 1 columns]"
      ]
     },
     "execution_count": 30,
     "metadata": {},
     "output_type": "execute_result"
    }
   ],
   "source": [
    "df_callsfiltered.groupby(['idCampanya','Date','Interval']).sum()"
   ]
  },
  {
   "cell_type": "code",
   "execution_count": null,
   "id": "floppy-appendix",
   "metadata": {},
   "outputs": [],
   "source": []
  }
 ],
 "metadata": {
  "kernelspec": {
   "display_name": "Python 3",
   "language": "python",
   "name": "python3"
  },
  "language_info": {
   "codemirror_mode": {
    "name": "ipython",
    "version": 3
   },
   "file_extension": ".py",
   "mimetype": "text/x-python",
   "name": "python",
   "nbconvert_exporter": "python",
   "pygments_lexer": "ipython3",
   "version": "3.8.5"
  }
 },
 "nbformat": 4,
 "nbformat_minor": 5
}
