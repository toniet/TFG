{
 "cells": [
  {
   "cell_type": "markdown",
   "id": "explicit-audience",
   "metadata": {},
   "source": [
    "# TFM. Modelo predictivo llamadas Call Center"
   ]
  },
  {
   "cell_type": "markdown",
   "id": "civilian-ladder",
   "metadata": {},
   "source": [
    "### Escenario"
   ]
  },
  {
   "cell_type": "markdown",
   "id": "atomic-arizona",
   "metadata": {},
   "source": [
    "**Angel24**, empresa mallorquina con mas de 40 años en el sector, dispone de un servicio de Call Center, donde se realizan campañas telefonicas de todo tipo (*llamadas entrantes y salientes*) \n",
    "\n",
    "En base a la experiencia, gestionar el equipo de personas necesario para prestar un servicio adecuado en  base a unos crioteroios de calidad es dificil, sobretodo en las llamadas entrantes ya que no siempre se comportan igual.\n",
    "\n",
    "Una de las campañas mas importantes que tiene este departamento de Call Center, es prestar atencion telefonica a los clientes de diferentes franquicias de **MRW**. Es un servicio de llamadas entrantes (*Inbound*)"
   ]
  },
  {
   "cell_type": "markdown",
   "id": "cellular-skiing",
   "metadata": {},
   "source": [
    "Mediante el estudio de los datos historicos, se pretende dimensionar al equipo por slots para poder prestar el mejor servicio posible"
   ]
  },
  {
   "cell_type": "markdown",
   "id": "confused-upper",
   "metadata": {},
   "source": [
    "### Fuentes de los datos"
   ]
  },
  {
   "cell_type": "markdown",
   "id": "sound-indication",
   "metadata": {},
   "source": [
    "Los datos de los que disponemos son:\n",
    "* Historial de llamadas\n",
    "* Historial de envios que llegan a las oficinas\n"
   ]
  },
  {
   "cell_type": "markdown",
   "id": "bulgarian-module",
   "metadata": {},
   "source": [
    "De ambos ficheros, disponemos informacion de 1 año."
   ]
  },
  {
   "cell_type": "markdown",
   "id": "blocked-farming",
   "metadata": {},
   "source": [
    "### Pregunta objetivo"
   ]
  },
  {
   "cell_type": "markdown",
   "id": "suffering-lesbian",
   "metadata": {},
   "source": [
    "En base a lo descrito hasta el momento, queremos saber:"
   ]
  },
  {
   "cell_type": "markdown",
   "id": "communist-federation",
   "metadata": {},
   "source": [
    "***¿Cuantas llamadas tendremos mañana de 10 a 12?*** Generalizando, saber el numero de llamadas por dia y hora en funcion de los envios que nos lleguen a las islas."
   ]
  },
  {
   "cell_type": "markdown",
   "id": "organic-stations",
   "metadata": {},
   "source": [
    "## Importacion de librerias "
   ]
  },
  {
   "cell_type": "code",
   "execution_count": 10,
   "id": "valued-effectiveness",
   "metadata": {},
   "outputs": [],
   "source": [
    "from os import getenv\n",
    "import pymssql\n",
    "import pandas as pd\n",
    "\n",
    "pd.options.display.max_columns = None"
   ]
  },
  {
   "cell_type": "markdown",
   "id": "curious-declaration",
   "metadata": {},
   "source": [
    "### Importacion de los datos de llamadas"
   ]
  },
  {
   "cell_type": "code",
   "execution_count": 11,
   "id": "genetic-nursing",
   "metadata": {},
   "outputs": [],
   "source": [
    "df_calls = pd.read_csv('data/calls.csv', low_memory=False)"
   ]
  },
  {
   "cell_type": "code",
   "execution_count": 12,
   "id": "indian-origin",
   "metadata": {},
   "outputs": [
    {
     "name": "stdout",
     "output_type": "stream",
     "text": [
      "<class 'pandas.core.frame.DataFrame'>\n",
      "RangeIndex: 186208 entries, 0 to 186207\n",
      "Data columns (total 29 columns):\n",
      " #   Column              Non-Null Count   Dtype  \n",
      "---  ------              --------------   -----  \n",
      " 0   Unnamed: 0          186208 non-null  int64  \n",
      " 1   idTransaccion       186208 non-null  float64\n",
      " 2   tInicio             97149 non-null   object \n",
      " 3   tFinal              186208 non-null  object \n",
      " 4   estado              186208 non-null  float64\n",
      " 5   tProximoContacto    3 non-null       object \n",
      " 6   tReplanificacion    3701 non-null    object \n",
      " 7   nTAdmin             186208 non-null  int64  \n",
      " 8   nTAdminExcedido     186208 non-null  int64  \n",
      " 9   nTQ                 186208 non-null  int64  \n",
      " 10  idSujeto            186208 non-null  float64\n",
      " 11  sIdOriginal         186208 non-null  int64  \n",
      " 12  sNombreCliente      186208 non-null  object \n",
      " 13  sApellido1Cliente   186208 non-null  object \n",
      " 14  sApellido2Cliente   0 non-null       float64\n",
      " 15  sTelefonoCliente    0 non-null       float64\n",
      " 16  idServicio          186208 non-null  float64\n",
      " 17  idCampanya          186208 non-null  float64\n",
      " 18  idAgente            186208 non-null  float64\n",
      " 19  idSegmento          186208 non-null  float64\n",
      " 20  sNombreSegmento     97126 non-null   object \n",
      " 21  sAtributoSegmento   0 non-null       float64\n",
      " 22  sFiltroSegmento     186208 non-null  object \n",
      " 23  idFinal             186208 non-null  float64\n",
      " 24  sDescripcionFinal   186208 non-null  object \n",
      " 25  sFiltroFinal        186208 non-null  object \n",
      " 26  tActualizado        186208 non-null  object \n",
      " 27  tCreacion           186208 non-null  object \n",
      " 28  nOrigenTransaccion  186208 non-null  int64  \n",
      "dtypes: float64(11), int64(6), object(12)\n",
      "memory usage: 41.2+ MB\n"
     ]
    }
   ],
   "source": [
    "df_calls.info()"
   ]
  },
  {
   "cell_type": "markdown",
   "id": "infectious-tomorrow",
   "metadata": {},
   "source": [
    "El DataFrame cargado de las llamadas tiene 28 columnas:\n",
    "* idTransaccion = Identificador de la transaccion\n",
    "* tInicio = Fecha hora inicio de la transaccion con agente\n",
    "* tFinal = Fecha hora fin de la transaccion con agente\n",
    "* estado = ...no sabemos siempre 1\n",
    "* tProximoContacto = Fecha hora reprogramaciones\n",
    "* tReplanificacion = Fecha hora reprogramaciones\n",
    "* nTAdmin = Tiempo administrativo\n",
    "* nTAdminExcedido = Tiempo administrativo exedido\n",
    "* nTQ = Tiempo en cola\n",
    "* idSujeto = Identificador del llamante\n",
    "* sIdOriginal = Identificador del llamante\n",
    "* sNombreCliente = Identificador del llamante\n",
    "* sApellido1Cliente = Identificador del llamante\n",
    "* sApellido2Cliente = Identificador del llamante\n",
    "* sTelefonoCliente = Identificador del llamante\n",
    "* idServicio = Identificador de servicio (grupo campañas)\n",
    "* idCampanya = Identificador campañas\n",
    "* idAgente = Identificador ragentes\n",
    "* idSegmento = Segmentacion de llamadas entrantes\n",
    "* sNombreSegmento = Segmentacion de llamadas entrantes\n",
    "* sAtributoSegmento = Segmentacion de llamadas entrantes\n",
    "* sFiltroSegmento = Segmentacion de llamadas entrantes\n",
    "* idFinal = Identificador final de llamada (transaccion)\n",
    "* sDescripcionFinal = Descripcion del final de llamada (transaccion)\n",
    "* sFiltroFinal = Identificador + Descripcion del final de llamada (transaccion)\n",
    "* tActualizado = Infor de copias de registros (info de sistemas)\n",
    "* tCreacion = Fechahora inicio transaccion (entrada en sistema, no en agente) \n",
    "* nOrigenTransaccion = Entrantes siempre 2"
   ]
  },
  {
   "cell_type": "markdown",
   "id": "elegant-embassy",
   "metadata": {},
   "source": [
    "### Importacion de los datos de envios por oficinas"
   ]
  },
  {
   "cell_type": "code",
   "execution_count": 52,
   "id": "diagnostic-bolivia",
   "metadata": {},
   "outputs": [],
   "source": [
    "# df4800 = pd.read_csv('data/mrw4800.txt', sep='\\t', low_memory=False, encoding='latin-1')"
   ]
  },
  {
   "cell_type": "code",
   "execution_count": 53,
   "id": "opened-closer",
   "metadata": {},
   "outputs": [],
   "source": [
    "# df4802 = pd.read_csv('data/mrw4802.txt', sep='\\t', low_memory=False, encoding='latin-1')"
   ]
  },
  {
   "cell_type": "code",
   "execution_count": 54,
   "id": "inappropriate-retreat",
   "metadata": {},
   "outputs": [],
   "source": [
    "# df4803 = pd.read_csv('data/mrw4803.txt', sep='\\t', low_memory=False, encoding='latin-1')"
   ]
  },
  {
   "cell_type": "code",
   "execution_count": 55,
   "id": "arabic-exhibit",
   "metadata": {},
   "outputs": [],
   "source": [
    "# df4806 = pd.read_csv('data/mrw4806.txt', sep='\\t', low_memory=False, encoding='latin-1')"
   ]
  },
  {
   "cell_type": "code",
   "execution_count": 56,
   "id": "greatest-worthy",
   "metadata": {},
   "outputs": [],
   "source": [
    "# df4810 = pd.read_csv('data/mrw4810.txt', sep='\\t', low_memory=False, encoding='latin-1')"
   ]
  },
  {
   "cell_type": "code",
   "execution_count": 57,
   "id": "polar-memorial",
   "metadata": {},
   "outputs": [],
   "source": [
    "# df4800.columns = df4802.columns"
   ]
  },
  {
   "cell_type": "code",
   "execution_count": 58,
   "id": "judicial-drain",
   "metadata": {},
   "outputs": [],
   "source": [
    "# df_shipping = pd.DataFrame()\n",
    "# df_shipping = pd.concat([df_shipping, df4800])\n",
    "# df_shipping = pd.concat([df_shipping, df4802])\n",
    "# df_shipping = pd.concat([df_shipping, df4803])\n",
    "# df_shipping = pd.concat([df_shipping, df4806])\n",
    "# df_shipping = pd.concat([df_shipping, df4810])"
   ]
  },
  {
   "cell_type": "code",
   "execution_count": 63,
   "id": "hungry-platinum",
   "metadata": {},
   "outputs": [],
   "source": [
    "# df_shipping.to_csv('data/shippings.csv')"
   ]
  },
  {
   "cell_type": "code",
   "execution_count": 64,
   "id": "seasonal-surge",
   "metadata": {},
   "outputs": [],
   "source": [
    "df_shippings = pd.read_csv('data/shippings.csv', low_memory=False)"
   ]
  },
  {
   "cell_type": "markdown",
   "id": "generic-consumption",
   "metadata": {},
   "source": [
    "Los DataFrames cargados de los envios de las oficinas tienen 21 columnas:\n",
    "* Fecha envío = Fecha creacion de envío\n",
    "* Número envío = Identificador del envio\n",
    "* Id. Fiscal = Identificacion fiscal cliente\n",
    "* Nombre Comercial = Nombre del cliente\n",
    "* Código servicio = Tipo de servicio, este esta vinculado con las horas en las que tendra que ser repartido\n",
    "* Nombre Rem = Nombre remitente a la atencio de\n",
    "* Población Rem = Poblacion remitente\n",
    "* CP Rem = CP remitente\n",
    "* Nombre vía Rem = Nombre domicilio remitente\n",
    "* Nombre = Nombre del cliente destino\n",
    "* Población = Poblacion destino\n",
    "* Código postal = Codigo postal destino\n",
    "* Nombre vía = Nombre domicilio cliente destino\n",
    "* Total bultos = Numero de bultos en el envio\n",
    "* Franquicia origen = Desde que oficina se envia el/los paquestes\n",
    "* Franquicia destino = A que oficina se envia el/los paquestes\n",
    "* Total = Importe envio\n",
    "* Estado = Situacion envio\n",
    "* Tipo anomalía = Incidencias en el envio\n",
    "* Motivo = Motivo del estado del envio\n",
    "* Importe Total = Importe total con gastos extras"
   ]
  },
  {
   "cell_type": "code",
   "execution_count": 12,
   "id": "variable-design",
   "metadata": {},
   "outputs": [],
   "source": [
    "import pandas as pd \n",
    "import operator\n",
    "import re"
   ]
  },
  {
   "cell_type": "code",
   "execution_count": 13,
   "id": "sound-happening",
   "metadata": {},
   "outputs": [],
   "source": [
    "def clean_text(txt):\n",
    "    txt = re.sub(\"[^a-záéíóúñüäë]\", \" \", txt.lower())\n",
    "    txt = re.sub(' +',' ', txt)\n",
    "    return txt.strip().split()"
   ]
  },
  {
   "cell_type": "code",
   "execution_count": 14,
   "id": "willing-mobility",
   "metadata": {},
   "outputs": [],
   "source": [
    "def df_to_dict(df, key_column, val_column):\n",
    "    \"\"\"convierte dos pandas series en un diccionario\"\"\"\n",
    "    xkey = df[key_column].tolist()\n",
    "    xval = df[val_column].tolist()\n",
    "    return dict(zip(xkey,xval))"
   ]
  },
  {
   "cell_type": "code",
   "execution_count": 15,
   "id": "black-distance",
   "metadata": {},
   "outputs": [],
   "source": [
    "def get_gender2(names):\n",
    "    names = clean_text(names)\n",
    "    names = [x for x in names if gender_list.get(x,'a') != 'a']\n",
    "    gender ={'m':0, 'f':0, 'a':0}\n",
    "    for i, name in enumerate(names):\n",
    "        g = gender_list.get(name,'a')\n",
    "        gender[g] += 1\n",
    "        gender[g] += 2 if len(names) > 1 and i == 0 and g != 'a' else 0 \n",
    "    gender['a'] = 0 if (gender['f']+gender['m']) > 0 else 1\n",
    "    return max(gender.items(), key=operator.itemgetter(1))[0]"
   ]
  },
  {
   "cell_type": "code",
   "execution_count": 30,
   "id": "color-credits",
   "metadata": {},
   "outputs": [
    {
     "name": "stdout",
     "output_type": "stream",
     "text": [
      "f\n"
     ]
    }
   ],
   "source": [
    "#path = 'https://www.dropbox.com/s/edm5383iffurv4x/nombres.csv?dl=1'\n",
    "#gender_list.to_csv(\"gender_list.csv\")\n",
    "gender_list = pd.read_csv(\"gender_list.csv\")\n",
    "gender_list = df_to_dict(gender_list, key_column='nombre', val_column='genero')\n",
    "print(get_gender2('Margalida'))\n",
    "#print(get_gender2('lopez jose maria'))\n",
    "#print(get_gender2('santos contreras'))\n",
    "#print(get_gender2('maria isabel lopez garcia rodriguez'))\n",
    "#print(get_gender2('cami lopez'))\n",
    "#print(get_gender2('majo garcia'))\n",
    "#print(get_gender2('colon cristobal'))\n",
    "#print(get_gender2('Cristóbal Colón'))\n",
    "#print(get_gender2('Cristoforo Colombo')) "
   ]
  },
  {
   "cell_type": "code",
   "execution_count": null,
   "id": "literary-state",
   "metadata": {},
   "outputs": [],
   "source": []
  }
 ],
 "metadata": {
  "kernelspec": {
   "display_name": "Python 3",
   "language": "python",
   "name": "python3"
  },
  "language_info": {
   "codemirror_mode": {
    "name": "ipython",
    "version": 3
   },
   "file_extension": ".py",
   "mimetype": "text/x-python",
   "name": "python",
   "nbconvert_exporter": "python",
   "pygments_lexer": "ipython3",
   "version": "3.8.5"
  }
 },
 "nbformat": 4,
 "nbformat_minor": 5
}
